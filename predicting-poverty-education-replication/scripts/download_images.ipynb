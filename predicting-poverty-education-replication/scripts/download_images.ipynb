{
  "nbformat": 4,
  "nbformat_minor": 0,
  "metadata": {
    "colab": {
      "name": "download_images.ipynb",
      "provenance": [],
      "collapsed_sections": []
    },
    "environment": {
      "name": "pytorch-gpu.1-4.m46",
      "type": "gcloud",
      "uri": "gcr.io/deeplearning-platform-release/pytorch-gpu.1-4:m46"
    },
    "kernelspec": {
      "display_name": "Python 3",
      "language": "python",
      "name": "python3"
    },
    "language_info": {
      "codemirror_mode": {
        "name": "ipython",
        "version": 3
      },
      "file_extension": ".py",
      "mimetype": "text/x-python",
      "name": "python",
      "nbconvert_exporter": "python",
      "pygments_lexer": "ipython3",
      "version": "3.7.7"
    },
    "widgets": {
      "application/vnd.jupyter.widget-state+json": {
        "eb03e01e458a4797a88152b874f376e3": {
          "model_module": "@jupyter-widgets/controls",
          "model_name": "HBoxModel",
          "state": {
            "_dom_classes": [],
            "_model_module": "@jupyter-widgets/controls",
            "_model_module_version": "1.5.0",
            "_model_name": "HBoxModel",
            "_view_count": null,
            "_view_module": "@jupyter-widgets/controls",
            "_view_module_version": "1.5.0",
            "_view_name": "HBoxView",
            "box_style": "",
            "children": [
              "IPY_MODEL_7c0a93896bc04018beac3d9d8634fa5e",
              "IPY_MODEL_516f34ee82664b1d8d9b385efa35eaa7"
            ],
            "layout": "IPY_MODEL_8f50de1322db49869a25e53ad103cdfe"
          }
        },
        "7c0a93896bc04018beac3d9d8634fa5e": {
          "model_module": "@jupyter-widgets/controls",
          "model_name": "FloatProgressModel",
          "state": {
            "_dom_classes": [],
            "_model_module": "@jupyter-widgets/controls",
            "_model_module_version": "1.5.0",
            "_model_name": "FloatProgressModel",
            "_view_count": null,
            "_view_module": "@jupyter-widgets/controls",
            "_view_module_version": "1.5.0",
            "_view_name": "ProgressView",
            "bar_style": "success",
            "description": "100%",
            "description_tooltip": null,
            "layout": "IPY_MODEL_e8a9e60dfc8341a18d60d9aa25fcf4c4",
            "max": 14500,
            "min": 0,
            "orientation": "horizontal",
            "style": "IPY_MODEL_bec8e5c2800b433394e2c0856dd0d526",
            "value": 14500
          }
        },
        "516f34ee82664b1d8d9b385efa35eaa7": {
          "model_module": "@jupyter-widgets/controls",
          "model_name": "HTMLModel",
          "state": {
            "_dom_classes": [],
            "_model_module": "@jupyter-widgets/controls",
            "_model_module_version": "1.5.0",
            "_model_name": "HTMLModel",
            "_view_count": null,
            "_view_module": "@jupyter-widgets/controls",
            "_view_module_version": "1.5.0",
            "_view_name": "HTMLView",
            "description": "",
            "description_tooltip": null,
            "layout": "IPY_MODEL_466113287a364f27bdc04158b27555bf",
            "placeholder": "​",
            "style": "IPY_MODEL_dee1210a038945c9aa01296d060eaa6b",
            "value": " 14500/14500 [4:31:10&lt;00:00,  1.12s/it]"
          }
        },
        "8f50de1322db49869a25e53ad103cdfe": {
          "model_module": "@jupyter-widgets/base",
          "model_name": "LayoutModel",
          "state": {
            "_model_module": "@jupyter-widgets/base",
            "_model_module_version": "1.2.0",
            "_model_name": "LayoutModel",
            "_view_count": null,
            "_view_module": "@jupyter-widgets/base",
            "_view_module_version": "1.2.0",
            "_view_name": "LayoutView",
            "align_content": null,
            "align_items": null,
            "align_self": null,
            "border": null,
            "bottom": null,
            "display": null,
            "flex": null,
            "flex_flow": null,
            "grid_area": null,
            "grid_auto_columns": null,
            "grid_auto_flow": null,
            "grid_auto_rows": null,
            "grid_column": null,
            "grid_gap": null,
            "grid_row": null,
            "grid_template_areas": null,
            "grid_template_columns": null,
            "grid_template_rows": null,
            "height": null,
            "justify_content": null,
            "justify_items": null,
            "left": null,
            "margin": null,
            "max_height": null,
            "max_width": null,
            "min_height": null,
            "min_width": null,
            "object_fit": null,
            "object_position": null,
            "order": null,
            "overflow": null,
            "overflow_x": null,
            "overflow_y": null,
            "padding": null,
            "right": null,
            "top": null,
            "visibility": null,
            "width": null
          }
        },
        "e8a9e60dfc8341a18d60d9aa25fcf4c4": {
          "model_module": "@jupyter-widgets/base",
          "model_name": "LayoutModel",
          "state": {
            "_model_module": "@jupyter-widgets/base",
            "_model_module_version": "1.2.0",
            "_model_name": "LayoutModel",
            "_view_count": null,
            "_view_module": "@jupyter-widgets/base",
            "_view_module_version": "1.2.0",
            "_view_name": "LayoutView",
            "align_content": null,
            "align_items": null,
            "align_self": null,
            "border": null,
            "bottom": null,
            "display": null,
            "flex": null,
            "flex_flow": null,
            "grid_area": null,
            "grid_auto_columns": null,
            "grid_auto_flow": null,
            "grid_auto_rows": null,
            "grid_column": null,
            "grid_gap": null,
            "grid_row": null,
            "grid_template_areas": null,
            "grid_template_columns": null,
            "grid_template_rows": null,
            "height": null,
            "justify_content": null,
            "justify_items": null,
            "left": null,
            "margin": null,
            "max_height": null,
            "max_width": null,
            "min_height": null,
            "min_width": null,
            "object_fit": null,
            "object_position": null,
            "order": null,
            "overflow": null,
            "overflow_x": null,
            "overflow_y": null,
            "padding": null,
            "right": null,
            "top": null,
            "visibility": null,
            "width": null
          }
        },
        "bec8e5c2800b433394e2c0856dd0d526": {
          "model_module": "@jupyter-widgets/controls",
          "model_name": "ProgressStyleModel",
          "state": {
            "_model_module": "@jupyter-widgets/controls",
            "_model_module_version": "1.5.0",
            "_model_name": "ProgressStyleModel",
            "_view_count": null,
            "_view_module": "@jupyter-widgets/base",
            "_view_module_version": "1.2.0",
            "_view_name": "StyleView",
            "bar_color": null,
            "description_width": "initial"
          }
        },
        "466113287a364f27bdc04158b27555bf": {
          "model_module": "@jupyter-widgets/base",
          "model_name": "LayoutModel",
          "state": {
            "_model_module": "@jupyter-widgets/base",
            "_model_module_version": "1.2.0",
            "_model_name": "LayoutModel",
            "_view_count": null,
            "_view_module": "@jupyter-widgets/base",
            "_view_module_version": "1.2.0",
            "_view_name": "LayoutView",
            "align_content": null,
            "align_items": null,
            "align_self": null,
            "border": null,
            "bottom": null,
            "display": null,
            "flex": null,
            "flex_flow": null,
            "grid_area": null,
            "grid_auto_columns": null,
            "grid_auto_flow": null,
            "grid_auto_rows": null,
            "grid_column": null,
            "grid_gap": null,
            "grid_row": null,
            "grid_template_areas": null,
            "grid_template_columns": null,
            "grid_template_rows": null,
            "height": null,
            "justify_content": null,
            "justify_items": null,
            "left": null,
            "margin": null,
            "max_height": null,
            "max_width": null,
            "min_height": null,
            "min_width": null,
            "object_fit": null,
            "object_position": null,
            "order": null,
            "overflow": null,
            "overflow_x": null,
            "overflow_y": null,
            "padding": null,
            "right": null,
            "top": null,
            "visibility": null,
            "width": null
          }
        },
        "dee1210a038945c9aa01296d060eaa6b": {
          "model_module": "@jupyter-widgets/controls",
          "model_name": "DescriptionStyleModel",
          "state": {
            "_model_module": "@jupyter-widgets/controls",
            "_model_module_version": "1.5.0",
            "_model_name": "DescriptionStyleModel",
            "_view_count": null,
            "_view_module": "@jupyter-widgets/base",
            "_view_module_version": "1.2.0",
            "_view_name": "StyleView",
            "description_width": ""
          }
        }
      }
    }
  },
  "cells": [
    {
      "cell_type": "markdown",
      "metadata": {
        "id": "Aj2mm397iqS-"
      },
      "source": [
        "Skip the first two steps if you've already ran them and simply need to continue downloading images"
      ]
    },
    {
      "cell_type": "code",
      "metadata": {
        "colab": {
          "base_uri": "https://localhost:8080/"
        },
        "id": "6MlpN1c5irpO",
        "outputId": "41e6525a-594b-400e-f02b-c143946d3913"
      },
      "source": [
        "from google.colab import drive\n",
        "drive.mount('/content/gdrive')"
      ],
      "execution_count": null,
      "outputs": [
        {
          "output_type": "stream",
          "text": [
            "Mounted at /content/gdrive\n"
          ],
          "name": "stdout"
        }
      ]
    },
    {
      "cell_type": "code",
      "metadata": {
        "id": "1KpqrxtQiqTD"
      },
      "source": [
        "import math\n",
        "import random\n",
        "import os\n",
        "import numpy as np\n",
        "import pandas as pd\n",
        "from osgeo import gdal, osr\n",
        "from tqdm.notebook import tqdm\n",
        "import requests\n",
        "import matplotlib.pyplot as plt\n",
        "from io import BytesIO\n",
        "import logging\n",
        "import time"
      ],
      "execution_count": null,
      "outputs": []
    },
    {
      "cell_type": "code",
      "metadata": {
        "id": "e9KaUKaXiqTE"
      },
      "source": [
        "BASE_DIR = 'gdrive/MyDrive/geo'\n",
        "COUNTRIES_DIR = os.path.join(BASE_DIR, 'data', 'countries')\n",
        "PROCESSED_DIR = os.path.join(BASE_DIR, 'data', 'processed')\n",
        "# can try using the google downloader, in which case change this to be your google api token\n",
        "ACCESS_TOKEN_DIR = os.path.join(BASE_DIR, 'planet_api_key.txt')\n",
        "\n",
        "RANDOM_SEED = 7 # for reproducibility\n",
        "\n",
        "# each cluster must have AT LEAST this many images after doing nightlights processing\n",
        "MIN_IMAGES_PER_CLUSTER = 10"
      ],
      "execution_count": null,
      "outputs": []
    },
    {
      "cell_type": "code",
      "metadata": {
        "id": "Uyb7qkkhiqTF"
      },
      "source": [
        "# from ctypes.util import find_library\n",
        "# find_library('geos_c')\n",
        "import sys\n",
        "sys.path.append(BASE_DIR)\n",
        "from utils import create_space"
      ],
      "execution_count": null,
      "outputs": []
    },
    {
      "cell_type": "markdown",
      "metadata": {
        "id": "iRIf2ixRiqTG"
      },
      "source": [
        "# Generate Download Locations"
      ]
    },
    {
      "cell_type": "code",
      "metadata": {
        "id": "DrRhGn1kiqTG"
      },
      "source": [
        "# # df_mw = pd.read_csv(os.path.join(COUNTRIES_DIR, 'malawi_2016', 'processed/clusters.csv'))\n",
        "# df_eth = pd.read_csv(os.path.join(COUNTRIES_DIR, 'ethiopia_2015', 'processed/clusters.csv'))\n",
        "df_ng = pd.read_csv(os.path.join(COUNTRIES_DIR, 'nigeria_2015', 'processed/clusters.csv'))"
      ],
      "execution_count": null,
      "outputs": []
    },
    {
      "cell_type": "code",
      "metadata": {
        "colab": {
          "base_uri": "https://localhost:8080/",
          "height": 300
        },
        "id": "YDMyNVxriqTG",
        "outputId": "ec6a6a5d-bf9e-41ff-e986-322f93d972bc"
      },
      "source": [
        "for country in ['malawi_2016', 'ethiopia_2015', 'nigeria_2015']:\n",
        "    os.makedirs(os.path.join(COUNTRIES_DIR, country, 'images'), exist_ok=False)"
      ],
      "execution_count": null,
      "outputs": [
        {
          "output_type": "error",
          "ename": "FileExistsError",
          "evalue": "ignored",
          "traceback": [
            "\u001b[0;31m---------------------------------------------------------------------------\u001b[0m",
            "\u001b[0;31mFileExistsError\u001b[0m                           Traceback (most recent call last)",
            "\u001b[0;32m<ipython-input-7-e6870276869e>\u001b[0m in \u001b[0;36m<module>\u001b[0;34m()\u001b[0m\n\u001b[1;32m      1\u001b[0m \u001b[0;32mfor\u001b[0m \u001b[0mcountry\u001b[0m \u001b[0;32min\u001b[0m \u001b[0;34m[\u001b[0m\u001b[0;34m'malawi_2016'\u001b[0m\u001b[0;34m,\u001b[0m \u001b[0;34m'ethiopia_2015'\u001b[0m\u001b[0;34m,\u001b[0m \u001b[0;34m'nigeria_2015'\u001b[0m\u001b[0;34m]\u001b[0m\u001b[0;34m:\u001b[0m\u001b[0;34m\u001b[0m\u001b[0;34m\u001b[0m\u001b[0m\n\u001b[0;32m----> 2\u001b[0;31m     \u001b[0mos\u001b[0m\u001b[0;34m.\u001b[0m\u001b[0mmakedirs\u001b[0m\u001b[0;34m(\u001b[0m\u001b[0mos\u001b[0m\u001b[0;34m.\u001b[0m\u001b[0mpath\u001b[0m\u001b[0;34m.\u001b[0m\u001b[0mjoin\u001b[0m\u001b[0;34m(\u001b[0m\u001b[0mCOUNTRIES_DIR\u001b[0m\u001b[0;34m,\u001b[0m \u001b[0mcountry\u001b[0m\u001b[0;34m,\u001b[0m \u001b[0;34m'images'\u001b[0m\u001b[0;34m)\u001b[0m\u001b[0;34m,\u001b[0m \u001b[0mexist_ok\u001b[0m\u001b[0;34m=\u001b[0m\u001b[0;32mFalse\u001b[0m\u001b[0;34m)\u001b[0m\u001b[0;34m\u001b[0m\u001b[0;34m\u001b[0m\u001b[0m\n\u001b[0m",
            "\u001b[0;32m/usr/lib/python3.7/os.py\u001b[0m in \u001b[0;36mmakedirs\u001b[0;34m(name, mode, exist_ok)\u001b[0m\n\u001b[1;32m    221\u001b[0m             \u001b[0;32mreturn\u001b[0m\u001b[0;34m\u001b[0m\u001b[0;34m\u001b[0m\u001b[0m\n\u001b[1;32m    222\u001b[0m     \u001b[0;32mtry\u001b[0m\u001b[0;34m:\u001b[0m\u001b[0;34m\u001b[0m\u001b[0;34m\u001b[0m\u001b[0m\n\u001b[0;32m--> 223\u001b[0;31m         \u001b[0mmkdir\u001b[0m\u001b[0;34m(\u001b[0m\u001b[0mname\u001b[0m\u001b[0;34m,\u001b[0m \u001b[0mmode\u001b[0m\u001b[0;34m)\u001b[0m\u001b[0;34m\u001b[0m\u001b[0;34m\u001b[0m\u001b[0m\n\u001b[0m\u001b[1;32m    224\u001b[0m     \u001b[0;32mexcept\u001b[0m \u001b[0mOSError\u001b[0m\u001b[0;34m:\u001b[0m\u001b[0;34m\u001b[0m\u001b[0;34m\u001b[0m\u001b[0m\n\u001b[1;32m    225\u001b[0m         \u001b[0;31m# Cannot rely on checking for EEXIST, since the operating system\u001b[0m\u001b[0;34m\u001b[0m\u001b[0;34m\u001b[0m\u001b[0;34m\u001b[0m\u001b[0m\n",
            "\u001b[0;31mFileExistsError\u001b[0m: [Errno 17] File exists: 'gdrive/MyDrive/geo/data/countries/malawi_2016/images'"
          ]
        }
      ]
    },
    {
      "cell_type": "code",
      "metadata": {
        "id": "QlxLFk0tiqTH"
      },
      "source": [
        "def generate_download_locations(df, ipc=50):\n",
        "    '''\n",
        "    Takes a dataframe with columns cluster_lat, cluster_lon\n",
        "    Generates a 10km x 10km bounding box around the cluster and samples \n",
        "    ipc images per cluster. First samples in a grid fashion, then any \n",
        "    remaining points are randomly (uniformly) chosen\n",
        "    '''\n",
        "    np.random.seed(RANDOM_SEED) # for reproducability\n",
        "    df_download = {'image_name': [], 'image_lat': [], 'image_lon': [], 'cluster_lat': [], \n",
        "                   'cluster_lon': [], 'cons_pc': [], 'nightlights': [] }\n",
        "    \n",
        "    # side length of square for uniform distribution\n",
        "    edge_num = math.floor(math.sqrt(ipc))\n",
        "    for _, r in df.iterrows():\n",
        "        min_lat, min_lon, max_lat, max_lon = create_space(r.cluster_lat, r.cluster_lon)\n",
        "        lats = np.linspace(min_lat, max_lat, edge_num).tolist()\n",
        "        lons = np.linspace(min_lon, max_lon, edge_num).tolist()\n",
        "\n",
        "        # performs cartesian product\n",
        "        uniform_points = np.transpose([np.tile(lats, len(lons)), np.repeat(lons, len(lats))])\n",
        "        \n",
        "        lats = uniform_points[:,0].tolist()\n",
        "        lons = uniform_points[:,1].tolist()\n",
        "        \n",
        "        # fills the remainder with random points\n",
        "        for _ in range(ipc - edge_num * edge_num):\n",
        "            lat = random.uniform(min_lat, max_lat)\n",
        "            lon = random.uniform(min_lon, max_lon)\n",
        "            lats.append(lat)\n",
        "            lons.append(lon)\n",
        "        \n",
        "        # add to dict\n",
        "        for lat, lon in zip(lats, lons):\n",
        "            # image name is going to be image_lat_image_lon_cluster_lat_cluster_lon.png\n",
        "            image_name = str(lat) + '_' + str(lon) + '_' + str(r.cluster_lat) + '_' + str(r.cluster_lon) + '.png'\n",
        "            df_download['image_name'].append(image_name)\n",
        "            df_download['image_lat'].append(lat)\n",
        "            df_download['image_lon'].append(lon)\n",
        "            df_download['cluster_lat'].append(r.cluster_lat)\n",
        "            df_download['cluster_lon'].append(r.cluster_lon)\n",
        "            df_download['cons_pc'].append(r.cons_pc)\n",
        "            df_download['nightlights'].append(r.nightlights)\n",
        "        \n",
        "    return pd.DataFrame.from_dict(df_download)"
      ],
      "execution_count": null,
      "outputs": []
    },
    {
      "cell_type": "code",
      "metadata": {
        "id": "l1BRpf9yiqTI"
      },
      "source": [
        "# # df_mw_download = generate_download_locations(df_mw)\n",
        "# df_eth_download = generate_download_locations(df_eth)\n",
        "df_ng_download = generate_download_locations(df_ng)"
      ],
      "execution_count": null,
      "outputs": []
    },
    {
      "cell_type": "code",
      "metadata": {
        "colab": {
          "base_uri": "https://localhost:8080/"
        },
        "id": "y5r_X3L2iqTK",
        "outputId": "cbbf8934-ddb5-48b4-c614-1d66a28275df"
      },
      "source": [
        "# df_mw_download.shape, df_eth_download.shape, df_ng_download.shape\n",
        "df_ng_download.shape"
      ],
      "execution_count": null,
      "outputs": [
        {
          "output_type": "execute_result",
          "data": {
            "text/plain": [
              "(33200, 7)"
            ]
          },
          "metadata": {
            "tags": []
          },
          "execution_count": 8
        }
      ]
    },
    {
      "cell_type": "code",
      "metadata": {
        "id": "Nhd481lriqTN"
      },
      "source": [
        "# df_mw_download.head()"
      ],
      "execution_count": null,
      "outputs": []
    },
    {
      "cell_type": "code",
      "metadata": {
        "colab": {
          "base_uri": "https://localhost:8080/",
          "height": 204
        },
        "id": "SqvHNzWciqTO",
        "outputId": "fb1b5833-4e0b-4809-ae6a-c73611d69391"
      },
      "source": [
        "# df_eth_download.head()"
      ],
      "execution_count": null,
      "outputs": [
        {
          "output_type": "execute_result",
          "data": {
            "text/html": [
              "<div>\n",
              "<style scoped>\n",
              "    .dataframe tbody tr th:only-of-type {\n",
              "        vertical-align: middle;\n",
              "    }\n",
              "\n",
              "    .dataframe tbody tr th {\n",
              "        vertical-align: top;\n",
              "    }\n",
              "\n",
              "    .dataframe thead th {\n",
              "        text-align: right;\n",
              "    }\n",
              "</style>\n",
              "<table border=\"1\" class=\"dataframe\">\n",
              "  <thead>\n",
              "    <tr style=\"text-align: right;\">\n",
              "      <th></th>\n",
              "      <th>image_name</th>\n",
              "      <th>image_lat</th>\n",
              "      <th>image_lon</th>\n",
              "      <th>cluster_lat</th>\n",
              "      <th>cluster_lon</th>\n",
              "      <th>cons_pc</th>\n",
              "      <th>nightlights</th>\n",
              "    </tr>\n",
              "  </thead>\n",
              "  <tbody>\n",
              "    <tr>\n",
              "      <th>0</th>\n",
              "      <td>3.410784802784024_39.47107816189403_3.45570056...</td>\n",
              "      <td>3.410785</td>\n",
              "      <td>39.471078</td>\n",
              "      <td>3.455701</td>\n",
              "      <td>39.515994</td>\n",
              "      <td>14.854634</td>\n",
              "      <td>0.0</td>\n",
              "    </tr>\n",
              "    <tr>\n",
              "      <th>1</th>\n",
              "      <td>3.4257567241860163_39.47107816189403_3.4557005...</td>\n",
              "      <td>3.425757</td>\n",
              "      <td>39.471078</td>\n",
              "      <td>3.455701</td>\n",
              "      <td>39.515994</td>\n",
              "      <td>14.854634</td>\n",
              "      <td>0.0</td>\n",
              "    </tr>\n",
              "    <tr>\n",
              "      <th>2</th>\n",
              "      <td>3.440728645588008_39.47107816189403_3.45570056...</td>\n",
              "      <td>3.440729</td>\n",
              "      <td>39.471078</td>\n",
              "      <td>3.455701</td>\n",
              "      <td>39.515994</td>\n",
              "      <td>14.854634</td>\n",
              "      <td>0.0</td>\n",
              "    </tr>\n",
              "    <tr>\n",
              "      <th>3</th>\n",
              "      <td>3.45570056699_39.47107816189403_3.45570056699_...</td>\n",
              "      <td>3.455701</td>\n",
              "      <td>39.471078</td>\n",
              "      <td>3.455701</td>\n",
              "      <td>39.515994</td>\n",
              "      <td>14.854634</td>\n",
              "      <td>0.0</td>\n",
              "    </tr>\n",
              "    <tr>\n",
              "      <th>4</th>\n",
              "      <td>3.470672488391992_39.47107816189403_3.45570056...</td>\n",
              "      <td>3.470672</td>\n",
              "      <td>39.471078</td>\n",
              "      <td>3.455701</td>\n",
              "      <td>39.515994</td>\n",
              "      <td>14.854634</td>\n",
              "      <td>0.0</td>\n",
              "    </tr>\n",
              "  </tbody>\n",
              "</table>\n",
              "</div>"
            ],
            "text/plain": [
              "                                          image_name  ...  nightlights\n",
              "0  3.410784802784024_39.47107816189403_3.45570056...  ...          0.0\n",
              "1  3.4257567241860163_39.47107816189403_3.4557005...  ...          0.0\n",
              "2  3.440728645588008_39.47107816189403_3.45570056...  ...          0.0\n",
              "3  3.45570056699_39.47107816189403_3.45570056699_...  ...          0.0\n",
              "4  3.470672488391992_39.47107816189403_3.45570056...  ...          0.0\n",
              "\n",
              "[5 rows x 7 columns]"
            ]
          },
          "metadata": {
            "tags": []
          },
          "execution_count": 11
        }
      ]
    },
    {
      "cell_type": "code",
      "metadata": {
        "colab": {
          "base_uri": "https://localhost:8080/",
          "height": 204
        },
        "id": "unWw1QyTiqTO",
        "outputId": "98877468-1022-418f-95c9-3bc26c2bb0a1"
      },
      "source": [
        "df_ng_download.head()"
      ],
      "execution_count": null,
      "outputs": [
        {
          "output_type": "execute_result",
          "data": {
            "text/html": [
              "<div>\n",
              "<style scoped>\n",
              "    .dataframe tbody tr th:only-of-type {\n",
              "        vertical-align: middle;\n",
              "    }\n",
              "\n",
              "    .dataframe tbody tr th {\n",
              "        vertical-align: top;\n",
              "    }\n",
              "\n",
              "    .dataframe thead th {\n",
              "        text-align: right;\n",
              "    }\n",
              "</style>\n",
              "<table border=\"1\" class=\"dataframe\">\n",
              "  <thead>\n",
              "    <tr style=\"text-align: right;\">\n",
              "      <th></th>\n",
              "      <th>image_name</th>\n",
              "      <th>image_lat</th>\n",
              "      <th>image_lon</th>\n",
              "      <th>cluster_lat</th>\n",
              "      <th>cluster_lon</th>\n",
              "      <th>cons_pc</th>\n",
              "      <th>nightlights</th>\n",
              "    </tr>\n",
              "  </thead>\n",
              "  <tbody>\n",
              "    <tr>\n",
              "      <th>0</th>\n",
              "      <td>4.270870351534024_6.223837135554024_4.31578611...</td>\n",
              "      <td>4.270870</td>\n",
              "      <td>6.223837</td>\n",
              "      <td>4.315786</td>\n",
              "      <td>6.268753</td>\n",
              "      <td>4.317717</td>\n",
              "      <td>0.123354</td>\n",
              "    </tr>\n",
              "    <tr>\n",
              "      <th>1</th>\n",
              "      <td>4.285842272936016_6.223837135554024_4.31578611...</td>\n",
              "      <td>4.285842</td>\n",
              "      <td>6.223837</td>\n",
              "      <td>4.315786</td>\n",
              "      <td>6.268753</td>\n",
              "      <td>4.317717</td>\n",
              "      <td>0.123354</td>\n",
              "    </tr>\n",
              "    <tr>\n",
              "      <th>2</th>\n",
              "      <td>4.300814194338008_6.223837135554024_4.31578611...</td>\n",
              "      <td>4.300814</td>\n",
              "      <td>6.223837</td>\n",
              "      <td>4.315786</td>\n",
              "      <td>6.268753</td>\n",
              "      <td>4.317717</td>\n",
              "      <td>0.123354</td>\n",
              "    </tr>\n",
              "    <tr>\n",
              "      <th>3</th>\n",
              "      <td>4.31578611574_6.223837135554024_4.31578611574_...</td>\n",
              "      <td>4.315786</td>\n",
              "      <td>6.223837</td>\n",
              "      <td>4.315786</td>\n",
              "      <td>6.268753</td>\n",
              "      <td>4.317717</td>\n",
              "      <td>0.123354</td>\n",
              "    </tr>\n",
              "    <tr>\n",
              "      <th>4</th>\n",
              "      <td>4.330758037141992_6.223837135554024_4.31578611...</td>\n",
              "      <td>4.330758</td>\n",
              "      <td>6.223837</td>\n",
              "      <td>4.315786</td>\n",
              "      <td>6.268753</td>\n",
              "      <td>4.317717</td>\n",
              "      <td>0.123354</td>\n",
              "    </tr>\n",
              "  </tbody>\n",
              "</table>\n",
              "</div>"
            ],
            "text/plain": [
              "                                          image_name  ...  nightlights\n",
              "0  4.270870351534024_6.223837135554024_4.31578611...  ...     0.123354\n",
              "1  4.285842272936016_6.223837135554024_4.31578611...  ...     0.123354\n",
              "2  4.300814194338008_6.223837135554024_4.31578611...  ...     0.123354\n",
              "3  4.31578611574_6.223837135554024_4.31578611574_...  ...     0.123354\n",
              "4  4.330758037141992_6.223837135554024_4.31578611...  ...     0.123354\n",
              "\n",
              "[5 rows x 7 columns]"
            ]
          },
          "metadata": {
            "tags": []
          },
          "execution_count": 9
        }
      ]
    },
    {
      "cell_type": "code",
      "metadata": {
        "id": "xf6dj5P8iqTP"
      },
      "source": [
        "# # df_mw_download['country'] = 'mw'\n",
        "# df_eth_download['country'] = 'eth'\n",
        "df_ng_download['country'] = 'ng'"
      ],
      "execution_count": null,
      "outputs": []
    },
    {
      "cell_type": "code",
      "metadata": {
        "id": "LW49lKmliqTP"
      },
      "source": [
        "# for image download purposes the country distinction is irreleveant\n",
        "# df_potential_download = pd.concat([df_mw_download, df_eth_download, df_ng_download], axis=0)\n",
        "df_potential_download = df_ng_download\n",
        "df_potential_download.reset_index(drop=True, inplace=True)"
      ],
      "execution_count": null,
      "outputs": []
    },
    {
      "cell_type": "code",
      "metadata": {
        "colab": {
          "base_uri": "https://localhost:8080/",
          "height": 204
        },
        "id": "DkrzvDA3iqTP",
        "outputId": "fce118b0-c801-4948-9ebe-f3782f2433d3"
      },
      "source": [
        "df_potential_download.head()"
      ],
      "execution_count": null,
      "outputs": [
        {
          "output_type": "execute_result",
          "data": {
            "text/html": [
              "<div>\n",
              "<style scoped>\n",
              "    .dataframe tbody tr th:only-of-type {\n",
              "        vertical-align: middle;\n",
              "    }\n",
              "\n",
              "    .dataframe tbody tr th {\n",
              "        vertical-align: top;\n",
              "    }\n",
              "\n",
              "    .dataframe thead th {\n",
              "        text-align: right;\n",
              "    }\n",
              "</style>\n",
              "<table border=\"1\" class=\"dataframe\">\n",
              "  <thead>\n",
              "    <tr style=\"text-align: right;\">\n",
              "      <th></th>\n",
              "      <th>image_name</th>\n",
              "      <th>image_lat</th>\n",
              "      <th>image_lon</th>\n",
              "      <th>cluster_lat</th>\n",
              "      <th>cluster_lon</th>\n",
              "      <th>cons_pc</th>\n",
              "      <th>nightlights</th>\n",
              "      <th>country</th>\n",
              "    </tr>\n",
              "  </thead>\n",
              "  <tbody>\n",
              "    <tr>\n",
              "      <th>0</th>\n",
              "      <td>4.270870351534024_6.223837135554024_4.31578611...</td>\n",
              "      <td>4.270870</td>\n",
              "      <td>6.223837</td>\n",
              "      <td>4.315786</td>\n",
              "      <td>6.268753</td>\n",
              "      <td>4.317717</td>\n",
              "      <td>0.123354</td>\n",
              "      <td>ng</td>\n",
              "    </tr>\n",
              "    <tr>\n",
              "      <th>1</th>\n",
              "      <td>4.285842272936016_6.223837135554024_4.31578611...</td>\n",
              "      <td>4.285842</td>\n",
              "      <td>6.223837</td>\n",
              "      <td>4.315786</td>\n",
              "      <td>6.268753</td>\n",
              "      <td>4.317717</td>\n",
              "      <td>0.123354</td>\n",
              "      <td>ng</td>\n",
              "    </tr>\n",
              "    <tr>\n",
              "      <th>2</th>\n",
              "      <td>4.300814194338008_6.223837135554024_4.31578611...</td>\n",
              "      <td>4.300814</td>\n",
              "      <td>6.223837</td>\n",
              "      <td>4.315786</td>\n",
              "      <td>6.268753</td>\n",
              "      <td>4.317717</td>\n",
              "      <td>0.123354</td>\n",
              "      <td>ng</td>\n",
              "    </tr>\n",
              "    <tr>\n",
              "      <th>3</th>\n",
              "      <td>4.31578611574_6.223837135554024_4.31578611574_...</td>\n",
              "      <td>4.315786</td>\n",
              "      <td>6.223837</td>\n",
              "      <td>4.315786</td>\n",
              "      <td>6.268753</td>\n",
              "      <td>4.317717</td>\n",
              "      <td>0.123354</td>\n",
              "      <td>ng</td>\n",
              "    </tr>\n",
              "    <tr>\n",
              "      <th>4</th>\n",
              "      <td>4.330758037141992_6.223837135554024_4.31578611...</td>\n",
              "      <td>4.330758</td>\n",
              "      <td>6.223837</td>\n",
              "      <td>4.315786</td>\n",
              "      <td>6.268753</td>\n",
              "      <td>4.317717</td>\n",
              "      <td>0.123354</td>\n",
              "      <td>ng</td>\n",
              "    </tr>\n",
              "  </tbody>\n",
              "</table>\n",
              "</div>"
            ],
            "text/plain": [
              "                                          image_name  ...  country\n",
              "0  4.270870351534024_6.223837135554024_4.31578611...  ...       ng\n",
              "1  4.285842272936016_6.223837135554024_4.31578611...  ...       ng\n",
              "2  4.300814194338008_6.223837135554024_4.31578611...  ...       ng\n",
              "3  4.31578611574_6.223837135554024_4.31578611574_...  ...       ng\n",
              "4  4.330758037141992_6.223837135554024_4.31578611...  ...       ng\n",
              "\n",
              "[5 rows x 8 columns]"
            ]
          },
          "metadata": {
            "tags": []
          },
          "execution_count": 12
        }
      ]
    },
    {
      "cell_type": "markdown",
      "metadata": {
        "id": "tkvD_SW7iqTQ"
      },
      "source": [
        "# Filter Download Choices"
      ]
    },
    {
      "cell_type": "code",
      "metadata": {
        "colab": {
          "base_uri": "https://localhost:8080/"
        },
        "id": "g8TQCFGLiqTQ",
        "outputId": "a2ccf8d4-f34a-432a-a3ca-68c53b7dcf56"
      },
      "source": [
        "df_potential_download['nightlights'].max()"
      ],
      "execution_count": null,
      "outputs": [
        {
          "output_type": "execute_result",
          "data": {
            "text/plain": [
              "67.03113555908203"
            ]
          },
          "metadata": {
            "tags": []
          },
          "execution_count": 13
        }
      ]
    },
    {
      "cell_type": "code",
      "metadata": {
        "colab": {
          "base_uri": "https://localhost:8080/"
        },
        "id": "4GnrymuoiqTQ",
        "outputId": "4c7e5d49-97b9-44c1-8337-ed23fed5f93a"
      },
      "source": [
        "# most nightlights are 0\n",
        "# let's download images that have nonzero nightlights to induce variety into the model\n",
        "print((df_potential_download['nightlights'] == 0).mean())\n",
        "print((df_potential_download['nightlights'] <= 2).mean())"
      ],
      "execution_count": null,
      "outputs": [
        {
          "output_type": "stream",
          "text": [
            "0.23343373493975902\n",
            "0.786144578313253\n"
          ],
          "name": "stdout"
        }
      ]
    },
    {
      "cell_type": "code",
      "metadata": {
        "id": "6ibURIDaiqTR"
      },
      "source": [
        "def drop_0s(df, fr=0.1):\n",
        "    \"\"\"\n",
        "        Solves for d:\n",
        "            (c_z - d)/(n - d) = fr\n",
        "        Where d = rows to drop, c_z = num rows with zero nightlights, n = num rows, fr = frac remaining\n",
        "        \n",
        "        Yields:\n",
        "        d = (c_z - n*fr) / (1 - fr)\n",
        "    \"\"\"\n",
        "    np.random.seed(RANDOM_SEED)\n",
        "    c_z = (df['nightlights']==0).sum()\n",
        "    n = len(df)\n",
        "    assert c_z / n > fr, print(f'Dataframe already has under {fr} zeros')\n",
        "    \n",
        "    d = (c_z - n * fr) / (1 - fr)\n",
        "    d = int(d)\n",
        "    print(f'dropping: {d}')\n",
        "    \n",
        "    zero_df = df[df['nightlights']==0]\n",
        "    zero_clusters = zero_df.groupby(['cluster_lat', 'cluster_lon'])\n",
        "    per_cluster_drop = int(d / len(zero_clusters))\n",
        "    print(f'Need to drop {per_cluster_drop} per cluster with 0 nightlights')\n",
        "    \n",
        "    drop_inds = []\n",
        "    for (cluster_lat, cluster_lon), group in zero_clusters:\n",
        "        z_inds = group.index\n",
        "        clust_drop = np.random.choice(z_inds, per_cluster_drop, replace=False)\n",
        "        assert len(group) - len(clust_drop) >= MIN_IMAGES_PER_CLUSTER, print(f'dropping too many in {cluster_lat}, {cluster_lon}')\n",
        "        drop_inds += clust_drop.tolist()\n",
        "    \n",
        "    # this is how you do it purely randomly but some clusters might get wiped out\n",
        "    # z_inds = np.argwhere(df['nightlights'].values == 0).reshape(-1)\n",
        "    # drop_inds = np.random.choice(z_inds, d, replace=False)\n",
        "    return df.drop(drop_inds).reset_index(drop=True)\n",
        "\n",
        "def drop_in_range(df, lower=0, upper=2, fr=0.25):\n",
        "    \"\"\"\n",
        "        Very similar to drop_0s calculation, but more generalized. Lower and upper are inclusive.\n",
        "    \"\"\"\n",
        "    np.random.seed(RANDOM_SEED)\n",
        "    boolean_idx = ((lower <= df['nightlights']) & (df['nightlights'] <= upper))\n",
        "    c_under = boolean_idx.sum()\n",
        "    n = len(df)\n",
        "    assert c_under / n > fr, print(f'Dataframe already has under {fr} rows in the given range')\n",
        "    \n",
        "    d = (c_under - n * fr) / (1 - fr)\n",
        "    d = int(d)\n",
        "    print(f'dropping: {d}')\n",
        "    \n",
        "    select_df = df[boolean_idx]\n",
        "    select_clusters = select_df.groupby(['cluster_lat', 'cluster_lon'])\n",
        "    per_cluster_drop = int(d / len(select_clusters))\n",
        "    print(f'Need to drop {per_cluster_drop} per cluster in the given range')\n",
        "    \n",
        "    drop_inds = []\n",
        "    for (cluster_lat, cluster_lon), group in select_clusters:\n",
        "        z_inds = group.index\n",
        "        clust_drop = np.random.choice(z_inds, per_cluster_drop, replace=False)\n",
        "        assert len(group) - len(clust_drop) >= MIN_IMAGES_PER_CLUSTER, print(f'dropping too many in {cluster_lat}, {cluster_lon}')\n",
        "        drop_inds += clust_drop.tolist()\n",
        "        \n",
        "    return df.drop(drop_inds).reset_index(drop=True)\n"
      ],
      "execution_count": null,
      "outputs": []
    },
    {
      "cell_type": "code",
      "metadata": {
        "colab": {
          "base_uri": "https://localhost:8080/"
        },
        "id": "wkVCur9diqTS",
        "outputId": "2b60cb24-9ca3-4f75-f091-ae9610d99893"
      },
      "source": [
        "df_mod_download = drop_0s(df_potential_download, fr=0.1)"
      ],
      "execution_count": null,
      "outputs": [
        {
          "output_type": "stream",
          "text": [
            "dropping: 4922\n",
            "Need to drop 31 per cluster with 0 nightlights\n"
          ],
          "name": "stdout"
        }
      ]
    },
    {
      "cell_type": "code",
      "metadata": {
        "colab": {
          "base_uri": "https://localhost:8080/"
        },
        "id": "o5bCJVKtiqTT",
        "outputId": "2dabd475-8549-425f-a657-dcc4dc02db3c"
      },
      "source": [
        "(df_mod_download['nightlights'] == 0).mean()"
      ],
      "execution_count": null,
      "outputs": [
        {
          "output_type": "execute_result",
          "data": {
            "text/plain": [
              "0.10371544285965839"
            ]
          },
          "metadata": {
            "tags": []
          },
          "execution_count": 17
        }
      ]
    },
    {
      "cell_type": "code",
      "metadata": {
        "colab": {
          "base_uri": "https://localhost:8080/"
        },
        "id": "i5lOnFRbiqTT",
        "outputId": "e642dc2e-3afb-41b5-b557-7467eb850275"
      },
      "source": [
        "df_mod_download = drop_in_range(df_mod_download, lower=0.001, upper=3, fr=0.4)"
      ],
      "execution_count": null,
      "outputs": [
        {
          "output_type": "stream",
          "text": [
            "dropping: 14153\n",
            "Need to drop 35 per cluster in the given range\n"
          ],
          "name": "stdout"
        }
      ]
    },
    {
      "cell_type": "code",
      "metadata": {
        "colab": {
          "base_uri": "https://localhost:8080/"
        },
        "id": "uljZ8WWGiqTT",
        "outputId": "a5fc0874-f106-4219-f05b-31e4ed183dd3"
      },
      "source": [
        "((0.001 <= df_mod_download['nightlights']) & (df_mod_download['nightlights'] <= 3)).mean()"
      ],
      "execution_count": null,
      "outputs": [
        {
          "output_type": "execute_result",
          "data": {
            "text/plain": [
              "0.4106896551724138"
            ]
          },
          "metadata": {
            "tags": []
          },
          "execution_count": 19
        }
      ]
    },
    {
      "cell_type": "code",
      "metadata": {
        "colab": {
          "base_uri": "https://localhost:8080/"
        },
        "id": "z70U-yLhiqTT",
        "outputId": "a24e2172-f6a8-4060-9ab0-927ab98da944"
      },
      "source": [
        "# this has gone up now though\n",
        "(df_mod_download['nightlights'] == 0).mean()"
      ],
      "execution_count": null,
      "outputs": [
        {
          "output_type": "execute_result",
          "data": {
            "text/plain": [
              "0.20310344827586208"
            ]
          },
          "metadata": {
            "tags": []
          },
          "execution_count": 20
        }
      ]
    },
    {
      "cell_type": "code",
      "metadata": {
        "colab": {
          "base_uri": "https://localhost:8080/"
        },
        "id": "3gj6x123iqTU",
        "outputId": "b14af133-13ee-4684-fd93-4c25d27deab6"
      },
      "source": [
        "df_mod_download = drop_0s(df_mod_download, fr=0.2)"
      ],
      "execution_count": null,
      "outputs": [
        {
          "output_type": "stream",
          "text": [
            "dropping: 56\n",
            "Need to drop 0 per cluster with 0 nightlights\n"
          ],
          "name": "stdout"
        }
      ]
    },
    {
      "cell_type": "markdown",
      "metadata": {
        "id": "chGJ_9byiqTU"
      },
      "source": [
        "At this point the low nightlight clusters (0 and under 3) have 11 and 12 images respectively, meaning very few more images can be dropped without going under 10."
      ]
    },
    {
      "cell_type": "code",
      "metadata": {
        "id": "hxY4yTXjiqTU"
      },
      "source": [
        "from sklearn.mixture import GaussianMixture as GMM\n",
        "X = df_mod_download['nightlights'].values.reshape(-1,1)\n",
        "gmm = GMM(n_components=3).fit(X)\n",
        "labels = gmm.predict(df_mod_download['nightlights'].values.reshape(-1,1))"
      ],
      "execution_count": null,
      "outputs": []
    },
    {
      "cell_type": "code",
      "metadata": {
        "colab": {
          "base_uri": "https://localhost:8080/"
        },
        "id": "qSI-sY6tiqTU",
        "outputId": "db7934df-3db8-4109-9e2a-906d57c79bf4"
      },
      "source": [
        "(labels==0).mean(), (labels==1).mean(), (labels==2).mean()"
      ],
      "execution_count": null,
      "outputs": [
        {
          "output_type": "execute_result",
          "data": {
            "text/plain": [
              "(0.57, 0.017241379310344827, 0.4127586206896552)"
            ]
          },
          "metadata": {
            "tags": []
          },
          "execution_count": 23
        }
      ]
    },
    {
      "cell_type": "code",
      "metadata": {
        "colab": {
          "base_uri": "https://localhost:8080/"
        },
        "id": "CFymdGg8iqTU",
        "outputId": "b7567870-f606-406c-cc79-449aefe29806"
      },
      "source": [
        "# these are the cutoff for the labels identified by the Guassian Mixture Model\n",
        "label0_max = df_mod_download['nightlights'][labels==0].max()\n",
        "label1_max = df_mod_download['nightlights'][labels==1].max()\n",
        "label2_max = df_mod_download['nightlights'][labels==2].max()\n",
        "\n",
        "label0_max, label1_max, label2_max"
      ],
      "execution_count": null,
      "outputs": [
        {
          "output_type": "execute_result",
          "data": {
            "text/plain": [
              "(16.685375213623047, 67.03113555908203, 0.04805320128798485)"
            ]
          },
          "metadata": {
            "tags": []
          },
          "execution_count": 24
        }
      ]
    },
    {
      "cell_type": "code",
      "metadata": {
        "id": "Llb78MTviqTV"
      },
      "source": [
        "# I am going to hand reassign these to have better representation among all three classes\n",
        "# these are not ideal distributions obviously but the model should still be able to learn\n",
        "# something like a quantile cut might work better and be less arbitrary, but for reproducability \n",
        "# purposes I'll stick to the GMM-based approach\n",
        "label0_max = 0.05\n",
        "label1_max = 5\n",
        "label2_max = 70"
      ],
      "execution_count": null,
      "outputs": []
    },
    {
      "cell_type": "code",
      "metadata": {
        "colab": {
          "base_uri": "https://localhost:8080/"
        },
        "id": "VSZAzq5uiqTV",
        "outputId": "2af58315-d0d2-4a36-9ada-a6a45ab25d70"
      },
      "source": [
        "def query_df(df, lower, upper):\n",
        "    return df[((lower <= df['nightlights']) & (df['nightlights'] < upper))]\n",
        "\n",
        "print(len(query_df(df_mod_download, 0, label0_max)) / len(df_mod_download))\n",
        "print(len(query_df(df_mod_download, label0_max, label1_max)) / len(df_mod_download))\n",
        "print(len(query_df(df_mod_download, label1_max, label2_max)) / len(df_mod_download))"
      ],
      "execution_count": null,
      "outputs": [
        {
          "output_type": "stream",
          "text": [
            "0.41379310344827586\n",
            "0.3586206896551724\n",
            "0.22758620689655173\n"
          ],
          "name": "stdout"
        }
      ]
    },
    {
      "cell_type": "code",
      "metadata": {
        "colab": {
          "base_uri": "https://localhost:8080/"
        },
        "id": "ErMOpsbjiqTV",
        "outputId": "62f374b0-13ad-402d-f908-3f68f5a29b3b"
      },
      "source": [
        "def create_nightlights_bin(df, cutoffs):\n",
        "    assert len(cutoffs) >= 2, print('need at least 2 bins')\n",
        "    cutoffs = sorted(cutoffs, reverse=True)\n",
        "    labels = list(range(len(cutoffs)))[::-1]\n",
        "    df['nightlights_bin'] = len(cutoffs)\n",
        "    for cutoff, label in zip(cutoffs, labels):\n",
        "        df['nightlights_bin'].loc[df['nightlights'] <= cutoff] = label\n",
        "\n",
        "df_download = df_mod_download.copy()\n",
        "create_nightlights_bin(df_download, cutoffs=[label0_max, label1_max, label2_max])"
      ],
      "execution_count": null,
      "outputs": [
        {
          "output_type": "stream",
          "text": [
            "/usr/local/lib/python3.7/dist-packages/pandas/core/indexing.py:670: SettingWithCopyWarning: \n",
            "A value is trying to be set on a copy of a slice from a DataFrame\n",
            "\n",
            "See the caveats in the documentation: https://pandas.pydata.org/pandas-docs/stable/user_guide/indexing.html#returning-a-view-versus-a-copy\n",
            "  iloc._setitem_with_indexer(indexer, value)\n",
            "/usr/local/lib/python3.7/dist-packages/pandas/core/indexing.py:670: SettingWithCopyWarning: \n",
            "A value is trying to be set on a copy of a slice from a DataFrame\n",
            "\n",
            "See the caveats in the documentation: https://pandas.pydata.org/pandas-docs/stable/user_guide/indexing.html#returning-a-view-versus-a-copy\n",
            "  iloc._setitem_with_indexer(indexer, value)\n",
            "/usr/local/lib/python3.7/dist-packages/pandas/core/indexing.py:670: SettingWithCopyWarning: \n",
            "A value is trying to be set on a copy of a slice from a DataFrame\n",
            "\n",
            "See the caveats in the documentation: https://pandas.pydata.org/pandas-docs/stable/user_guide/indexing.html#returning-a-view-versus-a-copy\n",
            "  iloc._setitem_with_indexer(indexer, value)\n"
          ],
          "name": "stderr"
        }
      ]
    },
    {
      "cell_type": "code",
      "metadata": {
        "colab": {
          "base_uri": "https://localhost:8080/"
        },
        "id": "WPirq5YKiqTW",
        "outputId": "02da8141-0df2-4257-9869-781cd5f0a065"
      },
      "source": [
        "# these should match above\n",
        "(df_download['nightlights_bin']==0).mean(), (df_download['nightlights_bin']==1).mean(), (df_download['nightlights_bin']==2).mean()\n"
      ],
      "execution_count": null,
      "outputs": [
        {
          "output_type": "execute_result",
          "data": {
            "text/plain": [
              "(0.41379310344827586, 0.3586206896551724, 0.22758620689655173)"
            ]
          },
          "metadata": {
            "tags": []
          },
          "execution_count": 28
        }
      ]
    },
    {
      "cell_type": "code",
      "metadata": {
        "colab": {
          "base_uri": "https://localhost:8080/"
        },
        "id": "Ug1a-EotiqTW",
        "outputId": "a24a3ff2-9057-4628-8a2b-30af7aaef499"
      },
      "source": [
        "df_download.shape"
      ],
      "execution_count": null,
      "outputs": [
        {
          "output_type": "execute_result",
          "data": {
            "text/plain": [
              "(14500, 9)"
            ]
          },
          "metadata": {
            "tags": []
          },
          "execution_count": 29
        }
      ]
    },
    {
      "cell_type": "code",
      "metadata": {
        "id": "lvUEfdJiiqTW"
      },
      "source": [
        "os.makedirs(PROCESSED_DIR, exist_ok=True)"
      ],
      "execution_count": null,
      "outputs": []
    },
    {
      "cell_type": "code",
      "metadata": {
        "id": "n0fk443siqTX"
      },
      "source": [
        "df_download.to_csv(os.path.join(PROCESSED_DIR, 'image_download_locs.csv'), index=False)"
      ],
      "execution_count": null,
      "outputs": []
    },
    {
      "cell_type": "markdown",
      "metadata": {
        "id": "87oQFeHbiqTX"
      },
      "source": [
        "# Download Images\n",
        "If the script breaks, you can restart here by uncommenting the line below and running the below code again. It won't download images you have already downloaded."
      ]
    },
    {
      "cell_type": "code",
      "metadata": {
        "id": "Z_hZTdiiiqTX"
      },
      "source": [
        "# df_download = pd.read_csv(os.path.join(PROCESSED_DIR, 'image_download_locs.csv'))"
      ],
      "execution_count": null,
      "outputs": []
    },
    {
      "cell_type": "code",
      "metadata": {
        "id": "LKqxVTZRiqTX"
      },
      "source": [
        "# you can try the google downloader if you don't have the planet API key\n",
        "# the tradeoff is that planet's data can be queried with time, but Google's images\n",
        "# are higher res\n",
        "from utils import PlanetDownloader"
      ],
      "execution_count": null,
      "outputs": []
    },
    {
      "cell_type": "code",
      "metadata": {
        "colab": {
          "base_uri": "https://localhost:8080/",
          "height": 286
        },
        "id": "rPdAoDDeiqTY",
        "outputId": "8a30ef75-9283-4d4a-c80e-fa052d92dafc"
      },
      "source": [
        "# this demonstrates the API call\n",
        "lat = 38.441332\n",
        "lon = -105.234751\n",
        "min_year = 2016\n",
        "min_month = 1\n",
        "max_year = 2016\n",
        "max_month = 12\n",
        "\n",
        "access = open(ACCESS_TOKEN_DIR, 'r').readlines()[0].strip()\n",
        "pd = PlanetDownloader(access)\n",
        "plt.imshow(pd.download_image(lat, lon, min_year, min_month, max_year, max_month))"
      ],
      "execution_count": null,
      "outputs": [
        {
          "output_type": "execute_result",
          "data": {
            "text/plain": [
              "<matplotlib.image.AxesImage at 0x7fdbc4419190>"
            ]
          },
          "metadata": {
            "tags": []
          },
          "execution_count": 33
        },
        {
          "output_type": "display_data",
          "data": {
            "image/png": "[encoded data removed]",
            "text/plain": [
              "<Figure size 432x288 with 1 Axes>"
            ]
          },
          "metadata": {
            "tags": []
          }
        }
      ]
    },
    {
      "cell_type": "code",
      "metadata": {
        "id": "o0cMhBHdiqTY"
      },
      "source": [
        "def download_images(df):\n",
        "    \"\"\"\n",
        "    Download images using a pandas DataFrame that has \"image_lat\", \"image_lon\", \"image_name\", \"country\" as columns\n",
        "    \n",
        "    Saves images to the corresponding country's images folder\n",
        "\n",
        "    To use the Google Downloader, switch PlanetDownloader to GoogleDownloader and make imd.download_image only\n",
        "    provide lat and lon as arguments. Use zoom = 16.\n",
        "    \"\"\"\n",
        "    access = None\n",
        "    with open(ACCESS_TOKEN_DIR, 'r') as f:\n",
        "        access = f.readlines()[0]\n",
        "    imd = PlanetDownloader(access)\n",
        "#     imd = GoogleDownloader(access)\n",
        "    num_retries = 20\n",
        "    wait_time = 0.1 # seconds\n",
        "\n",
        "    # drops what is already downloaded\n",
        "    already_downloaded = os.listdir(os.path.join(COUNTRIES_DIR, 'malawi_2016', 'images')) + \\\n",
        "                        os.listdir(os.path.join(COUNTRIES_DIR, 'ethiopia_2015', 'images')) + \\\n",
        "                        os.listdir(os.path.join(COUNTRIES_DIR, 'nigeria_2015', 'images'))\n",
        "    already_downloaded =  list(set(already_downloaded).intersection(set(df['image_name'])))\n",
        "    print('Already downloaded ' + str(len(already_downloaded)))\n",
        "    df = df.set_index('image_name').drop(already_downloaded).reset_index()\n",
        "    print('Need to download ' + str(len(df)))\n",
        "    # use three years of images to find one that matches search critera\n",
        "    min_year = 2014\n",
        "    min_month = 1\n",
        "    max_year = 2016\n",
        "    max_month = 12\n",
        "    for _, r in tqdm(df.iterrows(), total=df.shape[0]):\n",
        "        lat = r.image_lat\n",
        "        lon = r.image_lon\n",
        "        zoom = 50\n",
        "        name = r.image_name\n",
        "        country_dir = None\n",
        "        if r.country == 'mw':\n",
        "            country_dir = 'malawi_2016'\n",
        "        elif r.country == 'eth':\n",
        "            country_dir = 'ethiopia_2015'\n",
        "        elif r.country == 'ng':\n",
        "            country_dir = 'nigeria_2015'\n",
        "        else:\n",
        "            print(f\"unrecognized country: {r.country}\")\n",
        "            raise ValueError()\n",
        "        image_save_path = os.path.join(COUNTRIES_DIR, country_dir, 'images', r.image_name)\n",
        "        try:\n",
        "            im = imd.download_image(lat, lon, min_year, min_month, max_year, max_month)\n",
        "            if (type(im) == str and im == 'RETRY') or im is None:\n",
        "                resolved = False\n",
        "                for _ in range(num_retries):\n",
        "                    time.sleep(wait_time)\n",
        "                    im = imd.download_image(lat, lon, min_year, min_month, max_year, max_month)\n",
        "                    if (type(im) == str and im == 'RETRY') or im is None:\n",
        "                        continue\n",
        "                    else:\n",
        "                        plt.imsave(image_save_path, im)\n",
        "                        resolved = True\n",
        "                        break\n",
        "                if not resolved:\n",
        "                    print(f'Could not download {lat}, {lon} despite several retries and waiting')\n",
        "                    continue\n",
        "                else:\n",
        "                    pass\n",
        "            else:\n",
        "                # no issues, save according to naming convention\n",
        "                plt.imsave(image_save_path, im)\n",
        "\n",
        "        except Exception as e:\n",
        "            logging.error(f\"Error-could not download {lat}, {lon}\", exc_info=True)\n",
        "            continue"
      ],
      "execution_count": null,
      "outputs": []
    },
    {
      "cell_type": "code",
      "metadata": {
        "colab": {
          "background_save": true,
          "base_uri": "https://localhost:8080/",
          "height": 1000,
          "referenced_widgets": [
            "eb03e01e458a4797a88152b874f376e3",
            "7c0a93896bc04018beac3d9d8634fa5e",
            "516f34ee82664b1d8d9b385efa35eaa7",
            "8f50de1322db49869a25e53ad103cdfe",
            "e8a9e60dfc8341a18d60d9aa25fcf4c4",
            "bec8e5c2800b433394e2c0856dd0d526",
            "466113287a364f27bdc04158b27555bf",
            "dee1210a038945c9aa01296d060eaa6b"
          ]
        },
        "id": "5bQ9hanyiqTZ",
        "outputId": "d51b54bd-146f-4092-cb08-becd932f7f66"
      },
      "source": [
        "download_images(df_download)"
      ],
      "execution_count": null,
      "outputs": [
        {
          "output_type": "stream",
          "text": [
            "Already downloaded 0\n",
            "Need to download 14500\n"
          ],
          "name": "stdout"
        },
        {
          "output_type": "display_data",
          "data": {
            "application/vnd.jupyter.widget-view+json": {
              "model_id": "eb03e01e458a4797a88152b874f376e3",
              "version_major": 2,
              "version_minor": 0
            },
            "text/plain": [
              "HBox(children=(FloatProgress(value=0.0, max=14500.0), HTML(value='')))"
            ]
          },
          "metadata": {
            "tags": []
          }
        },
        {
          "output_type": "stream",
          "text": [
            "Could not download 4.31578611574, 6.223837135554024 despite several retries and waiting\n",
            "Could not download 4.330758037141992, 6.223837135554024 despite several retries and waiting\n",
            "Could not download 4.285842272936016, 6.238809056956016 despite several retries and waiting\n",
            "Could not download 4.345729958543984, 6.253780978358008 despite several retries and waiting\n",
            "Could not download 4.300814194338008, 6.26875289976 despite several retries and waiting\n",
            "Could not download 4.330758037141992, 6.26875289976 despite several retries and waiting\n",
            "Could not download 4.345729958543984, 6.26875289976 despite several retries and waiting\n",
            "Could not download 4.345729958543984, 6.313668663965976 despite several retries and waiting\n",
            "Could not download 4.283803377034025, 6.263256104344025 despite several retries and waiting\n",
            "Could not download 4.283803377034025, 6.278228025746017 despite several retries and waiting\n",
            "Could not download 4.3287191412400015, 6.278228025746017 despite several retries and waiting\n",
            "Could not download 4.313747219838009, 6.3081718685500014 despite several retries and waiting\n",
            "Could not download 4.343691062641994, 6.3231437899519936 despite several retries and waiting\n",
            "Could not download 4.283803377034025, 6.338115711353986 despite several retries and waiting\n",
            "Could not download 4.298775298436017, 6.338115711353986 despite several retries and waiting\n",
            "Could not download 4.313747219838009, 6.353087632755978 despite several retries and waiting\n",
            "Could not download 4.358662984043986, 6.353087632755978 despite several retries and waiting\n",
            "Could not download 4.373634905445978, 6.353087632755978 despite several retries and waiting\n",
            "Could not download 4.290142273407084, 6.296692183585628 despite several retries and waiting\n",
            "Could not download 4.443342532885977, 7.139046639044024 despite several retries and waiting\n",
            "Could not download 4.440163648431993, 7.122018824984023 despite several retries and waiting\n",
            "Could not download 4.455135569833985, 7.122018824984023 despite several retries and waiting\n",
            "Could not download 4.440163648431993, 7.136990746386015 despite several retries and waiting\n",
            "Could not download 4.455135569833985, 7.136990746386015 despite several retries and waiting\n",
            "Could not download 4.438511483134734, 7.12623269530718 despite several retries and waiting\n",
            "Could not download 4.574461166034023, 7.640029737454023 despite several retries and waiting\n",
            "Could not download 4.634348851641992, 7.640029737454023 despite several retries and waiting\n",
            "Could not download 4.574461166034023, 7.6550016588560155 despite several retries and waiting\n",
            "Could not download 4.634348851641992, 7.6550016588560155 despite several retries and waiting\n",
            "Could not download 4.6044050088380075, 7.68494550166 despite several retries and waiting\n",
            "Could not download 4.634348851641992, 7.714889344463984 despite several retries and waiting\n",
            "Could not download 4.649320773043984, 7.714889344463984 despite several retries and waiting\n",
            "Could not download 4.649320773043984, 7.729861265865976 despite several retries and waiting\n",
            "Could not download 4.633468852209999, 7.656062334554024 despite several retries and waiting\n",
            "Could not download 4.588553088004023, 7.671034255956016 despite several retries and waiting\n",
            "Could not download 4.663412695013983, 7.686006177358008 despite several retries and waiting\n",
            "Could not download 4.648440773611991, 7.715950020161992 despite several retries and waiting\n",
            "Could not download 4.6215271599577346, 7.657246030680976 despite several retries and waiting\n",
            "Could not download 4.7087128449559765, 7.287448788724023 despite several retries and waiting\n",
            "Could not download 4.643263203974024, 7.663839143824022 despite several retries and waiting\n",
            "Could not download 4.658235125376016, 7.678811065226014 despite several retries and waiting\n",
            "Could not download 4.68817896818, 7.678811065226014 despite several retries and waiting\n",
            "Could not download 4.733094732385976, 7.708754908029999 despite several retries and waiting\n",
            "Could not download 4.643263203974024, 7.723726829431991 despite several retries and waiting\n",
            "Could not download 4.718122810983984, 7.723726829431991 despite several retries and waiting\n",
            "Could not download 4.703150889581992, 7.753670672235975 despite several retries and waiting\n",
            "Could not download 4.718122810983984, 7.753670672235975 despite several retries and waiting\n",
            "Could not download 4.70728140817, 6.043187026464023 despite several retries and waiting\n",
            "Could not download 4.722253329571992, 6.043187026464023 despite several retries and waiting\n",
            "Could not download 4.722253329571992, 6.058158947866015 despite several retries and waiting\n",
            "Could not download 4.752197172375976, 6.058158947866015 despite several retries and waiting\n",
            "Could not download 4.737225250973984, 6.073130869268007 despite several retries and waiting\n",
            "Could not download 4.70728140817, 6.088102790669999 despite several retries and waiting\n",
            "Could not download 4.752197172375976, 6.088102790669999 despite several retries and waiting\n",
            "Could not download 4.692309486768008, 6.103074712071991 despite several retries and waiting\n",
            "Could not download 4.70728140817, 6.103074712071991 despite several retries and waiting\n",
            "Could not download 4.722253329571992, 6.103074712071991 despite several retries and waiting\n",
            "Could not download 4.737225250973984, 6.103074712071991 despite several retries and waiting\n",
            "Could not download 4.752197172375976, 6.118046633473983 despite several retries and waiting\n",
            "Could not download 4.747722175680069, 6.044642939388144 despite several retries and waiting\n",
            "Could not download 4.699336230828008, 7.212831141355976 despite several retries and waiting\n",
            "Could not download 4.71430815223, 7.212831141355976 despite several retries and waiting\n",
            "Could not download 4.699734956834828, 7.212242098215538 despite several retries and waiting\n",
            "Could not download 4.74375535836, 6.822015620135977 despite several retries and waiting\n",
            "Could not download 4.758727279761992, 6.822015620135977 despite several retries and waiting\n",
            "Could not download 4.717062213806016, 7.273772634216016 despite several retries and waiting\n",
            "Could not download 4.776949899413984, 7.273772634216016 despite several retries and waiting\n",
            "Could not download 4.717062213806016, 7.288744555618008 despite several retries and waiting\n",
            "Could not download 4.74700605661, 7.30371647702 despite several retries and waiting\n",
            "Could not download 4.791921820815976, 7.318688398421992 despite several retries and waiting\n",
            "Could not download 4.715844019424024, 7.209912888695976 despite several retries and waiting\n",
            "Could not download 4.76758083369, 6.943311839634024 despite several retries and waiting\n",
            "Could not download 4.782552755091992, 6.943311839634024 despite several retries and waiting\n",
            "Could not download 4.7975246764939845, 6.943311839634024 despite several retries and waiting\n",
            "Could not download 4.812496597895977, 6.973255682438008 despite several retries and waiting\n",
            "Could not download 4.730980759024024, 6.8695305684639845 despite several retries and waiting\n",
            "Could not download 4.730980759024024, 6.884502489865977 despite several retries and waiting\n",
            "Could not download 4.813704083363985, 6.976052903154025 despite several retries and waiting\n",
            "Could not download 4.828676004765977, 6.976052903154025 despite several retries and waiting\n",
            "Could not download 4.774767226928008, 6.352828032855976 despite several retries and waiting\n",
            "Could not download 4.78973914833, 6.352828032855976 despite several retries and waiting\n",
            "Could not download 4.804711069731992, 6.352828032855976 despite several retries and waiting\n",
            "Could not download 4.763027457364024, 6.928135920174024 despite several retries and waiting\n",
            "Could not download 4.777999378766016, 6.928135920174024 despite several retries and waiting\n",
            "Could not download 4.792971300168008, 6.928135920174024 despite several retries and waiting\n",
            "Could not download 4.763027457364024, 6.943107841576016 despite several retries and waiting\n",
            "Could not download 4.777999378766016, 6.943107841576016 despite several retries and waiting\n",
            "Could not download 4.792971300168008, 6.943107841576016 despite several retries and waiting\n",
            "Could not download 4.80794322157, 6.973051684380001 despite several retries and waiting\n",
            "Could not download 4.8229151429719925, 6.973051684380001 despite several retries and waiting\n",
            "Could not download 4.837887064373985, 6.973051684380001 despite several retries and waiting\n",
            "Could not download 4.8113188547300005, 6.965991353474024 despite several retries and waiting\n",
            "Could not download 4.826290776131993, 6.965991353474024 despite several retries and waiting\n",
            "Could not download 4.841262697533985, 6.965991353474024 despite several retries and waiting\n",
            "Could not download 4.8113188547300005, 6.980963274876016 despite several retries and waiting\n",
            "Could not download 4.826290776131993, 6.980963274876016 despite several retries and waiting\n",
            "Could not download 4.841262697533985, 6.980963274876016 despite several retries and waiting\n",
            "Could not download 4.767380794814023, 8.161771710364023 despite several retries and waiting\n",
            "Could not download 4.797324637618007, 8.161771710364023 despite several retries and waiting\n",
            "Could not download 4.812296559019999, 8.161771710364023 despite several retries and waiting\n",
            "Could not download 4.782352716216015, 8.176743631766016 despite several retries and waiting\n",
            "Could not download 4.797324637618007, 8.176743631766016 despite several retries and waiting\n"
          ],
          "name": "stdout"
        },
        {
          "output_type": "stream",
          "text": [
            "ERROR:root:Error-could not download 4.812296559019999, 8.176743631766016\n",
            "Traceback (most recent call last):\n",
            "  File \"<ipython-input-34-07c437978f2b>\", line 46, in download_images\n",
            "    im = imd.download_image(lat, lon, min_year, min_month, max_year, max_month)\n",
            "  File \"gdrive/MyDrive/geo/utils/planet_downloader.py\", line 95, in download_image\n",
            "    res = json.loads(result.text)\n",
            "  File \"/usr/lib/python3.7/json/__init__.py\", line 348, in loads\n",
            "    return _default_decoder.decode(s)\n",
            "  File \"/usr/lib/python3.7/json/decoder.py\", line 337, in decode\n",
            "    obj, end = self.raw_decode(s, idx=_w(s, 0).end())\n",
            "  File \"/usr/lib/python3.7/json/decoder.py\", line 355, in raw_decode\n",
            "    raise JSONDecodeError(\"Expecting value\", s, err.value) from None\n",
            "json.decoder.JSONDecodeError: Expecting value: line 1 column 1 (char 0)\n"
          ],
          "name": "stderr"
        },
        {
          "output_type": "stream",
          "text": [
            "Could not download 4.827268480421991, 8.176743631766016 despite several retries and waiting\n",
            "Could not download 4.767380794814023, 8.20668747457 despite several retries and waiting\n",
            "Could not download 4.782352716216015, 8.20668747457 despite several retries and waiting\n",
            "Could not download 4.797324637618007, 8.20668747457 despite several retries and waiting\n",
            "Could not download 4.797324637618007, 8.221659395971992 despite several retries and waiting\n",
            "Could not download 4.782352716216015, 8.236631317373984 despite several retries and waiting\n",
            "Could not download 4.797324637618007, 8.236631317373984 despite several retries and waiting\n",
            "Could not download 4.782352716216015, 8.251603238775976 despite several retries and waiting\n",
            "Could not download 4.782409637894023, 8.052724953836012 despite several retries and waiting\n",
            "Could not download 4.8123534806980075, 8.082668796639997 despite several retries and waiting\n",
            "Could not download 4.8273254021, 8.082668796639997 despite several retries and waiting\n",
            "Could not download 4.842297323501992, 8.097640718041989 despite several retries and waiting\n",
            "Could not download 4.842297323501992, 8.11261263944398 despite several retries and waiting\n",
            "Could not download 4.857269244903984, 8.11261263944398 despite several retries and waiting\n",
            "Could not download 4.842297323501992, 8.127584560845973 despite several retries and waiting\n",
            "Could not download 4.822758349486196, 8.066377107545561 despite several retries and waiting\n",
            "Could not download 4.858164785873984, 6.610742571134024 despite several retries and waiting\n",
            "Could not download 4.813249021668008, 6.640686413938008 despite several retries and waiting\n",
            "Could not download 4.82822094307, 6.640686413938008 despite several retries and waiting\n",
            "Could not download 4.873136707275976, 6.700574099545976 despite several retries and waiting\n",
            "Could not download 4.794197859974024, 6.932358914714023 despite several retries and waiting\n",
            "Could not download 4.809169781376016, 6.97727467892 despite several retries and waiting\n",
            "Could not download 4.824141702778008, 6.97727467892 despite several retries and waiting\n",
            "Could not download 4.83911362418, 6.97727467892 despite several retries and waiting\n",
            "Could not download 4.803255570534024, 6.942066615554024 despite several retries and waiting\n",
            "Could not download 4.818227491936016, 6.9720104583580085 despite several retries and waiting\n",
            "Could not download 4.833199413338008, 6.9720104583580085 despite several retries and waiting\n",
            "Could not download 4.84817133474, 6.9720104583580085 despite several retries and waiting\n",
            "Could not download 4.818227491936016, 6.986982379760001 despite several retries and waiting\n",
            "Could not download 4.833199413338008, 6.986982379760001 despite several retries and waiting\n",
            "Could not download 4.84817133474, 6.986982379760001 despite several retries and waiting\n",
            "Could not download 4.834944730758007, 7.326533303524024 despite several retries and waiting\n",
            "Could not download 4.819972809356015, 7.416364831935977 despite several retries and waiting\n",
            "Could not download 4.904933960635977, 7.043627224258009 despite several retries and waiting\n",
            "Could not download 4.819735270454023, 7.834977320648008 despite several retries and waiting\n",
            "Could not download 4.879622956061992, 7.894865006255976 despite several retries and waiting\n",
            "Could not download 4.843150984816015, 6.867310670296015 despite several retries and waiting\n",
            "Could not download 4.9030386704239834, 6.9421702773059755 despite several retries and waiting\n",
            "Could not download 4.846246607926016, 6.786322199314023 despite several retries and waiting\n",
            "Could not download 4.9061342935339844, 6.786322199314023 despite several retries and waiting\n",
            "Could not download 4.861218529328008, 6.801294120716015 despite several retries and waiting\n",
            "Could not download 4.831274686524024, 6.861181806323984 despite several retries and waiting\n",
            "Could not download 4.8986575724, 7.034441365283985 despite several retries and waiting\n",
            "Could not download 4.913629493801992, 7.034441365283985 despite several retries and waiting\n",
            "Could not download 4.9286014152039845, 7.034441365283985 despite several retries and waiting\n",
            "Could not download 4.8986575724, 7.049413286685977 despite several retries and waiting\n",
            "Could not download 4.913629493801992, 7.049413286685977 despite several retries and waiting\n",
            "Could not download 4.9286014152039845, 7.049413286685977 despite several retries and waiting\n",
            "Could not download 4.903783503998008, 6.199261082994024 despite several retries and waiting\n",
            "Could not download 4.888811582596016, 6.229204925798008 despite several retries and waiting\n",
            "Could not download 4.903783503998008, 6.229204925798008 despite several retries and waiting\n",
            "Could not download 4.894441895506016, 6.936036111738007 despite several retries and waiting\n",
            "Could not download 4.909413816908008, 6.936036111738007 despite several retries and waiting\n",
            "Could not download 4.969301502515976, 6.995923797345975 despite several retries and waiting\n",
            "Could not download 4.964420059423983, 7.937385238586015 despite several retries and waiting\n",
            "Could not download 4.979391980825975, 7.937385238586015 despite several retries and waiting\n",
            "Could not download 4.93711593292, 6.394170511863984 despite several retries and waiting\n",
            "Could not download 4.93711593292, 6.409142433265976 despite several retries and waiting\n",
            "Could not download 4.982031697125977, 6.409142433265976 despite several retries and waiting\n",
            "Could not download 4.977858413253984, 7.7583190461 despite several retries and waiting\n",
            "Could not download 4.977858413253984, 7.773290967501992 despite several retries and waiting\n",
            "Could not download 4.94791457045, 7.803234810305976 despite several retries and waiting\n",
            "Could not download 4.96225342141, 8.297358519786016 despite several retries and waiting\n",
            "Could not download 4.96225342141, 8.312330441188008 despite several retries and waiting\n",
            "Could not download 4.96225342141, 8.342274283991992 despite several retries and waiting\n",
            "Could not download 4.977225342811992, 8.342274283991992 despite several retries and waiting\n",
            "Could not download 4.977225342811992, 8.357246205393984 despite several retries and waiting\n",
            "Could not download 4.974769912887915, 8.361608173193538 despite several retries and waiting\n",
            "Could not download 4.96425337683, 5.77154382849 despite several retries and waiting\n",
            "Could not download 4.9792252982319924, 5.77154382849 despite several retries and waiting\n",
            "Could not download 4.919337612624024, 5.786515749891992 despite several retries and waiting\n",
            "Could not download 4.934309534026016, 5.786515749891992 despite several retries and waiting\n",
            "Could not download 4.949281455428008, 5.786515749891992 despite several retries and waiting\n",
            "Could not download 5.009169141035977, 5.786515749891992 despite several retries and waiting\n",
            "Could not download 4.919337612624024, 5.801487671293984 despite several retries and waiting\n",
            "Could not download 4.934309534026016, 5.801487671293984 despite several retries and waiting\n",
            "Could not download 4.949281455428008, 5.801487671293984 despite several retries and waiting\n",
            "Could not download 4.96425337683, 5.801487671293984 despite several retries and waiting\n",
            "Could not download 4.9792252982319924, 5.801487671293984 despite several retries and waiting\n",
            "Could not download 4.919337612624024, 5.816459592695976 despite several retries and waiting\n",
            "Could not download 4.934309534026016, 5.816459592695976 despite several retries and waiting\n",
            "Could not download 4.949281455428008, 5.816459592695976 despite several retries and waiting\n",
            "Could not download 4.96425337683, 5.816459592695976 despite several retries and waiting\n",
            "Could not download 4.9792252982319924, 5.816459592695976 despite several retries and waiting\n",
            "Could not download 4.96466286575, 7.774760404396016 despite several retries and waiting\n",
            "Could not download 4.979634787151992, 7.774760404396016 despite several retries and waiting\n",
            "Could not download 4.96679274568, 6.352797664331992 despite several retries and waiting\n",
            "Could not download 4.96679274568, 6.367769585733984 despite several retries and waiting\n",
            "Could not download 4.921876981474024, 6.382741507135976 despite several retries and waiting\n",
            "Could not download 4.936848902876016, 6.382741507135976 despite several retries and waiting\n",
            "Could not download 4.951820824278008, 6.382741507135976 despite several retries and waiting\n",
            "Could not download 4.966145979146016, 8.312583253214024 despite several retries and waiting\n",
            "Could not download 4.966145979146016, 8.342527096018008 despite several retries and waiting\n",
            "Could not download 5.026033664753984, 8.387442860223985 despite several retries and waiting\n",
            "Could not download 5.041005586155976, 8.387442860223985 despite several retries and waiting\n",
            "Could not download 4.973558081616016, 7.94191212047 despite several retries and waiting\n",
            "Could not download 4.966674708914024, 7.934654492188008 despite several retries and waiting\n",
            "Could not download 4.966674708914024, 7.94962641359 despite several retries and waiting\n",
            "Could not download 5.028007334971992, 7.850132108061992 despite several retries and waiting\n",
            "Could not download 5.01303541357, 7.880075950865976 despite several retries and waiting\n",
            "Could not download 5.028043145781992, 8.298575720736016 despite several retries and waiting\n",
            "Could not download 4.968155460174024, 8.313547642138008 despite several retries and waiting\n",
            "Could not download 5.043015067183984, 8.358463406343985 despite several retries and waiting\n",
            "Could not download 5.028043145781992, 8.373435327745977 despite several retries and waiting\n",
            "Could not download 5.044115686533985, 6.499834221374025 despite several retries and waiting\n",
            "Could not download 5.035767191028008, 8.294498340284022 despite several retries and waiting\n",
            "Could not download 5.065711033831993, 8.294498340284022 despite several retries and waiting\n",
            "Could not download 5.0507391124300005, 8.309470261686014 despite several retries and waiting\n",
            "Could not download 5.0507391124300005, 8.324442183088006 despite several retries and waiting\n",
            "Could not download 5.080682955233985, 8.324442183088006 despite several retries and waiting\n",
            "Could not download 5.0507391124300005, 8.384329868695975 despite several retries and waiting\n",
            "Could not download 5.05398782837, 8.377504333514024 despite several retries and waiting\n",
            "Could not download 5.098903592575977, 8.377504333514024 despite several retries and waiting\n",
            "Could not download 5.05398782837, 8.392476254916016 despite several retries and waiting\n",
            "Could not download 5.05398782837, 8.407448176318008 despite several retries and waiting\n",
            "Could not download 5.009072064164024, 8.42242009772 despite several retries and waiting\n",
            "Could not download 5.024043985566016, 8.42242009772 despite several retries and waiting\n",
            "Could not download 5.024043985566016, 8.437392019121992 despite several retries and waiting\n",
            "Could not download 5.009072064164024, 8.452363940523984 despite several retries and waiting\n",
            "Could not download 5.0689597497719925, 8.467335861925976 despite several retries and waiting\n",
            "Could not download 5.011549953964024, 7.873707481204024 despite several retries and waiting\n",
            "Could not download 5.101381482375976, 7.91862324541 despite several retries and waiting\n",
            "Could not download 5.125065485025976, 6.801879419218008 despite several retries and waiting\n",
            "Could not download 5.125065485025976, 6.81685134062 despite several retries and waiting\n",
            "Could not download 5.065177799418008, 6.8318232620219925 despite several retries and waiting\n",
            "Could not download 5.08014972082, 6.8318232620219925 despite several retries and waiting\n",
            "Could not download 5.110093563623984, 6.8318232620219925 despite several retries and waiting\n",
            "Could not download 5.035233956614023, 6.846795183423985 despite several retries and waiting\n",
            "Could not download 5.095121642221992, 6.846795183423985 despite several retries and waiting\n",
            "Could not download 5.0625741540540234, 8.227348541615976 despite several retries and waiting\n",
            "Could not download 5.190932250975976, 6.571307695204023 despite several retries and waiting\n",
            "Could not download 5.116072643966016, 6.61622345941 despite several retries and waiting\n",
            "Could not download 5.131044565368008, 6.61622345941 despite several retries and waiting\n",
            "Could not download 5.160988408171992, 6.61622345941 despite several retries and waiting\n",
            "Could not download 5.116072643966016, 6.631195380811992 despite several retries and waiting\n",
            "Could not download 5.131044565368008, 6.631195380811992 despite several retries and waiting\n",
            "Could not download 5.14601648677, 6.646167302213984 despite several retries and waiting\n",
            "Could not download 5.190932250975976, 6.646167302213984 despite several retries and waiting\n",
            "Could not download 5.1011007225640235, 6.661139223615976 despite several retries and waiting\n",
            "Could not download 5.116072643966016, 6.661139223615976 despite several retries and waiting\n",
            "Could not download 5.131044565368008, 6.661139223615976 despite several retries and waiting\n",
            "Could not download 5.175960329573984, 6.661139223615976 despite several retries and waiting\n",
            "Could not download 5.162194178291992, 6.314337852258008 despite several retries and waiting\n",
            "Could not download 5.226314816306016, 6.574498277034024 despite several retries and waiting\n",
            "Could not download 5.241286737708008, 6.574498277034024 despite several retries and waiting\n",
            "Could not download 5.3011744233159765, 6.574498277034024 despite several retries and waiting\n",
            "Could not download 5.226314816306016, 6.5894701984360164 despite several retries and waiting\n",
            "Could not download 5.241286737708008, 6.5894701984360164 despite several retries and waiting\n",
            "Could not download 5.3011744233159765, 6.5894701984360164 despite several retries and waiting\n",
            "Could not download 5.226314816306016, 6.6044421198380086 despite several retries and waiting\n",
            "Could not download 5.241286737708008, 6.6044421198380086 despite several retries and waiting\n",
            "Could not download 5.25625865911, 6.6044421198380086 despite several retries and waiting\n",
            "Could not download 5.211342894904024, 6.619414041240001 despite several retries and waiting\n",
            "Could not download 5.271230580511992, 6.619414041240001 despite several retries and waiting\n",
            "Could not download 5.286202501913984, 6.619414041240001 despite several retries and waiting\n",
            "Could not download 5.211342894904024, 6.634385962641993 despite several retries and waiting\n",
            "Could not download 5.271230580511992, 6.634385962641993 despite several retries and waiting\n",
            "Could not download 5.286202501913984, 6.634385962641993 despite several retries and waiting\n",
            "Could not download 5.211342894904024, 6.649357884043985 despite several retries and waiting\n",
            "Could not download 5.25625865911, 6.649357884043985 despite several retries and waiting\n",
            "Could not download 5.211342894904024, 6.664329805445977 despite several retries and waiting\n",
            "Could not download 5.226314816306016, 6.664329805445977 despite several retries and waiting\n",
            "Could not download 5.241286737708008, 6.664329805445977 despite several retries and waiting\n",
            "Could not download 5.25625865911, 6.664329805445977 despite several retries and waiting\n",
            "Could not download 5.239647461556015, 6.259141996204024 despite several retries and waiting\n",
            "Could not download 5.2546193829580075, 6.289085839008008 despite several retries and waiting\n",
            "Could not download 5.26959130436, 6.289085839008008 despite several retries and waiting\n",
            "Could not download 5.284563225761992, 6.289085839008008 despite several retries and waiting\n",
            "Could not download 5.291371142401992, 7.751515845553983 despite several retries and waiting\n",
            "Could not download 5.306343063803984, 7.751515845553983 despite several retries and waiting\n",
            "Could not download 5.280780263364023, 6.851805846504025 despite several retries and waiting\n",
            "Could not download 5.280780263364023, 6.866777767906017 despite several retries and waiting\n",
            "Could not download 5.280780263364023, 6.881749689308009 despite several retries and waiting\n",
            "Could not download 5.370611791775976, 6.926665453513985 despite several retries and waiting\n",
            "Could not download 5.370611791775976, 6.941637374915977 despite several retries and waiting\n",
            "Could not download 5.366012679523984, 8.380754045945976 despite several retries and waiting\n",
            "Could not download 5.380809528853985, 7.371945324386016 despite several retries and waiting\n",
            "Could not download 5.420351476265976, 7.0723601283380075 despite several retries and waiting\n",
            "Could not download 5.448626963423983, 5.712169139884024 despite several retries and waiting\n",
            "Could not download 5.463598884825975, 5.727141061286016 despite several retries and waiting\n",
            "Could not download 5.388739277816015, 5.772056825491992 despite several retries and waiting\n",
            "Could not download 5.403711199218007, 5.787028746893984 despite several retries and waiting\n",
            "Could not download 5.418683120619999, 5.802000668295976 despite several retries and waiting\n",
            "Could not download 5.483399643465976, 6.168482320814023 despite several retries and waiting\n",
            "Could not download 5.44315706398, 7.022593698656015 despite several retries and waiting\n",
            "Could not download 5.4880728281859765, 7.022593698656015 despite several retries and waiting\n",
            "Could not download 5.401324742004023, 6.981277471266015 despite several retries and waiting\n",
            "Could not download 5.431268584808008, 6.996249392668007 despite several retries and waiting\n",
            "Could not download 5.491156270415976, 7.026193235471991 despite several retries and waiting\n",
            "Could not download 5.413769956224024, 7.192073491756017 despite several retries and waiting\n",
            "Could not download 5.443713799028008, 7.222017334560001 despite several retries and waiting\n",
            "Could not download 5.478065316348006, 6.1759533895240235 despite several retries and waiting\n",
            "Could not download 5.537953001955975, 6.1759533895240235 despite several retries and waiting\n",
            "Could not download 5.508009159151991, 6.190925310926016 despite several retries and waiting\n",
            "Could not download 5.522981080553983, 6.205897232328008 despite several retries and waiting\n",
            "Could not download 5.470082359546016, 7.231366137513985 despite several retries and waiting\n",
            "Could not download 5.470082359546016, 7.246338058915977 despite several retries and waiting\n",
            "Could not download 5.471188130634023, 5.663180244784024 despite several retries and waiting\n",
            "Could not download 5.486160052036015, 5.663180244784024 despite several retries and waiting\n",
            "Could not download 5.5011319734380075, 5.663180244784024 despite several retries and waiting\n",
            "Could not download 5.51610389484, 5.663180244784024 despite several retries and waiting\n",
            "Could not download 5.531075816241992, 5.663180244784024 despite several retries and waiting\n",
            "Could not download 5.546047737643984, 5.663180244784024 despite several retries and waiting\n",
            "Could not download 5.471188130634023, 5.678152166186016 despite several retries and waiting\n",
            "Could not download 5.486160052036015, 5.678152166186016 despite several retries and waiting\n",
            "Could not download 5.5011319734380075, 5.678152166186016 despite several retries and waiting\n",
            "Could not download 5.51610389484, 5.678152166186016 despite several retries and waiting\n",
            "Could not download 5.471188130634023, 5.693124087588008 despite several retries and waiting\n",
            "Could not download 5.486160052036015, 5.693124087588008 despite several retries and waiting\n",
            "Could not download 5.5011319734380075, 5.693124087588008 despite several retries and waiting\n",
            "Could not download 5.51610389484, 5.693124087588008 despite several retries and waiting\n",
            "Could not download 5.471188130634023, 5.70809600899 despite several retries and waiting\n",
            "Could not download 5.486160052036015, 5.70809600899 despite several retries and waiting\n",
            "Could not download 5.5011319734380075, 5.70809600899 despite several retries and waiting\n",
            "Could not download 5.51610389484, 5.70809600899 despite several retries and waiting\n",
            "Could not download 5.471188130634023, 5.723067930391992 despite several retries and waiting\n",
            "Could not download 5.486160052036015, 5.738039851793984 despite several retries and waiting\n",
            "Could not download 5.5011319734380075, 5.738039851793984 despite several retries and waiting\n",
            "Could not download 5.486160052036015, 5.7530117731959765 despite several retries and waiting\n",
            "Could not download 5.5011319734380075, 5.7530117731959765 despite several retries and waiting\n",
            "Could not download 5.552325673303984, 7.0343431087580095 despite several retries and waiting\n",
            "Could not download 5.5074099090980075, 7.049315030160002 despite several retries and waiting\n",
            "Could not download 5.552325673303984, 7.049315030160002 despite several retries and waiting\n",
            "Could not download 5.567297594705976, 7.049315030160002 despite several retries and waiting\n",
            "Could not download 5.567297594705976, 7.064286951561994 despite several retries and waiting\n",
            "Could not download 5.577058854163986, 5.771977164594023 despite several retries and waiting\n",
            "Could not download 5.592030775565978, 5.771977164594023 despite several retries and waiting\n",
            "Could not download 5.577058854163986, 5.7869490859960155 despite several retries and waiting\n",
            "Could not download 5.592030775565978, 5.7869490859960155 despite several retries and waiting\n",
            "Could not download 5.584606468777418, 5.791342288128962 despite several retries and waiting\n",
            "Could not download 5.5491711665860155, 7.034897209741992 despite several retries and waiting\n",
            "Could not download 5.564143087988008, 7.034897209741992 despite several retries and waiting\n",
            "Could not download 5.5491711665860155, 7.049869131143984 despite several retries and waiting\n",
            "Could not download 5.686671033293984, 7.277837499354025 despite several retries and waiting\n",
            "Could not download 5.686671033293984, 7.367669027765977 despite several retries and waiting\n",
            "Could not download 5.709804141455977, 6.996414183744023 despite several retries and waiting\n",
            "Could not download 5.649916455848008, 7.011386105146015 despite several retries and waiting\n",
            "Could not download 5.619972613044024, 7.056301869351992 despite several retries and waiting\n",
            "Could not download 5.619972613044024, 7.071273790753984 despite several retries and waiting\n",
            "Could not download 5.634944534446016, 7.071273790753984 despite several retries and waiting\n",
            "Could not download 5.679860298651993, 7.086245712155976 despite several retries and waiting\n",
            "Could not download 5.634520199444024, 7.112446462513985 despite several retries and waiting\n",
            "Could not download 5.634520199444024, 7.127418383915977 despite several retries and waiting\n",
            "Could not download 5.725540957935976, 6.3656870288940235 despite several retries and waiting\n",
            "Could not download 5.750183920463986, 7.256033670591991 despite several retries and waiting\n",
            "Could not download 5.7463142697, 6.957473407466015 despite several retries and waiting\n",
            "Could not download 5.716370426896016, 6.987417250269999 despite several retries and waiting\n",
            "Could not download 5.716370426896016, 7.002389171671991 despite several retries and waiting\n",
            "Could not download 5.776258112503984, 7.002389171671991 despite several retries and waiting\n",
            "Could not download 5.716370426896016, 7.0323330144759755 despite several retries and waiting\n",
            "Could not download 5.731342348298008, 7.0323330144759755 despite several retries and waiting\n",
            "Could not download 5.7463142697, 7.0323330144759755 despite several retries and waiting\n",
            "Could not download 5.761286191101992, 7.0323330144759755 despite several retries and waiting\n",
            "Could not download 5.779988858273984, 5.955662984224024 despite several retries and waiting\n",
            "Could not download 5.779988858273984, 5.970634905626016 despite several retries and waiting\n",
            "Could not download 5.779988858273984, 6.000578748430001 despite several retries and waiting\n",
            "Could not download 5.794960779675976, 6.000578748430001 despite several retries and waiting\n",
            "Could not download 5.779988858273984, 6.015550669831993 despite several retries and waiting\n",
            "Could not download 5.705129251264023, 6.030522591233985 despite several retries and waiting\n",
            "Could not download 5.75004501547, 6.045494512635977 despite several retries and waiting\n",
            "Could not download 5.862283011205977, 8.07352598035801 despite several retries and waiting\n",
            "Could not download 5.804250622696016, 7.002834653328009 despite several retries and waiting\n",
            "Could not download 5.882288204475976, 7.167790600561992 despite several retries and waiting\n",
            "Could not download 5.962678824495977, 7.117318050273984 despite several retries and waiting\n",
            "Could not download 5.91892832509, 7.377582693104024 despite several retries and waiting\n",
            "Could not download 5.888984482286016, 7.437470378711993 despite several retries and waiting\n",
            "Could not download 5.965219560435978, 4.9311438196160156 despite several retries and waiting\n",
            "Could not download 5.953399632633984, 7.520043095326017 despite several retries and waiting\n",
            "Could not download 5.938427711231992, 7.579930780933985 despite several retries and waiting\n",
            "Could not download 5.968417882185976, 6.220389998924024 despite several retries and waiting\n",
            "Could not download 5.968417882185976, 6.235361920326016 despite several retries and waiting\n",
            "Could not download 5.878586353774024, 6.2503338417280085 despite several retries and waiting\n",
            "Could not download 5.893558275176016, 6.2503338417280085 despite several retries and waiting\n",
            "Could not download 5.878586353774024, 6.265305763130001 despite several retries and waiting\n",
            "Could not download 5.893558275176016, 6.265305763130001 despite several retries and waiting\n",
            "Could not download 5.878586353774024, 6.280277684531993 despite several retries and waiting\n",
            "Could not download 5.893558275176016, 6.280277684531993 despite several retries and waiting\n",
            "Could not download 5.878586353774024, 6.295249605933985 despite several retries and waiting\n",
            "Could not download 5.893558275176016, 6.295249605933985 despite several retries and waiting\n",
            "Could not download 5.964289812223983, 8.117081926626016 despite several retries and waiting\n",
            "Could not download 5.979261733625975, 8.161997690831992 despite several retries and waiting\n",
            "Could not download 5.889430205214023, 8.176969612233984 despite several retries and waiting\n",
            "Could not download 5.954723846056016, 6.873102267136016 despite several retries and waiting\n",
            "Could not download 5.956927376628991, 7.0997860693502775 despite several retries and waiting\n",
            "Could not download 6.042681742206015, 6.794410187834024 despite several retries and waiting\n",
            "Could not download 6.042681742206015, 6.809382109236016 despite several retries and waiting\n",
            "Could not download 6.085599016606015, 6.146675225616016 despite several retries and waiting\n",
            "Could not download 6.145486702213984, 6.146675225616016 despite several retries and waiting\n",
            "Could not download 6.160458623615976, 6.146675225616016 despite several retries and waiting\n",
            "Could not download 6.11554285941, 6.161647147018008 despite several retries and waiting\n",
            "Could not download 6.130514780811992, 6.161647147018008 despite several retries and waiting\n",
            "Could not download 6.11554285941, 6.17661906842 despite several retries and waiting\n",
            "Could not download 6.130514780811992, 6.191590989821992 despite several retries and waiting\n",
            "Could not download 6.157142120393985, 6.150001140924024 despite several retries and waiting\n",
            "Could not download 6.142170198991993, 6.164973062326016 despite several retries and waiting\n",
            "Could not download 6.157142120393985, 6.164973062326016 despite several retries and waiting\n",
            "Could not download 6.082282513384024, 6.179944983728008 despite several retries and waiting\n",
            "Could not download 6.0972544347860165, 6.179944983728008 despite several retries and waiting\n",
            "Could not download 6.082282513384024, 6.19491690513 despite several retries and waiting\n",
            "Could not download 6.0972544347860165, 6.19491690513 despite several retries and waiting\n",
            "Could not download 6.112226356188009, 6.19491690513 despite several retries and waiting\n",
            "Could not download 6.127198277590001, 6.19491690513 despite several retries and waiting\n",
            "Could not download 6.0972544347860165, 6.224860747933985 despite several retries and waiting\n",
            "Could not download 6.112226356188009, 6.224860747933985 despite several retries and waiting\n",
            "Could not download 6.112226356188009, 6.239832669335977 despite several retries and waiting\n",
            "Could not download 6.175725221875976, 6.922742052756017 despite several retries and waiting\n",
            "Could not download 6.090171543674024, 6.2944873011619915 despite several retries and waiting\n",
            "Could not download 6.120115386478008, 6.2944873011619915 despite several retries and waiting\n",
            "Could not download 6.090171543674024, 6.309459222563984 despite several retries and waiting\n",
            "Could not download 6.105143465076016, 6.309459222563984 despite several retries and waiting\n",
            "Could not download 6.13508730788, 6.309459222563984 despite several retries and waiting\n",
            "Could not download 6.090171543674024, 6.324431143965976 despite several retries and waiting\n",
            "Could not download 6.105143465076016, 6.324431143965976 despite several retries and waiting\n",
            "Could not download 6.120115386478008, 6.324431143965976 despite several retries and waiting\n",
            "Could not download 6.13508730788, 6.324431143965976 despite several retries and waiting\n",
            "Could not download 6.180003072085976, 6.324431143965976 despite several retries and waiting\n",
            "Could not download 6.132053407918007, 8.262274875055978 despite several retries and waiting\n",
            "Could not download 6.15062167012, 7.915096986886016 despite several retries and waiting\n",
            "Could not download 6.195537434325976, 7.930068908288008 despite several retries and waiting\n",
            "Could not download 6.151757315128008, 6.998163450564023 despite several retries and waiting\n",
            "Could not download 6.152818369228009, 6.991717119328008 despite several retries and waiting\n",
            "Could not download 6.242807500533984, 6.680889736486016 despite several retries and waiting\n",
            "Could not download 6.249641592023983, 4.628069795666015 despite several retries and waiting\n",
            "Could not download 6.234669670621991, 4.643041717068007 despite several retries and waiting\n",
            "Could not download 6.234669670621991, 4.658013638469999 despite several retries and waiting\n",
            "Could not download 6.249641592023983, 4.658013638469999 despite several retries and waiting\n",
            "Could not download 6.264613513425975, 4.687957481273983 despite several retries and waiting\n",
            "Could not download 6.273133818143984, 7.587237739806017 despite several retries and waiting\n",
            "Could not download 6.198274211134024, 7.6171815826100016 despite several retries and waiting\n",
            "Could not download 6.258161896741992, 7.632153504011994 despite several retries and waiting\n",
            "Could not download 6.231460060404023, 5.611257657656016 despite several retries and waiting\n",
            "Could not download 6.246431981806015, 5.611257657656016 despite several retries and waiting\n",
            "Could not download 6.231460060404023, 5.626229579058008 despite several retries and waiting\n",
            "Could not download 6.246431981806015, 5.626229579058008 despite several retries and waiting\n",
            "Could not download 6.231460060404023, 5.64120150046 despite several retries and waiting\n",
            "Could not download 6.246431981806015, 5.64120150046 despite several retries and waiting\n",
            "Could not download 6.231460060404023, 5.656173421861992 despite several retries and waiting\n",
            "Could not download 6.246431981806015, 5.656173421861992 despite several retries and waiting\n",
            "Could not download 6.321291588815976, 5.656173421861992 despite several retries and waiting\n",
            "Could not download 6.231460060404023, 5.6711453432639845 despite several retries and waiting\n",
            "Could not download 6.246431981806015, 5.6711453432639845 despite several retries and waiting\n",
            "Could not download 6.2614039032080075, 5.6711453432639845 despite several retries and waiting\n",
            "Could not download 6.27637582461, 5.6711453432639845 despite several retries and waiting\n",
            "Could not download 6.291347746011992, 5.6711453432639845 despite several retries and waiting\n",
            "Could not download 6.231460060404023, 5.686117264665977 despite several retries and waiting\n",
            "Could not download 6.246431981806015, 5.686117264665977 despite several retries and waiting\n",
            "Could not download 6.2614039032080075, 5.686117264665977 despite several retries and waiting\n",
            "Could not download 6.27637582461, 5.686117264665977 despite several retries and waiting\n",
            "Could not download 6.291347746011992, 5.686117264665977 despite several retries and waiting\n",
            "Could not download 6.2852450514400005, 7.360891214375976 despite several retries and waiting\n",
            "Could not download 6.244031297734024, 9.120246218723985 despite several retries and waiting\n",
            "Could not download 6.273975140538008, 9.120246218723985 despite several retries and waiting\n",
            "Could not download 6.303918983341992, 9.120246218723985 despite several retries and waiting\n",
            "Could not download 6.273975140538008, 9.135218140125977 despite several retries and waiting\n",
            "Could not download 6.303918983341992, 9.135218140125977 despite several retries and waiting\n",
            "Could not download 6.308970527785476, 9.123614431783546 despite several retries and waiting\n",
            "Could not download 6.2948770108800005, 7.094112656263985 despite several retries and waiting\n",
            "Could not download 6.309848932281993, 7.094112656263985 despite several retries and waiting\n",
            "Could not download 6.280008938656017, 5.69852872786 despite several retries and waiting\n",
            "Could not download 6.2949808600580095, 5.69852872786 despite several retries and waiting\n",
            "Could not download 6.309952781460002, 5.69852872786 despite several retries and waiting\n",
            "Could not download 6.324924702861994, 5.7284725706639845 despite several retries and waiting\n",
            "Could not download 6.354868545665978, 5.7284725706639845 despite several retries and waiting\n",
            "Could not download 6.324924702861994, 5.743444492065977 despite several retries and waiting\n",
            "Could not download 6.31723421115, 5.657578470090001 despite several retries and waiting\n",
            "Could not download 6.332206132551992, 5.657578470090001 despite several retries and waiting\n",
            "Could not download 6.272318446944023, 5.672550391491993 despite several retries and waiting\n",
            "Could not download 6.2872903683460155, 5.672550391491993 despite several retries and waiting\n",
            "Could not download 6.272318446944023, 5.687522312893985 despite several retries and waiting\n",
            "Could not download 6.2872903683460155, 5.687522312893985 despite several retries and waiting\n",
            "Could not download 6.272318446944023, 5.702494234295977 despite several retries and waiting\n",
            "Could not download 6.2872903683460155, 5.702494234295977 despite several retries and waiting\n",
            "Could not download 6.302262289748008, 5.702494234295977 despite several retries and waiting\n",
            "Could not download 6.365613656275976, 5.573604465104023 despite several retries and waiting\n",
            "Could not download 6.32069789207, 5.648464072113984 despite several retries and waiting\n",
            "Could not download 6.335669813471992, 5.648464072113984 despite several retries and waiting\n",
            "Could not download 6.32069789207, 5.663435993515976 despite several retries and waiting\n",
            "Could not download 6.335669813471992, 5.663435993515976 despite several retries and waiting\n",
            "Could not download 6.32851769839, 7.893282336246014 despite several retries and waiting\n",
            "Could not download 6.32851769839, 7.908254257648006 despite several retries and waiting\n",
            "Could not download 6.381566444165975, 5.551828192544023 despite several retries and waiting\n",
            "Could not download 6.366594522763983, 5.566800113946015 despite several retries and waiting\n",
            "Could not download 6.324780391316015, 5.64703466044 despite several retries and waiting\n",
            "Could not download 6.324780391316015, 5.662006581841992 despite several retries and waiting\n",
            "Could not download 6.309808469914023, 5.6919504246459764 despite several retries and waiting\n",
            "Could not download 6.326769733816016, 5.6497511196819925 despite several retries and waiting\n",
            "Could not download 6.326769733816016, 5.664723041083985 despite several retries and waiting\n",
            "Could not download 6.350126992688009, 4.745522215884024 despite several retries and waiting\n",
            "Could not download 6.365098914090001, 4.760494137286016 despite several retries and waiting\n",
            "Could not download 6.380070835491993, 4.760494137286016 despite several retries and waiting\n",
            "Could not download 6.410014678295977, 4.775466058688008 despite several retries and waiting\n",
            "Could not download 6.366917857000001, 7.179579409854024 despite several retries and waiting\n",
            "Could not download 6.3369740141960165, 7.239467095461992 despite several retries and waiting\n",
            "Could not download 6.37205907464, 4.745537667764023 despite several retries and waiting\n",
            "Could not download 6.416974838845976, 4.760509589166015 despite several retries and waiting\n",
            "Could not download 6.416974838845976, 4.7754815105680075 despite several retries and waiting\n",
            "Could not download 6.335870188714023, 4.757183470966016 despite several retries and waiting\n",
            "Could not download 6.380785952919999, 4.757183470966016 despite several retries and waiting\n",
            "Could not download 6.425701717125976, 4.772155392368008 despite several retries and waiting\n",
            "Could not download 6.425701717125976, 4.78712731377 despite several retries and waiting\n",
            "Could not download 6.353935121414023, 6.6136068491859765 despite several retries and waiting\n",
            "Could not download 6.416355007558008, 2.849532898596016 despite several retries and waiting\n",
            "Could not download 6.416355007558008, 2.864504819998008 despite several retries and waiting\n",
            "Could not download 6.416355007558008, 2.8794767414 despite several retries and waiting\n",
            "Could not download 6.446298850361992, 2.8794767414 despite several retries and waiting\n",
            "Could not download 6.416355007558008, 2.894448662801992 despite several retries and waiting\n",
            "Could not download 6.43132692896, 2.894448662801992 despite several retries and waiting\n",
            "Could not download 6.416355007558008, 2.9094205842039838 despite several retries and waiting\n",
            "Could not download 6.446298850361992, 2.9094205842039838 despite several retries and waiting\n",
            "Could not download 6.417194824338008, 7.445259981854024 despite several retries and waiting\n",
            "Could not download 6.477082509945976, 7.445259981854024 despite several retries and waiting\n",
            "Could not download 6.417194824338008, 7.460231903256016 despite several retries and waiting\n",
            "Could not download 6.43216674574, 7.460231903256016 despite several retries and waiting\n",
            "Could not download 6.447138667141992, 7.460231903256016 despite several retries and waiting\n",
            "Could not download 6.462110588543984, 7.460231903256016 despite several retries and waiting\n",
            "Could not download 6.477082509945976, 7.460231903256016 despite several retries and waiting\n",
            "Could not download 6.447138667141992, 7.475203824658008 despite several retries and waiting\n",
            "Could not download 6.462110588543984, 7.475203824658008 despite several retries and waiting\n",
            "Could not download 6.477082509945976, 7.475203824658008 despite several retries and waiting\n",
            "Could not download 6.447138667141992, 7.49017574606 despite several retries and waiting\n",
            "Could not download 6.462110588543984, 7.49017574606 despite several retries and waiting\n",
            "Could not download 6.477082509945976, 7.49017574606 despite several retries and waiting\n",
            "Could not download 6.387250981534024, 7.505147667461992 despite several retries and waiting\n",
            "Could not download 6.402222902936016, 7.505147667461992 despite several retries and waiting\n",
            "Could not download 6.458159639134412, 7.476152431879382 despite several retries and waiting\n",
            "Could not download 6.447651523391992, 6.167314974286016 despite several retries and waiting\n",
            "Could not download 6.402735759186016, 6.227202659893984 despite several retries and waiting\n",
            "Could not download 6.431525767468008, 3.30557127872 despite several retries and waiting\n",
            "Could not download 6.44649768887, 3.30557127872 despite several retries and waiting\n",
            "Could not download 6.461469610271992, 3.30557127872 despite several retries and waiting\n",
            "Could not download 6.476441531673984, 3.30557127872 despite several retries and waiting\n",
            "Could not download 6.491413453075976, 3.30557127872 despite several retries and waiting\n",
            "Could not download 6.416553846066016, 3.320543200121992 despite several retries and waiting\n",
            "Could not download 6.431525767468008, 3.320543200121992 despite several retries and waiting\n",
            "Could not download 6.44649768887, 3.320543200121992 despite several retries and waiting\n",
            "Could not download 6.461469610271992, 3.320543200121992 despite several retries and waiting\n",
            "Could not download 6.476441531673984, 3.320543200121992 despite several retries and waiting\n",
            "Could not download 6.416553846066016, 3.3355151215239838 despite several retries and waiting\n",
            "Could not download 6.431525767468008, 3.3355151215239838 despite several retries and waiting\n",
            "Could not download 6.44649768887, 3.3355151215239838 despite several retries and waiting\n",
            "Could not download 6.461469610271992, 3.3355151215239838 despite several retries and waiting\n",
            "Could not download 6.476441531673984, 3.3355151215239838 despite several retries and waiting\n",
            "Could not download 6.416553846066016, 3.350487042925976 despite several retries and waiting\n",
            "Could not download 6.491413453075976, 3.350487042925976 despite several retries and waiting\n",
            "Could not download 6.430287915517978, 3.3056344489836555 despite several retries and waiting\n",
            "Could not download 6.416696212006015, 7.439815488204023 despite several retries and waiting\n",
            "Could not download 6.476583897613984, 7.439815488204023 despite several retries and waiting\n",
            "Could not download 6.416696212006015, 7.454787409606015 despite several retries and waiting\n",
            "Could not download 6.4316681334080075, 7.454787409606015 despite several retries and waiting\n",
            "Could not download 6.44664005481, 7.454787409606015 despite several retries and waiting\n",
            "Could not download 6.461611976211992, 7.454787409606015 despite several retries and waiting\n",
            "Could not download 6.476583897613984, 7.454787409606015 despite several retries and waiting\n",
            "Could not download 6.416696212006015, 7.4697593310080075 despite several retries and waiting\n",
            "Could not download 6.4316681334080075, 7.4697593310080075 despite several retries and waiting\n",
            "Could not download 6.44664005481, 7.4697593310080075 despite several retries and waiting\n",
            "Could not download 6.461611976211992, 7.4697593310080075 despite several retries and waiting\n",
            "Could not download 6.476583897613984, 7.4697593310080075 despite several retries and waiting\n",
            "Could not download 6.44664005481, 7.48473125241 despite several retries and waiting\n",
            "Could not download 6.461611976211992, 7.48473125241 despite several retries and waiting\n",
            "Could not download 6.476583897613984, 7.48473125241 despite several retries and waiting\n",
            "Could not download 6.401724290604023, 7.499703173811992 despite several retries and waiting\n",
            "Could not download 6.491555819015976, 7.499703173811992 despite several retries and waiting\n",
            "Could not download 6.437106191682019, 7.466605388684359 despite several retries and waiting\n",
            "Could not download 6.435760430148008, 3.2970155456660164 despite several retries and waiting\n",
            "Could not download 6.45073235155, 3.2970155456660164 despite several retries and waiting\n",
            "Could not download 6.465704272951992, 3.2970155456660164 despite several retries and waiting\n",
            "Could not download 6.480676194353984, 3.2970155456660164 despite several retries and waiting\n",
            "Could not download 6.4956481157559764, 3.2970155456660164 despite several retries and waiting\n",
            "Could not download 6.435760430148008, 3.311987467068008 despite several retries and waiting\n",
            "Could not download 6.45073235155, 3.311987467068008 despite several retries and waiting\n",
            "Could not download 6.465704272951992, 3.311987467068008 despite several retries and waiting\n",
            "Could not download 6.480676194353984, 3.311987467068008 despite several retries and waiting\n",
            "Could not download 6.4956481157559764, 3.311987467068008 despite several retries and waiting\n",
            "Could not download 6.405816587344024, 3.32695938847 despite several retries and waiting\n",
            "Could not download 6.420788508746016, 3.32695938847 despite several retries and waiting\n",
            "Could not download 6.435760430148008, 3.32695938847 despite several retries and waiting\n",
            "Could not download 6.45073235155, 3.32695938847 despite several retries and waiting\n",
            "Could not download 6.465704272951992, 3.32695938847 despite several retries and waiting\n",
            "Could not download 6.480676194353984, 3.32695938847 despite several retries and waiting\n",
            "Could not download 6.405816587344024, 3.3419313098719923 despite several retries and waiting\n",
            "Could not download 6.420788508746016, 3.3419313098719923 despite several retries and waiting\n",
            "Could not download 6.4956481157559764, 3.3419313098719923 despite several retries and waiting\n",
            "Could not download 6.405816587344024, 3.356903231273984 despite several retries and waiting\n",
            "Could not download 6.420788508746016, 3.356903231273984 despite several retries and waiting\n",
            "Could not download 6.4956481157559764, 3.356903231273984 despite several retries and waiting\n",
            "Could not download 6.45073235155, 3.371875152675976 despite several retries and waiting\n",
            "Could not download 6.465704272951992, 3.371875152675976 despite several retries and waiting\n",
            "Could not download 6.4956481157559764, 3.371875152675976 despite several retries and waiting\n",
            "Could not download 6.45311631035674, 3.3694700512672733 despite several retries and waiting\n",
            "Could not download 6.410586360204023, 7.434143106744024 despite several retries and waiting\n",
            "Could not download 6.470474045811992, 7.434143106744024 despite several retries and waiting\n",
            "Could not download 6.485445967213984, 7.434143106744024 despite several retries and waiting\n",
            "Could not download 6.410586360204023, 7.449115028146016 despite several retries and waiting\n",
            "Could not download 6.4255582816060155, 7.449115028146016 despite several retries and waiting\n",
            "Could not download 6.440530203008008, 7.449115028146016 despite several retries and waiting\n",
            "Could not download 6.45550212441, 7.449115028146016 despite several retries and waiting\n",
            "Could not download 6.470474045811992, 7.449115028146016 despite several retries and waiting\n",
            "Could not download 6.485445967213984, 7.449115028146016 despite several retries and waiting\n",
            "Could not download 6.410586360204023, 7.464086949548008 despite several retries and waiting\n",
            "Could not download 6.4255582816060155, 7.464086949548008 despite several retries and waiting\n",
            "Could not download 6.440530203008008, 7.464086949548008 despite several retries and waiting\n",
            "Could not download 6.45550212441, 7.464086949548008 despite several retries and waiting\n",
            "Could not download 6.470474045811992, 7.464086949548008 despite several retries and waiting\n",
            "Could not download 6.485445967213984, 7.464086949548008 despite several retries and waiting\n",
            "Could not download 6.45550212441, 7.47905887095 despite several retries and waiting\n",
            "Could not download 6.470474045811992, 7.47905887095 despite several retries and waiting\n",
            "Could not download 6.485445967213984, 7.47905887095 despite several retries and waiting\n",
            "Could not download 6.500417888615976, 7.494030792351992 despite several retries and waiting\n",
            "Could not download 6.500417888615976, 7.5090027137539845 despite several retries and waiting\n",
            "Could not download 6.4562865888, 3.419484369444024 despite several retries and waiting\n",
            "Could not download 6.471258510201992, 3.419484369444024 despite several retries and waiting\n",
            "Could not download 6.4862304316039845, 3.419484369444024 despite several retries and waiting\n",
            "Could not download 6.501202353005977, 3.419484369444024 despite several retries and waiting\n",
            "Could not download 6.426342745996016, 3.434456290846016 despite several retries and waiting\n",
            "Could not download 6.441314667398008, 3.434456290846016 despite several retries and waiting\n",
            "Could not download 6.4562865888, 3.434456290846016 despite several retries and waiting\n",
            "Could not download 6.471258510201992, 3.434456290846016 despite several retries and waiting\n",
            "Could not download 6.4862304316039845, 3.434456290846016 despite several retries and waiting\n",
            "Could not download 6.501202353005977, 3.434456290846016 despite several retries and waiting\n",
            "Could not download 6.426342745996016, 3.4494282122480078 despite several retries and waiting\n",
            "Could not download 6.441314667398008, 3.4494282122480078 despite several retries and waiting\n",
            "Could not download 6.4562865888, 3.4494282122480078 despite several retries and waiting\n",
            "Could not download 6.471258510201992, 3.4494282122480078 despite several retries and waiting\n",
            "Could not download 6.4862304316039845, 3.4494282122480078 despite several retries and waiting\n",
            "Could not download 6.501202353005977, 3.4494282122480078 despite several retries and waiting\n",
            "Could not download 6.426342745996016, 3.46440013365 despite several retries and waiting\n",
            "Could not download 6.441314667398008, 3.46440013365 despite several retries and waiting\n",
            "Could not download 6.4562865888, 3.46440013365 despite several retries and waiting\n",
            "Could not download 6.471258510201992, 3.46440013365 despite several retries and waiting\n",
            "Could not download 6.4862304316039845, 3.46440013365 despite several retries and waiting\n",
            "Could not download 6.4562865888, 3.479372055051992 despite several retries and waiting\n",
            "Could not download 6.4562865888, 3.4943439764539836 despite several retries and waiting\n",
            "Could not download 6.4562865888, 3.5093158978559758 despite several retries and waiting\n",
            "Could not download 6.453208255828009, 3.5117014445740242 despite several retries and waiting\n",
            "Could not download 6.4382363344260165, 3.5266733659760163 despite several retries and waiting\n",
            "Could not download 6.453208255828009, 3.571589130181992 despite several retries and waiting\n",
            "Could not download 6.498124020033985, 3.586561051583984 despite several retries and waiting\n",
            "Could not download 6.498124020033985, 3.601532972985976 despite several retries and waiting\n",
            "Could not download 6.47041667546, 7.442715252614023 despite several retries and waiting\n",
            "Could not download 6.485388596861992, 7.442715252614023 despite several retries and waiting\n",
            "Could not download 6.425500911254024, 7.457687174016015 despite several retries and waiting\n",
            "Could not download 6.440472832656016, 7.457687174016015 despite several retries and waiting\n",
            "Could not download 6.455444754058008, 7.457687174016015 despite several retries and waiting\n"
          ],
          "name": "stdout"
        },
        {
          "output_type": "stream",
          "text": [
            "ERROR:root:Error-could not download 6.485388596861992, 7.457687174016015\n",
            "Traceback (most recent call last):\n",
            "  File \"<ipython-input-34-07c437978f2b>\", line 46, in download_images\n",
            "    im = imd.download_image(lat, lon, min_year, min_month, max_year, max_month)\n",
            "  File \"gdrive/MyDrive/geo/utils/planet_downloader.py\", line 95, in download_image\n",
            "    res = json.loads(result.text)\n",
            "  File \"/usr/lib/python3.7/json/__init__.py\", line 348, in loads\n",
            "    return _default_decoder.decode(s)\n",
            "  File \"/usr/lib/python3.7/json/decoder.py\", line 337, in decode\n",
            "    obj, end = self.raw_decode(s, idx=_w(s, 0).end())\n",
            "  File \"/usr/lib/python3.7/json/decoder.py\", line 355, in raw_decode\n",
            "    raise JSONDecodeError(\"Expecting value\", s, err.value) from None\n",
            "json.decoder.JSONDecodeError: Expecting value: line 1 column 1 (char 0)\n"
          ],
          "name": "stderr"
        },
        {
          "output_type": "stream",
          "text": [
            "Could not download 6.47041667546, 7.457687174016015 despite several retries and waiting\n",
            "Could not download 6.455444754058008, 7.472659095418007 despite several retries and waiting\n",
            "Could not download 6.47041667546, 7.472659095418007 despite several retries and waiting\n",
            "Could not download 6.485388596861992, 7.472659095418007 despite several retries and waiting\n",
            "Could not download 6.455444754058008, 7.487631016819999 despite several retries and waiting\n",
            "Could not download 6.47041667546, 7.487631016819999 despite several retries and waiting\n",
            "Could not download 6.485388596861992, 7.487631016819999 despite several retries and waiting\n",
            "Could not download 6.500360518263984, 7.502602938221991 despite several retries and waiting\n",
            "Could not download 6.431778452264023, 3.305904738064024 despite several retries and waiting\n",
            "Could not download 6.446750373666015, 3.305904738064024 despite several retries and waiting\n",
            "Could not download 6.461722295068007, 3.305904738064024 despite several retries and waiting\n",
            "Could not download 6.476694216469999, 3.305904738064024 despite several retries and waiting\n",
            "Could not download 6.4916661378719915, 3.305904738064024 despite several retries and waiting\n",
            "Could not download 6.506638059273984, 3.305904738064024 despite several retries and waiting\n",
            "Could not download 6.431778452264023, 3.320876659466016 despite several retries and waiting\n",
            "Could not download 6.446750373666015, 3.320876659466016 despite several retries and waiting\n",
            "Could not download 6.461722295068007, 3.320876659466016 despite several retries and waiting\n",
            "Could not download 6.476694216469999, 3.320876659466016 despite several retries and waiting\n",
            "Could not download 6.431778452264023, 3.335848580868008 despite several retries and waiting\n",
            "Could not download 6.446750373666015, 3.335848580868008 despite several retries and waiting\n",
            "Could not download 6.461722295068007, 3.335848580868008 despite several retries and waiting\n",
            "Could not download 6.476694216469999, 3.335848580868008 despite several retries and waiting\n",
            "Could not download 6.4916661378719915, 3.35082050227 despite several retries and waiting\n",
            "Could not download 6.506638059273984, 3.35082050227 despite several retries and waiting\n",
            "Could not download 6.446750373666015, 3.365792423671992 despite several retries and waiting\n",
            "Could not download 6.461722295068007, 3.365792423671992 despite several retries and waiting\n",
            "Could not download 6.4916661378719915, 3.365792423671992 despite several retries and waiting\n",
            "Could not download 6.506638059273984, 3.365792423671992 despite several retries and waiting\n",
            "Could not download 6.521609980675976, 3.365792423671992 despite several retries and waiting\n",
            "Could not download 6.446750373666015, 3.3807643450739837 despite several retries and waiting\n",
            "Could not download 6.461722295068007, 3.3807643450739837 despite several retries and waiting\n",
            "Could not download 6.4916661378719915, 3.3807643450739837 despite several retries and waiting\n",
            "Could not download 6.506638059273984, 3.3807643450739837 despite several retries and waiting\n",
            "Could not download 6.521609980675976, 3.3807643450739837 despite several retries and waiting\n",
            "Could not download 6.446750373666015, 3.395736266475976 despite several retries and waiting\n",
            "Could not download 6.461722295068007, 3.395736266475976 despite several retries and waiting\n",
            "Could not download 6.476694216469999, 3.395736266475976 despite several retries and waiting\n",
            "Could not download 6.4916661378719915, 3.395736266475976 despite several retries and waiting\n",
            "Could not download 6.506638059273984, 3.395736266475976 despite several retries and waiting\n",
            "Could not download 6.521609980675976, 3.395736266475976 despite several retries and waiting\n",
            "Could not download 6.464454916618007, 7.723408767874024 despite several retries and waiting\n",
            "Could not download 6.5093706808239835, 7.738380689276016 despite several retries and waiting\n",
            "Could not download 6.479426838019999, 7.76832453208 despite several retries and waiting\n",
            "Could not download 6.434511073814023, 7.783296453481992 despite several retries and waiting\n",
            "Could not download 6.464454916618007, 7.783296453481992 despite several retries and waiting\n",
            "Could not download 6.434511073814023, 7.813240296285977 despite several retries and waiting\n",
            "Could not download 6.4440371855340235, 3.301675547338008 despite several retries and waiting\n",
            "Could not download 6.459009106936016, 3.301675547338008 despite several retries and waiting\n",
            "Could not download 6.473981028338008, 3.301675547338008 despite several retries and waiting\n",
            "Could not download 6.48895294974, 3.301675547338008 despite several retries and waiting\n",
            "Could not download 6.503924871141992, 3.301675547338008 despite several retries and waiting\n",
            "Could not download 6.4440371855340235, 3.3166474687400003 despite several retries and waiting\n",
            "Could not download 6.459009106936016, 3.3166474687400003 despite several retries and waiting\n",
            "Could not download 6.473981028338008, 3.3166474687400003 despite several retries and waiting\n",
            "Could not download 6.48895294974, 3.3166474687400003 despite several retries and waiting\n",
            "Could not download 6.503924871141992, 3.3166474687400003 despite several retries and waiting\n",
            "Could not download 6.4440371855340235, 3.3316193901419924 despite several retries and waiting\n",
            "Could not download 6.459009106936016, 3.3316193901419924 despite several retries and waiting\n",
            "Could not download 6.473981028338008, 3.3316193901419924 despite several retries and waiting\n",
            "Could not download 6.48895294974, 3.3316193901419924 despite several retries and waiting\n",
            "Could not download 6.503924871141992, 3.346591311543984 despite several retries and waiting\n",
            "Could not download 6.533868713945976, 3.346591311543984 despite several retries and waiting\n",
            "Could not download 6.503924871141992, 3.361563232945976 despite several retries and waiting\n",
            "Could not download 6.533868713945976, 3.361563232945976 despite several retries and waiting\n",
            "Could not download 6.487317196382653, 3.3173926006543253 despite several retries and waiting\n",
            "Could not download 6.445481534634024, 3.305640659428008 despite several retries and waiting\n",
            "Could not download 6.460453456036016, 3.305640659428008 despite several retries and waiting\n",
            "Could not download 6.475425377438008, 3.305640659428008 despite several retries and waiting\n",
            "Could not download 6.4903972988400005, 3.305640659428008 despite several retries and waiting\n",
            "Could not download 6.505369220241993, 3.305640659428008 despite several retries and waiting\n",
            "Could not download 6.445481534634024, 3.32061258083 despite several retries and waiting\n",
            "Could not download 6.460453456036016, 3.32061258083 despite several retries and waiting\n",
            "Could not download 6.475425377438008, 3.32061258083 despite several retries and waiting\n",
            "Could not download 6.445481534634024, 3.3355845022319923 despite several retries and waiting\n",
            "Could not download 6.460453456036016, 3.3355845022319923 despite several retries and waiting\n",
            "Could not download 6.475425377438008, 3.3355845022319923 despite several retries and waiting\n",
            "Could not download 6.4903972988400005, 3.350556423633984 despite several retries and waiting\n",
            "Could not download 6.505369220241993, 3.350556423633984 despite several retries and waiting\n",
            "Could not download 6.535313063045977, 3.350556423633984 despite several retries and waiting\n",
            "Could not download 6.460453456036016, 3.365528345035976 despite several retries and waiting\n",
            "Could not download 6.4903972988400005, 3.365528345035976 despite several retries and waiting\n",
            "Could not download 6.505369220241993, 3.365528345035976 despite several retries and waiting\n",
            "Could not download 6.520341141643985, 3.365528345035976 despite several retries and waiting\n",
            "Could not download 6.535313063045977, 3.365528345035976 despite several retries and waiting\n",
            "Could not download 6.461657705577472, 3.3164105510626967 despite several retries and waiting\n",
            "Could not download 6.448046524714023, 3.303887952668008 despite several retries and waiting\n",
            "Could not download 6.463018446116015, 3.303887952668008 despite several retries and waiting\n",
            "Could not download 6.477990367518007, 3.303887952668008 despite several retries and waiting\n",
            "Could not download 6.492962288919999, 3.303887952668008 despite several retries and waiting\n",
            "Could not download 6.5079342103219915, 3.303887952668008 despite several retries and waiting\n",
            "Could not download 6.448046524714023, 3.31885987407 despite several retries and waiting\n",
            "Could not download 6.463018446116015, 3.31885987407 despite several retries and waiting\n",
            "Could not download 6.477990367518007, 3.31885987407 despite several retries and waiting\n",
            "Could not download 6.448046524714023, 3.3338317954719923 despite several retries and waiting\n",
            "Could not download 6.463018446116015, 3.3338317954719923 despite several retries and waiting\n",
            "Could not download 6.477990367518007, 3.3338317954719923 despite several retries and waiting\n",
            "Could not download 6.492962288919999, 3.348803716873984 despite several retries and waiting\n",
            "Could not download 6.5079342103219915, 3.348803716873984 despite several retries and waiting\n",
            "Could not download 6.537878053125976, 3.348803716873984 despite several retries and waiting\n",
            "Could not download 6.448046524714023, 3.363775638275976 despite several retries and waiting\n",
            "Could not download 6.463018446116015, 3.363775638275976 despite several retries and waiting\n",
            "Could not download 6.492962288919999, 3.363775638275976 despite several retries and waiting\n",
            "Could not download 6.5079342103219915, 3.363775638275976 despite several retries and waiting\n",
            "Could not download 6.522906131723984, 3.363775638275976 despite several retries and waiting\n",
            "Could not download 6.537878053125976, 3.363775638275976 despite several retries and waiting\n",
            "Could not download 6.451864592804023, 3.301400714508008 despite several retries and waiting\n",
            "Could not download 6.466836514206015, 3.301400714508008 despite several retries and waiting\n",
            "Could not download 6.4818084356080075, 3.301400714508008 despite several retries and waiting\n",
            "Could not download 6.49678035701, 3.301400714508008 despite several retries and waiting\n",
            "Could not download 6.511752278411992, 3.301400714508008 despite several retries and waiting\n",
            "Could not download 6.451864592804023, 3.31637263591 despite several retries and waiting\n",
            "Could not download 6.466836514206015, 3.31637263591 despite several retries and waiting\n",
            "Could not download 6.4818084356080075, 3.31637263591 despite several retries and waiting\n",
            "Could not download 6.49678035701, 3.31637263591 despite several retries and waiting\n",
            "Could not download 6.511752278411992, 3.31637263591 despite several retries and waiting\n",
            "Could not download 6.451864592804023, 3.331344557311992 despite several retries and waiting\n",
            "Could not download 6.466836514206015, 3.331344557311992 despite several retries and waiting\n",
            "Could not download 6.4818084356080075, 3.331344557311992 despite several retries and waiting\n",
            "Could not download 6.49678035701, 3.346316478713984 despite several retries and waiting\n",
            "Could not download 6.511752278411992, 3.346316478713984 despite several retries and waiting\n",
            "Could not download 6.541696121215976, 3.346316478713984 despite several retries and waiting\n",
            "Could not download 6.49678035701, 3.361288400115976 despite several retries and waiting\n",
            "Could not download 6.511752278411992, 3.361288400115976 despite several retries and waiting\n"
          ],
          "name": "stdout"
        },
        {
          "output_type": "stream",
          "text": [
            "ERROR:root:Error-could not download 6.541696121215976, 3.361288400115976\n",
            "Traceback (most recent call last):\n",
            "  File \"<ipython-input-34-07c437978f2b>\", line 51, in download_images\n",
            "    im = imd.download_image(lat, lon, min_year, min_month, max_year, max_month)\n",
            "  File \"gdrive/MyDrive/geo/utils/planet_downloader.py\", line 95, in download_image\n",
            "    res = json.loads(result.text)\n",
            "  File \"/usr/lib/python3.7/json/__init__.py\", line 348, in loads\n",
            "    return _default_decoder.decode(s)\n",
            "  File \"/usr/lib/python3.7/json/decoder.py\", line 337, in decode\n",
            "    obj, end = self.raw_decode(s, idx=_w(s, 0).end())\n",
            "  File \"/usr/lib/python3.7/json/decoder.py\", line 355, in raw_decode\n",
            "    raise JSONDecodeError(\"Expecting value\", s, err.value) from None\n",
            "json.decoder.JSONDecodeError: Expecting value: line 1 column 1 (char 0)\n",
            "ERROR:root:Error-could not download 6.50086128035502, 3.280458884913953\n",
            "Traceback (most recent call last):\n",
            "  File \"<ipython-input-34-07c437978f2b>\", line 46, in download_images\n",
            "    im = imd.download_image(lat, lon, min_year, min_month, max_year, max_month)\n",
            "  File \"gdrive/MyDrive/geo/utils/planet_downloader.py\", line 95, in download_image\n",
            "    res = json.loads(result.text)\n",
            "  File \"/usr/lib/python3.7/json/__init__.py\", line 348, in loads\n",
            "    return _default_decoder.decode(s)\n",
            "  File \"/usr/lib/python3.7/json/decoder.py\", line 337, in decode\n",
            "    obj, end = self.raw_decode(s, idx=_w(s, 0).end())\n",
            "  File \"/usr/lib/python3.7/json/decoder.py\", line 355, in raw_decode\n",
            "    raise JSONDecodeError(\"Expecting value\", s, err.value) from None\n",
            "json.decoder.JSONDecodeError: Expecting value: line 1 column 1 (char 0)\n"
          ],
          "name": "stderr"
        },
        {
          "output_type": "stream",
          "text": [
            "Could not download 6.49837750849, 3.3441339482340244 despite several retries and waiting\n",
            "Could not download 6.543293272695976, 3.3441339482340244 despite several retries and waiting\n",
            "Could not download 6.49837750849, 3.3591058696360165 despite several retries and waiting\n",
            "Could not download 6.543293272695976, 3.3591058696360165 despite several retries and waiting\n",
            "Could not download 6.453461744284024, 3.374077791038008 despite several retries and waiting\n",
            "Could not download 6.49837750849, 3.374077791038008 despite several retries and waiting\n",
            "Could not download 6.513349429891992, 3.374077791038008 despite several retries and waiting\n",
            "Could not download 6.528321351293984, 3.374077791038008 despite several retries and waiting\n",
            "Could not download 6.543293272695976, 3.374077791038008 despite several retries and waiting\n",
            "Could not download 6.453461744284024, 3.3890497124400003 despite several retries and waiting\n",
            "Could not download 6.468433665686016, 3.3890497124400003 despite several retries and waiting\n",
            "Could not download 6.483405587088008, 3.3890497124400003 despite several retries and waiting\n",
            "Could not download 6.49837750849, 3.3890497124400003 despite several retries and waiting\n",
            "Could not download 6.513349429891992, 3.3890497124400003 despite several retries and waiting\n",
            "Could not download 6.528321351293984, 3.3890497124400003 despite several retries and waiting\n",
            "Could not download 6.543293272695976, 3.3890497124400003 despite several retries and waiting\n",
            "Could not download 6.453461744284024, 3.4040216338419924 despite several retries and waiting\n",
            "Could not download 6.468433665686016, 3.4040216338419924 despite several retries and waiting\n",
            "Could not download 6.483405587088008, 3.4040216338419924 despite several retries and waiting\n",
            "Could not download 6.49837750849, 3.4040216338419924 despite several retries and waiting\n",
            "Could not download 6.513349429891992, 3.4040216338419924 despite several retries and waiting\n",
            "Could not download 6.528321351293984, 3.4040216338419924 despite several retries and waiting\n",
            "Could not download 6.543293272695976, 3.4040216338419924 despite several retries and waiting\n",
            "Could not download 6.453461744284024, 3.418993555243984 despite several retries and waiting\n",
            "Could not download 6.468433665686016, 3.418993555243984 despite several retries and waiting\n",
            "Could not download 6.483405587088008, 3.418993555243984 despite several retries and waiting\n",
            "Could not download 6.49837750849, 3.418993555243984 despite several retries and waiting\n",
            "Could not download 6.513349429891992, 3.418993555243984 despite several retries and waiting\n",
            "Could not download 6.528321351293984, 3.418993555243984 despite several retries and waiting\n",
            "Could not download 6.543293272695976, 3.418993555243984 despite several retries and waiting\n",
            "Could not download 6.453461744284024, 3.433965476645976 despite several retries and waiting\n",
            "Could not download 6.468433665686016, 3.433965476645976 despite several retries and waiting\n",
            "Could not download 6.483405587088008, 3.433965476645976 despite several retries and waiting\n",
            "Could not download 6.49837750849, 3.433965476645976 despite several retries and waiting\n",
            "Could not download 6.513349429891992, 3.433965476645976 despite several retries and waiting\n",
            "Could not download 6.528321351293984, 3.433965476645976 despite several retries and waiting\n",
            "Could not download 6.543293272695976, 3.433965476645976 despite several retries and waiting\n",
            "Could not download 6.501125953552996, 3.3779899290701763 despite several retries and waiting\n",
            "Could not download 6.50045244209, 3.59690898231 despite several retries and waiting\n",
            "Could not download 6.456820426674025, 4.799983078813984 despite several retries and waiting\n",
            "Could not download 6.459431334864023, 3.303253964316016 despite several retries and waiting\n",
            "Could not download 6.474403256266015, 3.303253964316016 despite several retries and waiting\n",
            "Could not download 6.489375177668007, 3.303253964316016 despite several retries and waiting\n",
            "Could not download 6.504347099069999, 3.303253964316016 despite several retries and waiting\n",
            "Could not download 6.459431334864023, 3.318225885718008 despite several retries and waiting\n",
            "Could not download 6.474403256266015, 3.318225885718008 despite several retries and waiting\n",
            "Could not download 6.489375177668007, 3.318225885718008 despite several retries and waiting\n",
            "Could not download 6.459431334864023, 3.33319780712 despite several retries and waiting\n",
            "Could not download 6.474403256266015, 3.33319780712 despite several retries and waiting\n",
            "Could not download 6.489375177668007, 3.33319780712 despite several retries and waiting\n",
            "Could not download 6.504347099069999, 3.348169728521992 despite several retries and waiting\n",
            "Could not download 6.534290941873984, 3.348169728521992 despite several retries and waiting\n",
            "Could not download 6.549262863275976, 3.348169728521992 despite several retries and waiting\n",
            "Could not download 6.459431334864023, 3.3631416499239837 despite several retries and waiting\n",
            "Could not download 6.504347099069999, 3.3631416499239837 despite several retries and waiting\n",
            "Could not download 6.5193190204719915, 3.3631416499239837 despite several retries and waiting\n",
            "Could not download 6.534290941873984, 3.3631416499239837 despite several retries and waiting\n",
            "Could not download 6.549262863275976, 3.3631416499239837 despite several retries and waiting\n",
            "Could not download 6.459431334864023, 3.378113571325976 despite several retries and waiting\n",
            "Could not download 6.504347099069999, 3.378113571325976 despite several retries and waiting\n",
            "Could not download 6.5193190204719915, 3.378113571325976 despite several retries and waiting\n",
            "Could not download 6.534290941873984, 3.378113571325976 despite several retries and waiting\n",
            "Could not download 6.549262863275976, 3.378113571325976 despite several retries and waiting\n",
            "Could not download 6.475854565146016, 8.840218174156016 despite several retries and waiting\n",
            "Could not download 6.50579840795, 8.840218174156016 despite several retries and waiting\n",
            "Could not download 6.535742250753985, 8.855190095558008 despite several retries and waiting\n",
            "Could not download 6.550714172155977, 8.87016201696 despite several retries and waiting\n",
            "Could not download 6.50579840795, 8.885133938361992 despite several retries and waiting\n",
            "Could not download 6.470551677024024, 3.3030515341760163 despite several retries and waiting\n",
            "Could not download 6.485523598426016, 3.3030515341760163 despite several retries and waiting\n",
            "Could not download 6.500495519828008, 3.3030515341760163 despite several retries and waiting\n",
            "Could not download 6.470551677024024, 3.318023455578008 despite several retries and waiting\n",
            "Could not download 6.485523598426016, 3.318023455578008 despite several retries and waiting\n",
            "Could not download 6.470551677024024, 3.33299537698 despite several retries and waiting\n",
            "Could not download 6.485523598426016, 3.33299537698 despite several retries and waiting\n",
            "Could not download 6.500495519828008, 3.347967298381992 despite several retries and waiting\n",
            "Could not download 6.545411284033984, 3.347967298381992 despite several retries and waiting\n",
            "Could not download 6.5603832054359765, 3.347967298381992 despite several retries and waiting\n",
            "Could not download 6.500495519828008, 3.362939219783984 despite several retries and waiting\n",
            "Could not download 6.51546744123, 3.362939219783984 despite several retries and waiting\n",
            "Could not download 6.530439362631992, 3.362939219783984 despite several retries and waiting\n",
            "Could not download 6.545411284033984, 3.362939219783984 despite several retries and waiting\n",
            "Could not download 6.5603832054359765, 3.362939219783984 despite several retries and waiting\n",
            "Could not download 6.500495519828008, 3.377911141185976 despite several retries and waiting\n",
            "Could not download 6.51546744123, 3.377911141185976 despite several retries and waiting\n",
            "Could not download 6.530439362631992, 3.377911141185976 despite several retries and waiting\n",
            "Could not download 6.545411284033984, 3.377911141185976 despite several retries and waiting\n",
            "Could not download 6.5603832054359765, 3.377911141185976 despite several retries and waiting\n",
            "Could not download 6.546280651193984, 5.672829526930001 despite several retries and waiting\n",
            "Could not download 6.504390547856016, 3.3426545327740245 despite several retries and waiting\n",
            "Could not download 6.53433439066, 3.3426545327740245 despite several retries and waiting\n",
            "Could not download 6.549306312061992, 3.3426545327740245 despite several retries and waiting\n",
            "Could not download 6.564278233463984, 3.3426545327740245 despite several retries and waiting\n",
            "Could not download 6.504390547856016, 3.3576264541760166 despite several retries and waiting\n",
            "Could not download 6.53433439066, 3.3576264541760166 despite several retries and waiting\n",
            "Could not download 6.549306312061992, 3.3576264541760166 despite several retries and waiting\n",
            "Could not download 6.564278233463984, 3.3576264541760166 despite several retries and waiting\n",
            "Could not download 6.504390547856016, 3.3725983755780082 despite several retries and waiting\n",
            "Could not download 6.519362469258008, 3.3725983755780082 despite several retries and waiting\n"
          ],
          "name": "stdout"
        },
        {
          "output_type": "stream",
          "text": [
            "ERROR:root:Error-could not download 6.53433439066, 3.3725983755780082\n",
            "Traceback (most recent call last):\n",
            "  File \"<ipython-input-34-07c437978f2b>\", line 51, in download_images\n",
            "    im = imd.download_image(lat, lon, min_year, min_month, max_year, max_month)\n",
            "  File \"gdrive/MyDrive/geo/utils/planet_downloader.py\", line 95, in download_image\n",
            "    res = json.loads(result.text)\n",
            "  File \"/usr/lib/python3.7/json/__init__.py\", line 348, in loads\n",
            "    return _default_decoder.decode(s)\n",
            "  File \"/usr/lib/python3.7/json/decoder.py\", line 337, in decode\n",
            "    obj, end = self.raw_decode(s, idx=_w(s, 0).end())\n",
            "  File \"/usr/lib/python3.7/json/decoder.py\", line 355, in raw_decode\n",
            "    raise JSONDecodeError(\"Expecting value\", s, err.value) from None\n",
            "json.decoder.JSONDecodeError: Expecting value: line 1 column 1 (char 0)\n"
          ],
          "name": "stderr"
        },
        {
          "output_type": "stream",
          "text": [
            "Could not download 6.549306312061992, 3.3725983755780082 despite several retries and waiting\n",
            "Could not download 6.564278233463984, 3.3725983755780082 despite several retries and waiting\n",
            "Could not download 6.579250154865976, 3.3725983755780082 despite several retries and waiting\n"
          ],
          "name": "stdout"
        },
        {
          "output_type": "stream",
          "text": [
            "ERROR:root:Error-could not download 6.4894186264540235, 3.3875702969800003\n",
            "Traceback (most recent call last):\n",
            "  File \"<ipython-input-34-07c437978f2b>\", line 51, in download_images\n",
            "    im = imd.download_image(lat, lon, min_year, min_month, max_year, max_month)\n",
            "  File \"gdrive/MyDrive/geo/utils/planet_downloader.py\", line 95, in download_image\n",
            "    res = json.loads(result.text)\n",
            "  File \"/usr/lib/python3.7/json/__init__.py\", line 348, in loads\n",
            "    return _default_decoder.decode(s)\n",
            "  File \"/usr/lib/python3.7/json/decoder.py\", line 337, in decode\n",
            "    obj, end = self.raw_decode(s, idx=_w(s, 0).end())\n",
            "  File \"/usr/lib/python3.7/json/decoder.py\", line 355, in raw_decode\n",
            "    raise JSONDecodeError(\"Expecting value\", s, err.value) from None\n",
            "json.decoder.JSONDecodeError: Expecting value: line 1 column 1 (char 0)\n"
          ],
          "name": "stderr"
        },
        {
          "output_type": "stream",
          "text": [
            "Could not download 6.504390547856016, 3.3875702969800003 despite several retries and waiting\n",
            "Could not download 6.519362469258008, 3.3875702969800003 despite several retries and waiting\n",
            "Could not download 6.53433439066, 3.3875702969800003 despite several retries and waiting\n",
            "Could not download 6.549306312061992, 3.3875702969800003 despite several retries and waiting\n",
            "Could not download 6.564278233463984, 3.3875702969800003 despite several retries and waiting\n",
            "Could not download 6.579250154865976, 3.3875702969800003 despite several retries and waiting\n",
            "Could not download 6.4894186264540235, 3.4025422183819924 despite several retries and waiting\n",
            "Could not download 6.504390547856016, 3.4025422183819924 despite several retries and waiting\n",
            "Could not download 6.519362469258008, 3.4025422183819924 despite several retries and waiting\n",
            "Could not download 6.53433439066, 3.4025422183819924 despite several retries and waiting\n",
            "Could not download 6.549306312061992, 3.4025422183819924 despite several retries and waiting\n",
            "Could not download 6.564278233463984, 3.4025422183819924 despite several retries and waiting\n",
            "Could not download 6.579250154865976, 3.4025422183819924 despite several retries and waiting\n",
            "Could not download 6.4894186264540235, 3.417514139783984 despite several retries and waiting\n",
            "Could not download 6.504390547856016, 3.417514139783984 despite several retries and waiting\n",
            "Could not download 6.519362469258008, 3.417514139783984 despite several retries and waiting\n",
            "Could not download 6.53433439066, 3.417514139783984 despite several retries and waiting\n",
            "Could not download 6.549306312061992, 3.417514139783984 despite several retries and waiting\n",
            "Could not download 6.564278233463984, 3.417514139783984 despite several retries and waiting\n",
            "Could not download 6.579250154865976, 3.417514139783984 despite several retries and waiting\n",
            "Could not download 6.4894186264540235, 3.432486061185976 despite several retries and waiting\n",
            "Could not download 6.504390547856016, 3.432486061185976 despite several retries and waiting\n",
            "Could not download 6.519362469258008, 3.432486061185976 despite several retries and waiting\n",
            "Could not download 6.53433439066, 3.432486061185976 despite several retries and waiting\n",
            "Could not download 6.549306312061992, 3.432486061185976 despite several retries and waiting\n",
            "Could not download 6.564278233463984, 3.432486061185976 despite several retries and waiting\n",
            "Could not download 6.500612866060731, 3.3560429887079737 despite several retries and waiting\n",
            "Could not download 6.499420652814024, 3.2970355889740244 despite several retries and waiting\n",
            "Could not download 6.499420652814024, 3.3120075103760165 despite several retries and waiting\n",
            "Could not download 6.499420652814024, 3.3419513531800003 despite several retries and waiting\n",
            "Could not download 6.54433641702, 3.3419513531800003 despite several retries and waiting\n",
            "Could not download 6.559308338421992, 3.3419513531800003 despite several retries and waiting\n",
            "Could not download 6.5742802598239845, 3.3419513531800003 despite several retries and waiting\n",
            "Could not download 6.499420652814024, 3.3569232745819924 despite several retries and waiting\n",
            "Could not download 6.54433641702, 3.3569232745819924 despite several retries and waiting\n",
            "Could not download 6.559308338421992, 3.3569232745819924 despite several retries and waiting\n",
            "Could not download 6.5742802598239845, 3.3569232745819924 despite several retries and waiting\n",
            "Could not download 6.499420652814024, 3.371895195983984 despite several retries and waiting\n",
            "Could not download 6.514392574216016, 3.371895195983984 despite several retries and waiting\n",
            "Could not download 6.529364495618008, 3.371895195983984 despite several retries and waiting\n",
            "Could not download 6.54433641702, 3.371895195983984 despite several retries and waiting\n",
            "Could not download 6.559308338421992, 3.371895195983984 despite several retries and waiting\n",
            "Could not download 6.5742802598239845, 3.371895195983984 despite several retries and waiting\n",
            "Could not download 6.589252181225977, 3.371895195983984 despite several retries and waiting\n",
            "Could not download 6.499420652814024, 3.386867117385976 despite several retries and waiting\n",
            "Could not download 6.514392574216016, 3.386867117385976 despite several retries and waiting\n",
            "Could not download 6.529364495618008, 3.386867117385976 despite several retries and waiting\n",
            "Could not download 6.54433641702, 3.386867117385976 despite several retries and waiting\n",
            "Could not download 6.559308338421992, 3.386867117385976 despite several retries and waiting\n",
            "Could not download 6.5742802598239845, 3.386867117385976 despite several retries and waiting\n",
            "Could not download 6.589252181225977, 3.386867117385976 despite several retries and waiting\n",
            "Could not download 6.504260955087261, 3.3065040275603064 despite several retries and waiting\n",
            "Could not download 6.536318459618008, 8.869393726864024 despite several retries and waiting\n",
            "Could not download 6.55129038102, 8.869393726864024 despite several retries and waiting\n",
            "Could not download 6.5812342238239845, 8.899337569668008 despite several retries and waiting\n",
            "Could not download 6.566262302421992, 8.944253333873984 despite several retries and waiting\n",
            "Could not download 6.631121206735976, 3.198581672726016 despite several retries and waiting\n",
            "Could not download 6.543993772714023, 3.348758235476016 despite several retries and waiting\n",
            "Could not download 6.558965694116015, 3.348758235476016 despite several retries and waiting\n",
            "Could not download 6.573937615518007, 3.348758235476016 despite several retries and waiting\n",
            "Could not download 6.543993772714023, 3.363730156878008 despite several retries and waiting\n",
            "Could not download 6.558965694116015, 3.363730156878008 despite several retries and waiting\n",
            "Could not download 6.573937615518007, 3.363730156878008 despite several retries and waiting\n",
            "Could not download 6.588909536919999, 3.363730156878008 despite several retries and waiting\n",
            "Could not download 6.543993772714023, 3.37870207828 despite several retries and waiting\n",
            "Could not download 6.558965694116015, 3.37870207828 despite several retries and waiting\n",
            "Could not download 6.573937615518007, 3.37870207828 despite several retries and waiting\n",
            "Could not download 6.588909536919999, 3.37870207828 despite several retries and waiting\n",
            "Could not download 6.543993772714023, 3.393673999681992 despite several retries and waiting\n",
            "Could not download 6.558965694116015, 3.393673999681992 despite several retries and waiting\n",
            "Could not download 6.573937615518007, 3.393673999681992 despite several retries and waiting\n",
            "Could not download 6.588909536919999, 3.393673999681992 despite several retries and waiting\n",
            "Could not download 6.603881458321991, 3.393673999681992 despite several retries and waiting\n",
            "Could not download 6.6188533797239835, 3.393673999681992 despite several retries and waiting\n",
            "Could not download 6.543993772714023, 3.4086459210839837 despite several retries and waiting\n",
            "Could not download 6.558965694116015, 3.4086459210839837 despite several retries and waiting\n",
            "Could not download 6.573937615518007, 3.4086459210839837 despite several retries and waiting\n",
            "Could not download 6.588909536919999, 3.4086459210839837 despite several retries and waiting\n",
            "Could not download 6.543993772714023, 3.423617842485976 despite several retries and waiting\n",
            "Could not download 6.558965694116015, 3.423617842485976 despite several retries and waiting\n",
            "Could not download 6.573937615518007, 3.423617842485976 despite several retries and waiting\n",
            "Could not download 6.588909536919999, 3.423617842485976 despite several retries and waiting\n",
            "Could not download 6.553862450814022, 3.345283882305976 despite several retries and waiting\n",
            "Could not download 6.568834372216014, 3.345283882305976 despite several retries and waiting\n",
            "Could not download 6.554027420784024, 3.343271466031992 despite several retries and waiting\n",
            "Could not download 6.568999342186016, 3.343271466031992 despite several retries and waiting\n",
            "Could not download 6.554027420784024, 3.358243387433984 despite several retries and waiting\n",
            "Could not download 6.568999342186016, 3.358243387433984 despite several retries and waiting\n",
            "Could not download 6.554027420784024, 3.373215308835976 despite several retries and waiting\n",
            "Could not download 6.568999342186016, 3.373215308835976 despite several retries and waiting\n",
            "Could not download 6.583971263588008, 3.373215308835976 despite several retries and waiting\n",
            "Could not download 6.59894318499, 3.373215308835976 despite several retries and waiting\n",
            "Could not download 6.556147980314024, 3.3528454902359757 despite several retries and waiting\n",
            "Could not download 6.571119901716016, 3.3528454902359757 despite several retries and waiting\n",
            "Could not download 6.585449447434024, 3.3630790885759763 despite several retries and waiting\n",
            "Could not download 6.624188540466016, 3.867525352093984 despite several retries and waiting\n",
            "Could not download 6.639160461868008, 3.867525352093984 despite several retries and waiting\n",
            "Could not download 6.624188540466016, 3.882497273495976 despite several retries and waiting\n",
            "Could not download 6.709727838735977, 3.1194055995460164 despite several retries and waiting\n",
            "Could not download 6.634868231726016, 3.194265206555976 despite several retries and waiting\n",
            "Could not download 6.6674215866180075, 7.253603776614024 despite several retries and waiting\n",
            "Could not download 6.652449665216015, 7.268575698016016 despite several retries and waiting\n",
            "Could not download 6.6674215866180075, 7.268575698016016 despite several retries and waiting\n",
            "Could not download 6.68239350802, 7.283547619418008 despite several retries and waiting\n",
            "Could not download 6.637477743814023, 7.29851954082 despite several retries and waiting\n",
            "Could not download 6.637477743814023, 7.313491462221992 despite several retries and waiting\n",
            "Could not download 6.712337350823984, 7.313491462221992 despite several retries and waiting\n",
            "Could not download 6.637477743814023, 7.328463383623984 despite several retries and waiting\n",
            "Could not download 6.6426397093640235, 3.20068664011 despite several retries and waiting\n",
            "Could not download 6.69118125694, 8.090186760154024 despite several retries and waiting\n",
            "Could not download 6.721125099743984, 8.105158681556016 despite several retries and waiting\n",
            "Could not download 6.664060555186017, 3.056837762044024 despite several retries and waiting\n",
            "Could not download 6.738920162195978, 3.056837762044024 despite several retries and waiting\n",
            "Could not download 6.679032476588009, 3.0718096834460162 despite several retries and waiting\n",
            "Could not download 6.6940043979900015, 3.086781604848008 despite several retries and waiting\n",
            "Could not download 6.723948240793986, 3.086781604848008 despite several retries and waiting\n",
            "Could not download 6.708976319391994, 3.116725447651992 despite several retries and waiting\n",
            "Could not download 6.738920162195978, 3.1316973690539838 despite several retries and waiting\n"
          ],
          "name": "stdout"
        },
        {
          "output_type": "stream",
          "text": [
            "ERROR:root:Error-could not download 6.761198113495976, 8.902699118784021\n",
            "Traceback (most recent call last):\n",
            "  File \"<ipython-input-34-07c437978f2b>\", line 46, in download_images\n",
            "    im = imd.download_image(lat, lon, min_year, min_month, max_year, max_month)\n",
            "  File \"gdrive/MyDrive/geo/utils/planet_downloader.py\", line 95, in download_image\n",
            "    res = json.loads(result.text)\n",
            "  File \"/usr/lib/python3.7/json/__init__.py\", line 348, in loads\n",
            "    return _default_decoder.decode(s)\n",
            "  File \"/usr/lib/python3.7/json/decoder.py\", line 337, in decode\n",
            "    obj, end = self.raw_decode(s, idx=_w(s, 0).end())\n",
            "  File \"/usr/lib/python3.7/json/decoder.py\", line 355, in raw_decode\n",
            "    raise JSONDecodeError(\"Expecting value\", s, err.value) from None\n",
            "json.decoder.JSONDecodeError: Expecting value: line 1 column 1 (char 0)\n"
          ],
          "name": "stderr"
        },
        {
          "output_type": "stream",
          "text": [
            "Could not download 6.694550227774024, 3.025148089914024 despite several retries and waiting\n",
            "Could not download 6.724494070578008, 3.025148089914024 despite several retries and waiting\n",
            "Could not download 6.7544379133819925, 3.025148089914024 despite several retries and waiting\n",
            "Could not download 6.769409834783985, 3.025148089914024 despite several retries and waiting\n",
            "Could not download 6.709522149176016, 3.040120011316016 despite several retries and waiting\n",
            "Could not download 6.724494070578008, 3.040120011316016 despite several retries and waiting\n",
            "Could not download 6.73946599198, 3.07006385412 despite several retries and waiting\n",
            "Could not download 6.7544379133819925, 3.085035775521992 despite several retries and waiting\n",
            "Could not download 6.784381756185977, 3.1149796183259757 despite several retries and waiting\n",
            "Could not download 6.73947844291, 3.136252953026016 despite several retries and waiting\n",
            "Could not download 6.723021555624024, 7.633186747338008 despite several retries and waiting\n",
            "Could not download 6.818706899445977, 3.1823028681560164 despite several retries and waiting\n",
            "Could not download 6.803734978043985, 3.197274789558008 despite several retries and waiting\n",
            "Could not download 6.818706899445977, 3.197274789558008 despite several retries and waiting\n",
            "Could not download 6.810196777023983, 3.2035536425840245 despite several retries and waiting\n",
            "Could not download 6.745360146454024, 4.4881754665 despite several retries and waiting\n",
            "Could not download 6.760332067856016, 4.533091230705977 despite several retries and waiting\n",
            "Could not download 6.82426073472, 3.174401844454024 despite several retries and waiting\n",
            "Could not download 6.839232656121992, 3.174401844454024 despite several retries and waiting\n",
            "Could not download 6.809288813318008, 3.189373765856016 despite several retries and waiting\n",
            "Could not download 6.8691764989259765, 3.204345687258008 despite several retries and waiting\n",
            "Could not download 6.839232656121992, 3.21931760866 despite several retries and waiting\n",
            "Could not download 6.8691764989259765, 3.234289530061992 despite several retries and waiting\n",
            "Could not download 6.849107800415081, 3.2092273528897355 despite several retries and waiting\n",
            "Could not download 6.842401553481992, 7.418058468686015 despite several retries and waiting\n",
            "Could not download 6.8573734748839845, 7.418058468686015 despite several retries and waiting\n",
            "Could not download 6.872345396285977, 7.418058468686015 despite several retries and waiting\n",
            "Could not download 6.842401553481992, 7.492918075695975 despite several retries and waiting\n",
            "Could not download 6.880465844363984, 8.430195644648007 despite several retries and waiting\n",
            "Could not download 6.85900318163, 8.885972186535977 despite several retries and waiting\n",
            "Could not download 6.881680958474024, 7.487816047954024 despite several retries and waiting\n",
            "Could not download 6.904864771504025, 7.448601936896016 despite several retries and waiting\n",
            "Could not download 6.919836692906017, 7.463573858298008 despite several retries and waiting\n",
            "Could not download 6.934808614308009, 7.463573858298008 despite several retries and waiting\n",
            "Could not download 6.917319070494024, 3.609559104614024 despite several retries and waiting\n",
            "Could not download 6.917319070494024, 3.624531026016016 despite several retries and waiting\n",
            "Could not download 6.932290991896016, 3.65447486882 despite several retries and waiting\n",
            "Could not download 6.932290991896016, 3.669446790221992 despite several retries and waiting\n",
            "Could not download 6.947262913298008, 3.669446790221992 despite several retries and waiting\n",
            "Could not download 7.007150598905977, 3.669446790221992 despite several retries and waiting\n",
            "Could not download 6.932290991896016, 3.6844187116239837 despite several retries and waiting\n",
            "Could not download 6.9921786775039845, 3.6844187116239837 despite several retries and waiting\n",
            "Could not download 7.009570499581993, 3.650173005834024 despite several retries and waiting\n",
            "Could not download 6.994598578180001, 3.665144927236016 despite several retries and waiting\n",
            "Could not download 6.964654735376016, 3.69508877004 despite several retries and waiting\n",
            "Could not download 7.009570499581993, 3.69508877004 despite several retries and waiting\n",
            "Could not download 6.949682813974024, 3.710060691441992 despite several retries and waiting\n",
            "Could not download 6.994598578180001, 3.710060691441992 despite several retries and waiting\n",
            "Could not download 7.039514342385977, 3.7250326128439837 despite several retries and waiting\n",
            "Could not download 7.024542420983985, 3.740004534245976 despite several retries and waiting\n",
            "Could not download 6.953261713234023, 3.607852866766016 despite several retries and waiting\n",
            "Could not download 6.968233634636015, 3.622824788168008 despite several retries and waiting\n",
            "Could not download 6.99817747744, 3.652768630971992 despite several retries and waiting\n",
            "Could not download 7.013149398841992, 3.652768630971992 despite several retries and waiting\n",
            "Could not download 6.99817747744, 3.6677405523739837 despite several retries and waiting\n",
            "Could not download 7.013149398841992, 3.6677405523739837 despite several retries and waiting\n",
            "Could not download 7.013149398841992, 3.6827124737759758 despite several retries and waiting\n",
            "Could not download 7.043093241645976, 3.6827124737759758 despite several retries and waiting\n",
            "Could not download 6.993899744958008, 3.759700670524025 despite several retries and waiting\n",
            "Could not download 7.00887166636, 3.759700670524025 despite several retries and waiting\n",
            "Could not download 7.023843587761992, 3.7896445133280086 despite several retries and waiting\n",
            "Could not download 7.038815509163984, 3.7896445133280086 despite several retries and waiting\n",
            "Could not download 7.038815509163984, 3.8495321989359765 despite several retries and waiting\n",
            "Could not download 6.968371756184023, 3.603065300505976 despite several retries and waiting\n",
            "Could not download 7.123776591733984, 4.778507805014024 despite several retries and waiting\n",
            "Could not download 7.09383274893, 4.793479726416016 despite several retries and waiting\n",
            "Could not download 7.09383274893, 4.808451647818008 despite several retries and waiting\n",
            "Could not download 7.118890978694023, 3.2466539307940243 despite several retries and waiting\n",
            "Could not download 7.133862900096015, 3.2616258521960164 despite several retries and waiting\n",
            "Could not download 7.118890978694023, 3.276597773598008 despite several retries and waiting\n",
            "Could not download 7.155518622468008, 3.365200087313984 despite several retries and waiting\n",
            "Could not download 7.245357438293984, 4.902629393894023 despite several retries and waiting\n",
            "Could not download 7.260329359695976, 4.917601315296015 despite several retries and waiting\n",
            "Could not download 7.200441674088007, 4.9325732366980075 despite several retries and waiting\n",
            "Could not download 7.245357438293984, 4.9325732366980075 despite several retries and waiting\n",
            "Could not download 7.2303855168919915, 4.9475451581 despite several retries and waiting\n",
            "Could not download 7.245357438293984, 4.9475451581 despite several retries and waiting\n",
            "Could not download 7.260329359695976, 4.9475451581 despite several retries and waiting\n",
            "Could not download 7.260329359695976, 4.962517079501992 despite several retries and waiting\n",
            "Could not download 7.260329359695976, 4.977489000903984 despite several retries and waiting\n",
            "Could not download 7.253882544021992, 7.191676208054024 despite several retries and waiting\n",
            "Could not download 7.268854465423984, 7.206648129456016 despite several retries and waiting\n",
            "Could not download 7.273432766373984, 4.88333742804 despite several retries and waiting\n",
            "Could not download 7.258460844971992, 4.913281270843984 despite several retries and waiting\n",
            "Could not download 7.213545080766016, 4.928253192245976 despite several retries and waiting\n",
            "Could not download 7.258460844971992, 4.928253192245976 despite several retries and waiting\n",
            "Could not download 7.273432766373984, 4.928253192245976 despite several retries and waiting\n",
            "Could not download 7.2884046877759765, 4.928253192245976 despite several retries and waiting\n",
            "Could not download 7.289811854895976, 4.876583980615976 despite several retries and waiting\n",
            "Could not download 7.284933328458009, 5.140163299796016 despite several retries and waiting\n",
            "Could not download 7.274171415134022, 4.939282913204024 despite several retries and waiting\n",
            "Could not download 7.289143336536014, 4.939282913204024 despite several retries and waiting\n",
            "Could not download 7.304115257938006, 4.939282913204024 despite several retries and waiting\n",
            "Could not download 7.334059100741991, 4.939282913204024 despite several retries and waiting\n",
            "Could not download 7.289143336536014, 4.954254834606016 despite several retries and waiting\n",
            "Could not download 7.334059100741991, 4.954254834606016 despite several retries and waiting\n",
            "Could not download 7.334059100741991, 4.969226756008008 despite several retries and waiting\n",
            "Could not download 7.349031022143983, 4.969226756008008 despite several retries and waiting\n",
            "Could not download 7.364002943545975, 4.969226756008008 despite several retries and waiting\n",
            "Could not download 7.364002943545975, 4.98419867741 despite several retries and waiting\n",
            "Could not download 7.304115257938006, 4.999170598811992 despite several retries and waiting\n",
            "Could not download 7.364002943545975, 4.999170598811992 despite several retries and waiting\n",
            "Could not download 7.3190871793399985, 5.014142520213984 despite several retries and waiting\n",
            "Could not download 7.334059100741991, 5.014142520213984 despite several retries and waiting\n",
            "Could not download 7.4162054131839845, 3.843102910034024 despite several retries and waiting\n",
            "Could not download 7.410451191728009, 4.537162084498008 despite several retries and waiting\n",
            "Could not download 7.413233856424024, 3.8326875529240247 despite several retries and waiting\n",
            "Could not download 7.419940563274025, 5.459334583103984 despite several retries and waiting\n",
            "Could not download 7.499920944693983, 4.581471422471992 despite several retries and waiting\n",
            "Could not download 7.467449884376016, 4.492781585124024 despite several retries and waiting\n",
            "Could not download 7.527337569983985, 4.492781585124024 despite several retries and waiting\n",
            "Could not download 7.501940224864023, 3.5242385814380084 despite several retries and waiting\n",
            "Could not download 7.576799831873983, 3.5242385814380084 despite several retries and waiting\n",
            "Could not download 7.609928345694024, 4.701428455964023 despite several retries and waiting\n",
            "Could not download 7.6548441099, 4.716400377366015 despite several retries and waiting\n",
            "Could not download 7.707767585184023, 4.583969018963984 despite several retries and waiting\n",
            "Could not download 7.722739506586015, 4.583969018963984 despite several retries and waiting\n",
            "Could not download 7.737711427988007, 4.583969018963984 despite several retries and waiting\n",
            "Could not download 7.752683349389999, 4.583969018963984 despite several retries and waiting\n",
            "Could not download 7.707767585184023, 4.598940940365976 despite several retries and waiting\n",
            "Could not download 7.722739506586015, 4.598940940365976 despite several retries and waiting\n",
            "Could not download 7.737711427988007, 4.598940940365976 despite several retries and waiting\n",
            "Could not download 7.752683349389999, 4.598940940365976 despite several retries and waiting\n",
            "Could not download 7.767655270791991, 4.598940940365976 despite several retries and waiting\n",
            "Could not download 7.711429930184023, 4.579425538183985 despite several retries and waiting\n",
            "Could not download 7.726401851586015, 4.579425538183985 despite several retries and waiting\n",
            "Could not download 7.741373772988007, 4.579425538183985 despite several retries and waiting\n",
            "Could not download 7.711429930184023, 4.594397459585977 despite several retries and waiting\n",
            "Could not download 7.726401851586015, 4.594397459585977 despite several retries and waiting\n",
            "Could not download 7.741373772988007, 4.594397459585977 despite several retries and waiting\n",
            "Could not download 7.756345694389999, 4.594397459585977 despite several retries and waiting\n",
            "Could not download 7.771317615791991, 4.594397459585977 despite several retries and waiting\n",
            "Could not download 7.713079722004023, 4.576122964501992 despite several retries and waiting\n",
            "Could not download 7.728051643406015, 4.576122964501992 despite several retries and waiting\n",
            "Could not download 7.7430235648080075, 4.576122964501992 despite several retries and waiting\n",
            "Could not download 7.713079722004023, 4.591094885903984 despite several retries and waiting\n",
            "Could not download 7.728051643406015, 4.591094885903984 despite several retries and waiting\n",
            "Could not download 7.7430235648080075, 4.591094885903984 despite several retries and waiting\n",
            "Could not download 7.713079722004023, 4.606066807305976 despite several retries and waiting\n",
            "Could not download 7.728051643406015, 4.606066807305976 despite several retries and waiting\n",
            "Could not download 7.7430235648080075, 4.606066807305976 despite several retries and waiting\n",
            "Could not download 7.75799548621, 4.606066807305976 despite several retries and waiting\n",
            "Could not download 7.772967407611992, 4.606066807305976 despite several retries and waiting\n",
            "Could not download 7.724900485984023, 4.577488744251992 despite several retries and waiting\n",
            "Could not download 7.739872407386015, 4.577488744251992 despite several retries and waiting\n",
            "Could not download 7.724900485984023, 4.592460665653984 despite several retries and waiting\n",
            "Could not download 7.739872407386015, 4.592460665653984 despite several retries and waiting\n",
            "Could not download 7.754844328788007, 4.592460665653984 despite several retries and waiting\n",
            "Could not download 7.769816250189999, 4.592460665653984 despite several retries and waiting\n",
            "Could not download 7.724900485984023, 4.6074325870559765 despite several retries and waiting\n",
            "Could not download 7.739872407386015, 4.6074325870559765 despite several retries and waiting\n",
            "Could not download 7.754844328788007, 4.6074325870559765 despite several retries and waiting\n",
            "Could not download 7.769816250189999, 4.6074325870559765 despite several retries and waiting\n",
            "Could not download 7.735016919137214, 4.572560505861917 despite several retries and waiting\n",
            "Could not download 7.758157468948006, 4.756039090326016 despite several retries and waiting\n",
            "Could not download 7.812351810281992, 4.733887108564023 despite several retries and waiting\n",
            "Could not download 7.79737988888, 4.793774794171991 despite several retries and waiting\n",
            "Could not download 7.827323731683984, 4.8237186369759755 despite several retries and waiting\n",
            "Could not download 7.773978860634022, 4.605081113835977 despite several retries and waiting\n",
            "Could not download 7.839901875710001, 4.907028441278008 despite several retries and waiting\n",
            "Could not download 7.843275973094025, 5.1299048293139835 despite several retries and waiting\n",
            "Could not download 7.878635412896016, 4.702326264971992 despite several retries and waiting\n",
            "Could not download 7.9085792557, 4.702326264971992 despite several retries and waiting\n",
            "Could not download 7.9085792557, 4.717298186373984 despite several retries and waiting\n",
            "Could not download 7.878635412896016, 4.732270107775976 despite several retries and waiting\n",
            "Could not download 7.872328893934022, 5.787084440111991 despite several retries and waiting\n",
            "Could not download 7.919674841769999, 4.6938192515359765 despite several retries and waiting\n",
            "Could not download 7.916264688568008, 4.689968792436016 despite several retries and waiting\n",
            "Could not download 7.916264688568008, 4.764828399445976 despite several retries and waiting\n",
            "Could not download 8.301023658063984, 4.233550498574024 despite several retries and waiting\n",
            "Could not download 8.445723187251993, 4.603914315263984 despite several retries and waiting\n",
            "Could not download 8.398237999484023, 5.033339678128008 despite several retries and waiting\n"
          ],
          "name": "stdout"
        },
        {
          "output_type": "stream",
          "text": [
            "ERROR:root:Error-could not download 8.445122201819999, 10.5898676009\n",
            "Traceback (most recent call last):\n",
            "  File \"<ipython-input-34-07c437978f2b>\", line 46, in download_images\n",
            "    im = imd.download_image(lat, lon, min_year, min_month, max_year, max_month)\n",
            "  File \"gdrive/MyDrive/geo/utils/planet_downloader.py\", line 95, in download_image\n",
            "    res = json.loads(result.text)\n",
            "  File \"/usr/lib/python3.7/json/__init__.py\", line 348, in loads\n",
            "    return _default_decoder.decode(s)\n",
            "  File \"/usr/lib/python3.7/json/decoder.py\", line 337, in decode\n",
            "    obj, end = self.raw_decode(s, idx=_w(s, 0).end())\n",
            "  File \"/usr/lib/python3.7/json/decoder.py\", line 355, in raw_decode\n",
            "    raise JSONDecodeError(\"Expecting value\", s, err.value) from None\n",
            "json.decoder.JSONDecodeError: Expecting value: line 1 column 1 (char 0)\n",
            "ERROR:root:Error-could not download 8.430150280418006, 10.604839522301992\n",
            "Traceback (most recent call last):\n",
            "  File \"<ipython-input-34-07c437978f2b>\", line 46, in download_images\n",
            "    im = imd.download_image(lat, lon, min_year, min_month, max_year, max_month)\n",
            "  File \"gdrive/MyDrive/geo/utils/planet_downloader.py\", line 95, in download_image\n",
            "    res = json.loads(result.text)\n",
            "  File \"/usr/lib/python3.7/json/__init__.py\", line 348, in loads\n",
            "    return _default_decoder.decode(s)\n",
            "  File \"/usr/lib/python3.7/json/decoder.py\", line 337, in decode\n",
            "    obj, end = self.raw_decode(s, idx=_w(s, 0).end())\n",
            "  File \"/usr/lib/python3.7/json/decoder.py\", line 355, in raw_decode\n",
            "    raise JSONDecodeError(\"Expecting value\", s, err.value) from None\n",
            "json.decoder.JSONDecodeError: Expecting value: line 1 column 1 (char 0)\n"
          ],
          "name": "stderr"
        },
        {
          "output_type": "stream",
          "text": [
            "Could not download 8.442183483694023, 4.600277017325976 despite several retries and waiting\n",
            "Could not download 8.449753561004023, 4.592374400183984 despite several retries and waiting\n",
            "Could not download 8.449753561004023, 4.607346321585976 despite several retries and waiting\n",
            "Could not download 9.167971645683984, 8.795682521465977 despite several retries and waiting\n",
            "Could not download 9.182943567085976, 8.795682521465977 despite several retries and waiting\n"
          ],
          "name": "stdout"
        }
      ]
    },
    {
      "cell_type": "code",
      "metadata": {
        "id": "xVOodZH2iqTZ"
      },
      "source": [
        ""
      ],
      "execution_count": null,
      "outputs": []
    }
  ]
}