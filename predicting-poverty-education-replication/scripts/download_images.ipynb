{
  "nbformat": 4,
  "nbformat_minor": 0,
  "metadata": {
    "colab": {
      "name": "download_images.ipynb",
      "provenance": [],
      "collapsed_sections": [],
      "toc_visible": true
    },
    "environment": {
      "name": "pytorch-gpu.1-4.m46",
      "type": "gcloud",
      "uri": "gcr.io/deeplearning-platform-release/pytorch-gpu.1-4:m46"
    },
    "kernelspec": {
      "display_name": "Python 3",
      "language": "python",
      "name": "python3"
    },
    "language_info": {
      "codemirror_mode": {
        "name": "ipython",
        "version": 3
      },
      "file_extension": ".py",
      "mimetype": "text/x-python",
      "name": "python",
      "nbconvert_exporter": "python",
      "pygments_lexer": "ipython3",
      "version": "3.7.7"
    },
    "accelerator": "GPU",
    "widgets": {
      "application/vnd.jupyter.widget-state+json": {
        "b87985c7272240ffac6fa18a7ad8afd7": {
          "model_module": "@jupyter-widgets/controls",
          "model_name": "HBoxModel",
          "state": {
            "_view_name": "HBoxView",
            "_dom_classes": [],
            "_model_name": "HBoxModel",
            "_view_module": "@jupyter-widgets/controls",
            "_model_module_version": "1.5.0",
            "_view_count": null,
            "_view_module_version": "1.5.0",
            "box_style": "",
            "layout": "IPY_MODEL_a21c03c3216a47aca8686cb8844004eb",
            "_model_module": "@jupyter-widgets/controls",
            "children": [
              "IPY_MODEL_9eb0fe9e025a4caf8b573ff97149a243",
              "IPY_MODEL_f0bd474fab4c483cbf454d8830b57dff"
            ]
          }
        },
        "a21c03c3216a47aca8686cb8844004eb": {
          "model_module": "@jupyter-widgets/base",
          "model_name": "LayoutModel",
          "state": {
            "_view_name": "LayoutView",
            "grid_template_rows": null,
            "right": null,
            "justify_content": null,
            "_view_module": "@jupyter-widgets/base",
            "overflow": null,
            "_model_module_version": "1.2.0",
            "_view_count": null,
            "flex_flow": null,
            "width": null,
            "min_width": null,
            "border": null,
            "align_items": null,
            "bottom": null,
            "_model_module": "@jupyter-widgets/base",
            "top": null,
            "grid_column": null,
            "overflow_y": null,
            "overflow_x": null,
            "grid_auto_flow": null,
            "grid_area": null,
            "grid_template_columns": null,
            "flex": null,
            "_model_name": "LayoutModel",
            "justify_items": null,
            "grid_row": null,
            "max_height": null,
            "align_content": null,
            "visibility": null,
            "align_self": null,
            "height": null,
            "min_height": null,
            "padding": null,
            "grid_auto_rows": null,
            "grid_gap": null,
            "max_width": null,
            "order": null,
            "_view_module_version": "1.2.0",
            "grid_template_areas": null,
            "object_position": null,
            "object_fit": null,
            "grid_auto_columns": null,
            "margin": null,
            "display": null,
            "left": null
          }
        },
        "9eb0fe9e025a4caf8b573ff97149a243": {
          "model_module": "@jupyter-widgets/controls",
          "model_name": "FloatProgressModel",
          "state": {
            "_view_name": "ProgressView",
            "style": "IPY_MODEL_227b34a3910c47458063f523ccca6fed",
            "_dom_classes": [],
            "description": "100%",
            "_model_name": "FloatProgressModel",
            "bar_style": "success",
            "max": 10000,
            "_view_module": "@jupyter-widgets/controls",
            "_model_module_version": "1.5.0",
            "value": 10000,
            "_view_count": null,
            "_view_module_version": "1.5.0",
            "orientation": "horizontal",
            "min": 0,
            "description_tooltip": null,
            "_model_module": "@jupyter-widgets/controls",
            "layout": "IPY_MODEL_053010526ef34b48957946f631161ae5"
          }
        },
        "f0bd474fab4c483cbf454d8830b57dff": {
          "model_module": "@jupyter-widgets/controls",
          "model_name": "HTMLModel",
          "state": {
            "_view_name": "HTMLView",
            "style": "IPY_MODEL_6bd31a62cdc44624bcd994538e754b2c",
            "_dom_classes": [],
            "description": "",
            "_model_name": "HTMLModel",
            "placeholder": "​",
            "_view_module": "@jupyter-widgets/controls",
            "_model_module_version": "1.5.0",
            "value": " 10000/10000 [4:59:57&lt;00:00,  1.80s/it]",
            "_view_count": null,
            "_view_module_version": "1.5.0",
            "description_tooltip": null,
            "_model_module": "@jupyter-widgets/controls",
            "layout": "IPY_MODEL_4acec572d9b24d5c8845766ad07c6fda"
          }
        },
        "227b34a3910c47458063f523ccca6fed": {
          "model_module": "@jupyter-widgets/controls",
          "model_name": "ProgressStyleModel",
          "state": {
            "_view_name": "StyleView",
            "_model_name": "ProgressStyleModel",
            "description_width": "initial",
            "_view_module": "@jupyter-widgets/base",
            "_model_module_version": "1.5.0",
            "_view_count": null,
            "_view_module_version": "1.2.0",
            "bar_color": null,
            "_model_module": "@jupyter-widgets/controls"
          }
        },
        "053010526ef34b48957946f631161ae5": {
          "model_module": "@jupyter-widgets/base",
          "model_name": "LayoutModel",
          "state": {
            "_view_name": "LayoutView",
            "grid_template_rows": null,
            "right": null,
            "justify_content": null,
            "_view_module": "@jupyter-widgets/base",
            "overflow": null,
            "_model_module_version": "1.2.0",
            "_view_count": null,
            "flex_flow": null,
            "width": null,
            "min_width": null,
            "border": null,
            "align_items": null,
            "bottom": null,
            "_model_module": "@jupyter-widgets/base",
            "top": null,
            "grid_column": null,
            "overflow_y": null,
            "overflow_x": null,
            "grid_auto_flow": null,
            "grid_area": null,
            "grid_template_columns": null,
            "flex": null,
            "_model_name": "LayoutModel",
            "justify_items": null,
            "grid_row": null,
            "max_height": null,
            "align_content": null,
            "visibility": null,
            "align_self": null,
            "height": null,
            "min_height": null,
            "padding": null,
            "grid_auto_rows": null,
            "grid_gap": null,
            "max_width": null,
            "order": null,
            "_view_module_version": "1.2.0",
            "grid_template_areas": null,
            "object_position": null,
            "object_fit": null,
            "grid_auto_columns": null,
            "margin": null,
            "display": null,
            "left": null
          }
        },
        "6bd31a62cdc44624bcd994538e754b2c": {
          "model_module": "@jupyter-widgets/controls",
          "model_name": "DescriptionStyleModel",
          "state": {
            "_view_name": "StyleView",
            "_model_name": "DescriptionStyleModel",
            "description_width": "",
            "_view_module": "@jupyter-widgets/base",
            "_model_module_version": "1.5.0",
            "_view_count": null,
            "_view_module_version": "1.2.0",
            "_model_module": "@jupyter-widgets/controls"
          }
        },
        "4acec572d9b24d5c8845766ad07c6fda": {
          "model_module": "@jupyter-widgets/base",
          "model_name": "LayoutModel",
          "state": {
            "_view_name": "LayoutView",
            "grid_template_rows": null,
            "right": null,
            "justify_content": null,
            "_view_module": "@jupyter-widgets/base",
            "overflow": null,
            "_model_module_version": "1.2.0",
            "_view_count": null,
            "flex_flow": null,
            "width": null,
            "min_width": null,
            "border": null,
            "align_items": null,
            "bottom": null,
            "_model_module": "@jupyter-widgets/base",
            "top": null,
            "grid_column": null,
            "overflow_y": null,
            "overflow_x": null,
            "grid_auto_flow": null,
            "grid_area": null,
            "grid_template_columns": null,
            "flex": null,
            "_model_name": "LayoutModel",
            "justify_items": null,
            "grid_row": null,
            "max_height": null,
            "align_content": null,
            "visibility": null,
            "align_self": null,
            "height": null,
            "min_height": null,
            "padding": null,
            "grid_auto_rows": null,
            "grid_gap": null,
            "max_width": null,
            "order": null,
            "_view_module_version": "1.2.0",
            "grid_template_areas": null,
            "object_position": null,
            "object_fit": null,
            "grid_auto_columns": null,
            "margin": null,
            "display": null,
            "left": null
          }
        },
        "7883f87cfbfa4e128f78d05f4622b2e3": {
          "model_module": "@jupyter-widgets/controls",
          "model_name": "HBoxModel",
          "state": {
            "_view_name": "HBoxView",
            "_dom_classes": [],
            "_model_name": "HBoxModel",
            "_view_module": "@jupyter-widgets/controls",
            "_model_module_version": "1.5.0",
            "_view_count": null,
            "_view_module_version": "1.5.0",
            "box_style": "",
            "layout": "IPY_MODEL_5dbf82e43fdc4e72b8b44e0dd2f358f4",
            "_model_module": "@jupyter-widgets/controls",
            "children": [
              "IPY_MODEL_20f7c795adc14f2aa7bf302e2a8b9b58",
              "IPY_MODEL_a35af02725884dc386b25acdc1710c0e"
            ]
          }
        },
        "5dbf82e43fdc4e72b8b44e0dd2f358f4": {
          "model_module": "@jupyter-widgets/base",
          "model_name": "LayoutModel",
          "state": {
            "_view_name": "LayoutView",
            "grid_template_rows": null,
            "right": null,
            "justify_content": null,
            "_view_module": "@jupyter-widgets/base",
            "overflow": null,
            "_model_module_version": "1.2.0",
            "_view_count": null,
            "flex_flow": null,
            "width": null,
            "min_width": null,
            "border": null,
            "align_items": null,
            "bottom": null,
            "_model_module": "@jupyter-widgets/base",
            "top": null,
            "grid_column": null,
            "overflow_y": null,
            "overflow_x": null,
            "grid_auto_flow": null,
            "grid_area": null,
            "grid_template_columns": null,
            "flex": null,
            "_model_name": "LayoutModel",
            "justify_items": null,
            "grid_row": null,
            "max_height": null,
            "align_content": null,
            "visibility": null,
            "align_self": null,
            "height": null,
            "min_height": null,
            "padding": null,
            "grid_auto_rows": null,
            "grid_gap": null,
            "max_width": null,
            "order": null,
            "_view_module_version": "1.2.0",
            "grid_template_areas": null,
            "object_position": null,
            "object_fit": null,
            "grid_auto_columns": null,
            "margin": null,
            "display": null,
            "left": null
          }
        },
        "20f7c795adc14f2aa7bf302e2a8b9b58": {
          "model_module": "@jupyter-widgets/controls",
          "model_name": "FloatProgressModel",
          "state": {
            "_view_name": "ProgressView",
            "style": "IPY_MODEL_fa49c46435ca4acd98f75bf7f1b76fef",
            "_dom_classes": [],
            "description": "  0%",
            "_model_name": "FloatProgressModel",
            "bar_style": "danger",
            "max": 10000,
            "_view_module": "@jupyter-widgets/controls",
            "_model_module_version": "1.5.0",
            "value": 1,
            "_view_count": null,
            "_view_module_version": "1.5.0",
            "orientation": "horizontal",
            "min": 0,
            "description_tooltip": null,
            "_model_module": "@jupyter-widgets/controls",
            "layout": "IPY_MODEL_3e51507f03cb4657a2f9a374c296c97d"
          }
        },
        "a35af02725884dc386b25acdc1710c0e": {
          "model_module": "@jupyter-widgets/controls",
          "model_name": "HTMLModel",
          "state": {
            "_view_name": "HTMLView",
            "style": "IPY_MODEL_89d9c7a5d0c843b9be3da7f3b90eeb1c",
            "_dom_classes": [],
            "description": "",
            "_model_name": "HTMLModel",
            "placeholder": "​",
            "_view_module": "@jupyter-widgets/controls",
            "_model_module_version": "1.5.0",
            "value": " 1/10000 [00:01&lt;4:41:25,  1.69s/it]",
            "_view_count": null,
            "_view_module_version": "1.5.0",
            "description_tooltip": null,
            "_model_module": "@jupyter-widgets/controls",
            "layout": "IPY_MODEL_c0c336c149dd4d8db203c09e7cf81e60"
          }
        },
        "fa49c46435ca4acd98f75bf7f1b76fef": {
          "model_module": "@jupyter-widgets/controls",
          "model_name": "ProgressStyleModel",
          "state": {
            "_view_name": "StyleView",
            "_model_name": "ProgressStyleModel",
            "description_width": "initial",
            "_view_module": "@jupyter-widgets/base",
            "_model_module_version": "1.5.0",
            "_view_count": null,
            "_view_module_version": "1.2.0",
            "bar_color": null,
            "_model_module": "@jupyter-widgets/controls"
          }
        },
        "3e51507f03cb4657a2f9a374c296c97d": {
          "model_module": "@jupyter-widgets/base",
          "model_name": "LayoutModel",
          "state": {
            "_view_name": "LayoutView",
            "grid_template_rows": null,
            "right": null,
            "justify_content": null,
            "_view_module": "@jupyter-widgets/base",
            "overflow": null,
            "_model_module_version": "1.2.0",
            "_view_count": null,
            "flex_flow": null,
            "width": null,
            "min_width": null,
            "border": null,
            "align_items": null,
            "bottom": null,
            "_model_module": "@jupyter-widgets/base",
            "top": null,
            "grid_column": null,
            "overflow_y": null,
            "overflow_x": null,
            "grid_auto_flow": null,
            "grid_area": null,
            "grid_template_columns": null,
            "flex": null,
            "_model_name": "LayoutModel",
            "justify_items": null,
            "grid_row": null,
            "max_height": null,
            "align_content": null,
            "visibility": null,
            "align_self": null,
            "height": null,
            "min_height": null,
            "padding": null,
            "grid_auto_rows": null,
            "grid_gap": null,
            "max_width": null,
            "order": null,
            "_view_module_version": "1.2.0",
            "grid_template_areas": null,
            "object_position": null,
            "object_fit": null,
            "grid_auto_columns": null,
            "margin": null,
            "display": null,
            "left": null
          }
        },
        "89d9c7a5d0c843b9be3da7f3b90eeb1c": {
          "model_module": "@jupyter-widgets/controls",
          "model_name": "DescriptionStyleModel",
          "state": {
            "_view_name": "StyleView",
            "_model_name": "DescriptionStyleModel",
            "description_width": "",
            "_view_module": "@jupyter-widgets/base",
            "_model_module_version": "1.5.0",
            "_view_count": null,
            "_view_module_version": "1.2.0",
            "_model_module": "@jupyter-widgets/controls"
          }
        },
        "c0c336c149dd4d8db203c09e7cf81e60": {
          "model_module": "@jupyter-widgets/base",
          "model_name": "LayoutModel",
          "state": {
            "_view_name": "LayoutView",
            "grid_template_rows": null,
            "right": null,
            "justify_content": null,
            "_view_module": "@jupyter-widgets/base",
            "overflow": null,
            "_model_module_version": "1.2.0",
            "_view_count": null,
            "flex_flow": null,
            "width": null,
            "min_width": null,
            "border": null,
            "align_items": null,
            "bottom": null,
            "_model_module": "@jupyter-widgets/base",
            "top": null,
            "grid_column": null,
            "overflow_y": null,
            "overflow_x": null,
            "grid_auto_flow": null,
            "grid_area": null,
            "grid_template_columns": null,
            "flex": null,
            "_model_name": "LayoutModel",
            "justify_items": null,
            "grid_row": null,
            "max_height": null,
            "align_content": null,
            "visibility": null,
            "align_self": null,
            "height": null,
            "min_height": null,
            "padding": null,
            "grid_auto_rows": null,
            "grid_gap": null,
            "max_width": null,
            "order": null,
            "_view_module_version": "1.2.0",
            "grid_template_areas": null,
            "object_position": null,
            "object_fit": null,
            "grid_auto_columns": null,
            "margin": null,
            "display": null,
            "left": null
          }
        }
      }
    }
  },
  "cells": [
    {
      "cell_type": "markdown",
      "metadata": {
        "id": "Aj2mm397iqS-"
      },
      "source": [
        "Skip the first two steps if you've already ran them and simply need to continue downloading images"
      ]
    },
    {
      "cell_type": "code",
      "metadata": {
        "colab": {
          "base_uri": "https://localhost:8080/"
        },
        "id": "6MlpN1c5irpO",
        "outputId": "8a037726-331b-4d97-ce53-e91a22e0682c"
      },
      "source": [
        "from google.colab import drive\n",
        "drive.mount('/content/gdrive')"
      ],
      "execution_count": null,
      "outputs": [
        {
          "output_type": "stream",
          "text": [
            "Mounted at /content/gdrive\n"
          ],
          "name": "stdout"
        }
      ]
    },
    {
      "cell_type": "code",
      "metadata": {
        "id": "1KpqrxtQiqTD"
      },
      "source": [
        "import math\n",
        "import random\n",
        "import os\n",
        "import numpy as np\n",
        "import pandas as pd\n",
        "from osgeo import gdal, osr\n",
        "from tqdm.notebook import tqdm\n",
        "import requests\n",
        "import matplotlib.pyplot as plt\n",
        "from io import BytesIO\n",
        "import logging\n",
        "import time"
      ],
      "execution_count": null,
      "outputs": []
    },
    {
      "cell_type": "code",
      "metadata": {
        "id": "e9KaUKaXiqTE"
      },
      "source": [
        "BASE_DIR = 'gdrive/MyDrive/geo'\n",
        "COUNTRIES_DIR = os.path.join(BASE_DIR, 'data', 'countries')\n",
        "PROCESSED_DIR = os.path.join(BASE_DIR, 'data', 'processed')\n",
        "# can try using the google downloader, in which case change this to be your google api token\n",
        "ACCESS_TOKEN_DIR = os.path.join(BASE_DIR, 'planet_api_key.txt')\n",
        "\n",
        "RANDOM_SEED = 7 # for reproducibility\n",
        "\n",
        "# each cluster must have AT LEAST this many images after doing nightlights processing\n",
        "MIN_IMAGES_PER_CLUSTER = 10"
      ],
      "execution_count": null,
      "outputs": []
    },
    {
      "cell_type": "code",
      "metadata": {
        "id": "Uyb7qkkhiqTF"
      },
      "source": [
        "# from ctypes.util import find_library\n",
        "# find_library('geos_c')\n",
        "import sys\n",
        "sys.path.append(BASE_DIR)\n",
        "from utils import create_space"
      ],
      "execution_count": null,
      "outputs": []
    },
    {
      "cell_type": "markdown",
      "metadata": {
        "id": "iRIf2ixRiqTG"
      },
      "source": [
        "# Generate Download Locations"
      ]
    },
    {
      "cell_type": "code",
      "metadata": {
        "id": "DrRhGn1kiqTG"
      },
      "source": [
        "# # df_mw = pd.read_csv(os.path.join(COUNTRIES_DIR, 'malawi_2016', 'processed/clusters.csv'))\n",
        "# df_eth = pd.read_csv(os.path.join(COUNTRIES_DIR, 'ethiopia_2015', 'processed/clusters.csv'))\n",
        "df_ng = pd.read_csv(os.path.join(COUNTRIES_DIR, 'nigeria_2015', 'processed/clusters.csv'))"
      ],
      "execution_count": null,
      "outputs": []
    },
    {
      "cell_type": "code",
      "metadata": {
        "id": "YDMyNVxriqTG",
        "colab": {
          "base_uri": "https://localhost:8080/",
          "height": 300
        },
        "outputId": "d65d8b47-897c-458b-8d3c-5fe7c188097c"
      },
      "source": [
        "for country in ['malawi_2016', 'ethiopia_2015', 'nigeria_2015']:\n",
        "    os.makedirs(os.path.join(COUNTRIES_DIR, country, 'images'), exist_ok=False)"
      ],
      "execution_count": null,
      "outputs": [
        {
          "output_type": "error",
          "ename": "FileExistsError",
          "evalue": "ignored",
          "traceback": [
            "\u001b[0;31m---------------------------------------------------------------------------\u001b[0m",
            "\u001b[0;31mFileExistsError\u001b[0m                           Traceback (most recent call last)",
            "\u001b[0;32m<ipython-input-6-e6870276869e>\u001b[0m in \u001b[0;36m<module>\u001b[0;34m()\u001b[0m\n\u001b[1;32m      1\u001b[0m \u001b[0;32mfor\u001b[0m \u001b[0mcountry\u001b[0m \u001b[0;32min\u001b[0m \u001b[0;34m[\u001b[0m\u001b[0;34m'malawi_2016'\u001b[0m\u001b[0;34m,\u001b[0m \u001b[0;34m'ethiopia_2015'\u001b[0m\u001b[0;34m,\u001b[0m \u001b[0;34m'nigeria_2015'\u001b[0m\u001b[0;34m]\u001b[0m\u001b[0;34m:\u001b[0m\u001b[0;34m\u001b[0m\u001b[0;34m\u001b[0m\u001b[0m\n\u001b[0;32m----> 2\u001b[0;31m     \u001b[0mos\u001b[0m\u001b[0;34m.\u001b[0m\u001b[0mmakedirs\u001b[0m\u001b[0;34m(\u001b[0m\u001b[0mos\u001b[0m\u001b[0;34m.\u001b[0m\u001b[0mpath\u001b[0m\u001b[0;34m.\u001b[0m\u001b[0mjoin\u001b[0m\u001b[0;34m(\u001b[0m\u001b[0mCOUNTRIES_DIR\u001b[0m\u001b[0;34m,\u001b[0m \u001b[0mcountry\u001b[0m\u001b[0;34m,\u001b[0m \u001b[0;34m'images'\u001b[0m\u001b[0;34m)\u001b[0m\u001b[0;34m,\u001b[0m \u001b[0mexist_ok\u001b[0m\u001b[0;34m=\u001b[0m\u001b[0;32mFalse\u001b[0m\u001b[0;34m)\u001b[0m\u001b[0;34m\u001b[0m\u001b[0;34m\u001b[0m\u001b[0m\n\u001b[0m",
            "\u001b[0;32m/usr/lib/python3.7/os.py\u001b[0m in \u001b[0;36mmakedirs\u001b[0;34m(name, mode, exist_ok)\u001b[0m\n\u001b[1;32m    221\u001b[0m             \u001b[0;32mreturn\u001b[0m\u001b[0;34m\u001b[0m\u001b[0;34m\u001b[0m\u001b[0m\n\u001b[1;32m    222\u001b[0m     \u001b[0;32mtry\u001b[0m\u001b[0;34m:\u001b[0m\u001b[0;34m\u001b[0m\u001b[0;34m\u001b[0m\u001b[0m\n\u001b[0;32m--> 223\u001b[0;31m         \u001b[0mmkdir\u001b[0m\u001b[0;34m(\u001b[0m\u001b[0mname\u001b[0m\u001b[0;34m,\u001b[0m \u001b[0mmode\u001b[0m\u001b[0;34m)\u001b[0m\u001b[0;34m\u001b[0m\u001b[0;34m\u001b[0m\u001b[0m\n\u001b[0m\u001b[1;32m    224\u001b[0m     \u001b[0;32mexcept\u001b[0m \u001b[0mOSError\u001b[0m\u001b[0;34m:\u001b[0m\u001b[0;34m\u001b[0m\u001b[0;34m\u001b[0m\u001b[0m\n\u001b[1;32m    225\u001b[0m         \u001b[0;31m# Cannot rely on checking for EEXIST, since the operating system\u001b[0m\u001b[0;34m\u001b[0m\u001b[0;34m\u001b[0m\u001b[0;34m\u001b[0m\u001b[0m\n",
            "\u001b[0;31mFileExistsError\u001b[0m: [Errno 17] File exists: 'gdrive/MyDrive/geo/data/countries/malawi_2016/images'"
          ]
        }
      ]
    },
    {
      "cell_type": "code",
      "metadata": {
        "id": "QlxLFk0tiqTH"
      },
      "source": [
        "def generate_download_locations(df, ipc=50):\n",
        "    '''\n",
        "    Takes a dataframe with columns cluster_lat, cluster_lon\n",
        "    Generates a 10km x 10km bounding box around the cluster and samples \n",
        "    ipc images per cluster. First samples in a grid fashion, then any \n",
        "    remaining points are randomly (uniformly) chosen\n",
        "    '''\n",
        "    np.random.seed(RANDOM_SEED) # for reproducability\n",
        "    df_download = {'image_name': [], 'image_lat': [], 'image_lon': [], 'cluster_lat': [], \n",
        "                   'cluster_lon': [], 'cons_pc': [], 'schools': [] }\n",
        "    \n",
        "    # side length of square for uniform distribution\n",
        "    edge_num = math.floor(math.sqrt(ipc))\n",
        "    for _, r in df.iterrows():\n",
        "        min_lat, min_lon, max_lat, max_lon = create_space(r.cluster_lat, r.cluster_lon)\n",
        "        lats = np.linspace(min_lat, max_lat, edge_num).tolist()\n",
        "        lons = np.linspace(min_lon, max_lon, edge_num).tolist()\n",
        "\n",
        "        # performs cartesian product\n",
        "        uniform_points = np.transpose([np.tile(lats, len(lons)), np.repeat(lons, len(lats))])\n",
        "        \n",
        "        lats = uniform_points[:,0].tolist()\n",
        "        lons = uniform_points[:,1].tolist()\n",
        "        \n",
        "        # fills the remainder with random points\n",
        "        for _ in range(ipc - edge_num * edge_num):\n",
        "            lat = random.uniform(min_lat, max_lat)\n",
        "            lon = random.uniform(min_lon, max_lon)\n",
        "            lats.append(lat)\n",
        "            lons.append(lon)\n",
        "        \n",
        "        # add to dict\n",
        "        for lat, lon in zip(lats, lons):\n",
        "            # image name is going to be image_lat_image_lon_cluster_lat_cluster_lon.png\n",
        "            image_name = str(lat) + '_' + str(lon) + '_' + str(r.cluster_lat) + '_' + str(r.cluster_lon) + '.png'\n",
        "            df_download['image_name'].append(image_name)\n",
        "            df_download['image_lat'].append(lat)\n",
        "            df_download['image_lon'].append(lon)\n",
        "            df_download['cluster_lat'].append(r.cluster_lat)\n",
        "            df_download['cluster_lon'].append(r.cluster_lon)\n",
        "            df_download['cons_pc'].append(r.cons_pc)\n",
        "            df_download['schools'].append(r.schools)\n",
        "        \n",
        "    return pd.DataFrame.from_dict(df_download)"
      ],
      "execution_count": null,
      "outputs": []
    },
    {
      "cell_type": "code",
      "metadata": {
        "id": "l1BRpf9yiqTI"
      },
      "source": [
        "# # df_mw_download = generate_download_locations(df_mw)\n",
        "# df_eth_download = generate_download_locations(df_eth)\n",
        "df_ng_download = generate_download_locations(df_ng)"
      ],
      "execution_count": null,
      "outputs": []
    },
    {
      "cell_type": "code",
      "metadata": {
        "colab": {
          "base_uri": "https://localhost:8080/"
        },
        "id": "y5r_X3L2iqTK",
        "outputId": "a559a47f-fb2e-4e79-99a9-990c1430eba0"
      },
      "source": [
        "# df_mw_download.shape, df_eth_download.shape, df_ng_download.shape\n",
        "df_ng_download.shape"
      ],
      "execution_count": null,
      "outputs": [
        {
          "output_type": "execute_result",
          "data": {
            "text/plain": [
              "(33000, 7)"
            ]
          },
          "metadata": {
            "tags": []
          },
          "execution_count": 8
        }
      ]
    },
    {
      "cell_type": "code",
      "metadata": {
        "id": "Nhd481lriqTN"
      },
      "source": [
        "# df_mw_download.head()"
      ],
      "execution_count": null,
      "outputs": []
    },
    {
      "cell_type": "code",
      "metadata": {
        "colab": {
          "base_uri": "https://localhost:8080/",
          "height": 204
        },
        "id": "SqvHNzWciqTO",
        "outputId": "fb1b5833-4e0b-4809-ae6a-c73611d69391"
      },
      "source": [
        "# df_eth_download.head()"
      ],
      "execution_count": null,
      "outputs": [
        {
          "output_type": "execute_result",
          "data": {
            "text/html": [
              "<div>\n",
              "<style scoped>\n",
              "    .dataframe tbody tr th:only-of-type {\n",
              "        vertical-align: middle;\n",
              "    }\n",
              "\n",
              "    .dataframe tbody tr th {\n",
              "        vertical-align: top;\n",
              "    }\n",
              "\n",
              "    .dataframe thead th {\n",
              "        text-align: right;\n",
              "    }\n",
              "</style>\n",
              "<table border=\"1\" class=\"dataframe\">\n",
              "  <thead>\n",
              "    <tr style=\"text-align: right;\">\n",
              "      <th></th>\n",
              "      <th>image_name</th>\n",
              "      <th>image_lat</th>\n",
              "      <th>image_lon</th>\n",
              "      <th>cluster_lat</th>\n",
              "      <th>cluster_lon</th>\n",
              "      <th>cons_pc</th>\n",
              "      <th>nightlights</th>\n",
              "    </tr>\n",
              "  </thead>\n",
              "  <tbody>\n",
              "    <tr>\n",
              "      <th>0</th>\n",
              "      <td>3.410784802784024_39.47107816189403_3.45570056...</td>\n",
              "      <td>3.410785</td>\n",
              "      <td>39.471078</td>\n",
              "      <td>3.455701</td>\n",
              "      <td>39.515994</td>\n",
              "      <td>14.854634</td>\n",
              "      <td>0.0</td>\n",
              "    </tr>\n",
              "    <tr>\n",
              "      <th>1</th>\n",
              "      <td>3.4257567241860163_39.47107816189403_3.4557005...</td>\n",
              "      <td>3.425757</td>\n",
              "      <td>39.471078</td>\n",
              "      <td>3.455701</td>\n",
              "      <td>39.515994</td>\n",
              "      <td>14.854634</td>\n",
              "      <td>0.0</td>\n",
              "    </tr>\n",
              "    <tr>\n",
              "      <th>2</th>\n",
              "      <td>3.440728645588008_39.47107816189403_3.45570056...</td>\n",
              "      <td>3.440729</td>\n",
              "      <td>39.471078</td>\n",
              "      <td>3.455701</td>\n",
              "      <td>39.515994</td>\n",
              "      <td>14.854634</td>\n",
              "      <td>0.0</td>\n",
              "    </tr>\n",
              "    <tr>\n",
              "      <th>3</th>\n",
              "      <td>3.45570056699_39.47107816189403_3.45570056699_...</td>\n",
              "      <td>3.455701</td>\n",
              "      <td>39.471078</td>\n",
              "      <td>3.455701</td>\n",
              "      <td>39.515994</td>\n",
              "      <td>14.854634</td>\n",
              "      <td>0.0</td>\n",
              "    </tr>\n",
              "    <tr>\n",
              "      <th>4</th>\n",
              "      <td>3.470672488391992_39.47107816189403_3.45570056...</td>\n",
              "      <td>3.470672</td>\n",
              "      <td>39.471078</td>\n",
              "      <td>3.455701</td>\n",
              "      <td>39.515994</td>\n",
              "      <td>14.854634</td>\n",
              "      <td>0.0</td>\n",
              "    </tr>\n",
              "  </tbody>\n",
              "</table>\n",
              "</div>"
            ],
            "text/plain": [
              "                                          image_name  ...  nightlights\n",
              "0  3.410784802784024_39.47107816189403_3.45570056...  ...          0.0\n",
              "1  3.4257567241860163_39.47107816189403_3.4557005...  ...          0.0\n",
              "2  3.440728645588008_39.47107816189403_3.45570056...  ...          0.0\n",
              "3  3.45570056699_39.47107816189403_3.45570056699_...  ...          0.0\n",
              "4  3.470672488391992_39.47107816189403_3.45570056...  ...          0.0\n",
              "\n",
              "[5 rows x 7 columns]"
            ]
          },
          "metadata": {
            "tags": []
          },
          "execution_count": 11
        }
      ]
    },
    {
      "cell_type": "code",
      "metadata": {
        "colab": {
          "base_uri": "https://localhost:8080/",
          "height": 204
        },
        "id": "unWw1QyTiqTO",
        "outputId": "d09b4584-8e17-4f61-80ca-cf66e3fdecb5"
      },
      "source": [
        "df_ng_download.head()"
      ],
      "execution_count": null,
      "outputs": [
        {
          "output_type": "execute_result",
          "data": {
            "text/html": [
              "<div>\n",
              "<style scoped>\n",
              "    .dataframe tbody tr th:only-of-type {\n",
              "        vertical-align: middle;\n",
              "    }\n",
              "\n",
              "    .dataframe tbody tr th {\n",
              "        vertical-align: top;\n",
              "    }\n",
              "\n",
              "    .dataframe thead th {\n",
              "        text-align: right;\n",
              "    }\n",
              "</style>\n",
              "<table border=\"1\" class=\"dataframe\">\n",
              "  <thead>\n",
              "    <tr style=\"text-align: right;\">\n",
              "      <th></th>\n",
              "      <th>image_name</th>\n",
              "      <th>image_lat</th>\n",
              "      <th>image_lon</th>\n",
              "      <th>cluster_lat</th>\n",
              "      <th>cluster_lon</th>\n",
              "      <th>cons_pc</th>\n",
              "      <th>schools</th>\n",
              "    </tr>\n",
              "  </thead>\n",
              "  <tbody>\n",
              "    <tr>\n",
              "      <th>0</th>\n",
              "      <td>4.270870351534024_6.223837135554024_4.31578611...</td>\n",
              "      <td>4.270870</td>\n",
              "      <td>6.223837</td>\n",
              "      <td>4.315786</td>\n",
              "      <td>6.268753</td>\n",
              "      <td>0.0</td>\n",
              "      <td>0</td>\n",
              "    </tr>\n",
              "    <tr>\n",
              "      <th>1</th>\n",
              "      <td>4.285842272936016_6.223837135554024_4.31578611...</td>\n",
              "      <td>4.285842</td>\n",
              "      <td>6.223837</td>\n",
              "      <td>4.315786</td>\n",
              "      <td>6.268753</td>\n",
              "      <td>0.0</td>\n",
              "      <td>0</td>\n",
              "    </tr>\n",
              "    <tr>\n",
              "      <th>2</th>\n",
              "      <td>4.300814194338008_6.223837135554024_4.31578611...</td>\n",
              "      <td>4.300814</td>\n",
              "      <td>6.223837</td>\n",
              "      <td>4.315786</td>\n",
              "      <td>6.268753</td>\n",
              "      <td>0.0</td>\n",
              "      <td>0</td>\n",
              "    </tr>\n",
              "    <tr>\n",
              "      <th>3</th>\n",
              "      <td>4.31578611574_6.223837135554024_4.31578611574_...</td>\n",
              "      <td>4.315786</td>\n",
              "      <td>6.223837</td>\n",
              "      <td>4.315786</td>\n",
              "      <td>6.268753</td>\n",
              "      <td>0.0</td>\n",
              "      <td>0</td>\n",
              "    </tr>\n",
              "    <tr>\n",
              "      <th>4</th>\n",
              "      <td>4.330758037141992_6.223837135554024_4.31578611...</td>\n",
              "      <td>4.330758</td>\n",
              "      <td>6.223837</td>\n",
              "      <td>4.315786</td>\n",
              "      <td>6.268753</td>\n",
              "      <td>0.0</td>\n",
              "      <td>0</td>\n",
              "    </tr>\n",
              "  </tbody>\n",
              "</table>\n",
              "</div>"
            ],
            "text/plain": [
              "                                          image_name  ...  schools\n",
              "0  4.270870351534024_6.223837135554024_4.31578611...  ...        0\n",
              "1  4.285842272936016_6.223837135554024_4.31578611...  ...        0\n",
              "2  4.300814194338008_6.223837135554024_4.31578611...  ...        0\n",
              "3  4.31578611574_6.223837135554024_4.31578611574_...  ...        0\n",
              "4  4.330758037141992_6.223837135554024_4.31578611...  ...        0\n",
              "\n",
              "[5 rows x 7 columns]"
            ]
          },
          "metadata": {
            "tags": []
          },
          "execution_count": 9
        }
      ]
    },
    {
      "cell_type": "code",
      "metadata": {
        "id": "xf6dj5P8iqTP"
      },
      "source": [
        "# # df_mw_download['country'] = 'mw'\n",
        "# df_eth_download['country'] = 'eth'\n",
        "df_ng_download['country'] = 'ng'"
      ],
      "execution_count": null,
      "outputs": []
    },
    {
      "cell_type": "code",
      "metadata": {
        "id": "LW49lKmliqTP"
      },
      "source": [
        "# for image download purposes the country distinction is irreleveant\n",
        "# df_potential_download = pd.concat([df_mw_download, df_eth_download, df_ng_download], axis=0)\n",
        "df_potential_download = df_ng_download\n",
        "df_potential_download.reset_index(drop=True, inplace=True)"
      ],
      "execution_count": null,
      "outputs": []
    },
    {
      "cell_type": "code",
      "metadata": {
        "colab": {
          "base_uri": "https://localhost:8080/",
          "height": 204
        },
        "id": "DkrzvDA3iqTP",
        "outputId": "5accdc19-8f83-434b-cff8-8907284e00c4"
      },
      "source": [
        "df_potential_download.head()"
      ],
      "execution_count": null,
      "outputs": [
        {
          "output_type": "execute_result",
          "data": {
            "text/html": [
              "<div>\n",
              "<style scoped>\n",
              "    .dataframe tbody tr th:only-of-type {\n",
              "        vertical-align: middle;\n",
              "    }\n",
              "\n",
              "    .dataframe tbody tr th {\n",
              "        vertical-align: top;\n",
              "    }\n",
              "\n",
              "    .dataframe thead th {\n",
              "        text-align: right;\n",
              "    }\n",
              "</style>\n",
              "<table border=\"1\" class=\"dataframe\">\n",
              "  <thead>\n",
              "    <tr style=\"text-align: right;\">\n",
              "      <th></th>\n",
              "      <th>image_name</th>\n",
              "      <th>image_lat</th>\n",
              "      <th>image_lon</th>\n",
              "      <th>cluster_lat</th>\n",
              "      <th>cluster_lon</th>\n",
              "      <th>cons_pc</th>\n",
              "      <th>schools</th>\n",
              "      <th>country</th>\n",
              "    </tr>\n",
              "  </thead>\n",
              "  <tbody>\n",
              "    <tr>\n",
              "      <th>0</th>\n",
              "      <td>4.270870351534024_6.223837135554024_4.31578611...</td>\n",
              "      <td>4.270870</td>\n",
              "      <td>6.223837</td>\n",
              "      <td>4.315786</td>\n",
              "      <td>6.268753</td>\n",
              "      <td>0.0</td>\n",
              "      <td>0</td>\n",
              "      <td>ng</td>\n",
              "    </tr>\n",
              "    <tr>\n",
              "      <th>1</th>\n",
              "      <td>4.285842272936016_6.223837135554024_4.31578611...</td>\n",
              "      <td>4.285842</td>\n",
              "      <td>6.223837</td>\n",
              "      <td>4.315786</td>\n",
              "      <td>6.268753</td>\n",
              "      <td>0.0</td>\n",
              "      <td>0</td>\n",
              "      <td>ng</td>\n",
              "    </tr>\n",
              "    <tr>\n",
              "      <th>2</th>\n",
              "      <td>4.300814194338008_6.223837135554024_4.31578611...</td>\n",
              "      <td>4.300814</td>\n",
              "      <td>6.223837</td>\n",
              "      <td>4.315786</td>\n",
              "      <td>6.268753</td>\n",
              "      <td>0.0</td>\n",
              "      <td>0</td>\n",
              "      <td>ng</td>\n",
              "    </tr>\n",
              "    <tr>\n",
              "      <th>3</th>\n",
              "      <td>4.31578611574_6.223837135554024_4.31578611574_...</td>\n",
              "      <td>4.315786</td>\n",
              "      <td>6.223837</td>\n",
              "      <td>4.315786</td>\n",
              "      <td>6.268753</td>\n",
              "      <td>0.0</td>\n",
              "      <td>0</td>\n",
              "      <td>ng</td>\n",
              "    </tr>\n",
              "    <tr>\n",
              "      <th>4</th>\n",
              "      <td>4.330758037141992_6.223837135554024_4.31578611...</td>\n",
              "      <td>4.330758</td>\n",
              "      <td>6.223837</td>\n",
              "      <td>4.315786</td>\n",
              "      <td>6.268753</td>\n",
              "      <td>0.0</td>\n",
              "      <td>0</td>\n",
              "      <td>ng</td>\n",
              "    </tr>\n",
              "  </tbody>\n",
              "</table>\n",
              "</div>"
            ],
            "text/plain": [
              "                                          image_name  ...  country\n",
              "0  4.270870351534024_6.223837135554024_4.31578611...  ...       ng\n",
              "1  4.285842272936016_6.223837135554024_4.31578611...  ...       ng\n",
              "2  4.300814194338008_6.223837135554024_4.31578611...  ...       ng\n",
              "3  4.31578611574_6.223837135554024_4.31578611574_...  ...       ng\n",
              "4  4.330758037141992_6.223837135554024_4.31578611...  ...       ng\n",
              "\n",
              "[5 rows x 8 columns]"
            ]
          },
          "metadata": {
            "tags": []
          },
          "execution_count": 12
        }
      ]
    },
    {
      "cell_type": "code",
      "metadata": {
        "colab": {
          "base_uri": "https://localhost:8080/"
        },
        "id": "_H13xrEG8KM6",
        "outputId": "fa12468a-5401-4029-88ec-6839456ca7da"
      },
      "source": [
        "df_potential_download.shape"
      ],
      "execution_count": null,
      "outputs": [
        {
          "output_type": "execute_result",
          "data": {
            "text/plain": [
              "(33000, 8)"
            ]
          },
          "metadata": {
            "tags": []
          },
          "execution_count": 13
        }
      ]
    },
    {
      "cell_type": "markdown",
      "metadata": {
        "id": "tkvD_SW7iqTQ"
      },
      "source": [
        "# Filter Download Choices"
      ]
    },
    {
      "cell_type": "code",
      "metadata": {
        "colab": {
          "base_uri": "https://localhost:8080/"
        },
        "id": "g8TQCFGLiqTQ",
        "outputId": "5782fc78-15a5-46c0-da8a-a60b706c4097"
      },
      "source": [
        "df_potential_download['schools'].max()"
      ],
      "execution_count": null,
      "outputs": [
        {
          "output_type": "execute_result",
          "data": {
            "text/plain": [
              "576"
            ]
          },
          "metadata": {
            "tags": []
          },
          "execution_count": 13
        }
      ]
    },
    {
      "cell_type": "code",
      "metadata": {
        "colab": {
          "base_uri": "https://localhost:8080/"
        },
        "id": "4GnrymuoiqTQ",
        "outputId": "e422cfe7-b130-4768-bd7a-5f02b53f7627"
      },
      "source": [
        "# most nightlights are 0\n",
        "# let's download images that have nonzero nightlights to induce variety into the model\n",
        "print((df_potential_download['schools'] == 0).mean())\n",
        "print((df_potential_download['schools'] <= 2).mean())"
      ],
      "execution_count": null,
      "outputs": [
        {
          "output_type": "stream",
          "text": [
            "0.3515151515151515\n",
            "0.353030303030303\n"
          ],
          "name": "stdout"
        }
      ]
    },
    {
      "cell_type": "code",
      "metadata": {
        "id": "6ibURIDaiqTR"
      },
      "source": [
        "def drop_0s(df, fr=0.1):\n",
        "    \"\"\"\n",
        "        Solves for d:\n",
        "            (c_z - d)/(n - d) = fr\n",
        "        Where d = rows to drop, c_z = num rows with zero nightlights, n = num rows, fr = frac remaining\n",
        "        \n",
        "        Yields:\n",
        "        d = (c_z - n*fr) / (1 - fr)\n",
        "    \"\"\"\n",
        "    np.random.seed(RANDOM_SEED)\n",
        "    c_z = (df['schools']==0).sum()\n",
        "    n = len(df)\n",
        "    assert c_z / n > fr, print(f'Dataframe already has under {fr} zeros')\n",
        "    \n",
        "    d = (c_z - n * fr) / (1 - fr)\n",
        "    d = int(d)\n",
        "    print(f'dropping: {d}')\n",
        "    \n",
        "    zero_df = df[df['schools']==0]\n",
        "    zero_clusters = zero_df.groupby(['cluster_lat', 'cluster_lon'])\n",
        "    per_cluster_drop = int(d / len(zero_clusters))\n",
        "    print(f'Need to drop {per_cluster_drop} per cluster with 0 nightlights')\n",
        "    \n",
        "    drop_inds = []\n",
        "    for (cluster_lat, cluster_lon), group in zero_clusters:\n",
        "        z_inds = group.index\n",
        "        clust_drop = np.random.choice(z_inds, per_cluster_drop, replace=False)\n",
        "        assert len(group) - len(clust_drop) >= MIN_IMAGES_PER_CLUSTER, print(f'dropping too many in {cluster_lat}, {cluster_lon}')\n",
        "        drop_inds += clust_drop.tolist()\n",
        "    \n",
        "    # this is how you do it purely randomly but some clusters might get wiped out\n",
        "    # z_inds = np.argwhere(df['nightlights'].values == 0).reshape(-1)\n",
        "    # drop_inds = np.random.choice(z_inds, d, replace=False)\n",
        "    return df.drop(drop_inds).reset_index(drop=True)\n",
        "\n",
        "def drop_in_range(df, lower=0, upper=2, fr=0.25):\n",
        "    \"\"\"\n",
        "        Very similar to drop_0s calculation, but more generalized. Lower and upper are inclusive.\n",
        "    \"\"\"\n",
        "    np.random.seed(RANDOM_SEED)\n",
        "    boolean_idx = ((lower <= df['schools']) & (df['schools'] <= upper))\n",
        "    c_under = boolean_idx.sum()\n",
        "    n = len(df)\n",
        "    assert c_under / n > fr, print(f'Dataframe already has under {fr} rows in the given range')\n",
        "    \n",
        "    d = (c_under - n * fr) / (1 - fr)\n",
        "    d = int(d)\n",
        "    print(f'dropping: {d}')\n",
        "    \n",
        "    select_df = df[boolean_idx]\n",
        "    select_clusters = select_df.groupby(['cluster_lat', 'cluster_lon'])\n",
        "    per_cluster_drop = int(d / len(select_clusters))\n",
        "    print(f'Need to drop {per_cluster_drop} per cluster in the given range')\n",
        "    \n",
        "    drop_inds = []\n",
        "    for (cluster_lat, cluster_lon), group in select_clusters:\n",
        "        z_inds = group.index\n",
        "        clust_drop = np.random.choice(z_inds, per_cluster_drop, replace=False)\n",
        "        assert len(group) - len(clust_drop) >= MIN_IMAGES_PER_CLUSTER, print(f'dropping too many in {cluster_lat}, {cluster_lon}')\n",
        "        drop_inds += clust_drop.tolist()\n",
        "        \n",
        "    return df.drop(drop_inds).reset_index(drop=True)\n"
      ],
      "execution_count": null,
      "outputs": []
    },
    {
      "cell_type": "code",
      "metadata": {
        "colab": {
          "base_uri": "https://localhost:8080/"
        },
        "id": "wkVCur9diqTS",
        "outputId": "ce2bbf43-bf33-47e3-e9f0-d6db0c8fd910"
      },
      "source": [
        "df_mod_download = drop_0s(df_potential_download, fr=0.1)"
      ],
      "execution_count": null,
      "outputs": [
        {
          "output_type": "stream",
          "text": [
            "dropping: 9222\n",
            "Need to drop 39 per cluster with 0 nightlights\n"
          ],
          "name": "stdout"
        }
      ]
    },
    {
      "cell_type": "code",
      "metadata": {
        "colab": {
          "base_uri": "https://localhost:8080/"
        },
        "id": "CLQQ3IlOrskN",
        "outputId": "a5d9a374-90e5-4003-efc7-18a8e78ed200"
      },
      "source": [
        "df_potential_download.count()"
      ],
      "execution_count": null,
      "outputs": [
        {
          "output_type": "execute_result",
          "data": {
            "text/plain": [
              "image_name     33000\n",
              "image_lat      33000\n",
              "image_lon      33000\n",
              "cluster_lat    33000\n",
              "cluster_lon    33000\n",
              "cons_pc        33000\n",
              "schools        33000\n",
              "country        33000\n",
              "dtype: int64"
            ]
          },
          "metadata": {
            "tags": []
          },
          "execution_count": 14
        }
      ]
    },
    {
      "cell_type": "code",
      "metadata": {
        "colab": {
          "base_uri": "https://localhost:8080/"
        },
        "id": "o5bCJVKtiqTT",
        "outputId": "cb50d5d0-7afc-45ed-a477-2432e42b693b"
      },
      "source": [
        "df_mod_download = df_potential_download\n",
        "(df_mod_download['schools'] == 0).mean()"
      ],
      "execution_count": null,
      "outputs": [
        {
          "output_type": "execute_result",
          "data": {
            "text/plain": [
              "0.3515151515151515"
            ]
          },
          "metadata": {
            "tags": []
          },
          "execution_count": 16
        }
      ]
    },
    {
      "cell_type": "code",
      "metadata": {
        "colab": {
          "base_uri": "https://localhost:8080/"
        },
        "id": "yWOtlnCi8sKs",
        "outputId": "04e3211c-ae8e-452d-9468-82a3d4123fb9"
      },
      "source": [
        "df_mod_download.min()"
      ],
      "execution_count": null,
      "outputs": [
        {
          "output_type": "execute_result",
          "data": {
            "text/plain": [
              "image_name     10.0028716514_8.833083927184022_10.0028716514_...\n",
              "image_lat                                                4.27087\n",
              "image_lon                                                2.83456\n",
              "cluster_lat                                              4.31579\n",
              "cluster_lon                                              2.87948\n",
              "cons_pc                                                        0\n",
              "schools                                                        0\n",
              "country                                                       ng\n",
              "dtype: object"
            ]
          },
          "metadata": {
            "tags": []
          },
          "execution_count": 26
        }
      ]
    },
    {
      "cell_type": "code",
      "metadata": {
        "colab": {
          "base_uri": "https://localhost:8080/"
        },
        "id": "6wzC5xEO-fUc",
        "outputId": "5a886be3-f581-470b-ae08-67ca388a011d"
      },
      "source": [
        "df_mod_download.max()"
      ],
      "execution_count": null,
      "outputs": [
        {
          "output_type": "execute_result",
          "data": {
            "text/plain": [
              "image_name     9.987899729998007_8.922915455595975_10.0028716...\n",
              "image_lat                                                13.7592\n",
              "image_lon                                                13.6756\n",
              "cluster_lat                                              13.7142\n",
              "cluster_lon                                              13.6307\n",
              "cons_pc                                                  20.9519\n",
              "schools                                                      576\n",
              "country                                                       ng\n",
              "dtype: object"
            ]
          },
          "metadata": {
            "tags": []
          },
          "execution_count": 27
        }
      ]
    },
    {
      "cell_type": "code",
      "metadata": {
        "colab": {
          "base_uri": "https://localhost:8080/",
          "height": 334
        },
        "id": "i5lOnFRbiqTT",
        "outputId": "2ad3c307-9dac-4ad5-93b0-b263eec9e8ec"
      },
      "source": [
        "df_mod_download = drop_in_range(df_mod_download, lower=0, upper=576, fr=0.107)"
      ],
      "execution_count": null,
      "outputs": [
        {
          "output_type": "stream",
          "text": [
            "dropping: 23951\n",
            "Need to drop 36 per cluster in the given range\n",
            "dropping too many in 4.31578611574, 6.26875289976\n"
          ],
          "name": "stdout"
        },
        {
          "output_type": "error",
          "ename": "AssertionError",
          "evalue": "ignored",
          "traceback": [
            "\u001b[0;31m---------------------------------------------------------------------------\u001b[0m",
            "\u001b[0;31mAssertionError\u001b[0m                            Traceback (most recent call last)",
            "\u001b[0;32m<ipython-input-31-cfa6d83f6476>\u001b[0m in \u001b[0;36m<module>\u001b[0;34m()\u001b[0m\n\u001b[0;32m----> 1\u001b[0;31m \u001b[0mdf_mod_download\u001b[0m \u001b[0;34m=\u001b[0m \u001b[0mdrop_in_range\u001b[0m\u001b[0;34m(\u001b[0m\u001b[0mdf_mod_download\u001b[0m\u001b[0;34m,\u001b[0m \u001b[0mlower\u001b[0m\u001b[0;34m=\u001b[0m\u001b[0;36m0\u001b[0m\u001b[0;34m,\u001b[0m \u001b[0mupper\u001b[0m\u001b[0;34m=\u001b[0m\u001b[0;36m576\u001b[0m\u001b[0;34m,\u001b[0m \u001b[0mfr\u001b[0m\u001b[0;34m=\u001b[0m\u001b[0;36m0.107\u001b[0m\u001b[0;34m)\u001b[0m\u001b[0;34m\u001b[0m\u001b[0;34m\u001b[0m\u001b[0m\n\u001b[0m",
            "\u001b[0;32m<ipython-input-29-994d285000d8>\u001b[0m in \u001b[0;36mdrop_in_range\u001b[0;34m(df, lower, upper, fr)\u001b[0m\n\u001b[1;32m     57\u001b[0m         \u001b[0mz_inds\u001b[0m \u001b[0;34m=\u001b[0m \u001b[0mgroup\u001b[0m\u001b[0;34m.\u001b[0m\u001b[0mindex\u001b[0m\u001b[0;34m\u001b[0m\u001b[0;34m\u001b[0m\u001b[0m\n\u001b[1;32m     58\u001b[0m         \u001b[0mclust_drop\u001b[0m \u001b[0;34m=\u001b[0m \u001b[0mnp\u001b[0m\u001b[0;34m.\u001b[0m\u001b[0mrandom\u001b[0m\u001b[0;34m.\u001b[0m\u001b[0mchoice\u001b[0m\u001b[0;34m(\u001b[0m\u001b[0mz_inds\u001b[0m\u001b[0;34m,\u001b[0m \u001b[0mper_cluster_drop\u001b[0m\u001b[0;34m,\u001b[0m \u001b[0mreplace\u001b[0m\u001b[0;34m=\u001b[0m\u001b[0;32mTrue\u001b[0m\u001b[0;34m)\u001b[0m\u001b[0;34m\u001b[0m\u001b[0;34m\u001b[0m\u001b[0m\n\u001b[0;32m---> 59\u001b[0;31m         \u001b[0;32massert\u001b[0m \u001b[0mlen\u001b[0m\u001b[0;34m(\u001b[0m\u001b[0mgroup\u001b[0m\u001b[0;34m)\u001b[0m \u001b[0;34m-\u001b[0m \u001b[0mlen\u001b[0m\u001b[0;34m(\u001b[0m\u001b[0mclust_drop\u001b[0m\u001b[0;34m)\u001b[0m \u001b[0;34m>=\u001b[0m \u001b[0mMIN_IMAGES_PER_CLUSTER\u001b[0m\u001b[0;34m,\u001b[0m \u001b[0mprint\u001b[0m\u001b[0;34m(\u001b[0m\u001b[0;34mf'dropping too many in {cluster_lat}, {cluster_lon}'\u001b[0m\u001b[0;34m)\u001b[0m\u001b[0;34m\u001b[0m\u001b[0;34m\u001b[0m\u001b[0m\n\u001b[0m\u001b[1;32m     60\u001b[0m         \u001b[0mdrop_inds\u001b[0m \u001b[0;34m+=\u001b[0m \u001b[0mclust_drop\u001b[0m\u001b[0;34m.\u001b[0m\u001b[0mtolist\u001b[0m\u001b[0;34m(\u001b[0m\u001b[0;34m)\u001b[0m\u001b[0;34m\u001b[0m\u001b[0;34m\u001b[0m\u001b[0m\n\u001b[1;32m     61\u001b[0m \u001b[0;34m\u001b[0m\u001b[0m\n",
            "\u001b[0;31mAssertionError\u001b[0m: None"
          ]
        }
      ]
    },
    {
      "cell_type": "code",
      "metadata": {
        "colab": {
          "base_uri": "https://localhost:8080/"
        },
        "id": "uljZ8WWGiqTT",
        "outputId": "2da9f609-f992-4d10-b8e3-397a946da9a4"
      },
      "source": [
        "((0.001 <= df_mod_download['schools']) & (df_mod_download['schools'] <= 3)).mean()"
      ],
      "execution_count": null,
      "outputs": [
        {
          "output_type": "execute_result",
          "data": {
            "text/plain": [
              "0.0020875083500334003"
            ]
          },
          "metadata": {
            "tags": []
          },
          "execution_count": 34
        }
      ]
    },
    {
      "cell_type": "code",
      "metadata": {
        "colab": {
          "base_uri": "https://localhost:8080/"
        },
        "id": "z70U-yLhiqTT",
        "outputId": "c3b2568a-54e6-4f3c-bcea-53616bad6571"
      },
      "source": [
        "# this has gone up now though\n",
        "(df_mod_download['schools'] == 0).mean()"
      ],
      "execution_count": null,
      "outputs": [
        {
          "output_type": "execute_result",
          "data": {
            "text/plain": [
              "0.10654642618570474"
            ]
          },
          "metadata": {
            "tags": []
          },
          "execution_count": 22
        }
      ]
    },
    {
      "cell_type": "code",
      "metadata": {
        "colab": {
          "base_uri": "https://localhost:8080/",
          "height": 300
        },
        "id": "3gj6x123iqTU",
        "outputId": "d8a67a43-3f96-4b64-d07d-bc49d4c371c7"
      },
      "source": [
        "df_mod_download = drop_0s(df_mod_download, fr=0.2)"
      ],
      "execution_count": null,
      "outputs": [
        {
          "output_type": "stream",
          "text": [
            "Dataframe already has under 0.2 zeros\n"
          ],
          "name": "stdout"
        },
        {
          "output_type": "error",
          "ename": "AssertionError",
          "evalue": "ignored",
          "traceback": [
            "\u001b[0;31m---------------------------------------------------------------------------\u001b[0m",
            "\u001b[0;31mAssertionError\u001b[0m                            Traceback (most recent call last)",
            "\u001b[0;32m<ipython-input-23-005c34cd18c2>\u001b[0m in \u001b[0;36m<module>\u001b[0;34m()\u001b[0m\n\u001b[0;32m----> 1\u001b[0;31m \u001b[0mdf_mod_download\u001b[0m \u001b[0;34m=\u001b[0m \u001b[0mdrop_0s\u001b[0m\u001b[0;34m(\u001b[0m\u001b[0mdf_mod_download\u001b[0m\u001b[0;34m,\u001b[0m \u001b[0mfr\u001b[0m\u001b[0;34m=\u001b[0m\u001b[0;36m0.2\u001b[0m\u001b[0;34m)\u001b[0m\u001b[0;34m\u001b[0m\u001b[0;34m\u001b[0m\u001b[0m\n\u001b[0m",
            "\u001b[0;32m<ipython-input-16-3e22ef876578>\u001b[0m in \u001b[0;36mdrop_0s\u001b[0;34m(df, fr)\u001b[0m\n\u001b[1;32m     11\u001b[0m     \u001b[0mc_z\u001b[0m \u001b[0;34m=\u001b[0m \u001b[0;34m(\u001b[0m\u001b[0mdf\u001b[0m\u001b[0;34m[\u001b[0m\u001b[0;34m'schools'\u001b[0m\u001b[0;34m]\u001b[0m\u001b[0;34m==\u001b[0m\u001b[0;36m0\u001b[0m\u001b[0;34m)\u001b[0m\u001b[0;34m.\u001b[0m\u001b[0msum\u001b[0m\u001b[0;34m(\u001b[0m\u001b[0;34m)\u001b[0m\u001b[0;34m\u001b[0m\u001b[0;34m\u001b[0m\u001b[0m\n\u001b[1;32m     12\u001b[0m     \u001b[0mn\u001b[0m \u001b[0;34m=\u001b[0m \u001b[0mlen\u001b[0m\u001b[0;34m(\u001b[0m\u001b[0mdf\u001b[0m\u001b[0;34m)\u001b[0m\u001b[0;34m\u001b[0m\u001b[0;34m\u001b[0m\u001b[0m\n\u001b[0;32m---> 13\u001b[0;31m     \u001b[0;32massert\u001b[0m \u001b[0mc_z\u001b[0m \u001b[0;34m/\u001b[0m \u001b[0mn\u001b[0m \u001b[0;34m>\u001b[0m \u001b[0mfr\u001b[0m\u001b[0;34m,\u001b[0m \u001b[0mprint\u001b[0m\u001b[0;34m(\u001b[0m\u001b[0;34mf'Dataframe already has under {fr} zeros'\u001b[0m\u001b[0;34m)\u001b[0m\u001b[0;34m\u001b[0m\u001b[0;34m\u001b[0m\u001b[0m\n\u001b[0m\u001b[1;32m     14\u001b[0m \u001b[0;34m\u001b[0m\u001b[0m\n\u001b[1;32m     15\u001b[0m     \u001b[0md\u001b[0m \u001b[0;34m=\u001b[0m \u001b[0;34m(\u001b[0m\u001b[0mc_z\u001b[0m \u001b[0;34m-\u001b[0m \u001b[0mn\u001b[0m \u001b[0;34m*\u001b[0m \u001b[0mfr\u001b[0m\u001b[0;34m)\u001b[0m \u001b[0;34m/\u001b[0m \u001b[0;34m(\u001b[0m\u001b[0;36m1\u001b[0m \u001b[0;34m-\u001b[0m \u001b[0mfr\u001b[0m\u001b[0;34m)\u001b[0m\u001b[0;34m\u001b[0m\u001b[0;34m\u001b[0m\u001b[0m\n",
            "\u001b[0;31mAssertionError\u001b[0m: None"
          ]
        }
      ]
    },
    {
      "cell_type": "markdown",
      "metadata": {
        "id": "chGJ_9byiqTU"
      },
      "source": [
        "At this point the low nightlight clusters (0 and under 3) have 11 and 12 images respectively, meaning very few more images can be dropped without going under 10."
      ]
    },
    {
      "cell_type": "code",
      "metadata": {
        "id": "hxY4yTXjiqTU"
      },
      "source": [
        "from sklearn.mixture import GaussianMixture as GMM\n",
        "X = df_mod_download['schools'].values.reshape(-1,1)\n",
        "gmm = GMM(n_components=3).fit(X)\n",
        "labels = gmm.predict(df_mod_download['schools'].values.reshape(-1,1))"
      ],
      "execution_count": null,
      "outputs": []
    },
    {
      "cell_type": "code",
      "metadata": {
        "colab": {
          "base_uri": "https://localhost:8080/"
        },
        "id": "qSI-sY6tiqTU",
        "outputId": "c1365ae5-b5d5-46d5-b511-c732a194fbcd"
      },
      "source": [
        "(labels==0).mean(), (labels==1).mean(), (labels==2).mean()"
      ],
      "execution_count": null,
      "outputs": [
        {
          "output_type": "execute_result",
          "data": {
            "text/plain": [
              "(0.7453239812959251, 0.029225116900467602, 0.22545090180360722)"
            ]
          },
          "metadata": {
            "tags": []
          },
          "execution_count": 17
        }
      ]
    },
    {
      "cell_type": "code",
      "metadata": {
        "colab": {
          "base_uri": "https://localhost:8080/"
        },
        "id": "CFymdGg8iqTU",
        "outputId": "520746c2-d327-4363-a5ef-20d6f37313fb"
      },
      "source": [
        "# these are the cutoff for the labels identified by the Guassian Mixture Model\n",
        "label0_max = df_mod_download['schools'][labels==0].max()\n",
        "label1_max = df_mod_download['schools'][labels==1].max()\n",
        "label2_max = df_mod_download['schools'][labels==2].max()\n",
        "label0_max, label1_max, label2_max"
      ],
      "execution_count": null,
      "outputs": [
        {
          "output_type": "execute_result",
          "data": {
            "text/plain": [
              "(68, 576, 240)"
            ]
          },
          "metadata": {
            "tags": []
          },
          "execution_count": 20
        }
      ]
    },
    {
      "cell_type": "code",
      "metadata": {
        "id": "Llb78MTviqTV"
      },
      "source": [
        "# I am going to hand reassign these to have better representation among all three classes\n",
        "# these are not ideal distributions obviously but the model should still be able to learn\n",
        "# something like a quantile cut might work better and be less arbitrary, but for reproducability \n",
        "# purposes I'll stick to the GMM-based approach\n",
        "label0_max = 0.05\n",
        "label1_max = 5\n",
        "label2_max = 70"
      ],
      "execution_count": null,
      "outputs": []
    },
    {
      "cell_type": "code",
      "metadata": {
        "colab": {
          "base_uri": "https://localhost:8080/"
        },
        "id": "VSZAzq5uiqTV",
        "outputId": "a1cc95a7-5fd9-4152-8cf6-fa3fbd9c62d0"
      },
      "source": [
        "def query_df(df, lower, upper):\n",
        "    return df[((lower <= df['schools']) & (df['schools'] < upper))]\n",
        "\n",
        "print(len(query_df(df_mod_download, 0, label0_max)) / len(df_mod_download))\n",
        "print(len(query_df(df_mod_download, label0_max, label1_max)) / len(df_mod_download))\n",
        "print(len(query_df(df_mod_download, label1_max, label2_max)) / len(df_mod_download))"
      ],
      "execution_count": null,
      "outputs": [
        {
          "output_type": "stream",
          "text": [
            "0.10654642618570474\n",
            "0.0647127588510354\n",
            "0.574064796259185\n"
          ],
          "name": "stdout"
        }
      ]
    },
    {
      "cell_type": "code",
      "metadata": {
        "colab": {
          "base_uri": "https://localhost:8080/"
        },
        "id": "ErMOpsbjiqTV",
        "outputId": "eee045d1-e566-4afb-fa08-cd210ff62464"
      },
      "source": [
        "def create_nightlights_bin(df, cutoffs):\n",
        "    assert len(cutoffs) >= 2, print('need at least 2 bins')\n",
        "    cutoffs = sorted(cutoffs, reverse=True)\n",
        "    labels = list(range(len(cutoffs)))[::-1]\n",
        "    df['schools_bin'] = len(cutoffs)\n",
        "    for cutoff, label in zip(cutoffs, labels):\n",
        "        df['schools_bin'].loc[df['schools'] <= cutoff] = label\n",
        "\n",
        "df_download = df_mod_download.copy()\n",
        "create_nightlights_bin(df_download, cutoffs=[label0_max, label1_max, label2_max])"
      ],
      "execution_count": null,
      "outputs": [
        {
          "output_type": "stream",
          "text": [
            "/usr/local/lib/python3.7/dist-packages/pandas/core/indexing.py:670: SettingWithCopyWarning: \n",
            "A value is trying to be set on a copy of a slice from a DataFrame\n",
            "\n",
            "See the caveats in the documentation: https://pandas.pydata.org/pandas-docs/stable/user_guide/indexing.html#returning-a-view-versus-a-copy\n",
            "  iloc._setitem_with_indexer(indexer, value)\n",
            "/usr/local/lib/python3.7/dist-packages/pandas/core/indexing.py:670: SettingWithCopyWarning: \n",
            "A value is trying to be set on a copy of a slice from a DataFrame\n",
            "\n",
            "See the caveats in the documentation: https://pandas.pydata.org/pandas-docs/stable/user_guide/indexing.html#returning-a-view-versus-a-copy\n",
            "  iloc._setitem_with_indexer(indexer, value)\n",
            "/usr/local/lib/python3.7/dist-packages/pandas/core/indexing.py:670: SettingWithCopyWarning: \n",
            "A value is trying to be set on a copy of a slice from a DataFrame\n",
            "\n",
            "See the caveats in the documentation: https://pandas.pydata.org/pandas-docs/stable/user_guide/indexing.html#returning-a-view-versus-a-copy\n",
            "  iloc._setitem_with_indexer(indexer, value)\n"
          ],
          "name": "stderr"
        }
      ]
    },
    {
      "cell_type": "code",
      "metadata": {
        "colab": {
          "base_uri": "https://localhost:8080/"
        },
        "id": "WPirq5YKiqTW",
        "outputId": "13d5a34f-819d-46c4-c4f5-204d44e917b3"
      },
      "source": [
        "# these should match above\n",
        "(df_download['schools_bin']==0).mean(), (df_download['schools_bin']==1).mean(), (df_download['schools_bin']==2).mean()\n"
      ],
      "execution_count": null,
      "outputs": [
        {
          "output_type": "execute_result",
          "data": {
            "text/plain": [
              "(0.10654642618570474, 0.0647127588510354, 0.584502338009352)"
            ]
          },
          "metadata": {
            "tags": []
          },
          "execution_count": 24
        }
      ]
    },
    {
      "cell_type": "code",
      "metadata": {
        "colab": {
          "base_uri": "https://localhost:8080/"
        },
        "id": "Ug1a-EotiqTW",
        "outputId": "a1407d02-3c32-4330-809d-0f4fdebcc034"
      },
      "source": [
        "df_download.shape"
      ],
      "execution_count": null,
      "outputs": [
        {
          "output_type": "execute_result",
          "data": {
            "text/plain": [
              "(23952, 9)"
            ]
          },
          "metadata": {
            "tags": []
          },
          "execution_count": 25
        }
      ]
    },
    {
      "cell_type": "code",
      "metadata": {
        "id": "lvUEfdJiiqTW"
      },
      "source": [
        "os.makedirs(PROCESSED_DIR, exist_ok=True)"
      ],
      "execution_count": null,
      "outputs": []
    },
    {
      "cell_type": "code",
      "metadata": {
        "id": "n0fk443siqTX"
      },
      "source": [
        "df_download.to_csv(os.path.join(PROCESSED_DIR, 'image_download_locs.csv'), index=False)"
      ],
      "execution_count": null,
      "outputs": []
    },
    {
      "cell_type": "code",
      "metadata": {
        "colab": {
          "base_uri": "https://localhost:8080/"
        },
        "id": "Qdc2Nzlan_iq",
        "outputId": "f1cc1d96-3609-4b65-9b19-240ac358be21"
      },
      "source": [
        "df_download.count()"
      ],
      "execution_count": null,
      "outputs": [
        {
          "output_type": "execute_result",
          "data": {
            "text/plain": [
              "image_name     23952\n",
              "image_lat      23952\n",
              "image_lon      23952\n",
              "cluster_lat    23952\n",
              "cluster_lon    23952\n",
              "cons_pc        23952\n",
              "schools        23952\n",
              "country        23952\n",
              "schools_bin    23952\n",
              "dtype: int64"
            ]
          },
          "metadata": {
            "tags": []
          },
          "execution_count": 28
        }
      ]
    },
    {
      "cell_type": "markdown",
      "metadata": {
        "id": "87oQFeHbiqTX"
      },
      "source": [
        "# Download Images\n",
        "If the script breaks, you can restart here by uncommenting the line below and running the below code again. It won't download images you have already downloaded."
      ]
    },
    {
      "cell_type": "code",
      "metadata": {
        "id": "Z_hZTdiiiqTX"
      },
      "source": [
        "# df_download = pd.read_csv(os.path.join(PROCESSED_DIR, 'image_download_locs.csv'))"
      ],
      "execution_count": null,
      "outputs": []
    },
    {
      "cell_type": "code",
      "metadata": {
        "id": "LKqxVTZRiqTX"
      },
      "source": [
        "# you can try the google downloader if you don't have the planet API key\n",
        "# the tradeoff is that planet's data can be queried with time, but Google's images\n",
        "# are higher res\n",
        "from utils import PlanetDownloader"
      ],
      "execution_count": null,
      "outputs": []
    },
    {
      "cell_type": "code",
      "metadata": {
        "colab": {
          "base_uri": "https://localhost:8080/",
          "height": 286
        },
        "id": "rPdAoDDeiqTY",
        "outputId": "089de1f9-5f04-442c-de6b-54b07f9f798a"
      },
      "source": [
        "# this demonstrates the API call\n",
        "lat = 38.441332\n",
        "lon = -105.234751\n",
        "min_year = 2016\n",
        "min_month = 1\n",
        "max_year = 2016\n",
        "max_month = 12\n",
        "\n",
        "# access = open(ACCESS_TOKEN_DIR, 'r').readlines()[0].strip()\n",
        "access = '9211d43783d34062be2a75640d8f7d6d'\n",
        "pd = PlanetDownloader(access)\n",
        "plt.imshow(pd.download_image(lat, lon, min_year, min_month, max_year, max_month))"
      ],
      "execution_count": null,
      "outputs": [
        {
          "output_type": "execute_result",
          "data": {
            "text/plain": [
              "<matplotlib.image.AxesImage at 0x7faea1de4d50>"
            ]
          },
          "metadata": {
            "tags": []
          },
          "execution_count": 36
        },
        {
          "output_type": "display_data",
          "data": {
            "image/png": "[encoded data removed]",
            "text/plain": [
              "<Figure size 432x288 with 1 Axes>"
            ]
          },
          "metadata": {
            "tags": [],
            "needs_background": "light"
          }
        }
      ]
    },
    {
      "cell_type": "code",
      "metadata": {
        "id": "o0cMhBHdiqTY"
      },
      "source": [
        "def download_images(df):\n",
        "    \"\"\"\n",
        "    Download images using a pandas DataFrame that has \"image_lat\", \"image_lon\", \"image_name\", \"country\" as columns\n",
        "    \n",
        "    Saves images to the corresponding country's images folder\n",
        "\n",
        "    To use the Google Downloader, switch PlanetDownloader to GoogleDownloader and make imd.download_image only\n",
        "    provide lat and lon as arguments. Use zoom = 16.\n",
        "    \"\"\"\n",
        "    access_list = ['9211d43783d34062be2a75640d8f7d6d','0e7c118039b34ce6b48b39f7a3623f98']\n",
        "    g_count = 0\n",
        "    \n",
        "    num_retries = 20\n",
        "    wait_time = 0.1 # seconds\n",
        "\n",
        "    # drops what is already downloaded\n",
        "    already_downloaded = os.listdir(os.path.join(COUNTRIES_DIR, 'malawi_2016', 'images')) + \\\n",
        "                        os.listdir(os.path.join(COUNTRIES_DIR, 'ethiopia_2015', 'images')) + \\\n",
        "                        os.listdir(os.path.join(COUNTRIES_DIR, 'nigeria_2015', 'images'))\n",
        "    already_downloaded =  list(set(already_downloaded).intersection(set(df['image_name'])))\n",
        "    print('Already downloaded ' + str(len(already_downloaded)))\n",
        "    df = df.set_index('image_name').drop(already_downloaded).reset_index()\n",
        "    print('Need to download ' + str(len(df)))\n",
        "    # use three years of images to find one that matches search critera\n",
        "    min_year = 2014\n",
        "    min_month = 1\n",
        "    max_year = 2016\n",
        "    max_month = 12\n",
        "    for i in range(len(access_list)):\n",
        "      access = access_list[i]\n",
        "      imd = PlanetDownloader(access)\n",
        "      df_temp = df.iloc[i*10000:(i+1)*10000]\n",
        "      for _, r in tqdm(df_temp.iterrows(), total=df_temp.shape[0]):\n",
        "          if g_count > 10000:\n",
        "            break\n",
        "          g_count +=1\n",
        "          lat = r.image_lat\n",
        "          lon = r.image_lon\n",
        "          zoom = 50\n",
        "          name = r.image_name\n",
        "          country_dir = None\n",
        "          if r.country == 'mw':\n",
        "              country_dir = 'malawi_2016'\n",
        "          elif r.country == 'eth':\n",
        "              country_dir = 'ethiopia_2015'\n",
        "          elif r.country == 'ng':\n",
        "              country_dir = 'nigeria_2015'\n",
        "          else:\n",
        "              print(f\"unrecognized country: {r.country}\")\n",
        "              raise ValueError()\n",
        "          image_save_path = os.path.join(COUNTRIES_DIR, country_dir, 'images', r.image_name)\n",
        "          try:\n",
        "              im = imd.download_image(lat, lon, min_year, min_month, max_year, max_month)\n",
        "              if (type(im) == str and im == 'RETRY') or im is None:\n",
        "                  resolved = False\n",
        "                  for _ in range(num_retries):\n",
        "                      time.sleep(wait_time)\n",
        "                      im = imd.download_image(lat, lon, min_year, min_month, max_year, max_month)\n",
        "                      if (type(im) == str and im == 'RETRY') or im is None:\n",
        "                          continue\n",
        "                      else:\n",
        "                          plt.imsave(image_save_path, im)\n",
        "                          resolved = True\n",
        "                          break\n",
        "                  if not resolved:\n",
        "                      print(f'Could not download {lat}, {lon} despite several retries and waiting')\n",
        "                      continue\n",
        "                  else:\n",
        "                      pass\n",
        "              else:\n",
        "                  # no issues, save according to naming convention\n",
        "                  plt.imsave(image_save_path, im)\n",
        "\n",
        "          except Exception as e:\n",
        "              logging.error(f\"Error-could not download {lat}, {lon}\", exc_info=True)\n",
        "              continue\n",
        "        \n",
        "    # with open(ACCESS_TOKEN_DIR, 'r') as f:\n",
        "    #     access = f.readlines()[0]\n",
        "    "
      ],
      "execution_count": null,
      "outputs": []
    },
    {
      "cell_type": "code",
      "metadata": {
        "colab": {
          "base_uri": "https://localhost:8080/",
          "height": 1000,
          "referenced_widgets": [
            "b87985c7272240ffac6fa18a7ad8afd7",
            "a21c03c3216a47aca8686cb8844004eb",
            "9eb0fe9e025a4caf8b573ff97149a243",
            "f0bd474fab4c483cbf454d8830b57dff",
            "227b34a3910c47458063f523ccca6fed",
            "053010526ef34b48957946f631161ae5",
            "6bd31a62cdc44624bcd994538e754b2c",
            "4acec572d9b24d5c8845766ad07c6fda",
            "7883f87cfbfa4e128f78d05f4622b2e3",
            "5dbf82e43fdc4e72b8b44e0dd2f358f4",
            "20f7c795adc14f2aa7bf302e2a8b9b58",
            "a35af02725884dc386b25acdc1710c0e",
            "fa49c46435ca4acd98f75bf7f1b76fef",
            "3e51507f03cb4657a2f9a374c296c97d",
            "89d9c7a5d0c843b9be3da7f3b90eeb1c",
            "c0c336c149dd4d8db203c09e7cf81e60"
          ]
        },
        "id": "5bQ9hanyiqTZ",
        "outputId": "d7c12062-ad6b-4d6d-e7dd-a8cc46768e68"
      },
      "source": [
        "download_images(df_download)"
      ],
      "execution_count": null,
      "outputs": [
        {
          "output_type": "stream",
          "text": [
            "Already downloaded 0\n",
            "Need to download 23952\n"
          ],
          "name": "stdout"
        },
        {
          "output_type": "display_data",
          "data": {
            "application/vnd.jupyter.widget-view+json": {
              "model_id": "b87985c7272240ffac6fa18a7ad8afd7",
              "version_minor": 0,
              "version_major": 2
            },
            "text/plain": [
              "HBox(children=(FloatProgress(value=0.0, max=10000.0), HTML(value='')))"
            ]
          },
          "metadata": {
            "tags": []
          }
        },
        {
          "output_type": "stream",
          "text": [
            "Could not download 4.31578611574, 6.223837135554024 despite several retries and waiting\n",
            "Could not download 4.330758037141992, 6.223837135554024 despite several retries and waiting\n",
            "Could not download 4.285842272936016, 6.238809056956016 despite several retries and waiting\n",
            "Could not download 4.345729958543984, 6.253780978358008 despite several retries and waiting\n",
            "Could not download 4.300814194338008, 6.26875289976 despite several retries and waiting\n",
            "Could not download 4.330758037141992, 6.26875289976 despite several retries and waiting\n",
            "Could not download 4.345729958543984, 6.313668663965976 despite several retries and waiting\n",
            "Could not download 4.283803377034025, 6.263256104344025 despite several retries and waiting\n",
            "Could not download 4.283803377034025, 6.278228025746017 despite several retries and waiting\n",
            "Could not download 4.3287191412400015, 6.278228025746017 despite several retries and waiting\n",
            "Could not download 4.313747219838009, 6.3081718685500014 despite several retries and waiting\n",
            "Could not download 4.343691062641994, 6.3231437899519936 despite several retries and waiting\n",
            "Could not download 4.283803377034025, 6.338115711353986 despite several retries and waiting\n"
          ],
          "name": "stdout"
        },
        {
          "output_type": "stream",
          "text": [
            "ERROR:root:Error-could not download 4.358662984043986, 6.353087632755978\n",
            "Traceback (most recent call last):\n",
            "  File \"<ipython-input-132-e8009a3609ec>\", line 56, in download_images\n",
            "    im = imd.download_image(lat, lon, min_year, min_month, max_year, max_month)\n",
            "  File \"gdrive/MyDrive/geo/utils/planet_downloader.py\", line 95, in download_image\n",
            "    res = json.loads(result.text)\n",
            "  File \"/usr/lib/python3.7/json/__init__.py\", line 348, in loads\n",
            "    return _default_decoder.decode(s)\n",
            "  File \"/usr/lib/python3.7/json/decoder.py\", line 337, in decode\n",
            "    obj, end = self.raw_decode(s, idx=_w(s, 0).end())\n",
            "  File \"/usr/lib/python3.7/json/decoder.py\", line 355, in raw_decode\n",
            "    raise JSONDecodeError(\"Expecting value\", s, err.value) from None\n",
            "json.decoder.JSONDecodeError: Expecting value: line 1 column 1 (char 0)\n"
          ],
          "name": "stderr"
        },
        {
          "output_type": "stream",
          "text": [
            "Could not download 4.373634905445978, 6.353087632755978 despite several retries and waiting\n",
            "Could not download 4.358330553338691, 6.341616882848491 despite several retries and waiting\n",
            "Could not download 4.443342532885977, 7.139046639044024 despite several retries and waiting\n",
            "Could not download 4.440163648431993, 7.122018824984023 despite several retries and waiting\n",
            "Could not download 4.455135569833985, 7.122018824984023 despite several retries and waiting\n",
            "Could not download 4.440163648431993, 7.136990746386015 despite several retries and waiting\n",
            "Could not download 4.455135569833985, 7.136990746386015 despite several retries and waiting\n",
            "Could not download 4.574461166034023, 7.640029737454023 despite several retries and waiting\n",
            "Could not download 4.634348851641992, 7.640029737454023 despite several retries and waiting\n",
            "Could not download 4.649320773043984, 7.640029737454023 despite several retries and waiting\n",
            "Could not download 4.664292694445976, 7.640029737454023 despite several retries and waiting\n",
            "Could not download 4.574461166034023, 7.6550016588560155 despite several retries and waiting\n",
            "Could not download 4.61937693024, 7.6550016588560155 despite several retries and waiting\n",
            "Could not download 4.634348851641992, 7.6550016588560155 despite several retries and waiting\n",
            "Could not download 4.649320773043984, 7.6550016588560155 despite several retries and waiting\n",
            "Could not download 4.589433087436015, 7.669973580258008 despite several retries and waiting\n",
            "Could not download 4.6044050088380075, 7.669973580258008 despite several retries and waiting\n",
            "Could not download 4.61937693024, 7.669973580258008 despite several retries and waiting\n",
            "Could not download 4.664292694445976, 7.669973580258008 despite several retries and waiting\n",
            "Could not download 4.589433087436015, 7.68494550166 despite several retries and waiting\n",
            "Could not download 4.6044050088380075, 7.68494550166 despite several retries and waiting\n",
            "Could not download 4.61937693024, 7.68494550166 despite several retries and waiting\n",
            "Could not download 4.664292694445976, 7.68494550166 despite several retries and waiting\n",
            "Could not download 4.634348851641992, 7.714889344463984 despite several retries and waiting\n",
            "Could not download 4.649320773043984, 7.714889344463984 despite several retries and waiting\n",
            "Could not download 4.634348851641992, 7.729861265865976 despite several retries and waiting\n",
            "Could not download 4.649320773043984, 7.729861265865976 despite several retries and waiting\n",
            "Could not download 4.638935461471992, 7.726766119734022 despite several retries and waiting\n",
            "Could not download 4.618496930808007, 7.656062334554024 despite several retries and waiting\n",
            "Could not download 4.633468852209999, 7.656062334554024 despite several retries and waiting\n",
            "Could not download 4.648440773611991, 7.656062334554024 despite several retries and waiting\n",
            "Could not download 4.6783846164159755, 7.656062334554024 despite several retries and waiting\n",
            "Could not download 4.588553088004023, 7.671034255956016 despite several retries and waiting\n",
            "Could not download 4.603525009406015, 7.671034255956016 despite several retries and waiting\n",
            "Could not download 4.618496930808007, 7.671034255956016 despite several retries and waiting\n",
            "Could not download 4.663412695013983, 7.671034255956016 despite several retries and waiting\n",
            "Could not download 4.6783846164159755, 7.671034255956016 despite several retries and waiting\n",
            "Could not download 4.588553088004023, 7.686006177358008 despite several retries and waiting\n",
            "Could not download 4.603525009406015, 7.686006177358008 despite several retries and waiting\n",
            "Could not download 4.618496930808007, 7.686006177358008 despite several retries and waiting\n",
            "Could not download 4.663412695013983, 7.686006177358008 despite several retries and waiting\n",
            "Could not download 4.6783846164159755, 7.686006177358008 despite several retries and waiting\n",
            "Could not download 4.633468852209999, 7.715950020161992 despite several retries and waiting\n",
            "Could not download 4.648440773611991, 7.715950020161992 despite several retries and waiting\n",
            "Could not download 4.633468852209999, 7.7309219415639845 despite several retries and waiting\n",
            "Could not download 4.648440773611991, 7.7309219415639845 despite several retries and waiting\n",
            "Could not download 4.6529756634249715, 7.719875960421811 despite several retries and waiting\n",
            "Could not download 4.7087128449559765, 7.287448788724023 despite several retries and waiting\n",
            "Could not download 4.643263203974024, 7.663839143824022 despite several retries and waiting\n",
            "Could not download 4.68817896818, 7.663839143824022 despite several retries and waiting\n",
            "Could not download 4.658235125376016, 7.678811065226014 despite several retries and waiting\n",
            "Could not download 4.673207046778008, 7.678811065226014 despite several retries and waiting\n",
            "Could not download 4.68817896818, 7.678811065226014 despite several retries and waiting\n",
            "Could not download 4.733094732385976, 7.6937829866280065 despite several retries and waiting\n",
            "Could not download 4.733094732385976, 7.708754908029999 despite several retries and waiting\n",
            "Could not download 4.643263203974024, 7.723726829431991 despite several retries and waiting\n",
            "Could not download 4.703150889581992, 7.723726829431991 despite several retries and waiting\n",
            "Could not download 4.718122810983984, 7.723726829431991 despite several retries and waiting\n",
            "Could not download 4.703150889581992, 7.738698750833983 despite several retries and waiting\n",
            "Could not download 4.718122810983984, 7.738698750833983 despite several retries and waiting\n",
            "Could not download 4.703150889581992, 7.753670672235975 despite several retries and waiting\n",
            "Could not download 4.718122810983984, 7.753670672235975 despite several retries and waiting\n",
            "Could not download 4.70728140817, 6.043187026464023 despite several retries and waiting\n",
            "Could not download 4.677337565366016, 6.058158947866015 despite several retries and waiting\n",
            "Could not download 4.737225250973984, 6.058158947866015 despite several retries and waiting\n",
            "Could not download 4.752197172375976, 6.058158947866015 despite several retries and waiting\n",
            "Could not download 4.677337565366016, 6.073130869268007 despite several retries and waiting\n",
            "Could not download 4.692309486768008, 6.088102790669999 despite several retries and waiting\n",
            "Could not download 4.737225250973984, 6.088102790669999 despite several retries and waiting\n",
            "Could not download 4.677337565366016, 6.103074712071991 despite several retries and waiting\n",
            "Could not download 4.722253329571992, 6.118046633473983 despite several retries and waiting\n",
            "Could not download 4.752197172375976, 6.118046633473983 despite several retries and waiting\n",
            "Could not download 4.677337565366016, 6.133018554875975 despite several retries and waiting\n",
            "Could not download 4.699336230828008, 7.212831141355976 despite several retries and waiting\n",
            "Could not download 4.71430815223, 7.212831141355976 despite several retries and waiting\n",
            "Could not download 4.773699201163984, 6.7920717773319925 despite several retries and waiting\n",
            "Could not download 4.732034135208008, 7.258800712814024 despite several retries and waiting\n",
            "Could not download 4.702090292404024, 7.273772634216016 despite several retries and waiting\n",
            "Could not download 4.717062213806016, 7.273772634216016 despite several retries and waiting\n",
            "Could not download 4.776949899413984, 7.273772634216016 despite several retries and waiting\n",
            "Could not download 4.702090292404024, 7.288744555618008 despite several retries and waiting\n",
            "Could not download 4.717062213806016, 7.288744555618008 despite several retries and waiting\n",
            "Could not download 4.776949899413984, 7.288744555618008 despite several retries and waiting\n",
            "Could not download 4.74700605661, 7.30371647702 despite several retries and waiting\n",
            "Could not download 4.761977978011992, 7.30371647702 despite several retries and waiting\n",
            "Could not download 4.791921820815976, 7.318688398421992 despite several retries and waiting\n",
            "Could not download 4.791921820815976, 7.333660319823984 despite several retries and waiting\n",
            "Could not download 4.732034135208008, 7.348632241225976 despite several retries and waiting\n",
            "Could not download 4.74700605661, 7.348632241225976 despite several retries and waiting\n",
            "Could not download 4.761977978011992, 7.348632241225976 despite several retries and waiting\n",
            "Could not download 4.776949899413984, 7.348632241225976 despite several retries and waiting\n",
            "Could not download 4.715844019424024, 7.209912888695976 despite several retries and waiting\n",
            "Could not download 4.718475708294024, 7.966539670853984 despite several retries and waiting\n",
            "Could not download 4.733447629696016, 7.981511592255976 despite several retries and waiting\n",
            "Could not download 4.76758083369, 6.943311839634024 despite several retries and waiting\n",
            "Could not download 4.782552755091992, 6.943311839634024 despite several retries and waiting\n",
            "Could not download 4.7975246764939845, 6.943311839634024 despite several retries and waiting\n",
            "Could not download 4.812496597895977, 6.973255682438008 despite several retries and waiting\n",
            "Could not download 4.77589652323, 6.794670961454024 despite several retries and waiting\n",
            "Could not download 4.77589652323, 6.809642882856016 despite several retries and waiting\n",
            "Could not download 4.745952680426016, 6.824614804258008 despite several retries and waiting\n",
            "Could not download 4.760924601828008, 6.824614804258008 despite several retries and waiting\n",
            "Could not download 4.730980759024024, 6.8695305684639845 despite several retries and waiting\n",
            "Could not download 4.730980759024024, 6.884502489865977 despite several retries and waiting\n",
            "Could not download 4.813704083363985, 6.976052903154025 despite several retries and waiting\n",
            "Could not download 4.828676004765977, 6.976052903154025 despite several retries and waiting\n",
            "Could not download 4.7448233841240235, 6.292940347248008 despite several retries and waiting\n",
            "Could not download 4.759795305526016, 6.292940347248008 despite several retries and waiting\n",
            "Could not download 4.819682991133984, 6.292940347248008 despite several retries and waiting\n",
            "Could not download 4.774767226928008, 6.352828032855976 despite several retries and waiting\n",
            "Could not download 4.78973914833, 6.352828032855976 despite several retries and waiting\n",
            "Could not download 4.804711069731992, 6.352828032855976 despite several retries and waiting\n",
            "Could not download 4.763027457364024, 6.928135920174024 despite several retries and waiting\n"
          ],
          "name": "stdout"
        },
        {
          "output_type": "stream",
          "text": [
            "ERROR:root:Error-could not download 4.777999378766016, 6.928135920174024\n",
            "Traceback (most recent call last):\n",
            "  File \"<ipython-input-132-e8009a3609ec>\", line 56, in download_images\n",
            "    im = imd.download_image(lat, lon, min_year, min_month, max_year, max_month)\n",
            "  File \"gdrive/MyDrive/geo/utils/planet_downloader.py\", line 95, in download_image\n",
            "    res = json.loads(result.text)\n",
            "  File \"/usr/lib/python3.7/json/__init__.py\", line 348, in loads\n",
            "    return _default_decoder.decode(s)\n",
            "  File \"/usr/lib/python3.7/json/decoder.py\", line 337, in decode\n",
            "    obj, end = self.raw_decode(s, idx=_w(s, 0).end())\n",
            "  File \"/usr/lib/python3.7/json/decoder.py\", line 355, in raw_decode\n",
            "    raise JSONDecodeError(\"Expecting value\", s, err.value) from None\n",
            "json.decoder.JSONDecodeError: Expecting value: line 1 column 1 (char 0)\n"
          ],
          "name": "stderr"
        },
        {
          "output_type": "stream",
          "text": [
            "Could not download 4.792971300168008, 6.928135920174024 despite several retries and waiting\n",
            "Could not download 4.763027457364024, 6.943107841576016 despite several retries and waiting\n",
            "Could not download 4.777999378766016, 6.943107841576016 despite several retries and waiting\n",
            "Could not download 4.792971300168008, 6.943107841576016 despite several retries and waiting\n",
            "Could not download 4.80794322157, 6.973051684380001 despite several retries and waiting\n",
            "Could not download 4.8229151429719925, 6.973051684380001 despite several retries and waiting\n",
            "Could not download 4.837887064373985, 6.973051684380001 despite several retries and waiting\n",
            "Could not download 4.8113188547300005, 6.965991353474024 despite several retries and waiting\n",
            "Could not download 4.826290776131993, 6.965991353474024 despite several retries and waiting\n",
            "Could not download 4.841262697533985, 6.965991353474024 despite several retries and waiting\n",
            "Could not download 4.8113188547300005, 6.980963274876016 despite several retries and waiting\n",
            "Could not download 4.826290776131993, 6.980963274876016 despite several retries and waiting\n",
            "Could not download 4.841262697533985, 6.980963274876016 despite several retries and waiting\n",
            "Could not download 4.767380794814023, 8.161771710364023 despite several retries and waiting\n",
            "Could not download 4.782352716216015, 8.161771710364023 despite several retries and waiting\n",
            "Could not download 4.797324637618007, 8.161771710364023 despite several retries and waiting\n",
            "Could not download 4.812296559019999, 8.161771710364023 despite several retries and waiting\n",
            "Could not download 4.827268480421991, 8.161771710364023 despite several retries and waiting\n",
            "Could not download 4.767380794814023, 8.176743631766016 despite several retries and waiting\n",
            "Could not download 4.782352716216015, 8.176743631766016 despite several retries and waiting\n",
            "Could not download 4.797324637618007, 8.176743631766016 despite several retries and waiting\n",
            "Could not download 4.812296559019999, 8.176743631766016 despite several retries and waiting\n",
            "Could not download 4.827268480421991, 8.176743631766016 despite several retries and waiting\n",
            "Could not download 4.857212323225975, 8.176743631766016 despite several retries and waiting\n",
            "Could not download 4.767380794814023, 8.191715553168008 despite several retries and waiting\n",
            "Could not download 4.782352716216015, 8.191715553168008 despite several retries and waiting\n",
            "Could not download 4.797324637618007, 8.191715553168008 despite several retries and waiting\n",
            "Could not download 4.812296559019999, 8.191715553168008 despite several retries and waiting\n",
            "Could not download 4.827268480421991, 8.191715553168008 despite several retries and waiting\n",
            "Could not download 4.857212323225975, 8.191715553168008 despite several retries and waiting\n",
            "Could not download 4.767380794814023, 8.20668747457 despite several retries and waiting\n",
            "Could not download 4.782352716216015, 8.20668747457 despite several retries and waiting\n",
            "Could not download 4.797324637618007, 8.20668747457 despite several retries and waiting\n",
            "Could not download 4.812296559019999, 8.20668747457 despite several retries and waiting\n",
            "Could not download 4.827268480421991, 8.20668747457 despite several retries and waiting\n",
            "Could not download 4.842240401823983, 8.20668747457 despite several retries and waiting\n",
            "Could not download 4.857212323225975, 8.20668747457 despite several retries and waiting\n",
            "Could not download 4.767380794814023, 8.221659395971992 despite several retries and waiting\n",
            "Could not download 4.782352716216015, 8.221659395971992 despite several retries and waiting\n",
            "Could not download 4.797324637618007, 8.221659395971992 despite several retries and waiting\n",
            "Could not download 4.812296559019999, 8.221659395971992 despite several retries and waiting\n",
            "Could not download 4.827268480421991, 8.221659395971992 despite several retries and waiting\n",
            "Could not download 4.842240401823983, 8.221659395971992 despite several retries and waiting\n",
            "Could not download 4.857212323225975, 8.221659395971992 despite several retries and waiting\n",
            "Could not download 4.767380794814023, 8.236631317373984 despite several retries and waiting\n",
            "Could not download 4.782352716216015, 8.236631317373984 despite several retries and waiting\n",
            "Could not download 4.797324637618007, 8.236631317373984 despite several retries and waiting\n",
            "Could not download 4.812296559019999, 8.236631317373984 despite several retries and waiting\n",
            "Could not download 4.827268480421991, 8.236631317373984 despite several retries and waiting\n",
            "Could not download 4.842240401823983, 8.236631317373984 despite several retries and waiting\n",
            "Could not download 4.857212323225975, 8.236631317373984 despite several retries and waiting\n",
            "Could not download 4.767380794814023, 8.251603238775976 despite several retries and waiting\n",
            "Could not download 4.782352716216015, 8.251603238775976 despite several retries and waiting\n",
            "Could not download 4.842240401823983, 8.251603238775976 despite several retries and waiting\n",
            "Could not download 4.857212323225975, 8.251603238775976 despite several retries and waiting\n",
            "Could not download 4.831355854682952, 8.197687200810641 despite several retries and waiting\n",
            "Could not download 4.782409637894023, 8.03775303243402 despite several retries and waiting\n",
            "Could not download 4.797381559296015, 8.03775303243402 despite several retries and waiting\n",
            "Could not download 4.782409637894023, 8.052724953836012 despite several retries and waiting\n",
            "Could not download 4.797381559296015, 8.052724953836012 despite several retries and waiting\n",
            "Could not download 4.8123534806980075, 8.052724953836012 despite several retries and waiting\n",
            "Could not download 4.8273254021, 8.052724953836012 despite several retries and waiting\n",
            "Could not download 4.782409637894023, 8.067696875238004 despite several retries and waiting\n",
            "Could not download 4.8123534806980075, 8.067696875238004 despite several retries and waiting\n",
            "Could not download 4.8273254021, 8.067696875238004 despite several retries and waiting\n",
            "Could not download 4.782409637894023, 8.082668796639997 despite several retries and waiting\n",
            "Could not download 4.8123534806980075, 8.082668796639997 despite several retries and waiting\n",
            "Could not download 4.8273254021, 8.082668796639997 despite several retries and waiting\n",
            "Could not download 4.842297323501992, 8.097640718041989 despite several retries and waiting\n",
            "Could not download 4.857269244903984, 8.097640718041989 despite several retries and waiting\n",
            "Could not download 4.872241166305976, 8.097640718041989 despite several retries and waiting\n",
            "Could not download 4.797381559296015, 8.11261263944398 despite several retries and waiting\n",
            "Could not download 4.842297323501992, 8.11261263944398 despite several retries and waiting\n",
            "Could not download 4.857269244903984, 8.11261263944398 despite several retries and waiting\n",
            "Could not download 4.872241166305976, 8.11261263944398 despite several retries and waiting\n",
            "Could not download 4.797381559296015, 8.127584560845973 despite several retries and waiting\n",
            "Could not download 4.842297323501992, 8.127584560845973 despite several retries and waiting\n",
            "Could not download 4.857269244903984, 8.127584560845973 despite several retries and waiting\n",
            "Could not download 4.872241166305976, 8.127584560845973 despite several retries and waiting\n",
            "Could not download 4.858164785873984, 6.610742571134024 despite several retries and waiting\n",
            "Could not download 4.873136707275976, 6.610742571134024 despite several retries and waiting\n",
            "Could not download 4.798277100266016, 6.625714492536016 despite several retries and waiting\n",
            "Could not download 4.813249021668008, 6.625714492536016 despite several retries and waiting\n",
            "Could not download 4.82822094307, 6.625714492536016 despite several retries and waiting\n",
            "Could not download 4.843192864471992, 6.625714492536016 despite several retries and waiting\n",
            "Could not download 4.858164785873984, 6.625714492536016 despite several retries and waiting\n",
            "Could not download 4.813249021668008, 6.640686413938008 despite several retries and waiting\n",
            "Could not download 4.82822094307, 6.640686413938008 despite several retries and waiting\n",
            "Could not download 4.858164785873984, 6.640686413938008 despite several retries and waiting\n",
            "Could not download 4.813249021668008, 6.65565833534 despite several retries and waiting\n",
            "Could not download 4.82822094307, 6.65565833534 despite several retries and waiting\n",
            "Could not download 4.858164785873984, 6.65565833534 despite several retries and waiting\n",
            "Could not download 4.873136707275976, 6.670630256741992 despite several retries and waiting\n",
            "Could not download 4.873136707275976, 6.685602178143984 despite several retries and waiting\n",
            "Could not download 4.873136707275976, 6.700574099545976 despite several retries and waiting\n",
            "Could not download 4.794197859974024, 6.932358914714023 despite several retries and waiting\n",
            "Could not download 4.809169781376016, 6.97727467892 despite several retries and waiting\n",
            "Could not download 4.824141702778008, 6.97727467892 despite several retries and waiting\n",
            "Could not download 4.83911362418, 6.97727467892 despite several retries and waiting\n",
            "Could not download 4.803255570534024, 6.942066615554024 despite several retries and waiting\n",
            "Could not download 4.818227491936016, 6.9720104583580085 despite several retries and waiting\n",
            "Could not download 4.833199413338008, 6.9720104583580085 despite several retries and waiting\n",
            "Could not download 4.84817133474, 6.9720104583580085 despite several retries and waiting\n",
            "Could not download 4.818227491936016, 6.986982379760001 despite several retries and waiting\n",
            "Could not download 4.833199413338008, 6.986982379760001 despite several retries and waiting\n",
            "Could not download 4.84817133474, 6.986982379760001 despite several retries and waiting\n",
            "Could not download 4.805000887954023, 7.326533303524024 despite several retries and waiting\n",
            "Could not download 4.834944730758007, 7.326533303524024 despite several retries and waiting\n",
            "Could not download 4.849916652159999, 7.326533303524024 despite several retries and waiting\n",
            "Could not download 4.819972809356015, 7.341505224926016 despite several retries and waiting\n",
            "Could not download 4.879860494963983, 7.341505224926016 despite several retries and waiting\n",
            "Could not download 4.819972809356015, 7.356477146328008 despite several retries and waiting\n",
            "Could not download 4.879860494963983, 7.356477146328008 despite several retries and waiting\n",
            "Could not download 4.819972809356015, 7.37144906773 despite several retries and waiting\n",
            "Could not download 4.805000887954023, 7.3864209891319925 despite several retries and waiting\n",
            "Could not download 4.8948324163659755, 7.3864209891319925 despite several retries and waiting\n",
            "Could not download 4.805000887954023, 7.401392910533985 despite several retries and waiting\n",
            "Could not download 4.8948324163659755, 7.401392910533985 despite several retries and waiting\n",
            "Could not download 4.819972809356015, 7.416364831935977 despite several retries and waiting\n",
            "Could not download 4.834944730758007, 7.416364831935977 despite several retries and waiting\n",
            "Could not download 4.849916652159999, 7.416364831935977 despite several retries and waiting\n",
            "Could not download 4.879860494963983, 7.416364831935977 despite several retries and waiting\n",
            "Could not download 4.825922402875431, 7.414280823371018 despite several retries and waiting\n",
            "Could not download 4.904933960635977, 7.043627224258009 despite several retries and waiting\n",
            "Could not download 4.819735270454023, 7.834977320648008 despite several retries and waiting\n",
            "Could not download 4.879622956061992, 7.894865006255976 despite several retries and waiting\n",
            "Could not download 4.9180105918259756, 6.852338748894023 despite several retries and waiting\n",
            "Could not download 4.843150984816015, 6.867310670296015 despite several retries and waiting\n",
            "Could not download 4.9030386704239834, 6.927198355903983 despite several retries and waiting\n",
            "Could not download 4.9030386704239834, 6.9421702773059755 despite several retries and waiting\n",
            "Could not download 4.831274686524024, 6.786322199314023 despite several retries and waiting\n",
            "Could not download 4.846246607926016, 6.786322199314023 despite several retries and waiting\n",
            "Could not download 4.9061342935339844, 6.786322199314023 despite several retries and waiting\n",
            "Could not download 4.861218529328008, 6.801294120716015 despite several retries and waiting\n",
            "Could not download 4.87619045073, 6.801294120716015 despite several retries and waiting\n",
            "Could not download 4.891162372131992, 6.801294120716015 despite several retries and waiting\n",
            "Could not download 4.87619045073, 6.8162660421180075 despite several retries and waiting\n",
            "Could not download 4.891162372131992, 6.8162660421180075 despite several retries and waiting\n",
            "Could not download 4.87619045073, 6.83123796352 despite several retries and waiting\n",
            "Could not download 4.891162372131992, 6.83123796352 despite several retries and waiting\n",
            "Could not download 4.9211062149359766, 6.846209884921992 despite several retries and waiting\n",
            "Could not download 4.831274686524024, 6.861181806323984 despite several retries and waiting\n",
            "Could not download 4.846246607926016, 6.861181806323984 despite several retries and waiting\n",
            "Could not download 4.831274686524024, 6.876153727725976 despite several retries and waiting\n",
            "Could not download 4.846246607926016, 6.876153727725976 despite several retries and waiting\n",
            "Could not download 4.8986575724, 7.034441365283985 despite several retries and waiting\n",
            "Could not download 4.913629493801992, 7.034441365283985 despite several retries and waiting\n",
            "Could not download 4.9286014152039845, 7.034441365283985 despite several retries and waiting\n",
            "Could not download 4.8986575724, 7.049413286685977 despite several retries and waiting\n",
            "Could not download 4.913629493801992, 7.049413286685977 despite several retries and waiting\n",
            "Could not download 4.9286014152039845, 7.049413286685977 despite several retries and waiting\n",
            "Could not download 4.923970721140998, 7.03132589055261 despite several retries and waiting\n",
            "Could not download 4.880999392646016, 7.908453736364023 despite several retries and waiting\n",
            "Could not download 4.903783503998008, 6.199261082994024 despite several retries and waiting\n",
            "Could not download 4.903783503998008, 6.214233004396016 despite several retries and waiting\n",
            "Could not download 4.873839661194024, 6.229204925798008 despite several retries and waiting\n",
            "Could not download 4.888811582596016, 6.229204925798008 despite several retries and waiting\n",
            "Could not download 4.903783503998008, 6.229204925798008 despite several retries and waiting\n",
            "Could not download 4.894441895506016, 6.936036111738007 despite several retries and waiting\n",
            "Could not download 4.909413816908008, 6.936036111738007 despite several retries and waiting\n",
            "Could not download 4.969301502515976, 6.995923797345975 despite several retries and waiting\n",
            "Could not download 4.964420059423983, 7.937385238586015 despite several retries and waiting\n",
            "Could not download 4.979391980825975, 7.937385238586015 despite several retries and waiting\n",
            "Could not download 4.964420059423983, 7.952357159988007 despite several retries and waiting\n",
            "Could not download 4.979391980825975, 7.952357159988007 despite several retries and waiting\n",
            "Could not download 4.9670597757239845, 6.36422666906 despite several retries and waiting\n",
            "Could not download 4.922144011518008, 6.379198590461992 despite several retries and waiting\n",
            "Could not download 4.93711593292, 6.379198590461992 despite several retries and waiting\n",
            "Could not download 4.952087854321992, 6.379198590461992 despite several retries and waiting\n",
            "Could not download 4.907172090116016, 6.394170511863984 despite several retries and waiting\n",
            "Could not download 4.922144011518008, 6.394170511863984 despite several retries and waiting\n",
            "Could not download 4.93711593292, 6.394170511863984 despite several retries and waiting\n",
            "Could not download 4.982031697125977, 6.394170511863984 despite several retries and waiting\n",
            "Could not download 4.907172090116016, 6.409142433265976 despite several retries and waiting\n",
            "Could not download 4.922144011518008, 6.409142433265976 despite several retries and waiting\n",
            "Could not download 4.93711593292, 6.409142433265976 despite several retries and waiting\n",
            "Could not download 4.982031697125977, 6.409142433265976 despite several retries and waiting\n",
            "Could not download 4.9769585203052245, 6.36439930763586 despite several retries and waiting\n",
            "Could not download 4.962886491851992, 7.7433471246980075 despite several retries and waiting\n",
            "Could not download 4.977858413253984, 7.7433471246980075 despite several retries and waiting\n",
            "Could not download 4.962886491851992, 7.7583190461 despite several retries and waiting\n",
            "Could not download 4.977858413253984, 7.7583190461 despite several retries and waiting\n",
            "Could not download 4.962886491851992, 7.773290967501992 despite several retries and waiting\n",
            "Could not download 4.977858413253984, 7.773290967501992 despite several retries and waiting\n",
            "Could not download 4.992830334655976, 7.788262888903984 despite several retries and waiting\n",
            "Could not download 4.94791457045, 7.803234810305976 despite several retries and waiting\n",
            "Could not download 4.963922499984893, 7.743522599554681 despite several retries and waiting\n",
            "Could not download 4.96225342141, 8.297358519786016 despite several retries and waiting\n",
            "Could not download 4.977225342811992, 8.297358519786016 despite several retries and waiting\n",
            "Could not download 4.96225342141, 8.312330441188008 despite several retries and waiting\n",
            "Could not download 4.977225342811992, 8.312330441188008 despite several retries and waiting\n",
            "Could not download 4.96225342141, 8.32730236259 despite several retries and waiting\n",
            "Could not download 4.977225342811992, 8.32730236259 despite several retries and waiting\n",
            "Could not download 4.96225342141, 8.342274283991992 despite several retries and waiting\n",
            "Could not download 4.977225342811992, 8.342274283991992 despite several retries and waiting\n",
            "Could not download 4.947281500008008, 8.357246205393984 despite several retries and waiting\n",
            "Could not download 4.96225342141, 8.357246205393984 despite several retries and waiting\n",
            "Could not download 4.977225342811992, 8.357246205393984 despite several retries and waiting\n",
            "Could not download 4.96425337683, 5.77154382849 despite several retries and waiting\n",
            "Could not download 4.919337612624024, 5.816459592695976 despite several retries and waiting\n",
            "Could not download 4.940577174618642, 5.81489289125252 despite several retries and waiting\n",
            "Could not download 4.96466286575, 7.759788482994024 despite several retries and waiting\n",
            "Could not download 4.979634787151992, 7.759788482994024 despite several retries and waiting\n",
            "Could not download 4.96466286575, 7.774760404396016 despite several retries and waiting\n",
            "Could not download 4.979634787151992, 7.774760404396016 despite several retries and waiting\n",
            "Could not download 4.9946067085539845, 7.789732325798008 despite several retries and waiting\n",
            "Could not download 4.949690944348008, 7.8047042472 despite several retries and waiting\n",
            "Could not download 4.949690944348008, 7.819676168601992 despite several retries and waiting\n",
            "Could not download 4.96679274568, 6.352797664331992 despite several retries and waiting\n",
            "Could not download 4.96679274568, 6.367769585733984 despite several retries and waiting\n",
            "Could not download 4.921876981474024, 6.382741507135976 despite several retries and waiting\n",
            "Could not download 4.936848902876016, 6.382741507135976 despite several retries and waiting\n",
            "Could not download 4.951820824278008, 6.382741507135976 despite several retries and waiting\n",
            "Could not download 4.973558081616016, 7.94191212047 despite several retries and waiting\n",
            "Could not download 4.966674708914024, 7.934654492188008 despite several retries and waiting\n",
            "Could not download 4.966674708914024, 7.94962641359 despite several retries and waiting\n",
            "Could not download 4.983091570766016, 7.790244422454023 despite several retries and waiting\n",
            "Could not download 4.998063492168008, 7.790244422454023 despite several retries and waiting\n",
            "Could not download 5.028007334971992, 7.850132108061992 despite several retries and waiting\n",
            "Could not download 5.042979256373984, 7.850132108061992 despite several retries and waiting\n",
            "Could not download 5.028007334971992, 7.865104029463984 despite several retries and waiting\n",
            "Could not download 5.042979256373984, 7.865104029463984 despite several retries and waiting\n",
            "Could not download 5.01303541357, 7.880075950865976 despite several retries and waiting\n",
            "Could not download 5.057986988585976, 8.283603799334024 despite several retries and waiting\n",
            "Could not download 4.968155460174024, 8.298575720736016 despite several retries and waiting\n",
            "Could not download 5.028043145781992, 8.298575720736016 despite several retries and waiting\n",
            "Could not download 5.043015067183984, 8.298575720736016 despite several retries and waiting\n",
            "Could not download 5.057986988585976, 8.298575720736016 despite several retries and waiting\n",
            "Could not download 4.968155460174024, 8.313547642138008 despite several retries and waiting\n",
            "Could not download 5.057986988585976, 8.313547642138008 despite several retries and waiting\n",
            "Could not download 4.968155460174024, 8.32851956354 despite several retries and waiting\n",
            "Could not download 4.968155460174024, 8.343491484941993 despite several retries and waiting\n",
            "Could not download 4.968155460174024, 8.358463406343985 despite several retries and waiting\n",
            "Could not download 5.028043145781992, 8.358463406343985 despite several retries and waiting\n",
            "Could not download 5.043015067183984, 8.358463406343985 despite several retries and waiting\n",
            "Could not download 5.028043145781992, 8.373435327745977 despite several retries and waiting\n",
            "Could not download 5.043015067183984, 8.373435327745977 despite several retries and waiting\n",
            "Could not download 5.057986988585976, 8.373435327745977 despite several retries and waiting\n",
            "Could not download 4.9802427769092725, 8.358782643023513 despite several retries and waiting\n",
            "Could not download 4.9842280009260165, 6.499834221374025 despite several retries and waiting\n",
            "Could not download 4.999199922328009, 6.499834221374025 despite several retries and waiting\n",
            "Could not download 5.014171843730001, 6.499834221374025 despite several retries and waiting\n",
            "Could not download 5.029143765131993, 6.499834221374025 despite several retries and waiting\n",
            "Could not download 5.044115686533985, 6.499834221374025 despite several retries and waiting\n",
            "Could not download 5.014171843730001, 6.514806142776017 despite several retries and waiting\n",
            "Could not download 5.014171843730001, 6.529778064178009 despite several retries and waiting\n",
            "Could not download 5.014171843730001, 6.544749985580001 despite several retries and waiting\n",
            "Could not download 5.029143765131993, 6.559721906981993 despite several retries and waiting\n",
            "Could not download 5.044115686533985, 6.559721906981993 despite several retries and waiting\n",
            "Could not download 5.035767191028008, 8.294498340284022 despite several retries and waiting\n",
            "Could not download 5.0507391124300005, 8.294498340284022 despite several retries and waiting\n",
            "Could not download 5.065711033831993, 8.294498340284022 despite several retries and waiting\n",
            "Could not download 5.0507391124300005, 8.309470261686014 despite several retries and waiting\n",
            "Could not download 5.065711033831993, 8.309470261686014 despite several retries and waiting\n",
            "Could not download 5.080682955233985, 8.309470261686014 despite several retries and waiting\n",
            "Could not download 5.0507391124300005, 8.324442183088006 despite several retries and waiting\n",
            "Could not download 5.065711033831993, 8.324442183088006 despite several retries and waiting\n",
            "Could not download 5.080682955233985, 8.324442183088006 despite several retries and waiting\n",
            "Could not download 5.080682955233985, 8.339414104489999 despite several retries and waiting\n",
            "Could not download 5.035767191028008, 8.35438602589199 despite several retries and waiting\n",
            "Could not download 5.080682955233985, 8.35438602589199 despite several retries and waiting\n",
            "Could not download 5.035767191028008, 8.369357947293983 despite several retries and waiting\n",
            "Could not download 5.080682955233985, 8.369357947293983 despite several retries and waiting\n",
            "Could not download 5.035767191028008, 8.384329868695975 despite several retries and waiting\n",
            "Could not download 5.0507391124300005, 8.384329868695975 despite several retries and waiting\n",
            "Could not download 5.065711033831993, 8.384329868695975 despite several retries and waiting\n",
            "Could not download 5.095654876635977, 8.384329868695975 despite several retries and waiting\n",
            "Could not download 5.039015906968008, 8.377504333514024 despite several retries and waiting\n",
            "Could not download 5.05398782837, 8.377504333514024 despite several retries and waiting\n",
            "Could not download 5.0689597497719925, 8.377504333514024 despite several retries and waiting\n",
            "Could not download 5.098903592575977, 8.377504333514024 despite several retries and waiting\n",
            "Could not download 5.039015906968008, 8.392476254916016 despite several retries and waiting\n",
            "Could not download 5.05398782837, 8.392476254916016 despite several retries and waiting\n",
            "Could not download 5.0689597497719925, 8.392476254916016 despite several retries and waiting\n",
            "Could not download 5.098903592575977, 8.392476254916016 despite several retries and waiting\n",
            "Could not download 5.039015906968008, 8.407448176318008 despite several retries and waiting\n",
            "Could not download 5.05398782837, 8.407448176318008 despite several retries and waiting\n",
            "Could not download 5.0689597497719925, 8.407448176318008 despite several retries and waiting\n",
            "Could not download 5.009072064164024, 8.42242009772 despite several retries and waiting\n",
            "Could not download 5.024043985566016, 8.42242009772 despite several retries and waiting\n",
            "Could not download 5.039015906968008, 8.42242009772 despite several retries and waiting\n",
            "Could not download 5.009072064164024, 8.437392019121992 despite several retries and waiting\n",
            "Could not download 5.024043985566016, 8.437392019121992 despite several retries and waiting\n",
            "Could not download 5.039015906968008, 8.437392019121992 despite several retries and waiting\n",
            "Could not download 5.009072064164024, 8.452363940523984 despite several retries and waiting\n",
            "Could not download 5.024043985566016, 8.452363940523984 despite several retries and waiting\n",
            "Could not download 5.083931671173985, 8.452363940523984 despite several retries and waiting\n",
            "Could not download 5.098903592575977, 8.452363940523984 despite several retries and waiting\n",
            "Could not download 5.05398782837, 8.467335861925976 despite several retries and waiting\n",
            "Could not download 5.0689597497719925, 8.467335861925976 despite several retries and waiting\n",
            "Could not download 5.083931671173985, 8.467335861925976 despite several retries and waiting\n",
            "Could not download 5.077221783177227, 8.455409721992735 despite several retries and waiting\n",
            "Could not download 5.011549953964024, 7.873707481204024 despite several retries and waiting\n",
            "Could not download 5.101381482375976, 7.91862324541 despite several retries and waiting\n"
          ],
          "name": "stdout"
        },
        {
          "output_type": "stream",
          "text": [
            "ERROR:root:Error-could not download 5.093240935651992, 7.911626609239999\n",
            "Traceback (most recent call last):\n",
            "  File \"<ipython-input-132-e8009a3609ec>\", line 56, in download_images\n",
            "    im = imd.download_image(lat, lon, min_year, min_month, max_year, max_month)\n",
            "  File \"gdrive/MyDrive/geo/utils/planet_downloader.py\", line 95, in download_image\n",
            "    res = json.loads(result.text)\n",
            "  File \"/usr/lib/python3.7/json/__init__.py\", line 348, in loads\n",
            "    return _default_decoder.decode(s)\n",
            "  File \"/usr/lib/python3.7/json/decoder.py\", line 337, in decode\n",
            "    obj, end = self.raw_decode(s, idx=_w(s, 0).end())\n",
            "  File \"/usr/lib/python3.7/json/decoder.py\", line 355, in raw_decode\n",
            "    raise JSONDecodeError(\"Expecting value\", s, err.value) from None\n",
            "json.decoder.JSONDecodeError: Expecting value: line 1 column 1 (char 0)\n"
          ],
          "name": "stderr"
        },
        {
          "output_type": "stream",
          "text": [
            "Could not download 5.108212857053984, 7.911626609239999 despite several retries and waiting\n",
            "Could not download 5.093240935651992, 7.926598530641991 despite several retries and waiting\n",
            "Could not download 5.108212857053984, 7.926598530641991 despite several retries and waiting\n",
            "Could not download 5.08014972082, 6.771935576414024 despite several retries and waiting\n",
            "Could not download 5.08014972082, 6.786907497816016 despite several retries and waiting\n",
            "Could not download 5.08014972082, 6.801879419218008 despite several retries and waiting\n",
            "Could not download 5.125065485025976, 6.801879419218008 despite several retries and waiting\n",
            "Could not download 5.0502058780160155, 6.81685134062 despite several retries and waiting\n",
            "Could not download 5.065177799418008, 6.81685134062 despite several retries and waiting\n",
            "Could not download 5.08014972082, 6.81685134062 despite several retries and waiting\n",
            "Could not download 5.095121642221992, 6.81685134062 despite several retries and waiting\n",
            "Could not download 5.110093563623984, 6.81685134062 despite several retries and waiting\n",
            "Could not download 5.125065485025976, 6.81685134062 despite several retries and waiting\n",
            "Could not download 5.0502058780160155, 6.8318232620219925 despite several retries and waiting\n",
            "Could not download 5.065177799418008, 6.8318232620219925 despite several retries and waiting\n",
            "Could not download 5.08014972082, 6.8318232620219925 despite several retries and waiting\n",
            "Could not download 5.095121642221992, 6.8318232620219925 despite several retries and waiting\n",
            "Could not download 5.110093563623984, 6.8318232620219925 despite several retries and waiting\n",
            "Could not download 5.125065485025976, 6.8318232620219925 despite several retries and waiting\n",
            "Could not download 5.035233956614023, 6.846795183423985 despite several retries and waiting\n",
            "Could not download 5.0502058780160155, 6.846795183423985 despite several retries and waiting\n",
            "Could not download 5.065177799418008, 6.846795183423985 despite several retries and waiting\n",
            "Could not download 5.08014972082, 6.846795183423985 despite several retries and waiting\n",
            "Could not download 5.095121642221992, 6.846795183423985 despite several retries and waiting\n",
            "Could not download 5.110093563623984, 6.846795183423985 despite several retries and waiting\n",
            "Could not download 5.125065485025976, 6.846795183423985 despite several retries and waiting\n",
            "Could not download 5.035233956614023, 6.861767104825977 despite several retries and waiting\n",
            "Could not download 5.095121642221992, 6.861767104825977 despite several retries and waiting\n",
            "Could not download 5.110093563623984, 6.861767104825977 despite several retries and waiting\n",
            "Could not download 5.103213415123011, 6.855112841027061 despite several retries and waiting\n",
            "Could not download 5.0625741540540234, 8.227348541615976 despite several retries and waiting\n",
            "Could not download 5.1011007225640235, 6.571307695204023 despite several retries and waiting\n",
            "Could not download 5.190932250975976, 6.571307695204023 despite several retries and waiting\n",
            "Could not download 5.1011007225640235, 6.586279616606015 despite several retries and waiting\n",
            "Could not download 5.190932250975976, 6.586279616606015 despite several retries and waiting\n",
            "Could not download 5.1011007225640235, 6.6012515380080075 despite several retries and waiting\n",
            "Could not download 5.116072643966016, 6.6012515380080075 despite several retries and waiting\n",
            "Could not download 5.131044565368008, 6.6012515380080075 despite several retries and waiting\n",
            "Could not download 5.160988408171992, 6.6012515380080075 despite several retries and waiting\n",
            "Could not download 5.175960329573984, 6.6012515380080075 despite several retries and waiting\n",
            "Could not download 5.116072643966016, 6.61622345941 despite several retries and waiting\n",
            "Could not download 5.131044565368008, 6.61622345941 despite several retries and waiting\n",
            "Could not download 5.14601648677, 6.61622345941 despite several retries and waiting\n",
            "Could not download 5.160988408171992, 6.61622345941 despite several retries and waiting\n",
            "Could not download 5.175960329573984, 6.61622345941 despite several retries and waiting\n",
            "Could not download 5.116072643966016, 6.631195380811992 despite several retries and waiting\n",
            "Could not download 5.131044565368008, 6.631195380811992 despite several retries and waiting\n",
            "Could not download 5.14601648677, 6.631195380811992 despite several retries and waiting\n",
            "Could not download 5.160988408171992, 6.631195380811992 despite several retries and waiting\n",
            "Could not download 5.175960329573984, 6.631195380811992 despite several retries and waiting\n",
            "Could not download 5.1011007225640235, 6.646167302213984 despite several retries and waiting\n",
            "Could not download 5.116072643966016, 6.646167302213984 despite several retries and waiting\n",
            "Could not download 5.131044565368008, 6.646167302213984 despite several retries and waiting\n",
            "Could not download 5.14601648677, 6.646167302213984 despite several retries and waiting\n",
            "Could not download 5.160988408171992, 6.646167302213984 despite several retries and waiting\n",
            "Could not download 5.175960329573984, 6.646167302213984 despite several retries and waiting\n",
            "Could not download 5.190932250975976, 6.646167302213984 despite several retries and waiting\n",
            "Could not download 5.1011007225640235, 6.661139223615976 despite several retries and waiting\n",
            "Could not download 5.116072643966016, 6.661139223615976 despite several retries and waiting\n",
            "Could not download 5.131044565368008, 6.661139223615976 despite several retries and waiting\n",
            "Could not download 5.14601648677, 6.661139223615976 despite several retries and waiting\n",
            "Could not download 5.160988408171992, 6.661139223615976 despite several retries and waiting\n",
            "Could not download 5.175960329573984, 6.661139223615976 despite several retries and waiting\n",
            "Could not download 5.190932250975976, 6.661139223615976 despite several retries and waiting\n",
            "Could not download 5.176189800356081, 6.650464575862445 despite several retries and waiting\n",
            "Could not download 5.162194178291992, 6.314337852258008 despite several retries and waiting\n",
            "Could not download 5.123475615116016, 7.548266480964022 despite several retries and waiting\n",
            "Could not download 5.108503693714024, 7.608154166571991 despite several retries and waiting\n",
            "Could not download 5.108503693714024, 7.623126087973983 despite several retries and waiting\n",
            "Could not download 5.211914118515977, 7.668004352084023 despite several retries and waiting\n",
            "Could not download 5.253170972255976, 7.714559581296014 despite several retries and waiting\n",
            "Could not download 5.253170972255976, 7.7295315026980065 despite several retries and waiting\n",
            "Could not download 5.226314816306016, 6.574498277034024 despite several retries and waiting\n",
            "Could not download 5.241286737708008, 6.574498277034024 despite several retries and waiting\n",
            "Could not download 5.3011744233159765, 6.574498277034024 despite several retries and waiting\n",
            "Could not download 5.226314816306016, 6.5894701984360164 despite several retries and waiting\n",
            "Could not download 5.241286737708008, 6.5894701984360164 despite several retries and waiting\n",
            "Could not download 5.3011744233159765, 6.5894701984360164 despite several retries and waiting\n",
            "Could not download 5.226314816306016, 6.6044421198380086 despite several retries and waiting\n",
            "Could not download 5.241286737708008, 6.6044421198380086 despite several retries and waiting\n",
            "Could not download 5.25625865911, 6.6044421198380086 despite several retries and waiting\n",
            "Could not download 5.211342894904024, 6.619414041240001 despite several retries and waiting\n",
            "Could not download 5.271230580511992, 6.619414041240001 despite several retries and waiting\n",
            "Could not download 5.286202501913984, 6.619414041240001 despite several retries and waiting\n",
            "Could not download 5.211342894904024, 6.634385962641993 despite several retries and waiting\n",
            "Could not download 5.271230580511992, 6.634385962641993 despite several retries and waiting\n",
            "Could not download 5.286202501913984, 6.634385962641993 despite several retries and waiting\n",
            "Could not download 5.211342894904024, 6.649357884043985 despite several retries and waiting\n",
            "Could not download 5.25625865911, 6.649357884043985 despite several retries and waiting\n",
            "Could not download 5.211342894904024, 6.664329805445977 despite several retries and waiting\n",
            "Could not download 5.226314816306016, 6.664329805445977 despite several retries and waiting\n",
            "Could not download 5.241286737708008, 6.664329805445977 despite several retries and waiting\n",
            "Could not download 5.25625865911, 6.664329805445977 despite several retries and waiting\n",
            "Could not download 5.237315106814308, 6.5769178152780885 despite several retries and waiting\n",
            "Could not download 5.246455378196016, 7.7215720027499986 despite several retries and waiting\n",
            "Could not download 5.261427299598008, 7.7215720027499986 despite several retries and waiting\n",
            "Could not download 5.291371142401992, 7.736543924151991 despite several retries and waiting\n",
            "Could not download 5.306343063803984, 7.736543924151991 despite several retries and waiting\n",
            "Could not download 5.291371142401992, 7.751515845553983 despite several retries and waiting\n",
            "Could not download 5.306343063803984, 7.751515845553983 despite several retries and waiting\n",
            "Could not download 5.280780263364023, 6.851805846504025 despite several retries and waiting\n",
            "Could not download 5.280780263364023, 6.866777767906017 despite several retries and waiting\n",
            "Could not download 5.280780263364023, 6.896721610710001 despite several retries and waiting\n",
            "Could not download 5.355639870373984, 6.896721610710001 despite several retries and waiting\n",
            "Could not download 5.295752184766015, 6.926665453513985 despite several retries and waiting\n",
            "Could not download 5.355639870373984, 6.926665453513985 despite several retries and waiting\n",
            "Could not download 5.380809528853985, 7.371945324386016 despite several retries and waiting\n",
            "Could not download 5.395781450255977, 7.371945324386016 despite several retries and waiting\n",
            "Could not download 5.420351476265976, 7.057388206936015 despite several retries and waiting\n",
            "Could not download 5.420351476265976, 7.0723601283380075 despite several retries and waiting\n",
            "Could not download 5.3305199478540235, 7.132247813945976 despite several retries and waiting\n",
            "Could not download 5.463598884825975, 5.712169139884024 despite several retries and waiting\n",
            "Could not download 5.463598884825975, 5.727141061286016 despite several retries and waiting\n",
            "Could not download 5.388739277816015, 5.787028746893984 despite several retries and waiting\n",
            "Could not download 5.403711199218007, 5.802000668295976 despite several retries and waiting\n",
            "Could not download 5.418683120619999, 5.802000668295976 despite several retries and waiting\n",
            "Could not download 5.468427722063984, 6.168482320814023 despite several retries and waiting\n",
            "Could not download 5.483399643465976, 6.168482320814023 despite several retries and waiting\n",
            "Could not download 5.468427722063984, 6.1834542422160155 despite several retries and waiting\n",
            "Could not download 5.483399643465976, 6.1834542422160155 despite several retries and waiting\n",
            "Could not download 5.428185142578008, 7.007621777254023 despite several retries and waiting\n",
            "Could not download 5.428185142578008, 7.067509462861992 despite several retries and waiting\n",
            "Could not download 5.431268584808008, 6.966305549864023 despite several retries and waiting\n",
            "Could not download 5.401324742004023, 6.981277471266015 despite several retries and waiting\n",
            "Could not download 5.44624050621, 7.011221314069999 despite several retries and waiting\n",
            "Could not download 5.413769956224024, 7.192073491756017 despite several retries and waiting\n",
            "Could not download 5.443713799028008, 7.207045413158009 despite several retries and waiting\n",
            "Could not download 5.45868572043, 7.207045413158009 despite several retries and waiting\n",
            "Could not download 5.443713799028008, 7.222017334560001 despite several retries and waiting\n",
            "Could not download 5.45868572043, 7.222017334560001 despite several retries and waiting\n",
            "Could not download 5.473657641831992, 7.236989255961993 despite several retries and waiting\n",
            "Could not download 5.439130678534024, 6.889052175184022 despite several retries and waiting\n",
            "Could not download 5.439130678534024, 6.978883703595975 despite several retries and waiting\n",
            "Could not download 5.463093394946014, 6.1759533895240235 despite several retries and waiting\n",
            "Could not download 5.478065316348006, 6.1759533895240235 despite several retries and waiting\n",
            "Could not download 5.4930372377499985, 6.1759533895240235 despite several retries and waiting\n",
            "Could not download 5.508009159151991, 6.1759533895240235 despite several retries and waiting\n",
            "Could not download 5.522981080553983, 6.1759533895240235 despite several retries and waiting\n",
            "Could not download 5.537953001955975, 6.1759533895240235 despite several retries and waiting\n",
            "Could not download 5.463093394946014, 6.190925310926016 despite several retries and waiting\n",
            "Could not download 5.478065316348006, 6.190925310926016 despite several retries and waiting\n",
            "Could not download 5.4930372377499985, 6.190925310926016 despite several retries and waiting\n",
            "Could not download 5.508009159151991, 6.190925310926016 despite several retries and waiting\n",
            "Could not download 5.522981080553983, 6.190925310926016 despite several retries and waiting\n",
            "Could not download 5.537953001955975, 6.190925310926016 despite several retries and waiting\n",
            "Could not download 5.508009159151991, 6.205897232328008 despite several retries and waiting\n",
            "Could not download 5.522981080553983, 6.205897232328008 despite several retries and waiting\n",
            "Could not download 5.537953001955975, 6.205897232328008 despite several retries and waiting\n"
          ],
          "name": "stdout"
        },
        {
          "output_type": "stream",
          "text": [
            "ERROR:root:Error-could not download 5.537953001955975, 6.22086915373\n",
            "Traceback (most recent call last):\n",
            "  File \"<ipython-input-132-e8009a3609ec>\", line 56, in download_images\n",
            "    im = imd.download_image(lat, lon, min_year, min_month, max_year, max_month)\n",
            "  File \"gdrive/MyDrive/geo/utils/planet_downloader.py\", line 95, in download_image\n",
            "    res = json.loads(result.text)\n",
            "  File \"/usr/lib/python3.7/json/__init__.py\", line 348, in loads\n",
            "    return _default_decoder.decode(s)\n",
            "  File \"/usr/lib/python3.7/json/decoder.py\", line 337, in decode\n",
            "    obj, end = self.raw_decode(s, idx=_w(s, 0).end())\n",
            "  File \"/usr/lib/python3.7/json/decoder.py\", line 355, in raw_decode\n",
            "    raise JSONDecodeError(\"Expecting value\", s, err.value) from None\n",
            "json.decoder.JSONDecodeError: Expecting value: line 1 column 1 (char 0)\n"
          ],
          "name": "stderr"
        },
        {
          "output_type": "stream",
          "text": [
            "Could not download 5.537953001955975, 6.235841075131992 despite several retries and waiting\n",
            "Could not download 5.467907763296016, 5.791935232046016 despite several retries and waiting\n",
            "Could not download 5.482879684698008, 5.791935232046016 despite several retries and waiting\n",
            "Could not download 5.452935841894024, 5.836850996251992 despite several retries and waiting\n",
            "Could not download 5.455110438144024, 7.2163942161119925 despite several retries and waiting\n",
            "Could not download 5.470082359546016, 7.231366137513985 despite several retries and waiting\n",
            "Could not download 5.470082359546016, 7.246338058915977 despite several retries and waiting\n",
            "Could not download 5.4725017237575235, 7.231694904331947 despite several retries and waiting\n",
            "Could not download 5.546047737643984, 5.663180244784024 despite several retries and waiting\n",
            "Could not download 5.471188130634023, 5.693124087588008 despite several retries and waiting\n",
            "Could not download 5.5011319734380075, 5.693124087588008 despite several retries and waiting\n",
            "Could not download 5.51610389484, 5.693124087588008 despite several retries and waiting\n",
            "Could not download 5.486160052036015, 5.70809600899 despite several retries and waiting\n",
            "Could not download 5.508175973263012, 5.709261077643745 despite several retries and waiting\n",
            "Could not download 5.5223818305, 7.0343431087580095 despite several retries and waiting\n",
            "Could not download 5.567297594705976, 7.049315030160002 despite several retries and waiting\n",
            "Could not download 5.5074099090980075, 7.064286951561994 despite several retries and waiting\n",
            "Could not download 5.491084086864273, 7.024169412907304 despite several retries and waiting\n",
            "Could not download 5.577058854163986, 5.771977164594023 despite several retries and waiting\n",
            "Could not download 5.592030775565978, 5.771977164594023 despite several retries and waiting\n",
            "Could not download 5.577058854163986, 5.7869490859960155 despite several retries and waiting\n",
            "Could not download 5.592030775565978, 5.7869490859960155 despite several retries and waiting\n",
            "Could not download 5.564143087988008, 7.049869131143984 despite several retries and waiting\n",
            "Could not download 5.534199245184023, 7.064841052545976 despite several retries and waiting\n",
            "Could not download 5.624030773595976, 7.064841052545976 despite several retries and waiting\n",
            "Could not download 5.620874692953985, 7.353158083488006 despite several retries and waiting\n",
            "Could not download 5.635846614355977, 7.353158083488006 despite several retries and waiting\n",
            "Could not download 5.617764468426374, 7.3475303102743155 despite several retries and waiting\n",
            "Could not download 5.62819774804, 5.968600023895976 despite several retries and waiting\n",
            "Could not download 5.686671033293984, 7.277837499354025 despite several retries and waiting\n",
            "Could not download 5.701642954695976, 7.277837499354025 despite several retries and waiting\n",
            "Could not download 5.686671033293984, 7.292809420756017 despite several retries and waiting\n",
            "Could not download 5.701642954695976, 7.292809420756017 despite several retries and waiting\n",
            "Could not download 5.626783347686016, 7.352697106363985 despite several retries and waiting\n",
            "Could not download 5.686671033293984, 7.352697106363985 despite several retries and waiting\n",
            "Could not download 5.701642954695976, 7.352697106363985 despite several retries and waiting\n",
            "Could not download 5.641755269088008, 7.367669027765977 despite several retries and waiting\n",
            "Could not download 5.65672719049, 7.367669027765977 despite several retries and waiting\n",
            "Could not download 5.686671033293984, 7.367669027765977 despite several retries and waiting\n",
            "Could not download 5.701642954695976, 7.367669027765977 despite several retries and waiting\n",
            "Could not download 5.6294489600935425, 7.3447933198560245 despite several retries and waiting\n",
            "Could not download 5.649916455848008, 6.996414183744023 despite several retries and waiting\n",
            "Could not download 5.709804141455977, 6.996414183744023 despite several retries and waiting\n",
            "Could not download 5.649916455848008, 7.011386105146015 despite several retries and waiting\n",
            "Could not download 5.709804141455977, 7.011386105146015 despite several retries and waiting\n",
            "Could not download 5.649916455848008, 7.0263580265480075 despite several retries and waiting\n",
            "Could not download 5.709804141455977, 7.0263580265480075 despite several retries and waiting\n",
            "Could not download 5.709804141455977, 7.04132994795 despite several retries and waiting\n",
            "Could not download 5.619972613044024, 7.056301869351992 despite several retries and waiting\n",
            "Could not download 5.634944534446016, 7.056301869351992 despite several retries and waiting\n",
            "Could not download 5.6648883772500005, 7.056301869351992 despite several retries and waiting\n",
            "Could not download 5.679860298651993, 7.056301869351992 despite several retries and waiting\n",
            "Could not download 5.694832220053985, 7.056301869351992 despite several retries and waiting\n",
            "Could not download 5.619972613044024, 7.071273790753984 despite several retries and waiting\n",
            "Could not download 5.634944534446016, 7.071273790753984 despite several retries and waiting\n",
            "Could not download 5.6648883772500005, 7.071273790753984 despite several retries and waiting\n",
            "Could not download 5.679860298651993, 7.071273790753984 despite several retries and waiting\n",
            "Could not download 5.694832220053985, 7.071273790753984 despite several retries and waiting\n",
            "Could not download 5.6648883772500005, 7.086245712155976 despite several retries and waiting\n",
            "Could not download 5.679860298651993, 7.086245712155976 despite several retries and waiting\n",
            "Could not download 5.693957832286441, 7.060977645017499 despite several retries and waiting\n",
            "Could not download 5.709379806453985, 7.037586855504024 despite several retries and waiting\n",
            "Could not download 5.724351727855977, 7.037586855504024 despite several retries and waiting\n",
            "Could not download 5.709379806453985, 7.052558776906016 despite several retries and waiting\n",
            "Could not download 5.724351727855977, 7.052558776906016 despite several retries and waiting\n",
            "Could not download 5.634520199444024, 7.067530698308008 despite several retries and waiting\n",
            "Could not download 5.664464042248008, 7.067530698308008 despite several retries and waiting\n",
            "Could not download 5.6794359636500005, 7.067530698308008 despite several retries and waiting\n",
            "Could not download 5.694407885051993, 7.067530698308008 despite several retries and waiting\n",
            "Could not download 5.664464042248008, 7.0825026197100005 despite several retries and waiting\n",
            "Could not download 5.6794359636500005, 7.0825026197100005 despite several retries and waiting\n",
            "Could not download 5.634520199444024, 7.097474541111993 despite several retries and waiting\n",
            "Could not download 5.649492120846016, 7.097474541111993 despite several retries and waiting\n",
            "Could not download 5.634520199444024, 7.112446462513985 despite several retries and waiting\n",
            "Could not download 5.649492120846016, 7.112446462513985 despite several retries and waiting\n",
            "Could not download 5.634520199444024, 7.127418383915977 despite several retries and waiting\n",
            "Could not download 5.725540957935976, 6.3656870288940235 despite several retries and waiting\n",
            "Could not download 5.7202400776600015, 7.285977513395975 despite several retries and waiting\n",
            "Could not download 5.701398505494024, 6.942501486064023 despite several retries and waiting\n",
            "Could not download 5.716370426896016, 6.942501486064023 despite several retries and waiting\n",
            "Could not download 5.731342348298008, 6.957473407466015 despite several retries and waiting\n",
            "Could not download 5.7463142697, 6.957473407466015 despite several retries and waiting\n",
            "Could not download 5.791230033905976, 6.972445328868007 despite several retries and waiting\n",
            "Could not download 5.716370426896016, 6.987417250269999 despite several retries and waiting\n",
            "Could not download 5.776258112503984, 6.987417250269999 despite several retries and waiting\n",
            "Could not download 5.791230033905976, 6.987417250269999 despite several retries and waiting\n",
            "Could not download 5.716370426896016, 7.002389171671991 despite several retries and waiting\n",
            "Could not download 5.776258112503984, 7.002389171671991 despite several retries and waiting\n",
            "Could not download 5.791230033905976, 7.002389171671991 despite several retries and waiting\n",
            "Could not download 5.716370426896016, 7.017361093073983 despite several retries and waiting\n",
            "Could not download 5.761286191101992, 7.017361093073983 despite several retries and waiting\n",
            "Could not download 5.776258112503984, 7.017361093073983 despite several retries and waiting\n",
            "Could not download 5.716370426896016, 7.0323330144759755 despite several retries and waiting\n",
            "Could not download 5.731342348298008, 7.0323330144759755 despite several retries and waiting\n",
            "Could not download 5.7463142697, 7.0323330144759755 despite several retries and waiting\n",
            "Could not download 5.761286191101992, 7.0323330144759755 despite several retries and waiting\n",
            "Could not download 5.779988858273984, 5.955662984224024 despite several retries and waiting\n",
            "Could not download 5.779988858273984, 5.970634905626016 despite several retries and waiting\n",
            "Could not download 5.794960779675976, 5.9856068270280085 despite several retries and waiting\n",
            "Could not download 5.75004501547, 6.000578748430001 despite several retries and waiting\n",
            "Could not download 5.765016936871992, 6.000578748430001 despite several retries and waiting\n",
            "Could not download 5.779988858273984, 6.000578748430001 despite several retries and waiting\n",
            "Could not download 5.794960779675976, 6.000578748430001 despite several retries and waiting\n",
            "Could not download 5.75004501547, 6.015550669831993 despite several retries and waiting\n",
            "Could not download 5.765016936871992, 6.015550669831993 despite several retries and waiting\n",
            "Could not download 5.779988858273984, 6.015550669831993 despite several retries and waiting\n",
            "Could not download 5.794960779675976, 6.015550669831993 despite several retries and waiting\n",
            "Could not download 5.705129251264023, 6.030522591233985 despite several retries and waiting\n",
            "Could not download 5.720101172666015, 6.030522591233985 despite several retries and waiting\n",
            "Could not download 5.7350730940680075, 6.030522591233985 despite several retries and waiting\n",
            "Could not download 5.75004501547, 6.030522591233985 despite several retries and waiting\n",
            "Could not download 5.765016936871992, 6.030522591233985 despite several retries and waiting\n",
            "Could not download 5.779988858273984, 6.030522591233985 despite several retries and waiting\n",
            "Could not download 5.794960779675976, 6.030522591233985 despite several retries and waiting\n",
            "Could not download 5.75004501547, 6.045494512635977 despite several retries and waiting\n",
            "Could not download 5.765016936871992, 6.045494512635977 despite several retries and waiting\n",
            "Could not download 5.779988858273984, 6.045494512635977 despite several retries and waiting\n",
            "Could not download 5.794960779675976, 6.045494512635977 despite several retries and waiting\n",
            "Could not download 5.723593896794468, 6.037267856077785 despite several retries and waiting\n",
            "Could not download 5.743907486734024, 6.943939969923984 despite several retries and waiting\n",
            "Could not download 5.743907486734024, 6.958911891325976 despite several retries and waiting\n",
            "Could not download 5.779076793298009, 7.963241759533984 despite several retries and waiting\n",
            "Could not download 5.862283011205977, 8.07352598035801 despite several retries and waiting\n",
            "Could not download 5.802395325598009, 8.118441744563986 despite several retries and waiting\n",
            "Could not download 5.802395325598009, 8.133413665965978 despite several retries and waiting\n",
            "Could not download 5.847311089803985, 8.133413665965978 despite several retries and waiting\n",
            "Could not download 5.869896746505977, 6.822326435534023 despite several retries and waiting\n",
            "Could not download 5.804250622696016, 6.972890810524024 despite several retries and waiting\n",
            "Could not download 5.789278701294024, 6.9878627319260165 despite several retries and waiting\n",
            "Could not download 5.804250622696016, 6.9878627319260165 despite several retries and waiting\n",
            "Could not download 5.789278701294024, 7.002834653328009 despite several retries and waiting\n",
            "Could not download 5.804250622696016, 7.002834653328009 despite several retries and waiting\n",
            "Could not download 5.789278701294024, 7.017806574730001 despite several retries and waiting\n",
            "Could not download 5.900451503613985, 6.852764677314024 despite several retries and waiting\n",
            "Could not download 5.915423425015977, 6.852764677314024 despite several retries and waiting\n",
            "Could not download 5.947706903093985, 7.102346128871992 despite several retries and waiting\n",
            "Could not download 5.962678824495977, 7.102346128871992 despite several retries and waiting\n",
            "Could not download 5.947706903093985, 7.117318050273984 despite several retries and waiting\n",
            "Could not download 5.962678824495977, 7.117318050273984 despite several retries and waiting\n",
            "Could not download 5.903956403688008, 7.377582693104024 despite several retries and waiting\n",
            "Could not download 5.91892832509, 7.377582693104024 despite several retries and waiting\n",
            "Could not download 5.888984482286016, 7.437470378711993 despite several retries and waiting\n",
            "Could not download 5.948872167893985, 7.437470378711993 despite several retries and waiting\n",
            "Could not download 5.963844089295977, 7.437470378711993 despite several retries and waiting\n",
            "Could not download 5.950247639033986, 4.9311438196160156 despite several retries and waiting\n",
            "Could not download 5.965219560435978, 4.9311438196160156 despite several retries and waiting\n",
            "Could not download 5.953399632633984, 7.505071173924025 despite several retries and waiting\n",
            "Could not download 5.953399632633984, 7.520043095326017 despite several retries and waiting\n",
            "Could not download 5.953399632633984, 7.535015016728009 despite several retries and waiting\n",
            "Could not download 5.92345578983, 7.564958859531993 despite several retries and waiting\n",
            "Could not download 5.938427711231992, 7.564958859531993 despite several retries and waiting\n",
            "Could not download 5.92345578983, 7.579930780933985 despite several retries and waiting\n",
            "Could not download 5.938427711231992, 7.579930780933985 despite several retries and waiting\n",
            "Could not download 5.953399632633984, 7.594902702335977 despite several retries and waiting\n",
            "Could not download 5.941377900628092, 7.570397530406921 despite several retries and waiting\n",
            "Could not download 5.968417882185976, 6.220389998924024 despite several retries and waiting\n",
            "Could not download 5.968417882185976, 6.235361920326016 despite several retries and waiting\n",
            "Could not download 5.878586353774024, 6.2503338417280085 despite several retries and waiting\n",
            "Could not download 5.893558275176016, 6.2503338417280085 despite several retries and waiting\n",
            "Could not download 5.878586353774024, 6.265305763130001 despite several retries and waiting\n",
            "Could not download 5.893558275176016, 6.265305763130001 despite several retries and waiting\n",
            "Could not download 5.878586353774024, 6.280277684531993 despite several retries and waiting\n",
            "Could not download 5.893558275176016, 6.280277684531993 despite several retries and waiting\n",
            "Could not download 5.878586353774024, 6.295249605933985 despite several retries and waiting\n",
            "Could not download 5.893558275176016, 6.295249605933985 despite several retries and waiting\n",
            "Could not download 5.979261733625975, 8.102110005224024 despite several retries and waiting\n",
            "Could not download 5.949317890821991, 8.117081926626016 despite several retries and waiting\n",
            "Could not download 5.964289812223983, 8.117081926626016 despite several retries and waiting\n",
            "Could not download 5.934345969419999, 8.132053848028008 despite several retries and waiting\n",
            "Could not download 5.934345969419999, 8.14702576943 despite several retries and waiting\n",
            "Could not download 5.979261733625975, 8.161997690831992 despite several retries and waiting\n",
            "Could not download 5.889430205214023, 8.176969612233984 despite several retries and waiting\n",
            "Could not download 5.889430205214023, 8.191941533635976 despite several retries and waiting\n",
            "Could not download 5.970898461370217, 8.155186073726975 despite several retries and waiting\n",
            "Could not download 5.954723846056016, 6.858130345734024 despite several retries and waiting\n",
            "Could not download 5.954723846056016, 6.873102267136016 despite several retries and waiting\n",
            "Could not download 5.9578165228460165, 7.106806632531994 despite several retries and waiting\n",
            "Could not download 5.972788444248009, 7.106806632531994 despite several retries and waiting\n",
            "Could not download 5.959285086124024, 7.102037429045977 despite several retries and waiting\n",
            "Could not download 5.974257007526016, 7.102037429045977 despite several retries and waiting\n",
            "Could not download 6.042681742206015, 6.794410187834024 despite several retries and waiting\n",
            "Could not download 6.042681742206015, 6.809382109236016 despite several retries and waiting\n",
            "Could not download 6.027709820804023, 6.824354030638008 despite several retries and waiting\n",
            "Could not download 6.027709820804023, 6.83932595204 despite several retries and waiting\n",
            "Could not download 6.027709820804023, 6.854297873441992 despite several retries and waiting\n",
            "Could not download 6.085599016606015, 6.131703304214024 despite several retries and waiting\n",
            "Could not download 6.145486702213984, 6.131703304214024 despite several retries and waiting\n",
            "Could not download 6.160458623615976, 6.131703304214024 despite several retries and waiting\n",
            "Could not download 6.085599016606015, 6.146675225616016 despite several retries and waiting\n",
            "Could not download 6.145486702213984, 6.146675225616016 despite several retries and waiting\n",
            "Could not download 6.160458623615976, 6.146675225616016 despite several retries and waiting\n",
            "Could not download 6.1005709380080075, 6.161647147018008 despite several retries and waiting\n",
            "Could not download 6.11554285941, 6.161647147018008 despite several retries and waiting\n",
            "Could not download 6.130514780811992, 6.161647147018008 despite several retries and waiting\n",
            "Could not download 6.145486702213984, 6.161647147018008 despite several retries and waiting\n",
            "Could not download 6.160458623615976, 6.161647147018008 despite several retries and waiting\n",
            "Could not download 6.070627095204023, 6.17661906842 despite several retries and waiting\n",
            "Could not download 6.085599016606015, 6.17661906842 despite several retries and waiting\n",
            "Could not download 6.1005709380080075, 6.17661906842 despite several retries and waiting\n",
            "Could not download 6.11554285941, 6.17661906842 despite several retries and waiting\n",
            "Could not download 6.130514780811992, 6.17661906842 despite several retries and waiting\n",
            "Could not download 6.070627095204023, 6.191590989821992 despite several retries and waiting\n",
            "Could not download 6.085599016606015, 6.191590989821992 despite several retries and waiting\n",
            "Could not download 6.1005709380080075, 6.191590989821992 despite several retries and waiting\n",
            "Could not download 6.11554285941, 6.191590989821992 despite several retries and waiting\n",
            "Could not download 6.130514780811992, 6.191590989821992 despite several retries and waiting\n",
            "Could not download 6.070627095204023, 6.206562911223984 despite several retries and waiting\n",
            "Could not download 6.1005709380080075, 6.206562911223984 despite several retries and waiting\n",
            "Could not download 6.11554285941, 6.206562911223984 despite several retries and waiting\n",
            "Could not download 6.145486702213984, 6.206562911223984 despite several retries and waiting\n",
            "Could not download 6.160458623615976, 6.206562911223984 despite several retries and waiting\n",
            "Could not download 6.1005709380080075, 6.221534832625976 despite several retries and waiting\n",
            "Could not download 6.11554285941, 6.221534832625976 despite several retries and waiting\n",
            "Could not download 6.113570752563533, 6.16088053574823 despite several retries and waiting\n",
            "Could not download 6.082282513384024, 6.150001140924024 despite several retries and waiting\n",
            "Could not download 6.142170198991993, 6.150001140924024 despite several retries and waiting\n",
            "Could not download 6.157142120393985, 6.150001140924024 despite several retries and waiting\n",
            "Could not download 6.172114041795977, 6.150001140924024 despite several retries and waiting\n",
            "Could not download 6.0972544347860165, 6.164973062326016 despite several retries and waiting\n",
            "Could not download 6.112226356188009, 6.164973062326016 despite several retries and waiting\n",
            "Could not download 6.127198277590001, 6.164973062326016 despite several retries and waiting\n",
            "Could not download 6.142170198991993, 6.164973062326016 despite several retries and waiting\n",
            "Could not download 6.157142120393985, 6.164973062326016 despite several retries and waiting\n",
            "Could not download 6.172114041795977, 6.164973062326016 despite several retries and waiting\n",
            "Could not download 6.082282513384024, 6.179944983728008 despite several retries and waiting\n",
            "Could not download 6.0972544347860165, 6.179944983728008 despite several retries and waiting\n",
            "Could not download 6.112226356188009, 6.179944983728008 despite several retries and waiting\n",
            "Could not download 6.127198277590001, 6.179944983728008 despite several retries and waiting\n",
            "Could not download 6.082282513384024, 6.19491690513 despite several retries and waiting\n",
            "Could not download 6.0972544347860165, 6.19491690513 despite several retries and waiting\n",
            "Could not download 6.112226356188009, 6.19491690513 despite several retries and waiting\n",
            "Could not download 6.127198277590001, 6.19491690513 despite several retries and waiting\n",
            "Could not download 6.0972544347860165, 6.2098888265319925 despite several retries and waiting\n",
            "Could not download 6.112226356188009, 6.2098888265319925 despite several retries and waiting\n",
            "Could not download 6.142170198991993, 6.2098888265319925 despite several retries and waiting\n",
            "Could not download 6.157142120393985, 6.2098888265319925 despite several retries and waiting\n",
            "Could not download 6.0972544347860165, 6.224860747933985 despite several retries and waiting\n",
            "Could not download 6.112226356188009, 6.224860747933985 despite several retries and waiting\n",
            "Could not download 6.172114041795977, 6.224860747933985 despite several retries and waiting\n",
            "Could not download 6.0972544347860165, 6.239832669335977 despite several retries and waiting\n",
            "Could not download 6.112226356188009, 6.239832669335977 despite several retries and waiting\n",
            "Could not download 6.172114041795977, 6.239832669335977 despite several retries and waiting\n",
            "Could not download 6.175725221875976, 6.922742052756017 despite several retries and waiting\n",
            "Could not download 6.175725221875976, 6.937713974158009 despite several retries and waiting\n",
            "Could not download 6.145781379071992, 6.997601659765977 despite several retries and waiting\n",
            "Could not download 6.160753300473984, 6.997601659765977 despite several retries and waiting\n",
            "Could not download 6.105143465076016, 6.234599615554023 despite several retries and waiting\n",
            "Could not download 6.165031150683984, 6.234599615554023 despite several retries and waiting\n",
            "Could not download 6.180003072085976, 6.234599615554023 despite several retries and waiting\n",
            "Could not download 6.105143465076016, 6.249571536956015 despite several retries and waiting\n",
            "Could not download 6.165031150683984, 6.249571536956015 despite several retries and waiting\n",
            "Could not download 6.180003072085976, 6.249571536956015 despite several retries and waiting\n",
            "Could not download 6.150059229281992, 6.264543458358007 despite several retries and waiting\n",
            "Could not download 6.150059229281992, 6.279515379759999 despite several retries and waiting\n",
            "Could not download 6.090171543674024, 6.2944873011619915 despite several retries and waiting\n",
            "Could not download 6.120115386478008, 6.2944873011619915 despite several retries and waiting\n",
            "Could not download 6.13508730788, 6.2944873011619915 despite several retries and waiting\n",
            "Could not download 6.090171543674024, 6.309459222563984 despite several retries and waiting\n",
            "Could not download 6.105143465076016, 6.309459222563984 despite several retries and waiting\n",
            "Could not download 6.120115386478008, 6.309459222563984 despite several retries and waiting\n",
            "Could not download 6.13508730788, 6.309459222563984 despite several retries and waiting\n",
            "Could not download 6.165031150683984, 6.309459222563984 despite several retries and waiting\n",
            "Could not download 6.180003072085976, 6.309459222563984 despite several retries and waiting\n",
            "Could not download 6.090171543674024, 6.324431143965976 despite several retries and waiting\n",
            "Could not download 6.105143465076016, 6.324431143965976 despite several retries and waiting\n",
            "Could not download 6.120115386478008, 6.324431143965976 despite several retries and waiting\n",
            "Could not download 6.13508730788, 6.324431143965976 despite several retries and waiting\n",
            "Could not download 6.165031150683984, 6.324431143965976 despite several retries and waiting\n",
            "Could not download 6.180003072085976, 6.324431143965976 despite several retries and waiting\n",
            "Could not download 6.168986272484981, 6.240769040141057 despite several retries and waiting\n",
            "Could not download 6.132053407918007, 8.262274875055978 despite several retries and waiting\n",
            "Could not download 6.15062167012, 7.915096986886016 despite several retries and waiting\n",
            "Could not download 6.195537434325976, 7.915096986886016 despite several retries and waiting\n",
            "Could not download 6.15062167012, 7.930068908288008 despite several retries and waiting\n",
            "Could not download 6.195537434325976, 7.930068908288008 despite several retries and waiting\n",
            "Could not download 6.151757315128008, 6.998163450564023 despite several retries and waiting\n",
            "Could not download 6.152818369228009, 6.991717119328008 despite several retries and waiting\n",
            "Could not download 6.152818369228009, 7.00668904073 despite several retries and waiting\n",
            "Could not download 6.154758117977443, 6.999146381576086 despite several retries and waiting\n",
            "Could not download 6.257779421935976, 6.665917815084024 despite several retries and waiting\n",
            "Could not download 6.242807500533984, 6.680889736486016 despite several retries and waiting\n",
            "Could not download 6.242807500533984, 6.695861657888008 despite several retries and waiting\n",
            "Could not download 6.174781985014023, 4.613097874264023 despite several retries and waiting\n",
            "Could not download 6.234669670621991, 4.628069795666015 despite several retries and waiting\n",
            "Could not download 6.249641592023983, 4.628069795666015 despite several retries and waiting\n",
            "Could not download 6.234669670621991, 4.643041717068007 despite several retries and waiting\n",
            "Could not download 6.249641592023983, 4.643041717068007 despite several retries and waiting\n",
            "Could not download 6.264613513425975, 4.643041717068007 despite several retries and waiting\n",
            "Could not download 6.234669670621991, 4.658013638469999 despite several retries and waiting\n",
            "Could not download 6.249641592023983, 4.658013638469999 despite several retries and waiting\n",
            "Could not download 6.264613513425975, 4.658013638469999 despite several retries and waiting\n",
            "Could not download 6.264613513425975, 4.672985559871991 despite several retries and waiting\n",
            "Could not download 6.264613513425975, 4.687957481273983 despite several retries and waiting\n",
            "Could not download 6.2437795273819345, 4.64756977573957 despite several retries and waiting\n",
            "Could not download 6.23425687883, 6.452224263364024 despite several retries and waiting\n",
            "Could not download 6.249228800231992, 6.452224263364024 despite several retries and waiting\n",
            "Could not download 6.264200721633984, 6.452224263364024 despite several retries and waiting\n",
            "Could not download 6.279172643035976, 6.452224263364024 despite several retries and waiting\n",
            "Could not download 6.189341114624024, 6.467196184766016 despite several retries and waiting\n",
            "Could not download 6.204313036026016, 6.467196184766016 despite several retries and waiting\n",
            "Could not download 6.219284957428008, 6.467196184766016 despite several retries and waiting\n",
            "Could not download 6.189341114624024, 6.482168106168008 despite several retries and waiting\n",
            "Could not download 6.204313036026016, 6.482168106168008 despite several retries and waiting\n",
            "Could not download 6.23425687883, 6.482168106168008 despite several retries and waiting\n",
            "Could not download 6.249228800231992, 6.482168106168008 despite several retries and waiting\n",
            "Could not download 6.189341114624024, 6.49714002757 despite several retries and waiting\n",
            "Could not download 6.204313036026016, 6.49714002757 despite several retries and waiting\n",
            "Could not download 6.23425687883, 6.49714002757 despite several retries and waiting\n",
            "Could not download 6.249228800231992, 6.49714002757 despite several retries and waiting\n",
            "Could not download 6.189341114624024, 6.5121119489719925 despite several retries and waiting\n",
            "Could not download 6.204313036026016, 6.5121119489719925 despite several retries and waiting\n",
            "Could not download 6.23425687883, 6.5121119489719925 despite several retries and waiting\n",
            "Could not download 6.249228800231992, 6.5121119489719925 despite several retries and waiting\n",
            "Could not download 6.189341114624024, 6.527083870373985 despite several retries and waiting\n",
            "Could not download 6.204313036026016, 6.527083870373985 despite several retries and waiting\n",
            "Could not download 6.23425687883, 6.527083870373985 despite several retries and waiting\n",
            "Could not download 6.249228800231992, 6.527083870373985 despite several retries and waiting\n",
            "Could not download 6.279172643035976, 6.527083870373985 despite several retries and waiting\n",
            "Could not download 6.189341114624024, 6.542055791775977 despite several retries and waiting\n",
            "Could not download 6.204313036026016, 6.542055791775977 despite several retries and waiting\n",
            "Could not download 6.23425687883, 6.542055791775977 despite several retries and waiting\n",
            "Could not download 6.249228800231992, 6.542055791775977 despite several retries and waiting\n",
            "Could not download 6.279172643035976, 6.542055791775977 despite several retries and waiting\n"
          ],
          "name": "stdout"
        },
        {
          "output_type": "stream",
          "text": [
            "ERROR:root:Error-could not download 6.196621823414024, 6.951800373001991\n",
            "Traceback (most recent call last):\n",
            "  File \"<ipython-input-132-e8009a3609ec>\", line 51, in download_images\n",
            "    im = imd.download_image(lat, lon, min_year, min_month, max_year, max_month)\n",
            "  File \"gdrive/MyDrive/geo/utils/planet_downloader.py\", line 95, in download_image\n",
            "    res = json.loads(result.text)\n",
            "  File \"/usr/lib/python3.7/json/__init__.py\", line 348, in loads\n",
            "    return _default_decoder.decode(s)\n",
            "  File \"/usr/lib/python3.7/json/decoder.py\", line 337, in decode\n",
            "    obj, end = self.raw_decode(s, idx=_w(s, 0).end())\n",
            "  File \"/usr/lib/python3.7/json/decoder.py\", line 355, in raw_decode\n",
            "    raise JSONDecodeError(\"Expecting value\", s, err.value) from None\n",
            "json.decoder.JSONDecodeError: Expecting value: line 1 column 1 (char 0)\n",
            "ERROR:root:Error-could not download 6.211593744816016, 6.951800373001991\n",
            "Traceback (most recent call last):\n",
            "  File \"<ipython-input-132-e8009a3609ec>\", line 51, in download_images\n",
            "    im = imd.download_image(lat, lon, min_year, min_month, max_year, max_month)\n",
            "  File \"gdrive/MyDrive/geo/utils/planet_downloader.py\", line 95, in download_image\n",
            "    res = json.loads(result.text)\n",
            "  File \"/usr/lib/python3.7/json/__init__.py\", line 348, in loads\n",
            "    return _default_decoder.decode(s)\n",
            "  File \"/usr/lib/python3.7/json/decoder.py\", line 337, in decode\n",
            "    obj, end = self.raw_decode(s, idx=_w(s, 0).end())\n",
            "  File \"/usr/lib/python3.7/json/decoder.py\", line 355, in raw_decode\n",
            "    raise JSONDecodeError(\"Expecting value\", s, err.value) from None\n",
            "json.decoder.JSONDecodeError: Expecting value: line 1 column 1 (char 0)\n"
          ],
          "name": "stderr"
        },
        {
          "output_type": "stream",
          "text": [
            "Could not download 6.24153758762, 6.966772294403983 despite several retries and waiting\n",
            "Could not download 6.24153758762, 6.981744215805975 despite several retries and waiting\n",
            "Could not download 6.273133818143984, 7.587237739806017 despite several retries and waiting\n",
            "Could not download 6.288105739545976, 7.587237739806017 despite several retries and waiting\n",
            "Could not download 6.273133818143984, 7.6022096612080095 despite several retries and waiting\n",
            "Could not download 6.288105739545976, 7.6022096612080095 despite several retries and waiting\n",
            "Could not download 6.198274211134024, 7.6171815826100016 despite several retries and waiting\n",
            "Could not download 6.213246132536016, 7.6171815826100016 despite several retries and waiting\n",
            "Could not download 6.198274211134024, 7.632153504011994 despite several retries and waiting\n",
            "Could not download 6.258161896741992, 7.632153504011994 despite several retries and waiting\n",
            "Could not download 6.231460060404023, 5.611257657656016 despite several retries and waiting\n",
            "Could not download 6.246431981806015, 5.611257657656016 despite several retries and waiting\n",
            "Could not download 6.231460060404023, 5.626229579058008 despite several retries and waiting\n",
            "Could not download 6.246431981806015, 5.626229579058008 despite several retries and waiting\n",
            "Could not download 6.231460060404023, 5.64120150046 despite several retries and waiting\n",
            "Could not download 6.246431981806015, 5.64120150046 despite several retries and waiting\n",
            "Could not download 6.231460060404023, 5.656173421861992 despite several retries and waiting\n",
            "Could not download 6.246431981806015, 5.656173421861992 despite several retries and waiting\n",
            "Could not download 6.321291588815976, 5.656173421861992 despite several retries and waiting\n",
            "Could not download 6.231460060404023, 5.6711453432639845 despite several retries and waiting\n",
            "Could not download 6.246431981806015, 5.6711453432639845 despite several retries and waiting\n",
            "Could not download 6.2614039032080075, 5.6711453432639845 despite several retries and waiting\n",
            "Could not download 6.27637582461, 5.6711453432639845 despite several retries and waiting\n",
            "Could not download 6.291347746011992, 5.6711453432639845 despite several retries and waiting\n",
            "Could not download 6.231460060404023, 5.686117264665977 despite several retries and waiting\n",
            "Could not download 6.246431981806015, 5.686117264665977 despite several retries and waiting\n",
            "Could not download 6.2614039032080075, 5.686117264665977 despite several retries and waiting\n",
            "Could not download 6.27637582461, 5.686117264665977 despite several retries and waiting\n",
            "Could not download 6.291347746011992, 5.686117264665977 despite several retries and waiting\n",
            "Could not download 6.240329287234024, 7.2710596859640235 despite several retries and waiting\n",
            "Could not download 6.300216972841993, 7.2710596859640235 despite several retries and waiting\n",
            "Could not download 6.315188894243985, 7.2710596859640235 despite several retries and waiting\n",
            "Could not download 6.240329287234024, 7.301003528768008 despite several retries and waiting\n",
            "Could not download 6.240329287234024, 7.31597545017 despite several retries and waiting\n",
            "Could not download 6.2852450514400005, 7.360891214375976 despite several retries and waiting\n",
            "Could not download 6.244031297734024, 9.120246218723985 despite several retries and waiting\n",
            "Could not download 6.259003219136016, 9.120246218723985 despite several retries and waiting\n",
            "Could not download 6.273975140538008, 9.120246218723985 despite several retries and waiting\n",
            "Could not download 6.28894706194, 9.120246218723985 despite several retries and waiting\n",
            "Could not download 6.303918983341992, 9.120246218723985 despite several retries and waiting\n",
            "Could not download 6.244031297734024, 9.135218140125977 despite several retries and waiting\n",
            "Could not download 6.259003219136016, 9.135218140125977 despite several retries and waiting\n",
            "Could not download 6.273975140538008, 9.135218140125977 despite several retries and waiting\n",
            "Could not download 6.28894706194, 9.135218140125977 despite several retries and waiting\n",
            "Could not download 6.303918983341992, 9.135218140125977 despite several retries and waiting\n",
            "Could not download 6.2948770108800005, 7.079140734861993 despite several retries and waiting\n",
            "Could not download 6.309848932281993, 7.079140734861993 despite several retries and waiting\n",
            "Could not download 6.2948770108800005, 7.094112656263985 despite several retries and waiting\n",
            "Could not download 6.309848932281993, 7.094112656263985 despite several retries and waiting\n",
            "Could not download 6.324924702861994, 5.653612963654024 despite several retries and waiting\n",
            "Could not download 6.324924702861994, 5.668584885056016 despite several retries and waiting\n",
            "Could not download 6.265037017254025, 5.683556806458008 despite several retries and waiting\n",
            "Could not download 6.280008938656017, 5.683556806458008 despite several retries and waiting\n",
            "Could not download 6.265037017254025, 5.69852872786 despite several retries and waiting\n",
            "Could not download 6.280008938656017, 5.69852872786 despite several retries and waiting\n",
            "Could not download 6.2949808600580095, 5.69852872786 despite several retries and waiting\n",
            "Could not download 6.309952781460002, 5.69852872786 despite several retries and waiting\n",
            "Could not download 6.324924702861994, 5.713500649261992 despite several retries and waiting\n",
            "Could not download 6.339896624263986, 5.713500649261992 despite several retries and waiting\n",
            "Could not download 6.354868545665978, 5.713500649261992 despite several retries and waiting\n",
            "Could not download 6.324924702861994, 5.7284725706639845 despite several retries and waiting\n",
            "Could not download 6.339896624263986, 5.7284725706639845 despite several retries and waiting\n",
            "Could not download 6.354868545665978, 5.7284725706639845 despite several retries and waiting\n",
            "Could not download 6.324924702861994, 5.743444492065977 despite several retries and waiting\n",
            "Could not download 6.31723421115, 5.657578470090001 despite several retries and waiting\n",
            "Could not download 6.332206132551992, 5.657578470090001 despite several retries and waiting\n",
            "Could not download 6.272318446944023, 5.672550391491993 despite several retries and waiting\n",
            "Could not download 6.2872903683460155, 5.672550391491993 despite several retries and waiting\n",
            "Could not download 6.272318446944023, 5.687522312893985 despite several retries and waiting\n",
            "Could not download 6.2872903683460155, 5.687522312893985 despite several retries and waiting\n",
            "Could not download 6.272318446944023, 5.702494234295977 despite several retries and waiting\n",
            "Could not download 6.2872903683460155, 5.702494234295977 despite several retries and waiting\n",
            "Could not download 6.302262289748008, 5.702494234295977 despite several retries and waiting\n",
            "Could not download 6.287524466012824, 5.690437776872067 despite several retries and waiting\n",
            "Could not download 6.365613656275976, 5.573604465104023 despite several retries and waiting\n",
            "Could not download 6.32069789207, 5.648464072113984 despite several retries and waiting\n",
            "Could not download 6.335669813471992, 5.648464072113984 despite several retries and waiting\n",
            "Could not download 6.32069789207, 5.663435993515976 despite several retries and waiting\n",
            "Could not download 6.335669813471992, 5.663435993515976 despite several retries and waiting\n",
            "Could not download 6.361329354974167, 5.5776611380559515 despite several retries and waiting\n",
            "Could not download 6.32851769839, 7.893282336246014 despite several retries and waiting\n",
            "Could not download 6.32851769839, 7.908254257648006 despite several retries and waiting\n",
            "Could not download 6.381566444165975, 5.551828192544023 despite several retries and waiting\n",
            "Could not download 6.366594522763983, 5.566800113946015 despite several retries and waiting\n",
            "Could not download 6.324780391316015, 5.64703466044 despite several retries and waiting\n",
            "Could not download 6.324780391316015, 5.662006581841992 despite several retries and waiting\n",
            "Could not download 6.309808469914023, 5.6919504246459764 despite several retries and waiting\n",
            "Could not download 6.3230744015708655, 5.658688589654226 despite several retries and waiting\n",
            "Could not download 6.326769733816016, 5.6497511196819925 despite several retries and waiting\n",
            "Could not download 6.326769733816016, 5.664723041083985 despite several retries and waiting\n",
            "Could not download 6.350126992688009, 4.745522215884024 despite several retries and waiting\n",
            "Could not download 6.365098914090001, 4.745522215884024 despite several retries and waiting\n",
            "Could not download 6.380070835491993, 4.745522215884024 despite several retries and waiting\n",
            "Could not download 6.320183149884024, 4.760494137286016 despite several retries and waiting\n",
            "Could not download 6.3351550712860165, 4.760494137286016 despite several retries and waiting\n",
            "Could not download 6.365098914090001, 4.760494137286016 despite several retries and waiting\n",
            "Could not download 6.380070835491993, 4.760494137286016 despite several retries and waiting\n",
            "Could not download 6.410014678295977, 4.760494137286016 despite several retries and waiting\n",
            "Could not download 6.410014678295977, 4.775466058688008 despite several retries and waiting\n",
            "Could not download 6.410014678295977, 4.79043798009 despite several retries and waiting\n",
            "Could not download 6.410014678295977, 4.805409901491992 despite several retries and waiting\n",
            "Could not download 6.366917857000001, 7.179579409854024 despite several retries and waiting\n",
            "Could not download 6.322002092794024, 7.239467095461992 despite several retries and waiting\n",
            "Could not download 6.3369740141960165, 7.239467095461992 despite several retries and waiting\n",
            "Could not download 6.3678103948502605, 7.1821826684304355 despite several retries and waiting\n",
            "Could not download 6.342115231836016, 4.745537667764023 despite several retries and waiting\n",
            "Could not download 6.357087153238008, 4.745537667764023 despite several retries and waiting\n",
            "Could not download 6.37205907464, 4.745537667764023 despite several retries and waiting\n",
            "Could not download 6.327143310434024, 4.760509589166015 despite several retries and waiting\n",
            "Could not download 6.37205907464, 4.760509589166015 despite several retries and waiting\n",
            "Could not download 6.416974838845976, 4.760509589166015 despite several retries and waiting\n",
            "Could not download 6.416974838845976, 4.7754815105680075 despite several retries and waiting\n",
            "Could not download 6.416974838845976, 4.79045343197 despite several retries and waiting\n",
            "Could not download 6.416974838845976, 4.805425353371992 despite several retries and waiting\n",
            "Could not download 6.404440171929926, 4.764636946828367 despite several retries and waiting\n",
            "Could not download 6.395602024521991, 5.539695685174024 despite several retries and waiting\n",
            "Could not download 6.395602024521991, 5.554667606576016 despite several retries and waiting\n",
            "Could not download 6.365658181718007, 5.569639527978008 despite several retries and waiting\n",
            "Could not download 6.380630103119999, 5.569639527978008 despite several retries and waiting\n",
            "Could not download 6.350842110116015, 4.742211549564024 despite several retries and waiting\n",
            "Could not download 6.365814031518007, 4.742211549564024 despite several retries and waiting\n",
            "Could not download 6.380785952919999, 4.742211549564024 despite several retries and waiting\n",
            "Could not download 6.335870188714023, 4.757183470966016 despite several retries and waiting\n",
            "Could not download 6.365814031518007, 4.757183470966016 despite several retries and waiting\n",
            "Could not download 6.380785952919999, 4.757183470966016 despite several retries and waiting\n",
            "Could not download 6.4107297957239835, 4.757183470966016 despite several retries and waiting\n",
            "Could not download 6.4107297957239835, 4.772155392368008 despite several retries and waiting\n",
            "Could not download 6.425701717125976, 4.772155392368008 despite several retries and waiting\n",
            "Could not download 6.4107297957239835, 4.78712731377 despite several retries and waiting\n",
            "Could not download 6.425701717125976, 4.78712731377 despite several retries and waiting\n",
            "Could not download 6.4107297957239835, 4.802099235171992 despite several retries and waiting\n",
            "Could not download 6.425701717125976, 4.802099235171992 despite several retries and waiting\n",
            "Could not download 6.368907042816015, 6.523775320774024 despite several retries and waiting\n",
            "Could not download 6.383878964218007, 6.538747242176016 despite several retries and waiting\n",
            "Could not download 6.398850885619999, 6.538747242176016 despite several retries and waiting\n",
            "Could not download 6.368907042816015, 6.583663006381992 despite several retries and waiting\n",
            "Could not download 6.353935121414023, 6.598634927783984 despite several retries and waiting\n",
            "Could not download 6.353935121414023, 6.6136068491859765 despite several retries and waiting\n",
            "Could not download 6.354225814348264, 6.597084160650377 despite several retries and waiting\n",
            "Could not download 6.43132692896, 2.8794767414 despite several retries and waiting\n",
            "Could not download 6.461270771763984, 2.924392505605976 despite several retries and waiting\n",
            "Could not download 6.417194824338008, 7.445259981854024 despite several retries and waiting\n",
            "Could not download 6.477082509945976, 7.445259981854024 despite several retries and waiting\n",
            "Could not download 6.417194824338008, 7.460231903256016 despite several retries and waiting\n",
            "Could not download 6.43216674574, 7.460231903256016 despite several retries and waiting\n",
            "Could not download 6.447138667141992, 7.460231903256016 despite several retries and waiting\n",
            "Could not download 6.462110588543984, 7.460231903256016 despite several retries and waiting\n",
            "Could not download 6.477082509945976, 7.460231903256016 despite several retries and waiting\n",
            "Could not download 6.447138667141992, 7.475203824658008 despite several retries and waiting\n",
            "Could not download 6.462110588543984, 7.475203824658008 despite several retries and waiting\n",
            "Could not download 6.477082509945976, 7.475203824658008 despite several retries and waiting\n",
            "Could not download 6.447138667141992, 7.49017574606 despite several retries and waiting\n",
            "Could not download 6.462110588543984, 7.49017574606 despite several retries and waiting\n",
            "Could not download 6.477082509945976, 7.49017574606 despite several retries and waiting\n",
            "Could not download 6.387250981534024, 7.505147667461992 despite several retries and waiting\n",
            "Could not download 6.402222902936016, 7.505147667461992 despite several retries and waiting\n",
            "Could not download 6.40243012378735, 7.495473780709739 despite several retries and waiting\n",
            "Could not download 6.447651523391992, 6.167314974286016 despite several retries and waiting\n",
            "Could not download 6.4626234447939845, 6.167314974286016 despite several retries and waiting\n",
            "Could not download 6.43267960199, 6.182286895688008 despite several retries and waiting\n",
            "Could not download 6.402735759186016, 6.227202659893984 despite several retries and waiting\n",
            "Could not download 6.417707680588008, 6.227202659893984 despite several retries and waiting\n",
            "Could not download 6.387763837784024, 6.242174581295976 despite several retries and waiting\n",
            "Could not download 6.398140285234024, 6.538329014644024 despite several retries and waiting\n",
            "Could not download 6.431525767468008, 3.30557127872 despite several retries and waiting\n",
            "Could not download 6.461469610271992, 3.30557127872 despite several retries and waiting\n",
            "Could not download 6.44649768887, 3.320543200121992 despite several retries and waiting\n",
            "Could not download 6.431525767468008, 3.3355151215239838 despite several retries and waiting\n",
            "Could not download 6.416696212006015, 7.439815488204023 despite several retries and waiting\n",
            "Could not download 6.476583897613984, 7.439815488204023 despite several retries and waiting\n",
            "Could not download 6.416696212006015, 7.454787409606015 despite several retries and waiting\n",
            "Could not download 6.4316681334080075, 7.454787409606015 despite several retries and waiting\n",
            "Could not download 6.44664005481, 7.454787409606015 despite several retries and waiting\n",
            "Could not download 6.461611976211992, 7.454787409606015 despite several retries and waiting\n",
            "Could not download 6.476583897613984, 7.454787409606015 despite several retries and waiting\n",
            "Could not download 6.416696212006015, 7.4697593310080075 despite several retries and waiting\n",
            "Could not download 6.4316681334080075, 7.4697593310080075 despite several retries and waiting\n",
            "Could not download 6.44664005481, 7.4697593310080075 despite several retries and waiting\n",
            "Could not download 6.461611976211992, 7.4697593310080075 despite several retries and waiting\n",
            "Could not download 6.476583897613984, 7.4697593310080075 despite several retries and waiting\n",
            "Could not download 6.44664005481, 7.48473125241 despite several retries and waiting\n",
            "Could not download 6.461611976211992, 7.48473125241 despite several retries and waiting\n",
            "Could not download 6.476583897613984, 7.48473125241 despite several retries and waiting\n",
            "Could not download 6.401724290604023, 7.499703173811992 despite several retries and waiting\n",
            "Could not download 6.491555819015976, 7.499703173811992 despite several retries and waiting\n",
            "Could not download 6.453691053777171, 7.482418889198935 despite several retries and waiting\n",
            "Could not download 6.45073235155, 3.2970155456660164 despite several retries and waiting\n",
            "Could not download 6.4956481157559764, 3.311987467068008 despite several retries and waiting\n",
            "Could not download 6.435760430148008, 3.32695938847 despite several retries and waiting\n",
            "Could not download 6.420788508746016, 3.3419313098719923 despite several retries and waiting\n",
            "Could not download 6.410586360204023, 7.434143106744024 despite several retries and waiting\n",
            "Could not download 6.470474045811992, 7.434143106744024 despite several retries and waiting\n",
            "Could not download 6.485445967213984, 7.434143106744024 despite several retries and waiting\n",
            "Could not download 6.410586360204023, 7.449115028146016 despite several retries and waiting\n",
            "Could not download 6.4255582816060155, 7.449115028146016 despite several retries and waiting\n",
            "Could not download 6.440530203008008, 7.449115028146016 despite several retries and waiting\n",
            "Could not download 6.45550212441, 7.449115028146016 despite several retries and waiting\n",
            "Could not download 6.470474045811992, 7.449115028146016 despite several retries and waiting\n",
            "Could not download 6.485445967213984, 7.449115028146016 despite several retries and waiting\n",
            "Could not download 6.410586360204023, 7.464086949548008 despite several retries and waiting\n",
            "Could not download 6.4255582816060155, 7.464086949548008 despite several retries and waiting\n",
            "Could not download 6.440530203008008, 7.464086949548008 despite several retries and waiting\n",
            "Could not download 6.45550212441, 7.464086949548008 despite several retries and waiting\n",
            "Could not download 6.470474045811992, 7.464086949548008 despite several retries and waiting\n",
            "Could not download 6.485445967213984, 7.464086949548008 despite several retries and waiting\n",
            "Could not download 6.45550212441, 7.47905887095 despite several retries and waiting\n",
            "Could not download 6.470474045811992, 7.47905887095 despite several retries and waiting\n",
            "Could not download 6.485445967213984, 7.47905887095 despite several retries and waiting\n",
            "Could not download 6.500417888615976, 7.494030792351992 despite several retries and waiting\n",
            "Could not download 6.500417888615976, 7.5090027137539845 despite several retries and waiting\n",
            "Could not download 6.426342745996016, 3.4494282122480078 despite several retries and waiting\n",
            "Could not download 6.471258510201992, 3.4494282122480078 despite several retries and waiting\n",
            "Could not download 6.4862304316039845, 3.4494282122480078 despite several retries and waiting\n",
            "Could not download 6.4562865888, 3.46440013365 despite several retries and waiting\n",
            "Could not download 6.47041667546, 7.442715252614023 despite several retries and waiting\n",
            "Could not download 6.485388596861992, 7.442715252614023 despite several retries and waiting\n",
            "Could not download 6.425500911254024, 7.457687174016015 despite several retries and waiting\n",
            "Could not download 6.440472832656016, 7.457687174016015 despite several retries and waiting\n",
            "Could not download 6.455444754058008, 7.457687174016015 despite several retries and waiting\n",
            "Could not download 6.47041667546, 7.457687174016015 despite several retries and waiting\n",
            "Could not download 6.485388596861992, 7.457687174016015 despite several retries and waiting\n",
            "Could not download 6.455444754058008, 7.472659095418007 despite several retries and waiting\n",
            "Could not download 6.47041667546, 7.472659095418007 despite several retries and waiting\n",
            "Could not download 6.485388596861992, 7.472659095418007 despite several retries and waiting\n",
            "Could not download 6.455444754058008, 7.487631016819999 despite several retries and waiting\n",
            "Could not download 6.47041667546, 7.487631016819999 despite several retries and waiting\n",
            "Could not download 6.485388596861992, 7.487631016819999 despite several retries and waiting\n",
            "Could not download 6.500360518263984, 7.502602938221991 despite several retries and waiting\n",
            "Could not download 6.476694216469999, 3.305904738064024 despite several retries and waiting\n",
            "Could not download 6.506638059273984, 3.305904738064024 despite several retries and waiting\n",
            "Could not download 6.431778452264023, 3.335848580868008 despite several retries and waiting\n",
            "Could not download 6.506638059273984, 3.35082050227 despite several retries and waiting\n",
            "Could not download 6.461722295068007, 3.365792423671992 despite several retries and waiting\n",
            "Could not download 6.506638059273984, 3.365792423671992 despite several retries and waiting\n",
            "Could not download 6.521609980675976, 3.365792423671992 despite several retries and waiting\n",
            "Could not download 6.4916661378719915, 3.395736266475976 despite several retries and waiting\n",
            "Could not download 6.449482995216015, 7.723408767874024 despite several retries and waiting\n",
            "Could not download 6.464454916618007, 7.723408767874024 despite several retries and waiting\n",
            "Could not download 6.524342602225976, 7.723408767874024 despite several retries and waiting\n",
            "Could not download 6.434511073814023, 7.738380689276016 despite several retries and waiting\n",
            "Could not download 6.494398759421991, 7.738380689276016 despite several retries and waiting\n",
            "Could not download 6.5093706808239835, 7.738380689276016 despite several retries and waiting\n",
            "Could not download 6.524342602225976, 7.738380689276016 despite several retries and waiting\n",
            "Could not download 6.434511073814023, 7.753352610678008 despite several retries and waiting\n",
            "Could not download 6.494398759421991, 7.753352610678008 despite several retries and waiting\n",
            "Could not download 6.5093706808239835, 7.753352610678008 despite several retries and waiting\n",
            "Could not download 6.524342602225976, 7.753352610678008 despite several retries and waiting\n",
            "Could not download 6.434511073814023, 7.76832453208 despite several retries and waiting\n",
            "Could not download 6.479426838019999, 7.76832453208 despite several retries and waiting\n",
            "Could not download 6.434511073814023, 7.783296453481992 despite several retries and waiting\n",
            "Could not download 6.449482995216015, 7.783296453481992 despite several retries and waiting\n",
            "Could not download 6.464454916618007, 7.783296453481992 despite several retries and waiting\n",
            "Could not download 6.479426838019999, 7.783296453481992 despite several retries and waiting\n",
            "Could not download 6.434511073814023, 7.7982683748839845 despite several retries and waiting\n",
            "Could not download 6.449482995216015, 7.7982683748839845 despite several retries and waiting\n",
            "Could not download 6.464454916618007, 7.7982683748839845 despite several retries and waiting\n",
            "Could not download 6.479426838019999, 7.7982683748839845 despite several retries and waiting\n",
            "Could not download 6.434511073814023, 7.813240296285977 despite several retries and waiting\n",
            "Could not download 6.4372794866604055, 7.799123075916807 despite several retries and waiting\n",
            "Could not download 6.4440371855340235, 3.301675547338008 despite several retries and waiting\n",
            "Could not download 6.4440371855340235, 3.3316193901419924 despite several retries and waiting\n",
            "Could not download 6.503924871141992, 3.346591311543984 despite several retries and waiting\n",
            "Could not download 6.4903972988400005, 3.305640659428008 despite several retries and waiting\n",
            "Could not download 6.460453456036016, 3.32061258083 despite several retries and waiting\n",
            "Could not download 6.460453456036016, 3.3355845022319923 despite several retries and waiting\n",
            "Could not download 6.460453456036016, 3.365528345035976 despite several retries and waiting\n",
            "Could not download 6.535313063045977, 3.365528345035976 despite several retries and waiting\n",
            "Could not download 6.463018446116015, 3.303887952668008 despite several retries and waiting\n",
            "Could not download 6.463018446116015, 3.3338317954719923 despite several retries and waiting\n",
            "Could not download 6.492962288919999, 3.348803716873984 despite several retries and waiting\n",
            "Could not download 6.448046524714023, 3.363775638275976 despite several retries and waiting\n",
            "Could not download 6.5389692801759765, 4.696215387434024 despite several retries and waiting\n",
            "Could not download 6.511752278411992, 3.301400714508008 despite several retries and waiting\n",
            "Could not download 6.4818084356080075, 3.331344557311992 despite several retries and waiting\n",
            "Could not download 6.511752278411992, 3.346316478713984 despite several retries and waiting\n",
            "Could not download 6.543293272695976, 3.3441339482340244 despite several retries and waiting\n",
            "Could not download 6.49837750849, 3.3890497124400003 despite several retries and waiting\n",
            "Could not download 6.528321351293984, 3.3890497124400003 despite several retries and waiting\n",
            "Could not download 6.483405587088008, 3.418993555243984 despite several retries and waiting\n",
            "Could not download 6.49837750849, 3.418993555243984 despite several retries and waiting\n",
            "Could not download 6.453461744284024, 3.433965476645976 despite several retries and waiting\n",
            "Could not download 6.455536677884024, 3.5669651395060162 despite several retries and waiting\n",
            "Could not download 6.456820426674025, 4.799983078813984 despite several retries and waiting\n",
            "Could not download 6.471792348076017, 4.814955000215976 despite several retries and waiting\n",
            "Could not download 6.486764269478009, 4.814955000215976 despite several retries and waiting\n",
            "Could not download 6.501736190880001, 4.814955000215976 despite several retries and waiting\n",
            "Could not download 6.489375177668007, 3.303253964316016 despite several retries and waiting\n",
            "Could not download 6.504347099069999, 3.303253964316016 despite several retries and waiting\n",
            "Could not download 6.459431334864023, 3.318225885718008 despite several retries and waiting\n",
            "Could not download 6.5193190204719915, 3.3631416499239837 despite several retries and waiting\n",
            "Could not download 6.549262863275976, 3.3631416499239837 despite several retries and waiting\n",
            "Could not download 6.5193190204719915, 3.378113571325976 despite several retries and waiting\n",
            "Could not download 6.475854565146016, 8.825246252754024 despite several retries and waiting\n",
            "Could not download 6.475854565146016, 8.840218174156016 despite several retries and waiting\n",
            "Could not download 6.490826486548008, 8.840218174156016 despite several retries and waiting\n",
            "Could not download 6.50579840795, 8.840218174156016 despite several retries and waiting\n",
            "Could not download 6.535742250753985, 8.855190095558008 despite several retries and waiting\n",
            "Could not download 6.550714172155977, 8.855190095558008 despite several retries and waiting\n",
            "Could not download 6.535742250753985, 8.87016201696 despite several retries and waiting\n",
            "Could not download 6.550714172155977, 8.87016201696 despite several retries and waiting\n",
            "Could not download 6.490826486548008, 8.885133938361992 despite several retries and waiting\n",
            "Could not download 6.50579840795, 8.885133938361992 despite several retries and waiting\n",
            "Could not download 6.485523598426016, 3.33299537698 despite several retries and waiting\n",
            "Could not download 6.5603832054359765, 3.362939219783984 despite several retries and waiting\n",
            "Could not download 6.500495519828008, 3.377911141185976 despite several retries and waiting\n",
            "Could not download 6.546280651193984, 5.657857605528009 despite several retries and waiting\n",
            "Could not download 6.546280651193984, 5.672829526930001 despite several retries and waiting\n",
            "Could not download 6.546280651193984, 5.687801448331993 despite several retries and waiting\n",
            "Could not download 6.519362469258008, 3.3725983755780082 despite several retries and waiting\n",
            "Could not download 6.53433439066, 3.3725983755780082 despite several retries and waiting\n",
            "Could not download 6.564278233463984, 3.3725983755780082 despite several retries and waiting\n",
            "Could not download 6.4894186264540235, 3.3875702969800003 despite several retries and waiting\n",
            "Could not download 6.579250154865976, 3.3875702969800003 despite several retries and waiting\n",
            "Could not download 6.504390547856016, 3.417514139783984 despite several retries and waiting\n",
            "Could not download 6.564278233463984, 3.417514139783984 despite several retries and waiting\n",
            "Could not download 6.504390547856016, 3.432486061185976 despite several retries and waiting\n",
            "Could not download 6.499420652814024, 3.2970355889740244 despite several retries and waiting\n",
            "Could not download 6.54433641702, 3.3419513531800003 despite several retries and waiting\n",
            "Could not download 6.499420652814024, 3.371895195983984 despite several retries and waiting\n",
            "Could not download 6.529364495618008, 3.371895195983984 despite several retries and waiting\n",
            "Could not download 6.559308338421992, 3.371895195983984 despite several retries and waiting\n",
            "Could not download 6.5742802598239845, 3.371895195983984 despite several retries and waiting\n",
            "Could not download 6.5742802598239845, 3.386867117385976 despite several retries and waiting\n",
            "Could not download 6.536318459618008, 8.869393726864024 despite several retries and waiting\n",
            "Could not download 6.55129038102, 8.869393726864024 despite several retries and waiting\n",
            "Could not download 6.506374616814024, 8.884365648266016 despite several retries and waiting\n",
            "Could not download 6.5812342238239845, 8.899337569668008 despite several retries and waiting\n",
            "Could not download 6.596206145225977, 8.899337569668008 despite several retries and waiting\n",
            "Could not download 6.5812342238239845, 8.91430949107 despite several retries and waiting\n",
            "Could not download 6.596206145225977, 8.91430949107 despite several retries and waiting\n",
            "Could not download 6.566262302421992, 8.944253333873984 despite several retries and waiting\n",
            "Could not download 6.566262302421992, 8.959225255275976 despite several retries and waiting\n",
            "Could not download 6.543993772714023, 3.348758235476016 despite several retries and waiting\n",
            "Could not download 6.573937615518007, 3.363730156878008 despite several retries and waiting\n",
            "Could not download 6.588909536919999, 3.363730156878008 despite several retries and waiting\n",
            "Could not download 6.558965694116015, 3.37870207828 despite several retries and waiting\n",
            "Could not download 6.6188533797239835, 3.393673999681992 despite several retries and waiting\n",
            "Could not download 6.554027420784024, 3.373215308835976 despite several retries and waiting\n",
            "Could not download 6.585449447434024, 3.3630790885759763 despite several retries and waiting\n",
            "Could not download 6.624188540466016, 3.882497273495976 despite several retries and waiting\n",
            "Could not download 6.639160461868008, 3.882497273495976 despite several retries and waiting\n",
            "Could not download 6.612347513974025, 6.2919477591639845 despite several retries and waiting\n",
            "Could not download 6.634868231726016, 3.194265206555976 despite several retries and waiting\n",
            "Could not download 6.652449665216015, 7.253603776614024 despite several retries and waiting\n",
            "Could not download 6.6674215866180075, 7.253603776614024 despite several retries and waiting\n",
            "Could not download 6.68239350802, 7.253603776614024 despite several retries and waiting\n",
            "Could not download 6.652449665216015, 7.268575698016016 despite several retries and waiting\n",
            "Could not download 6.6674215866180075, 7.268575698016016 despite several retries and waiting\n",
            "Could not download 6.68239350802, 7.268575698016016 despite several retries and waiting\n",
            "Could not download 6.6674215866180075, 7.283547619418008 despite several retries and waiting\n",
            "Could not download 6.68239350802, 7.283547619418008 despite several retries and waiting\n",
            "Could not download 6.697365429421992, 7.283547619418008 despite several retries and waiting\n",
            "Could not download 6.637477743814023, 7.29851954082 despite several retries and waiting\n",
            "Could not download 6.712337350823984, 7.29851954082 despite several retries and waiting\n",
            "Could not download 6.727309272225976, 7.29851954082 despite several retries and waiting\n",
            "Could not download 6.637477743814023, 7.313491462221992 despite several retries and waiting\n",
            "Could not download 6.712337350823984, 7.313491462221992 despite several retries and waiting\n",
            "Could not download 6.727309272225976, 7.313491462221992 despite several retries and waiting\n",
            "Could not download 6.637477743814023, 7.328463383623984 despite several retries and waiting\n",
            "Could not download 6.69118125694, 8.090186760154024 despite several retries and waiting\n",
            "Could not download 6.706153178341992, 8.090186760154024 despite several retries and waiting\n",
            "Could not download 6.721125099743984, 8.090186760154024 despite several retries and waiting\n",
            "Could not download 6.69118125694, 8.105158681556016 despite several retries and waiting\n",
            "Could not download 6.706153178341992, 8.105158681556016 despite several retries and waiting\n",
            "Could not download 6.721125099743984, 8.105158681556016 despite several retries and waiting\n",
            "Could not download 6.649088633784025, 3.056837762044024 despite several retries and waiting\n",
            "Could not download 6.6940043979900015, 3.086781604848008 despite several retries and waiting\n",
            "Could not download 6.723948240793986, 3.116725447651992 despite several retries and waiting\n",
            "\n"
          ],
          "name": "stdout"
        },
        {
          "output_type": "display_data",
          "data": {
            "application/vnd.jupyter.widget-view+json": {
              "model_id": "7883f87cfbfa4e128f78d05f4622b2e3",
              "version_minor": 0,
              "version_major": 2
            },
            "text/plain": [
              "HBox(children=(FloatProgress(value=0.0, max=10000.0), HTML(value='')))"
            ]
          },
          "metadata": {
            "tags": []
          }
        }
      ]
    },
    {
      "cell_type": "code",
      "metadata": {
        "id": "xVOodZH2iqTZ"
      },
      "source": [
        ""
      ],
      "execution_count": null,
      "outputs": []
    }
  ]
}