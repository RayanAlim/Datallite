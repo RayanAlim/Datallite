{
  "nbformat": 4,
  "nbformat_minor": 0,
  "metadata": {
    "environment": {
      "name": "pytorch-gpu.1-4.m46",
      "type": "gcloud",
      "uri": "gcr.io/deeplearning-platform-release/pytorch-gpu.1-4:m46"
    },
    "kernelspec": {
      "display_name": "Python 3",
      "language": "python",
      "name": "python3"
    },
    "language_info": {
      "codemirror_mode": {
        "name": "ipython",
        "version": 3
      },
      "file_extension": ".py",
      "mimetype": "text/x-python",
      "name": "python",
      "nbconvert_exporter": "python",
      "pygments_lexer": "ipython3",
      "version": "3.7.7"
    },
    "colab": {
      "name": "process_survey_data.ipynb",
      "provenance": [],
      "collapsed_sections": []
    }
  },
  "cells": [
    {
      "cell_type": "markdown",
      "metadata": {
        "id": "QluoD5EBbpfs"
      },
      "source": [
        "Make sure you download the 2016 Household LSMS survey data for Malawi, Ethiopia, and Nigeria from https://microdata.worldbank.org/index.php/catalog/lsms and put it in `../data/countries/`. Malawi's data should be named `malawi_2016/LSMS`, Ethiopia's should be named `ethiopia_2015/LSMS`, and Nigeria's should be named `nigeria_2015/LSMS`. Nightlights data should be downloaded from https://ngdc.noaa.gov/eog/viirs/download_dnb_composites.html using the annual composite from 2015 in tile 2 and tile 5."
      ]
    },
    {
      "cell_type": "code",
      "metadata": {
        "colab": {
          "base_uri": "https://localhost:8080/"
        },
        "id": "Tmzdkl_Qbs5T",
        "outputId": "b56bde99-06e3-4428-fb82-2ea94d627415"
      },
      "source": [
        "from google.colab import drive\n",
        "drive.mount('/content/gdrive')"
      ],
      "execution_count": null,
      "outputs": [
        {
          "output_type": "stream",
          "text": [
            "Mounted at /content/gdrive\n"
          ],
          "name": "stdout"
        }
      ]
    },
    {
      "cell_type": "code",
      "metadata": {
        "colab": {
          "base_uri": "https://localhost:8080/"
        },
        "id": "u7P0Nfidb4Nk",
        "outputId": "bda6ae71-94a4-4a1a-8e2c-5299ff88fd83"
      },
      "source": [
        "!pip install geoio"
      ],
      "execution_count": null,
      "outputs": [
        {
          "output_type": "stream",
          "text": [
            "Collecting geoio\n",
            "\u001b[?25l  Downloading https://files.pythonhosted.org/packages/4b/26/2647daf5ef5cfb9327abb2709024810cd9b1916f7b334eee33fb81af9073/geoio-1.3.0-py3-none-any.whl (60kB)\n",
            "\u001b[K     |████████████████████████████████| 61kB 2.3MB/s \n",
            "\u001b[?25hRequirement already satisfied: gdal in /usr/local/lib/python3.7/dist-packages (from geoio) (2.2.2)\n",
            "Collecting tinytools\n",
            "  Downloading https://files.pythonhosted.org/packages/c3/e6/e335406a22be352c8b680ed5d4d28937ac911dbda9756625006e502bf787/tinytools-1.1.0-py3-none-any.whl\n",
            "Requirement already satisfied: ephem in /usr/local/lib/python3.7/dist-packages (from geoio) (3.7.7.1)\n",
            "Collecting tzwhere\n",
            "\u001b[?25l  Downloading https://files.pythonhosted.org/packages/3d/e9/18e4822f6e4640332b97c744378da427bc28d2399235520349bb17e06aa4/tzwhere-3.0.3.tar.gz (23.7MB)\n",
            "\u001b[K     |████████████████████████████████| 23.7MB 77.2MB/s \n",
            "\u001b[?25hRequirement already satisfied: plotly in /usr/local/lib/python3.7/dist-packages (from geoio) (4.4.1)\n",
            "Collecting xmltodict\n",
            "  Downloading https://files.pythonhosted.org/packages/28/fd/30d5c1d3ac29ce229f6bdc40bbc20b28f716e8b363140c26eff19122d8a5/xmltodict-0.12.0-py2.py3-none-any.whl\n",
            "Requirement already satisfied: pytz in /usr/local/lib/python3.7/dist-packages (from geoio) (2018.9)\n",
            "Requirement already satisfied: numpy in /usr/local/lib/python3.7/dist-packages (from geoio) (1.19.5)\n",
            "Requirement already satisfied: shapely in /usr/local/lib/python3.7/dist-packages (from tzwhere->geoio) (1.7.1)\n",
            "Requirement already satisfied: six in /usr/local/lib/python3.7/dist-packages (from plotly->geoio) (1.15.0)\n",
            "Requirement already satisfied: retrying>=1.3.3 in /usr/local/lib/python3.7/dist-packages (from plotly->geoio) (1.3.3)\n",
            "Building wheels for collected packages: tzwhere\n",
            "  Building wheel for tzwhere (setup.py) ... \u001b[?25l\u001b[?25hdone\n",
            "  Created wheel for tzwhere: filename=tzwhere-3.0.3-cp37-none-any.whl size=23742602 sha256=63f1d0c4f692cdd75dddfdc4be8ae4685fe39ab26b8b374316052dc096d42839\n",
            "  Stored in directory: /root/.cache/pip/wheels/89/18/2f/01c958c82b1223d6fe763c6b2fadf45b4f6ce6e8a9fce7bbd5\n",
            "Successfully built tzwhere\n",
            "Installing collected packages: tinytools, tzwhere, xmltodict, geoio\n",
            "Successfully installed geoio-1.3.0 tinytools-1.1.0 tzwhere-3.0.3 xmltodict-0.12.0\n"
          ],
          "name": "stdout"
        }
      ]
    },
    {
      "cell_type": "code",
      "metadata": {
        "id": "s_AAVuW-bpfw"
      },
      "source": [
        "import pandas as pd\n",
        "import numpy as np\n",
        "import os\n",
        "import geoio"
      ],
      "execution_count": null,
      "outputs": []
    },
    {
      "cell_type": "code",
      "metadata": {
        "id": "09AsPn0Ubpfy"
      },
      "source": [
        "BASE_DIR = 'gdrive/MyDrive/geo'\n",
        "NIGHTLIGHTS_DIRS = [os.path.join(BASE_DIR, 'data/nightlights/viirs_2015_00N060W.tif'),\n",
        "                    os.path.join(BASE_DIR, 'data/nightlights/viirs_2015_75N060W.tif')]\n",
        "\n",
        "COUNTRIES_DIR = os.path.join(BASE_DIR, 'data', 'countries')"
      ],
      "execution_count": null,
      "outputs": []
    },
    {
      "cell_type": "code",
      "metadata": {
        "id": "q6bYA-O7bpfy"
      },
      "source": [
        "import sys\n",
        "sys.path.append(BASE_DIR)\n",
        "from utils import create_space"
      ],
      "execution_count": null,
      "outputs": []
    },
    {
      "cell_type": "code",
      "metadata": {
        "id": "qnNhORkUbpfz"
      },
      "source": [
        "'''\n",
        "The goal of each of these functions is to output a dataframe with the following columns:\n",
        "country, cluster_lat, cluster_lon, cons_pc\n",
        "\n",
        "Each row should represent one cluster by combining the household data\n",
        "'''\n",
        "\n",
        "def process_malawi():\n",
        "    lsms_dir = os.path.join(COUNTRIES_DIR, 'malawi_2016', 'LSMS')\n",
        "    consumption_file = 'IHS4 Consumption Aggregate.csv'\n",
        "    consumption_ph_col = 'rexpagg' # per household\n",
        "    hhsize_col = 'hhsize' # people in household\n",
        "\n",
        "    geovariables_file = 'HouseholdGeovariables_csv/HouseholdGeovariablesIHS4.csv'\n",
        "    lat_col = 'lat_modified'\n",
        "    lon_col = 'lon_modified'\n",
        "\n",
        "    # purchasing power parity for malawi in 2016 (https://data.worldbank.org/indicator/PA.NUS.PRVT.PP?locations=MW)\n",
        "    ppp = 215.182\n",
        "    \n",
        "    for file in [consumption_file, geovariables_file]:\n",
        "        assert os.path.isfile(os.path.join(lsms_dir, file)), print(f'Could not find {file}')\n",
        "    \n",
        "    df = pd.read_csv(os.path.join(lsms_dir, consumption_file))\n",
        "    df['cons_ph'] = df[consumption_ph_col]\n",
        "    df['pph'] = df[hhsize_col]\n",
        "    df['cons_ph'] = df['cons_ph'] / ppp / 365\n",
        "    df = df[['case_id', 'cons_ph', 'pph']]\n",
        "\n",
        "    df_geo = pd.read_csv(os.path.join(lsms_dir, geovariables_file))\n",
        "    df_cords = df_geo[['case_id', 'HHID', lat_col, lon_col]]\n",
        "    df_cords.rename(columns={lat_col: 'cluster_lat', lon_col: 'cluster_lon'}, inplace=True)\n",
        "    df_combined = pd.merge(df, df_cords, on='case_id')\n",
        "    df_combined.drop(['case_id', 'HHID'], axis=1, inplace=True)\n",
        "    df_combined.dropna(inplace=True) # can't use na values\n",
        "    \n",
        "    df_clusters = df_combined.groupby(['cluster_lat', 'cluster_lon']).sum().reset_index()\n",
        "    df_clusters['cons_pc'] = df_clusters['cons_ph'] / df_clusters['pph'] # divides total cluster income by people\n",
        "    df_clusters['country'] = 'mw'\n",
        "    return df_clusters[['country', 'cluster_lat', 'cluster_lon', 'cons_pc']]\n",
        "\n",
        "def process_ethiopia():\n",
        "    lsms_dir = os.path.join(COUNTRIES_DIR, 'ethiopia_2015', 'LSMS')\n",
        "    consumption_file = 'Consumption Aggregate/cons_agg_w3.csv'\n",
        "    consumption_pc_col = 'total_cons_ann' # per capita\n",
        "    hhsize_col = 'hh_size' # people in household\n",
        "\n",
        "    geovariables_file = 'ETH_2015_ESS_v03_M_CSV/Geovariables/ETH_HouseholdGeovars_y3.csv'\n",
        "    lat_col = 'lat_dd_mod'\n",
        "    lon_col = 'lon_dd_mod'\n",
        "\n",
        "    # purchasing power parity for ethiopia in 2015 (https://data.worldbank.org/indicator/PA.NUS.PRVT.PP?locations=ET)\n",
        "    ppp = 7.882\n",
        "    \n",
        "    for file in [consumption_file, geovariables_file]:\n",
        "        assert os.path.isfile(os.path.join(lsms_dir, file)), print(f'Could not find {file}')\n",
        "    \n",
        "    df = pd.read_csv(os.path.join(lsms_dir, consumption_file))\n",
        "    df['cons_ph'] = df[consumption_pc_col] * df[hhsize_col]\n",
        "    df['pph'] = df[hhsize_col]\n",
        "    df['cons_ph'] = df['cons_ph'] / ppp / 365\n",
        "    df = df[['household_id2', 'cons_ph', 'pph']]\n",
        "\n",
        "    df_geo = pd.read_csv(os.path.join(lsms_dir, geovariables_file)\n",
        "    df_cords = df_geo[['household_id2', lat_col, lon_col]]\n",
        "    df_cords.rename(columns={lat_col: 'cluster_lat', lon_col: 'cluster_lon'}, inplace=True)\n",
        "    df_combined = pd.merge(df, df_cords, on='household_id2')\n",
        "    df_combined.drop(['household_id2'], axis=1, inplace=True)\n",
        "    df_combined.dropna(inplace=True) # can't use na values\n",
        "    \n",
        "    df_clusters = df_combined.groupby(['cluster_lat', 'cluster_lon']).sum().reset_index()\n",
        "    df_clusters['cons_pc'] = df_clusters['cons_ph'] / df_clusters['pph'] # divides total cluster income by people\n",
        "    df_clusters['country'] = 'eth'\n",
        "    return df_clusters[['country', 'cluster_lat', 'cluster_lon', 'cons_pc']]\n",
        "\n",
        "def process_nigeria():\n",
        "    lsms_dir = os.path.join(COUNTRIES_DIR, 'nigeria_2015', 'LSMS')\n",
        "    consumption_file = 'cons_agg_wave3_visit1.csv'\n",
        "    consumption_pc_col = 'totcons' # per capita\n",
        "    hhsize_col = 'hhsize' # people in household\n",
        "\n",
        "    geovariables_file = 'nga_householdgeovars_y3.csv'\n",
        "    lat_col = 'LAT_DD_MOD'\n",
        "    lon_col = 'LON_DD_MOD'\n",
        "\n",
        "    # purchasing power parity for nigeria in 2015 (https://data.worldbank.org/indicator/PA.NUS.PRVT.PP?locations=NG)\n",
        "    ppp = 95.255\n",
        "    \n",
        "    for file in [consumption_file, geovariables_file]:\n",
        "        assert os.path.isfile(os.path.join(lsms_dir, file)), print(f'Could not find {file}')\n",
        "    \n",
        "    df = pd.read_csv(os.path.join(lsms_dir, consumption_file))\n",
        "    df['cons_ph'] = df[consumption_pc_col] * df[hhsize_col]\n",
        "    df['pph'] = df[hhsize_col]\n",
        "    df['cons_ph'] = df['cons_ph'] / ppp / 365\n",
        "    df = df[['hhid', 'cons_ph', 'pph']]\n",
        "\n",
        "    df_geo = pd.read_csv(os.path.join(lsms_dir, geovariables_file))\n",
        "    df_cords = df_geo[['hhid', lat_col, lon_col]]\n",
        "    df_cords.rename(columns={lat_col: 'cluster_lat', lon_col: 'cluster_lon'}, inplace=True)\n",
        "    df_combined = pd.merge(df, df_cords, on='hhid')\n",
        "    df_combined.drop(['hhid'], axis=1, inplace=True)\n",
        "    df_combined.dropna(inplace=True) # can't use na values\n",
        "    \n",
        "    df_clusters = df_combined.groupby(['cluster_lat', 'cluster_lon']).sum().reset_index()\n",
        "    df_clusters['cons_pc'] = df_clusters['cons_ph'] / df_clusters['pph'] # divides total cluster income by people\n",
        "    df_clusters['country'] = 'ng'\n",
        "    return df_clusters[['country', 'cluster_lat', 'cluster_lon', 'cons_pc']]"
      ],
      "execution_count": null,
      "outputs": []
    },
    {
      "cell_type": "code",
      "metadata": {
        "colab": {
          "base_uri": "https://localhost:8080/"
        },
        "id": "SnENheh-bpgA",
        "outputId": "0fb9e549-ff70-4e85-a63a-0f1bf724355d"
      },
      "source": [
        "df_mw = process_malawi()"
      ],
      "execution_count": null,
      "outputs": [
        {
          "output_type": "stream",
          "text": [
            "/usr/local/lib/python3.7/dist-packages/pandas/core/frame.py:4308: SettingWithCopyWarning:\n",
            "\n",
            "\n",
            "A value is trying to be set on a copy of a slice from a DataFrame\n",
            "\n",
            "See the caveats in the documentation: https://pandas.pydata.org/pandas-docs/stable/user_guide/indexing.html#returning-a-view-versus-a-copy\n",
            "\n"
          ],
          "name": "stderr"
        }
      ]
    },
    {
      "cell_type": "code",
      "metadata": {
        "colab": {
          "base_uri": "https://localhost:8080/"
        },
        "id": "YLPmDweFbpgg",
        "outputId": "61022e01-56cc-4dcc-bb80-5e9d830a2600"
      },
      "source": [
        "df_eth = process_ethiopia()"
      ],
      "execution_count": null,
      "outputs": [
        {
          "output_type": "stream",
          "text": [
            "/usr/local/lib/python3.7/dist-packages/pandas/core/frame.py:4308: SettingWithCopyWarning:\n",
            "\n",
            "\n",
            "A value is trying to be set on a copy of a slice from a DataFrame\n",
            "\n",
            "See the caveats in the documentation: https://pandas.pydata.org/pandas-docs/stable/user_guide/indexing.html#returning-a-view-versus-a-copy\n",
            "\n"
          ],
          "name": "stderr"
        }
      ]
    },
    {
      "cell_type": "code",
      "metadata": {
        "colab": {
          "base_uri": "https://localhost:8080/"
        },
        "id": "BYqikODMbpgh",
        "outputId": "7165dacd-b00e-474a-884f-e815cbdcbf7d"
      },
      "source": [
        "df_ng = process_nigeria()"
      ],
      "execution_count": null,
      "outputs": [
        {
          "output_type": "stream",
          "text": [
            "/usr/local/lib/python3.7/dist-packages/pandas/core/frame.py:4308: SettingWithCopyWarning:\n",
            "\n",
            "\n",
            "A value is trying to be set on a copy of a slice from a DataFrame\n",
            "\n",
            "See the caveats in the documentation: https://pandas.pydata.org/pandas-docs/stable/user_guide/indexing.html#returning-a-view-versus-a-copy\n",
            "\n"
          ],
          "name": "stderr"
        }
      ]
    },
    {
      "cell_type": "code",
      "metadata": {
        "colab": {
          "base_uri": "https://localhost:8080/"
        },
        "id": "z_0vdo9Sbpgj",
        "outputId": "14120956-919e-4848-fdff-b92ef129e2c5"
      },
      "source": [
        "df_mw.shape, df_eth.shape, df_ng.shape"
      ],
      "execution_count": null,
      "outputs": [
        {
          "output_type": "execute_result",
          "data": {
            "text/plain": [
              "((780, 4), (523, 4), (664, 4))"
            ]
          },
          "metadata": {
            "tags": []
          },
          "execution_count": 18
        }
      ]
    },
    {
      "cell_type": "code",
      "metadata": {
        "id": "5shtFwIEbpgm"
      },
      "source": [
        "tifs = [geoio.GeoImage(ndir) for ndir in NIGHTLIGHTS_DIRS]"
      ],
      "execution_count": null,
      "outputs": []
    },
    {
      "cell_type": "code",
      "metadata": {
        "id": "uqhnSwr1bpgo"
      },
      "source": [
        "# loading both of these into memory requires A LOT of free memory (at least 4 gigs)\n",
        "# using a swapfile of size 2 GB still did not fix my issues\n",
        "# instead, I knew ahead of time the 0th tif is for Malawi, and the 1st tif is for Ethiopia and Nigeria\n",
        "# I'll use this to only load one tif at a time\n",
        "# thankfully, the countries did not span across two tifs\n",
        "tif_array = np.squeeze(tifs[0].get_data())"
      ],
      "execution_count": null,
      "outputs": []
    },
    {
      "cell_type": "code",
      "metadata": {
        "id": "C1Xqn-iKbpgo"
      },
      "source": [
        "def add_nightlights(df, tif, tif_array):\n",
        "    ''' \n",
        "    This takes a dataframe with columns cluster_lat, cluster_lon and finds the average \n",
        "    nightlights in 2015 using a 10kmx10km box around the point\n",
        "    \n",
        "    I try all the nighlights tifs until a match is found, or none are left upon which an error is raised\n",
        "    '''\n",
        "    cluster_nightlights = []\n",
        "    for i,r in df.iterrows():\n",
        "        min_lat, min_lon, max_lat, max_lon = create_space(r.cluster_lat, r.cluster_lon)\n",
        "        \n",
        "        xminPixel, ymaxPixel = tif.proj_to_raster(min_lon, min_lat)\n",
        "        xmaxPixel, yminPixel = tif.proj_to_raster(max_lon, max_lat)\n",
        "        assert xminPixel < xmaxPixel, print(r.cluster_lat, r.cluster_lon)\n",
        "        assert yminPixel < ymaxPixel, print(r.cluster_lat, r.cluster_lon)\n",
        "        if xminPixel < 0 or xmaxPixel >= tif_array.shape[1]:\n",
        "            print(f\"no match for {r.cluster_lat}, {r.cluster_lon}\")\n",
        "            raise ValueError()\n",
        "        elif yminPixel < 0 or ymaxPixel >= tif_array.shape[0]:\n",
        "            print(f\"no match for {r.cluster_lat}, {r.cluster_lon}\")\n",
        "            raise ValueError()\n",
        "        xminPixel, yminPixel, xmaxPixel, ymaxPixel = int(xminPixel), int(yminPixel), int(xmaxPixel), int(ymaxPixel)\n",
        "        cluster_nightlights.append(tif_array[yminPixel:ymaxPixel,xminPixel:xmaxPixel].mean())\n",
        "        \n",
        "    df['nightlights'] = cluster_nightlights"
      ],
      "execution_count": null,
      "outputs": []
    },
    {
      "cell_type": "code",
      "metadata": {
        "id": "llBn6PwlbphG"
      },
      "source": [
        "add_nightlights(df_mw, tifs[0], tif_array)"
      ],
      "execution_count": null,
      "outputs": []
    },
    {
      "cell_type": "code",
      "metadata": {
        "colab": {
          "base_uri": "https://localhost:8080/"
        },
        "id": "rjw2-jPpbphK",
        "outputId": "1aa3db94-f477-4bb9-c615-2bef35fb1c2e"
      },
      "source": [
        "del tif_array\n",
        "import gc\n",
        "gc.collect()"
      ],
      "execution_count": null,
      "outputs": [
        {
          "output_type": "execute_result",
          "data": {
            "text/plain": [
              "795"
            ]
          },
          "metadata": {
            "tags": []
          },
          "execution_count": 24
        }
      ]
    },
    {
      "cell_type": "code",
      "metadata": {
        "colab": {
          "base_uri": "https://localhost:8080/"
        },
        "id": "-WlyCWQxbphS",
        "outputId": "f62fd991-e5b6-4bed-9528-7890db4afeca"
      },
      "source": [
        "import psutil\n",
        "psutil.virtual_memory()"
      ],
      "execution_count": null,
      "outputs": [
        {
          "output_type": "execute_result",
          "data": {
            "text/plain": [
              "svmem(total=13624659968, available=11927236608, percent=12.5, used=5066326016, free=247844864, active=1919000576, inactive=11074854912, buffers=100814848, cached=8209674240, shared=1175552, slab=318877696)"
            ]
          },
          "metadata": {
            "tags": []
          },
          "execution_count": 25
        }
      ]
    },
    {
      "cell_type": "code",
      "metadata": {
        "id": "_24EvyZibphT"
      },
      "source": [
        "tif_array = np.squeeze(tifs[1].get_data())"
      ],
      "execution_count": null,
      "outputs": []
    },
    {
      "cell_type": "code",
      "metadata": {
        "id": "YDxv2jnvbphT"
      },
      "source": [
        "add_nightlights(df_eth, tifs[1], tif_array)"
      ],
      "execution_count": null,
      "outputs": []
    },
    {
      "cell_type": "code",
      "metadata": {
        "id": "RiY3p31cbphU"
      },
      "source": [
        "add_nightlights(df_ng, tifs[1], tif_array)"
      ],
      "execution_count": null,
      "outputs": []
    },
    {
      "cell_type": "code",
      "metadata": {
        "colab": {
          "base_uri": "https://localhost:8080/",
          "height": 204
        },
        "id": "-iYX9cuMbphU",
        "outputId": "6534303a-bb14-4366-9f39-9f432e04834e"
      },
      "source": [
        "df_mw.head()"
      ],
      "execution_count": null,
      "outputs": [
        {
          "output_type": "execute_result",
          "data": {
            "text/html": [
              "<div>\n",
              "<style scoped>\n",
              "    .dataframe tbody tr th:only-of-type {\n",
              "        vertical-align: middle;\n",
              "    }\n",
              "\n",
              "    .dataframe tbody tr th {\n",
              "        vertical-align: top;\n",
              "    }\n",
              "\n",
              "    .dataframe thead th {\n",
              "        text-align: right;\n",
              "    }\n",
              "</style>\n",
              "<table border=\"1\" class=\"dataframe\">\n",
              "  <thead>\n",
              "    <tr style=\"text-align: right;\">\n",
              "      <th></th>\n",
              "      <th>country</th>\n",
              "      <th>cluster_lat</th>\n",
              "      <th>cluster_lon</th>\n",
              "      <th>cons_pc</th>\n",
              "      <th>nightlights</th>\n",
              "    </tr>\n",
              "  </thead>\n",
              "  <tbody>\n",
              "    <tr>\n",
              "      <th>0</th>\n",
              "      <td>mw</td>\n",
              "      <td>-17.095150</td>\n",
              "      <td>35.217213</td>\n",
              "      <td>1.423239</td>\n",
              "      <td>0.025206</td>\n",
              "    </tr>\n",
              "    <tr>\n",
              "      <th>1</th>\n",
              "      <td>mw</td>\n",
              "      <td>-17.092351</td>\n",
              "      <td>35.114643</td>\n",
              "      <td>1.266204</td>\n",
              "      <td>0.000000</td>\n",
              "    </tr>\n",
              "    <tr>\n",
              "      <th>2</th>\n",
              "      <td>mw</td>\n",
              "      <td>-17.016698</td>\n",
              "      <td>35.079629</td>\n",
              "      <td>1.566870</td>\n",
              "      <td>0.000000</td>\n",
              "    </tr>\n",
              "    <tr>\n",
              "      <th>3</th>\n",
              "      <td>mw</td>\n",
              "      <td>-16.977243</td>\n",
              "      <td>35.205706</td>\n",
              "      <td>1.669245</td>\n",
              "      <td>0.008266</td>\n",
              "    </tr>\n",
              "    <tr>\n",
              "      <th>4</th>\n",
              "      <td>mw</td>\n",
              "      <td>-16.956385</td>\n",
              "      <td>35.168967</td>\n",
              "      <td>1.089891</td>\n",
              "      <td>0.002295</td>\n",
              "    </tr>\n",
              "  </tbody>\n",
              "</table>\n",
              "</div>"
            ],
            "text/plain": [
              "  country  cluster_lat  cluster_lon   cons_pc  nightlights\n",
              "0      mw   -17.095150    35.217213  1.423239     0.025206\n",
              "1      mw   -17.092351    35.114643  1.266204     0.000000\n",
              "2      mw   -17.016698    35.079629  1.566870     0.000000\n",
              "3      mw   -16.977243    35.205706  1.669245     0.008266\n",
              "4      mw   -16.956385    35.168967  1.089891     0.002295"
            ]
          },
          "metadata": {
            "tags": []
          },
          "execution_count": 29
        }
      ]
    },
    {
      "cell_type": "code",
      "metadata": {
        "colab": {
          "base_uri": "https://localhost:8080/",
          "height": 204
        },
        "id": "u6DQZKTPbphX",
        "outputId": "d48983ef-b560-45c5-d5f6-7ec1b38c01a5"
      },
      "source": [
        "df_eth.head()"
      ],
      "execution_count": null,
      "outputs": [
        {
          "output_type": "execute_result",
          "data": {
            "text/html": [
              "<div>\n",
              "<style scoped>\n",
              "    .dataframe tbody tr th:only-of-type {\n",
              "        vertical-align: middle;\n",
              "    }\n",
              "\n",
              "    .dataframe tbody tr th {\n",
              "        vertical-align: top;\n",
              "    }\n",
              "\n",
              "    .dataframe thead th {\n",
              "        text-align: right;\n",
              "    }\n",
              "</style>\n",
              "<table border=\"1\" class=\"dataframe\">\n",
              "  <thead>\n",
              "    <tr style=\"text-align: right;\">\n",
              "      <th></th>\n",
              "      <th>country</th>\n",
              "      <th>cluster_lat</th>\n",
              "      <th>cluster_lon</th>\n",
              "      <th>cons_pc</th>\n",
              "      <th>nightlights</th>\n",
              "    </tr>\n",
              "  </thead>\n",
              "  <tbody>\n",
              "    <tr>\n",
              "      <th>0</th>\n",
              "      <td>eth</td>\n",
              "      <td>3.455701</td>\n",
              "      <td>39.515994</td>\n",
              "      <td>14.854634</td>\n",
              "      <td>0.0</td>\n",
              "    </tr>\n",
              "    <tr>\n",
              "      <th>1</th>\n",
              "      <td>eth</td>\n",
              "      <td>3.549937</td>\n",
              "      <td>39.184234</td>\n",
              "      <td>14.312022</td>\n",
              "      <td>0.0</td>\n",
              "    </tr>\n",
              "    <tr>\n",
              "      <th>2</th>\n",
              "      <td>eth</td>\n",
              "      <td>3.864243</td>\n",
              "      <td>39.101366</td>\n",
              "      <td>12.470145</td>\n",
              "      <td>0.0</td>\n",
              "    </tr>\n",
              "    <tr>\n",
              "      <th>3</th>\n",
              "      <td>eth</td>\n",
              "      <td>3.982931</td>\n",
              "      <td>38.491368</td>\n",
              "      <td>8.336539</td>\n",
              "      <td>0.0</td>\n",
              "    </tr>\n",
              "    <tr>\n",
              "      <th>4</th>\n",
              "      <td>eth</td>\n",
              "      <td>4.048194</td>\n",
              "      <td>41.930928</td>\n",
              "      <td>4.762526</td>\n",
              "      <td>0.0</td>\n",
              "    </tr>\n",
              "  </tbody>\n",
              "</table>\n",
              "</div>"
            ],
            "text/plain": [
              "  country  cluster_lat  cluster_lon    cons_pc  nightlights\n",
              "0     eth     3.455701    39.515994  14.854634          0.0\n",
              "1     eth     3.549937    39.184234  14.312022          0.0\n",
              "2     eth     3.864243    39.101366  12.470145          0.0\n",
              "3     eth     3.982931    38.491368   8.336539          0.0\n",
              "4     eth     4.048194    41.930928   4.762526          0.0"
            ]
          },
          "metadata": {
            "tags": []
          },
          "execution_count": 31
        }
      ]
    },
    {
      "cell_type": "code",
      "metadata": {
        "colab": {
          "base_uri": "https://localhost:8080/",
          "height": 204
        },
        "id": "wVlRj71GbphY",
        "outputId": "c5203111-bd2b-4f55-9f07-f37b74bb01e9"
      },
      "source": [
        "df_ng.head()"
      ],
      "execution_count": null,
      "outputs": [
        {
          "output_type": "execute_result",
          "data": {
            "text/html": [
              "<div>\n",
              "<style scoped>\n",
              "    .dataframe tbody tr th:only-of-type {\n",
              "        vertical-align: middle;\n",
              "    }\n",
              "\n",
              "    .dataframe tbody tr th {\n",
              "        vertical-align: top;\n",
              "    }\n",
              "\n",
              "    .dataframe thead th {\n",
              "        text-align: right;\n",
              "    }\n",
              "</style>\n",
              "<table border=\"1\" class=\"dataframe\">\n",
              "  <thead>\n",
              "    <tr style=\"text-align: right;\">\n",
              "      <th></th>\n",
              "      <th>country</th>\n",
              "      <th>cluster_lat</th>\n",
              "      <th>cluster_lon</th>\n",
              "      <th>cons_pc</th>\n",
              "      <th>nightlights</th>\n",
              "    </tr>\n",
              "  </thead>\n",
              "  <tbody>\n",
              "    <tr>\n",
              "      <th>0</th>\n",
              "      <td>ng</td>\n",
              "      <td>4.315786</td>\n",
              "      <td>6.268753</td>\n",
              "      <td>4.317717</td>\n",
              "      <td>0.123354</td>\n",
              "    </tr>\n",
              "    <tr>\n",
              "      <th>1</th>\n",
              "      <td>ng</td>\n",
              "      <td>4.328719</td>\n",
              "      <td>6.308172</td>\n",
              "      <td>4.880711</td>\n",
              "      <td>0.013713</td>\n",
              "    </tr>\n",
              "    <tr>\n",
              "      <th>2</th>\n",
              "      <td>ng</td>\n",
              "      <td>4.398427</td>\n",
              "      <td>7.183962</td>\n",
              "      <td>8.767258</td>\n",
              "      <td>38.470989</td>\n",
              "    </tr>\n",
              "    <tr>\n",
              "      <th>3</th>\n",
              "      <td>ng</td>\n",
              "      <td>4.425192</td>\n",
              "      <td>7.166935</td>\n",
              "      <td>10.774504</td>\n",
              "      <td>40.519035</td>\n",
              "    </tr>\n",
              "    <tr>\n",
              "      <th>4</th>\n",
              "      <td>ng</td>\n",
              "      <td>4.619377</td>\n",
              "      <td>7.684946</td>\n",
              "      <td>5.191333</td>\n",
              "      <td>0.000000</td>\n",
              "    </tr>\n",
              "  </tbody>\n",
              "</table>\n",
              "</div>"
            ],
            "text/plain": [
              "  country  cluster_lat  cluster_lon    cons_pc  nightlights\n",
              "0      ng     4.315786     6.268753   4.317717     0.123354\n",
              "1      ng     4.328719     6.308172   4.880711     0.013713\n",
              "2      ng     4.398427     7.183962   8.767258    38.470989\n",
              "3      ng     4.425192     7.166935  10.774504    40.519035\n",
              "4      ng     4.619377     7.684946   5.191333     0.000000"
            ]
          },
          "metadata": {
            "tags": []
          },
          "execution_count": 32
        }
      ]
    },
    {
      "cell_type": "code",
      "metadata": {
        "colab": {
          "base_uri": "https://localhost:8080/"
        },
        "id": "guLp-gR3bphY",
        "outputId": "da603f30-583d-44b0-fa9f-fb5e4f2f706d"
      },
      "source": [
        "df_mw['nightlights'].mean()"
      ],
      "execution_count": null,
      "outputs": [
        {
          "output_type": "execute_result",
          "data": {
            "text/plain": [
              "0.6038162894313969"
            ]
          },
          "metadata": {
            "tags": []
          },
          "execution_count": 33
        }
      ]
    },
    {
      "cell_type": "code",
      "metadata": {
        "colab": {
          "base_uri": "https://localhost:8080/"
        },
        "id": "PbA7va6CbphZ",
        "outputId": "71adfd2f-af0f-4b7e-e9c7-6e85c3d55d4a"
      },
      "source": [
        "df_eth['nightlights'].mean()"
      ],
      "execution_count": null,
      "outputs": [
        {
          "output_type": "execute_result",
          "data": {
            "text/plain": [
              "0.6727544504689029"
            ]
          },
          "metadata": {
            "tags": []
          },
          "execution_count": 34
        }
      ]
    },
    {
      "cell_type": "code",
      "metadata": {
        "colab": {
          "base_uri": "https://localhost:8080/"
        },
        "id": "RRltkzEfbphZ",
        "outputId": "212ed948-2b2d-4d0d-9a10-8accd1cff0ac"
      },
      "source": [
        "df_ng['nightlights'].mean()"
      ],
      "execution_count": null,
      "outputs": [
        {
          "output_type": "execute_result",
          "data": {
            "text/plain": [
              "1.6584013095848769"
            ]
          },
          "metadata": {
            "tags": []
          },
          "execution_count": 35
        }
      ]
    },
    {
      "cell_type": "code",
      "metadata": {
        "colab": {
          "base_uri": "https://localhost:8080/",
          "height": 173
        },
        "id": "hlTR1aPEbpha",
        "outputId": "7af5b849-bd5b-4b2c-f6f1-9e6e8205e85d"
      },
      "source": [
        "df_mw.corr()"
      ],
      "execution_count": null,
      "outputs": [
        {
          "output_type": "execute_result",
          "data": {
            "text/html": [
              "<div>\n",
              "<style scoped>\n",
              "    .dataframe tbody tr th:only-of-type {\n",
              "        vertical-align: middle;\n",
              "    }\n",
              "\n",
              "    .dataframe tbody tr th {\n",
              "        vertical-align: top;\n",
              "    }\n",
              "\n",
              "    .dataframe thead th {\n",
              "        text-align: right;\n",
              "    }\n",
              "</style>\n",
              "<table border=\"1\" class=\"dataframe\">\n",
              "  <thead>\n",
              "    <tr style=\"text-align: right;\">\n",
              "      <th></th>\n",
              "      <th>cluster_lat</th>\n",
              "      <th>cluster_lon</th>\n",
              "      <th>cons_pc</th>\n",
              "      <th>nightlights</th>\n",
              "    </tr>\n",
              "  </thead>\n",
              "  <tbody>\n",
              "    <tr>\n",
              "      <th>cluster_lat</th>\n",
              "      <td>1.000000</td>\n",
              "      <td>-0.702793</td>\n",
              "      <td>-0.026563</td>\n",
              "      <td>-0.083273</td>\n",
              "    </tr>\n",
              "    <tr>\n",
              "      <th>cluster_lon</th>\n",
              "      <td>-0.702793</td>\n",
              "      <td>1.000000</td>\n",
              "      <td>-0.002947</td>\n",
              "      <td>-0.033367</td>\n",
              "    </tr>\n",
              "    <tr>\n",
              "      <th>cons_pc</th>\n",
              "      <td>-0.026563</td>\n",
              "      <td>-0.002947</td>\n",
              "      <td>1.000000</td>\n",
              "      <td>0.384939</td>\n",
              "    </tr>\n",
              "    <tr>\n",
              "      <th>nightlights</th>\n",
              "      <td>-0.083273</td>\n",
              "      <td>-0.033367</td>\n",
              "      <td>0.384939</td>\n",
              "      <td>1.000000</td>\n",
              "    </tr>\n",
              "  </tbody>\n",
              "</table>\n",
              "</div>"
            ],
            "text/plain": [
              "             cluster_lat  cluster_lon   cons_pc  nightlights\n",
              "cluster_lat     1.000000    -0.702793 -0.026563    -0.083273\n",
              "cluster_lon    -0.702793     1.000000 -0.002947    -0.033367\n",
              "cons_pc        -0.026563    -0.002947  1.000000     0.384939\n",
              "nightlights    -0.083273    -0.033367  0.384939     1.000000"
            ]
          },
          "metadata": {
            "tags": []
          },
          "execution_count": 36
        }
      ]
    },
    {
      "cell_type": "code",
      "metadata": {
        "colab": {
          "base_uri": "https://localhost:8080/",
          "height": 173
        },
        "id": "RRgNzLNcbpha",
        "outputId": "9083ad1e-0b07-4b8b-deab-1dba6b1b8437"
      },
      "source": [
        "df_eth.corr()"
      ],
      "execution_count": null,
      "outputs": [
        {
          "output_type": "execute_result",
          "data": {
            "text/html": [
              "<div>\n",
              "<style scoped>\n",
              "    .dataframe tbody tr th:only-of-type {\n",
              "        vertical-align: middle;\n",
              "    }\n",
              "\n",
              "    .dataframe tbody tr th {\n",
              "        vertical-align: top;\n",
              "    }\n",
              "\n",
              "    .dataframe thead th {\n",
              "        text-align: right;\n",
              "    }\n",
              "</style>\n",
              "<table border=\"1\" class=\"dataframe\">\n",
              "  <thead>\n",
              "    <tr style=\"text-align: right;\">\n",
              "      <th></th>\n",
              "      <th>cluster_lat</th>\n",
              "      <th>cluster_lon</th>\n",
              "      <th>cons_pc</th>\n",
              "      <th>nightlights</th>\n",
              "    </tr>\n",
              "  </thead>\n",
              "  <tbody>\n",
              "    <tr>\n",
              "      <th>cluster_lat</th>\n",
              "      <td>1.000000</td>\n",
              "      <td>0.157130</td>\n",
              "      <td>-0.052673</td>\n",
              "      <td>-0.006627</td>\n",
              "    </tr>\n",
              "    <tr>\n",
              "      <th>cluster_lon</th>\n",
              "      <td>0.157130</td>\n",
              "      <td>1.000000</td>\n",
              "      <td>0.211846</td>\n",
              "      <td>0.076039</td>\n",
              "    </tr>\n",
              "    <tr>\n",
              "      <th>cons_pc</th>\n",
              "      <td>-0.052673</td>\n",
              "      <td>0.211846</td>\n",
              "      <td>1.000000</td>\n",
              "      <td>0.343879</td>\n",
              "    </tr>\n",
              "    <tr>\n",
              "      <th>nightlights</th>\n",
              "      <td>-0.006627</td>\n",
              "      <td>0.076039</td>\n",
              "      <td>0.343879</td>\n",
              "      <td>1.000000</td>\n",
              "    </tr>\n",
              "  </tbody>\n",
              "</table>\n",
              "</div>"
            ],
            "text/plain": [
              "             cluster_lat  cluster_lon   cons_pc  nightlights\n",
              "cluster_lat     1.000000     0.157130 -0.052673    -0.006627\n",
              "cluster_lon     0.157130     1.000000  0.211846     0.076039\n",
              "cons_pc        -0.052673     0.211846  1.000000     0.343879\n",
              "nightlights    -0.006627     0.076039  0.343879     1.000000"
            ]
          },
          "metadata": {
            "tags": []
          },
          "execution_count": 37
        }
      ]
    },
    {
      "cell_type": "code",
      "metadata": {
        "colab": {
          "base_uri": "https://localhost:8080/",
          "height": 173
        },
        "id": "uMgDYNdebpha",
        "outputId": "d6ae08c0-5912-40e4-e56f-d24b951732ca"
      },
      "source": [
        "df_ng.corr()"
      ],
      "execution_count": null,
      "outputs": [
        {
          "output_type": "execute_result",
          "data": {
            "text/html": [
              "<div>\n",
              "<style scoped>\n",
              "    .dataframe tbody tr th:only-of-type {\n",
              "        vertical-align: middle;\n",
              "    }\n",
              "\n",
              "    .dataframe tbody tr th {\n",
              "        vertical-align: top;\n",
              "    }\n",
              "\n",
              "    .dataframe thead th {\n",
              "        text-align: right;\n",
              "    }\n",
              "</style>\n",
              "<table border=\"1\" class=\"dataframe\">\n",
              "  <thead>\n",
              "    <tr style=\"text-align: right;\">\n",
              "      <th></th>\n",
              "      <th>cluster_lat</th>\n",
              "      <th>cluster_lon</th>\n",
              "      <th>cons_pc</th>\n",
              "      <th>nightlights</th>\n",
              "    </tr>\n",
              "  </thead>\n",
              "  <tbody>\n",
              "    <tr>\n",
              "      <th>cluster_lat</th>\n",
              "      <td>1.000000</td>\n",
              "      <td>0.330910</td>\n",
              "      <td>-0.376356</td>\n",
              "      <td>-0.188281</td>\n",
              "    </tr>\n",
              "    <tr>\n",
              "      <th>cluster_lon</th>\n",
              "      <td>0.330910</td>\n",
              "      <td>1.000000</td>\n",
              "      <td>-0.246189</td>\n",
              "      <td>-0.196671</td>\n",
              "    </tr>\n",
              "    <tr>\n",
              "      <th>cons_pc</th>\n",
              "      <td>-0.376356</td>\n",
              "      <td>-0.246189</td>\n",
              "      <td>1.000000</td>\n",
              "      <td>0.264398</td>\n",
              "    </tr>\n",
              "    <tr>\n",
              "      <th>nightlights</th>\n",
              "      <td>-0.188281</td>\n",
              "      <td>-0.196671</td>\n",
              "      <td>0.264398</td>\n",
              "      <td>1.000000</td>\n",
              "    </tr>\n",
              "  </tbody>\n",
              "</table>\n",
              "</div>"
            ],
            "text/plain": [
              "             cluster_lat  cluster_lon   cons_pc  nightlights\n",
              "cluster_lat     1.000000     0.330910 -0.376356    -0.188281\n",
              "cluster_lon     0.330910     1.000000 -0.246189    -0.196671\n",
              "cons_pc        -0.376356    -0.246189  1.000000     0.264398\n",
              "nightlights    -0.188281    -0.196671  0.264398     1.000000"
            ]
          },
          "metadata": {
            "tags": []
          },
          "execution_count": 39
        }
      ]
    },
    {
      "cell_type": "code",
      "metadata": {
        "id": "aVWtjMbhbphb"
      },
      "source": [
        "for country in ['malawi_2016', 'ethiopia_2015', 'nigeria_2015']:\n",
        "    os.makedirs(os.path.join(COUNTRIES_DIR, country, 'processed'), exist_ok=True)"
      ],
      "execution_count": null,
      "outputs": []
    },
    {
      "cell_type": "code",
      "metadata": {
        "id": "fTsVoPIKbphb"
      },
      "source": [
        "df_mw.to_csv(os.path.join(COUNTRIES_DIR, 'malawi_2016', 'processed/clusters.csv'), index=False)"
      ],
      "execution_count": null,
      "outputs": []
    },
    {
      "cell_type": "code",
      "metadata": {
        "id": "nbMXdSBRbphb"
      },
      "source": [
        "df_eth.to_csv(os.path.join(COUNTRIES_DIR, 'ethiopia_2015', 'processed/clusters.csv'), index=False)"
      ],
      "execution_count": null,
      "outputs": []
    },
    {
      "cell_type": "code",
      "metadata": {
        "id": "T4CO_MvHbphb"
      },
      "source": [
        "df_ng.to_csv(os.path.join(COUNTRIES_DIR, 'nigeria_2015', 'processed/clusters.csv'), index=False)"
      ],
      "execution_count": null,
      "outputs": []
    },
    {
      "cell_type": "code",
      "metadata": {
        "id": "AzQAGdaObphb"
      },
      "source": [
        ""
      ],
      "execution_count": null,
      "outputs": []
    }
  ]
}