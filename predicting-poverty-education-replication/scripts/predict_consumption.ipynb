{
  "nbformat": 4,
  "nbformat_minor": 0,
  "metadata": {
    "environment": {
      "name": "pytorch-gpu.1-4.m46",
      "type": "gcloud",
      "uri": "gcr.io/deeplearning-platform-release/pytorch-gpu.1-4:m46"
    },
    "kernelspec": {
      "display_name": "predicting-poverty-replication",
      "language": "python",
      "name": "predicting-poverty-replication"
    },
    "language_info": {
      "codemirror_mode": {
        "name": "ipython",
        "version": 3
      },
      "file_extension": ".py",
      "mimetype": "text/x-python",
      "name": "python",
      "nbconvert_exporter": "python",
      "pygments_lexer": "ipython3",
      "version": "3.7.6"
    },
    "colab": {
      "name": "predict_consumption(1).ipynb",
      "provenance": [],
      "collapsed_sections": []
    }
  },
  "cells": [
    {
      "cell_type": "markdown",
      "metadata": {
        "id": "nX6n962Pvjyv"
      },
      "source": [
        "Using the cluster_feats saved in each country's results folder, we will finally predict the metric of interest (consumption per capita). There are many ways to evaluate our results, I do the following: <br>\n",
        "1) randomized CV - use 5-fold cross validation randomly on all clusters, all countries <br>\n",
        "2) randomized CV per country - use 5-fold cross validation within a country for all countries <br>\n",
        "3) spatial CV per country - use 5-fold cross validation but folds consist of clusters that are geographically close <br>\n",
        "4) cross-country CV - we have three countries, so hold one country out and perform cross validation <br>\n",
        "\n",
        "Jean et al use the 2nd evaluation method. One important point: in their code, they use pearson R and square it to get R^2. The more conventional way is shown here: https://en.wikipedia.org/wiki/Coefficient_of_determination. I use the latter method, as in my experience this is standard for reporting R^2. Jean et al's method will likely lead to a higher \"R^2\" than the conventional method, and doing so prevents a negative R^2 whereas the conventional method allows that possibility."
      ]
    },
    {
      "cell_type": "code",
      "metadata": {
        "colab": {
          "base_uri": "https://localhost:8080/"
        },
        "id": "rm5urAv5vlzA",
        "outputId": "bb062d68-6e4c-47f5-e112-9859ed50acff"
      },
      "source": [
        "from google.colab import drive\n",
        "drive.mount('/content/gdrive')"
      ],
      "execution_count": null,
      "outputs": [
        {
          "output_type": "stream",
          "text": [
            "Mounted at /content/gdrive\n"
          ],
          "name": "stdout"
        }
      ]
    },
    {
      "cell_type": "code",
      "metadata": {
        "id": "NnG5hkMYvjyz"
      },
      "source": [
        "import os\n",
        "import numpy as np\n",
        "import pandas as pd\n",
        "import pickle\n",
        "import matplotlib.pyplot as plt"
      ],
      "execution_count": null,
      "outputs": []
    },
    {
      "cell_type": "code",
      "metadata": {
        "id": "kjA9QcZWvjy2"
      },
      "source": [
        "BASE_DIR = 'gdrive/MyDrive/geo/geo'\n",
        "\n",
        "RANDOM_SEED = 7 # for reproducibility\n",
        "COUNTRIES_DIR = os.path.join(BASE_DIR, 'data', 'countries')\n",
        "RESULTS_DIR = os.path.join(BASE_DIR, 'results')\n",
        "FIGURES_DIR = os.path.join(BASE_DIR, 'figures')"
      ],
      "execution_count": null,
      "outputs": []
    },
    {
      "cell_type": "code",
      "metadata": {
        "id": "ltIfyxlTvjy4"
      },
      "source": [
        "import sys\n",
        "sys.path.append(BASE_DIR)\n",
        "from utils import merge_on_lat_lon, assign_groups, run_randomized_cv, run_spatial_cv"
      ],
      "execution_count": null,
      "outputs": []
    },
    {
      "cell_type": "markdown",
      "metadata": {
        "id": "RKse13pNvjy4"
      },
      "source": [
        "# Predict Consumption"
      ]
    },
    {
      "cell_type": "code",
      "metadata": {
        "id": "QuH3gUzjvjy4"
      },
      "source": [
        "def load_country(country):\n",
        "    '''\n",
        "    Organizes the country's dataframe so that each index corresponds to the index in the cluster features\n",
        "    Returns the cluster features and the organized dataframe\n",
        "    '''\n",
        "    country_processed_dir = os.path.join(COUNTRIES_DIR, country, 'processed')\n",
        "    country_results_dir = os.path.join(RESULTS_DIR, country, 'cnn')\n",
        "    x = np.load(os.path.join(country_results_dir, 'cluster_feats.npy'))\n",
        "    cluster_list = pickle.load(open(os.path.join(country_results_dir, 'cluster_order.pkl'), 'rb'))\n",
        "    cluster_list = pd.DataFrame.from_records(cluster_list, columns=['cluster_lat', 'cluster_lon'])\n",
        "    cluster_list['feat_index'] = np.arange(len(cluster_list))\n",
        "    \n",
        "    df_clusters = pd.read_csv(os.path.join(country_processed_dir, 'clusters.csv'))\n",
        "    #assert len(df_clusters) == len(cluster_list)\n",
        "\n",
        "    df = merge_on_lat_lon(df_clusters, cluster_list, keys=['cluster_lat', 'cluster_lon'])\n",
        "    #assert len(df) == len(df_clusters) == len(cluster_list)\n",
        "    df.sort_values('feat_index', ascending=True, inplace=True)\n",
        "    return x, df"
      ],
      "execution_count": null,
      "outputs": []
    },
    {
      "cell_type": "code",
      "metadata": {
        "colab": {
          "base_uri": "https://localhost:8080/",
          "height": 424
        },
        "id": "tST0yj5ZbQvG",
        "outputId": "7a3e8d10-508f-46bc-d79a-d77468d4f8e1"
      },
      "source": [
        "country_processed_dir = os.path.join(COUNTRIES_DIR, 'nigeria_2015', 'processed')\n",
        "df_clusters = pd.read_csv(os.path.join(country_processed_dir, 'clusters.csv'))\n",
        "df_clusters"
      ],
      "execution_count": null,
      "outputs": [
        {
          "output_type": "execute_result",
          "data": {
            "text/html": [
              "<div>\n",
              "<style scoped>\n",
              "    .dataframe tbody tr th:only-of-type {\n",
              "        vertical-align: middle;\n",
              "    }\n",
              "\n",
              "    .dataframe tbody tr th {\n",
              "        vertical-align: top;\n",
              "    }\n",
              "\n",
              "    .dataframe thead th {\n",
              "        text-align: right;\n",
              "    }\n",
              "</style>\n",
              "<table border=\"1\" class=\"dataframe\">\n",
              "  <thead>\n",
              "    <tr style=\"text-align: right;\">\n",
              "      <th></th>\n",
              "      <th>country</th>\n",
              "      <th>cluster_lat</th>\n",
              "      <th>cluster_lon</th>\n",
              "      <th>cons_pc</th>\n",
              "      <th>schools</th>\n",
              "    </tr>\n",
              "  </thead>\n",
              "  <tbody>\n",
              "    <tr>\n",
              "      <th>0</th>\n",
              "      <td>ng</td>\n",
              "      <td>4.315786</td>\n",
              "      <td>6.268753</td>\n",
              "      <td>0.000000</td>\n",
              "      <td>0</td>\n",
              "    </tr>\n",
              "    <tr>\n",
              "      <th>1</th>\n",
              "      <td>ng</td>\n",
              "      <td>4.328719</td>\n",
              "      <td>6.308172</td>\n",
              "      <td>0.295547</td>\n",
              "      <td>0</td>\n",
              "    </tr>\n",
              "    <tr>\n",
              "      <th>2</th>\n",
              "      <td>ng</td>\n",
              "      <td>4.398427</td>\n",
              "      <td>7.183962</td>\n",
              "      <td>0.232205</td>\n",
              "      <td>32</td>\n",
              "    </tr>\n",
              "    <tr>\n",
              "      <th>3</th>\n",
              "      <td>ng</td>\n",
              "      <td>4.425192</td>\n",
              "      <td>7.166935</td>\n",
              "      <td>2.540645</td>\n",
              "      <td>16</td>\n",
              "    </tr>\n",
              "    <tr>\n",
              "      <th>4</th>\n",
              "      <td>ng</td>\n",
              "      <td>4.619377</td>\n",
              "      <td>7.684946</td>\n",
              "      <td>0.000000</td>\n",
              "      <td>52</td>\n",
              "    </tr>\n",
              "    <tr>\n",
              "      <th>...</th>\n",
              "      <td>...</td>\n",
              "      <td>...</td>\n",
              "      <td>...</td>\n",
              "      <td>...</td>\n",
              "      <td>...</td>\n",
              "    </tr>\n",
              "    <tr>\n",
              "      <th>655</th>\n",
              "      <td>ng</td>\n",
              "      <td>13.202805</td>\n",
              "      <td>7.721468</td>\n",
              "      <td>0.005519</td>\n",
              "      <td>0</td>\n",
              "    </tr>\n",
              "    <tr>\n",
              "      <th>656</th>\n",
              "      <td>ng</td>\n",
              "      <td>13.339897</td>\n",
              "      <td>5.214480</td>\n",
              "      <td>0.010359</td>\n",
              "      <td>0</td>\n",
              "    </tr>\n",
              "    <tr>\n",
              "      <th>657</th>\n",
              "      <td>ng</td>\n",
              "      <td>13.555542</td>\n",
              "      <td>6.246647</td>\n",
              "      <td>0.025532</td>\n",
              "      <td>0</td>\n",
              "    </tr>\n",
              "    <tr>\n",
              "      <th>658</th>\n",
              "      <td>ng</td>\n",
              "      <td>13.604251</td>\n",
              "      <td>5.741676</td>\n",
              "      <td>0.019175</td>\n",
              "      <td>0</td>\n",
              "    </tr>\n",
              "    <tr>\n",
              "      <th>659</th>\n",
              "      <td>ng</td>\n",
              "      <td>13.714247</td>\n",
              "      <td>5.557553</td>\n",
              "      <td>0.007013</td>\n",
              "      <td>0</td>\n",
              "    </tr>\n",
              "  </tbody>\n",
              "</table>\n",
              "<p>660 rows × 5 columns</p>\n",
              "</div>"
            ],
            "text/plain": [
              "    country  cluster_lat  cluster_lon   cons_pc  schools\n",
              "0        ng     4.315786     6.268753  0.000000        0\n",
              "1        ng     4.328719     6.308172  0.295547        0\n",
              "2        ng     4.398427     7.183962  0.232205       32\n",
              "3        ng     4.425192     7.166935  2.540645       16\n",
              "4        ng     4.619377     7.684946  0.000000       52\n",
              "..      ...          ...          ...       ...      ...\n",
              "655      ng    13.202805     7.721468  0.005519        0\n",
              "656      ng    13.339897     5.214480  0.010359        0\n",
              "657      ng    13.555542     6.246647  0.025532        0\n",
              "658      ng    13.604251     5.741676  0.019175        0\n",
              "659      ng    13.714247     5.557553  0.007013        0\n",
              "\n",
              "[660 rows x 5 columns]"
            ]
          },
          "metadata": {
            "tags": []
          },
          "execution_count": 25
        }
      ]
    },
    {
      "cell_type": "code",
      "metadata": {
        "colab": {
          "base_uri": "https://localhost:8080/",
          "height": 424
        },
        "id": "Wn0lW92fbh4Q",
        "outputId": "dabbbac5-183f-4cad-afa1-d43d3a26ce93"
      },
      "source": [
        "country_results_dir = os.path.join(RESULTS_DIR, 'nigeria_2015', 'cnn')\n",
        "cluster_list = pickle.load(open(os.path.join(country_results_dir, 'cluster_order.pkl'), 'rb'))\n",
        "cluster_list = pd.DataFrame.from_records(cluster_list, columns=['cluster_lat', 'cluster_lon'])\n",
        "cluster_list"
      ],
      "execution_count": null,
      "outputs": [
        {
          "output_type": "execute_result",
          "data": {
            "text/html": [
              "<div>\n",
              "<style scoped>\n",
              "    .dataframe tbody tr th:only-of-type {\n",
              "        vertical-align: middle;\n",
              "    }\n",
              "\n",
              "    .dataframe tbody tr th {\n",
              "        vertical-align: top;\n",
              "    }\n",
              "\n",
              "    .dataframe thead th {\n",
              "        text-align: right;\n",
              "    }\n",
              "</style>\n",
              "<table border=\"1\" class=\"dataframe\">\n",
              "  <thead>\n",
              "    <tr style=\"text-align: right;\">\n",
              "      <th></th>\n",
              "      <th>cluster_lat</th>\n",
              "      <th>cluster_lon</th>\n",
              "    </tr>\n",
              "  </thead>\n",
              "  <tbody>\n",
              "    <tr>\n",
              "      <th>0</th>\n",
              "      <td>4.315786</td>\n",
              "      <td>6.268753</td>\n",
              "    </tr>\n",
              "    <tr>\n",
              "      <th>1</th>\n",
              "      <td>4.328719</td>\n",
              "      <td>6.308172</td>\n",
              "    </tr>\n",
              "    <tr>\n",
              "      <th>2</th>\n",
              "      <td>4.398427</td>\n",
              "      <td>7.183962</td>\n",
              "    </tr>\n",
              "    <tr>\n",
              "      <th>3</th>\n",
              "      <td>4.425192</td>\n",
              "      <td>7.166935</td>\n",
              "    </tr>\n",
              "    <tr>\n",
              "      <th>4</th>\n",
              "      <td>4.619377</td>\n",
              "      <td>7.684946</td>\n",
              "    </tr>\n",
              "    <tr>\n",
              "      <th>...</th>\n",
              "      <td>...</td>\n",
              "      <td>...</td>\n",
              "    </tr>\n",
              "    <tr>\n",
              "      <th>242</th>\n",
              "      <td>6.682394</td>\n",
              "      <td>7.298520</td>\n",
              "    </tr>\n",
              "    <tr>\n",
              "      <th>243</th>\n",
              "      <td>6.687555</td>\n",
              "      <td>3.200687</td>\n",
              "    </tr>\n",
              "    <tr>\n",
              "      <th>244</th>\n",
              "      <td>6.690485</td>\n",
              "      <td>3.287630</td>\n",
              "    </tr>\n",
              "    <tr>\n",
              "      <th>245</th>\n",
              "      <td>6.690623</td>\n",
              "      <td>3.293775</td>\n",
              "    </tr>\n",
              "    <tr>\n",
              "      <th>246</th>\n",
              "      <td>6.691086</td>\n",
              "      <td>9.176024</td>\n",
              "    </tr>\n",
              "  </tbody>\n",
              "</table>\n",
              "<p>247 rows × 2 columns</p>\n",
              "</div>"
            ],
            "text/plain": [
              "     cluster_lat  cluster_lon\n",
              "0       4.315786     6.268753\n",
              "1       4.328719     6.308172\n",
              "2       4.398427     7.183962\n",
              "3       4.425192     7.166935\n",
              "4       4.619377     7.684946\n",
              "..           ...          ...\n",
              "242     6.682394     7.298520\n",
              "243     6.687555     3.200687\n",
              "244     6.690485     3.287630\n",
              "245     6.690623     3.293775\n",
              "246     6.691086     9.176024\n",
              "\n",
              "[247 rows x 2 columns]"
            ]
          },
          "metadata": {
            "tags": []
          },
          "execution_count": 26
        }
      ]
    },
    {
      "cell_type": "code",
      "metadata": {
        "id": "wKOUNMy3vjy5"
      },
      "source": [
        "# x_mw, df_mw = load_country('malawi_2016')\n",
        "# x_eth, df_eth = load_country('ethiopia_2015')\n",
        "x_ng, df_ng = load_country('nigeria_2015')"
      ],
      "execution_count": null,
      "outputs": []
    },
    {
      "cell_type": "code",
      "metadata": {
        "id": "uv99Pkj_vjy7"
      },
      "source": [
        "# y_mw = df_mw['cons_pc'].values\n",
        "# y_eth = df_eth['cons_pc'].values\n",
        "y_ng = df_ng['cons_pc'].values"
      ],
      "execution_count": null,
      "outputs": []
    },
    {
      "cell_type": "code",
      "metadata": {
        "id": "gRdBI1T3vjy8"
      },
      "source": [
        "def test_fully_randomized_cv():\n",
        "    print(\"Testing fully randomized CV:\\n--------------\\n\")\n",
        "    x_all = np.concatenate([x_mw, x_eth, x_ng], axis=0)\n",
        "    y_all = np.concatenate([y_mw, y_eth, y_ng], axis=0)\n",
        "    r2_direct, _ = run_randomized_cv(x_all, y_all, random_seed=RANDOM_SEED, to_print=False)\n",
        "    r2_log, _ = run_randomized_cv(x_all, np.log(y_all), random_seed=RANDOM_SEED)\n",
        "    print(f\"For fully randomized cv: direct r2: {r2_direct}, log r2: {r2_log}\")\n",
        "    \n",
        "def test_randomized_cv_per_country():\n",
        "    print(\"Testing per country randomized CV:\\n--------------\\n\")\n",
        "    xs = [x_mw, x_eth, x_ng]\n",
        "    ys = [y_mw, y_eth, y_ng]\n",
        "    countries = ['malawi_2016', 'ethiopia_2015', 'nigeria_2015']\n",
        "    for x, y, c in zip(xs, ys, countries):\n",
        "        r2_direct, _ = run_randomized_cv(x, y, random_seed=RANDOM_SEED, to_print=False)\n",
        "        r2_log, _ = run_randomized_cv(x, np.log(y), random_seed=RANDOM_SEED)\n",
        "        print(f\"For {c}, direct r2: {r2_direct}, log r2: {r2_log}\")\n",
        "    \n",
        "def test_spatial_cv_per_country():\n",
        "    print(\"Testing per country spatial CV:\\n--------------\\n\")\n",
        "    xs = [x_mw, x_eth, x_ng]\n",
        "    ys = [y_mw, y_eth, y_ng]\n",
        "    dfs = [df_mw, df_eth, df_ng]\n",
        "    countries = ['malawi_2016', 'ethiopia_2015', 'nigeria_2015']\n",
        "    for x, y, df, c in zip(xs, ys, dfs, countries):\n",
        "        groups, _ = assign_groups(df, k=5, random_seed=RANDOM_SEED)\n",
        "        r2_direct, _ = run_spatial_cv(x, y, groups, random_seed=RANDOM_SEED)\n",
        "        r2_log, _ = run_spatial_cv(x, np.log(y), groups, random_seed=RANDOM_SEED)\n",
        "        print(f\"For {c}, direct r2: {r2_direct}, log r2: {r2_log}\")\n",
        "    \n",
        "def test_cross_country_cv():\n",
        "    print(\"Testing cross country CV:\\n--------------\\n\")\n",
        "    x_all = np.concatenate([x_mw, x_eth, x_ng], axis=0)\n",
        "    y_all = np.concatenate([y_mw, y_eth, y_ng], axis=0)\n",
        "    groups = np.zeros_like(y_all)\n",
        "    groups[len(y_mw) : len(y_mw) + len(y_eth)] = 1 # ethiopia indices become 1\n",
        "    groups[len(y_mw) + len(y_eth):] = 2 # nigeria indices become 2\n",
        "    r2_direct, _ = run_spatial_cv(x_all, y_all, groups, random_seed=RANDOM_SEED, k_inner=10)\n",
        "    r2_log, _ = run_spatial_cv(x_all, np.log(y_all), groups, random_seed=RANDOM_SEED, k_inner=10)\n",
        "    print(f\"For cross country cv: direct r2: {r2_direct}, log r2: {r2_log}\")"
      ],
      "execution_count": null,
      "outputs": []
    },
    {
      "cell_type": "code",
      "metadata": {
        "scrolled": false,
        "id": "fDghstQBvjy9"
      },
      "source": [
        "# this concatenates all countries and runs randomized CV\n",
        "test_fully_randomized_cv()"
      ],
      "execution_count": null,
      "outputs": []
    },
    {
      "cell_type": "code",
      "metadata": {
        "id": "v3jntAN2vjy_",
        "colab": {
          "base_uri": "https://localhost:8080/",
          "height": 395
        },
        "outputId": "61ea5e75-d00d-4366-8334-c74f4d567766"
      },
      "source": [
        "# this runs randomized CV per country; this is how Jean et al report their results\n",
        "# we can see that the model does perform well, although how well it performs varies greatly\n",
        "# in our three countries. It is difficult to make statements about why the model \n",
        "# does better in certain countries (and why predicting the log doesn't do better in ethiopia)\n",
        "# without more analysis and more countries\n",
        "test_randomized_cv_per_country()"
      ],
      "execution_count": null,
      "outputs": [
        {
          "output_type": "stream",
          "text": [
            "Testing per country randomized CV:\n",
            "--------------\n",
            "\n"
          ],
          "name": "stdout"
        },
        {
          "output_type": "error",
          "ename": "NameError",
          "evalue": "ignored",
          "traceback": [
            "\u001b[0;31m---------------------------------------------------------------------------\u001b[0m",
            "\u001b[0;31mNameError\u001b[0m                                 Traceback (most recent call last)",
            "\u001b[0;32m<ipython-input-32-8c13958078d3>\u001b[0m in \u001b[0;36m<module>\u001b[0;34m()\u001b[0m\n\u001b[1;32m      4\u001b[0m \u001b[0;31m# does better in certain countries (and why predicting the log doesn't do better in ethiopia)\u001b[0m\u001b[0;34m\u001b[0m\u001b[0;34m\u001b[0m\u001b[0;34m\u001b[0m\u001b[0m\n\u001b[1;32m      5\u001b[0m \u001b[0;31m# without more analysis and more countries\u001b[0m\u001b[0;34m\u001b[0m\u001b[0;34m\u001b[0m\u001b[0;34m\u001b[0m\u001b[0m\n\u001b[0;32m----> 6\u001b[0;31m \u001b[0mtest_randomized_cv_per_country\u001b[0m\u001b[0;34m(\u001b[0m\u001b[0;34m)\u001b[0m\u001b[0;34m\u001b[0m\u001b[0;34m\u001b[0m\u001b[0m\n\u001b[0m",
            "\u001b[0;32m<ipython-input-30-3c5ecd092db8>\u001b[0m in \u001b[0;36mtest_randomized_cv_per_country\u001b[0;34m()\u001b[0m\n\u001b[1;32m      9\u001b[0m \u001b[0;32mdef\u001b[0m \u001b[0mtest_randomized_cv_per_country\u001b[0m\u001b[0;34m(\u001b[0m\u001b[0;34m)\u001b[0m\u001b[0;34m:\u001b[0m\u001b[0;34m\u001b[0m\u001b[0;34m\u001b[0m\u001b[0m\n\u001b[1;32m     10\u001b[0m     \u001b[0mprint\u001b[0m\u001b[0;34m(\u001b[0m\u001b[0;34m\"Testing per country randomized CV:\\n--------------\\n\"\u001b[0m\u001b[0;34m)\u001b[0m\u001b[0;34m\u001b[0m\u001b[0;34m\u001b[0m\u001b[0m\n\u001b[0;32m---> 11\u001b[0;31m     \u001b[0mxs\u001b[0m \u001b[0;34m=\u001b[0m \u001b[0;34m[\u001b[0m\u001b[0mx_mw\u001b[0m\u001b[0;34m,\u001b[0m \u001b[0mx_eth\u001b[0m\u001b[0;34m,\u001b[0m \u001b[0mx_ng\u001b[0m\u001b[0;34m]\u001b[0m\u001b[0;34m\u001b[0m\u001b[0;34m\u001b[0m\u001b[0m\n\u001b[0m\u001b[1;32m     12\u001b[0m     \u001b[0mys\u001b[0m \u001b[0;34m=\u001b[0m \u001b[0;34m[\u001b[0m\u001b[0my_mw\u001b[0m\u001b[0;34m,\u001b[0m \u001b[0my_eth\u001b[0m\u001b[0;34m,\u001b[0m \u001b[0my_ng\u001b[0m\u001b[0;34m]\u001b[0m\u001b[0;34m\u001b[0m\u001b[0;34m\u001b[0m\u001b[0m\n\u001b[1;32m     13\u001b[0m     \u001b[0mcountries\u001b[0m \u001b[0;34m=\u001b[0m \u001b[0;34m[\u001b[0m\u001b[0;34m'malawi_2016'\u001b[0m\u001b[0;34m,\u001b[0m \u001b[0;34m'ethiopia_2015'\u001b[0m\u001b[0;34m,\u001b[0m \u001b[0;34m'nigeria_2015'\u001b[0m\u001b[0;34m]\u001b[0m\u001b[0;34m\u001b[0m\u001b[0;34m\u001b[0m\u001b[0m\n",
            "\u001b[0;31mNameError\u001b[0m: name 'x_mw' is not defined"
          ]
        }
      ]
    },
    {
      "cell_type": "code",
      "metadata": {
        "id": "I7xJlV8uvjzA",
        "colab": {
          "base_uri": "https://localhost:8080/",
          "height": 395
        },
        "outputId": "7c746647-1ac6-4d78-983b-f7787d4786e6"
      },
      "source": [
        "# spatial CV provides very inconsistent results. this indicates that the model is \n",
        "# greatly advantaged in randomized CV, most likely because it can train on one cluster and \n",
        "# validate on a nearby cluster. this suggests there is still more to be desired for a truly generalizable model\n",
        "test_spatial_cv_per_country()"
      ],
      "execution_count": null,
      "outputs": [
        {
          "output_type": "stream",
          "text": [
            "Testing per country spatial CV:\n",
            "--------------\n",
            "\n"
          ],
          "name": "stdout"
        },
        {
          "output_type": "error",
          "ename": "NameError",
          "evalue": "ignored",
          "traceback": [
            "\u001b[0;31m---------------------------------------------------------------------------\u001b[0m",
            "\u001b[0;31mNameError\u001b[0m                                 Traceback (most recent call last)",
            "\u001b[0;32m<ipython-input-33-a50e754b586e>\u001b[0m in \u001b[0;36m<module>\u001b[0;34m()\u001b[0m\n\u001b[1;32m      2\u001b[0m \u001b[0;31m# greatly advantaged in randomized CV, most likely because it can train on one cluster and\u001b[0m\u001b[0;34m\u001b[0m\u001b[0;34m\u001b[0m\u001b[0;34m\u001b[0m\u001b[0m\n\u001b[1;32m      3\u001b[0m \u001b[0;31m# validate on a nearby cluster. this suggests there is still more to be desired for a truly generalizable model\u001b[0m\u001b[0;34m\u001b[0m\u001b[0;34m\u001b[0m\u001b[0;34m\u001b[0m\u001b[0m\n\u001b[0;32m----> 4\u001b[0;31m \u001b[0mtest_spatial_cv_per_country\u001b[0m\u001b[0;34m(\u001b[0m\u001b[0;34m)\u001b[0m\u001b[0;34m\u001b[0m\u001b[0;34m\u001b[0m\u001b[0m\n\u001b[0m",
            "\u001b[0;32m<ipython-input-30-3c5ecd092db8>\u001b[0m in \u001b[0;36mtest_spatial_cv_per_country\u001b[0;34m()\u001b[0m\n\u001b[1;32m     19\u001b[0m \u001b[0;32mdef\u001b[0m \u001b[0mtest_spatial_cv_per_country\u001b[0m\u001b[0;34m(\u001b[0m\u001b[0;34m)\u001b[0m\u001b[0;34m:\u001b[0m\u001b[0;34m\u001b[0m\u001b[0;34m\u001b[0m\u001b[0m\n\u001b[1;32m     20\u001b[0m     \u001b[0mprint\u001b[0m\u001b[0;34m(\u001b[0m\u001b[0;34m\"Testing per country spatial CV:\\n--------------\\n\"\u001b[0m\u001b[0;34m)\u001b[0m\u001b[0;34m\u001b[0m\u001b[0;34m\u001b[0m\u001b[0m\n\u001b[0;32m---> 21\u001b[0;31m     \u001b[0mxs\u001b[0m \u001b[0;34m=\u001b[0m \u001b[0;34m[\u001b[0m\u001b[0mx_mw\u001b[0m\u001b[0;34m,\u001b[0m \u001b[0mx_eth\u001b[0m\u001b[0;34m,\u001b[0m \u001b[0mx_ng\u001b[0m\u001b[0;34m]\u001b[0m\u001b[0;34m\u001b[0m\u001b[0;34m\u001b[0m\u001b[0m\n\u001b[0m\u001b[1;32m     22\u001b[0m     \u001b[0mys\u001b[0m \u001b[0;34m=\u001b[0m \u001b[0;34m[\u001b[0m\u001b[0my_mw\u001b[0m\u001b[0;34m,\u001b[0m \u001b[0my_eth\u001b[0m\u001b[0;34m,\u001b[0m \u001b[0my_ng\u001b[0m\u001b[0;34m]\u001b[0m\u001b[0;34m\u001b[0m\u001b[0;34m\u001b[0m\u001b[0m\n\u001b[1;32m     23\u001b[0m     \u001b[0mdfs\u001b[0m \u001b[0;34m=\u001b[0m \u001b[0;34m[\u001b[0m\u001b[0mdf_mw\u001b[0m\u001b[0;34m,\u001b[0m \u001b[0mdf_eth\u001b[0m\u001b[0;34m,\u001b[0m \u001b[0mdf_ng\u001b[0m\u001b[0;34m]\u001b[0m\u001b[0;34m\u001b[0m\u001b[0;34m\u001b[0m\u001b[0m\n",
            "\u001b[0;31mNameError\u001b[0m: name 'x_mw' is not defined"
          ]
        }
      ]
    },
    {
      "cell_type": "code",
      "metadata": {
        "id": "JC2TlJ_TvjzB",
        "colab": {
          "base_uri": "https://localhost:8080/",
          "height": 395
        },
        "outputId": "bd7d4c33-3a5f-42b9-b1d5-52061fb789c1"
      },
      "source": [
        "# the model does not generalize if trained on two countries to predict the third\n",
        "# slight tweaks to this function can show how each country faired when held out\n",
        "test_cross_country_cv()"
      ],
      "execution_count": null,
      "outputs": [
        {
          "output_type": "stream",
          "text": [
            "Testing cross country CV:\n",
            "--------------\n",
            "\n"
          ],
          "name": "stdout"
        },
        {
          "output_type": "error",
          "ename": "NameError",
          "evalue": "ignored",
          "traceback": [
            "\u001b[0;31m---------------------------------------------------------------------------\u001b[0m",
            "\u001b[0;31mNameError\u001b[0m                                 Traceback (most recent call last)",
            "\u001b[0;32m<ipython-input-34-e597e6de0b5a>\u001b[0m in \u001b[0;36m<module>\u001b[0;34m()\u001b[0m\n\u001b[1;32m      1\u001b[0m \u001b[0;31m# the model does not generalize if trained on two countries to predict the third\u001b[0m\u001b[0;34m\u001b[0m\u001b[0;34m\u001b[0m\u001b[0;34m\u001b[0m\u001b[0m\n\u001b[1;32m      2\u001b[0m \u001b[0;31m# slight tweaks to this function can show how each country faired when held out\u001b[0m\u001b[0;34m\u001b[0m\u001b[0;34m\u001b[0m\u001b[0;34m\u001b[0m\u001b[0m\n\u001b[0;32m----> 3\u001b[0;31m \u001b[0mtest_cross_country_cv\u001b[0m\u001b[0;34m(\u001b[0m\u001b[0;34m)\u001b[0m\u001b[0;34m\u001b[0m\u001b[0;34m\u001b[0m\u001b[0m\n\u001b[0m",
            "\u001b[0;32m<ipython-input-30-3c5ecd092db8>\u001b[0m in \u001b[0;36mtest_cross_country_cv\u001b[0;34m()\u001b[0m\n\u001b[1;32m     31\u001b[0m \u001b[0;32mdef\u001b[0m \u001b[0mtest_cross_country_cv\u001b[0m\u001b[0;34m(\u001b[0m\u001b[0;34m)\u001b[0m\u001b[0;34m:\u001b[0m\u001b[0;34m\u001b[0m\u001b[0;34m\u001b[0m\u001b[0m\n\u001b[1;32m     32\u001b[0m     \u001b[0mprint\u001b[0m\u001b[0;34m(\u001b[0m\u001b[0;34m\"Testing cross country CV:\\n--------------\\n\"\u001b[0m\u001b[0;34m)\u001b[0m\u001b[0;34m\u001b[0m\u001b[0;34m\u001b[0m\u001b[0m\n\u001b[0;32m---> 33\u001b[0;31m     \u001b[0mx_all\u001b[0m \u001b[0;34m=\u001b[0m \u001b[0mnp\u001b[0m\u001b[0;34m.\u001b[0m\u001b[0mconcatenate\u001b[0m\u001b[0;34m(\u001b[0m\u001b[0;34m[\u001b[0m\u001b[0mx_mw\u001b[0m\u001b[0;34m,\u001b[0m \u001b[0mx_eth\u001b[0m\u001b[0;34m,\u001b[0m \u001b[0mx_ng\u001b[0m\u001b[0;34m]\u001b[0m\u001b[0;34m,\u001b[0m \u001b[0maxis\u001b[0m\u001b[0;34m=\u001b[0m\u001b[0;36m0\u001b[0m\u001b[0;34m)\u001b[0m\u001b[0;34m\u001b[0m\u001b[0;34m\u001b[0m\u001b[0m\n\u001b[0m\u001b[1;32m     34\u001b[0m     \u001b[0my_all\u001b[0m \u001b[0;34m=\u001b[0m \u001b[0mnp\u001b[0m\u001b[0;34m.\u001b[0m\u001b[0mconcatenate\u001b[0m\u001b[0;34m(\u001b[0m\u001b[0;34m[\u001b[0m\u001b[0my_mw\u001b[0m\u001b[0;34m,\u001b[0m \u001b[0my_eth\u001b[0m\u001b[0;34m,\u001b[0m \u001b[0my_ng\u001b[0m\u001b[0;34m]\u001b[0m\u001b[0;34m,\u001b[0m \u001b[0maxis\u001b[0m\u001b[0;34m=\u001b[0m\u001b[0;36m0\u001b[0m\u001b[0;34m)\u001b[0m\u001b[0;34m\u001b[0m\u001b[0;34m\u001b[0m\u001b[0m\n\u001b[1;32m     35\u001b[0m     \u001b[0mgroups\u001b[0m \u001b[0;34m=\u001b[0m \u001b[0mnp\u001b[0m\u001b[0;34m.\u001b[0m\u001b[0mzeros_like\u001b[0m\u001b[0;34m(\u001b[0m\u001b[0my_all\u001b[0m\u001b[0;34m)\u001b[0m\u001b[0;34m\u001b[0m\u001b[0;34m\u001b[0m\u001b[0m\n",
            "\u001b[0;31mNameError\u001b[0m: name 'x_mw' is not defined"
          ]
        }
      ]
    },
    {
      "cell_type": "code",
      "metadata": {
        "id": "j6zdizt5vjzB"
      },
      "source": [
        ""
      ],
      "execution_count": null,
      "outputs": []
    },
    {
      "cell_type": "markdown",
      "metadata": {
        "id": "tDN5tr_gvjzB"
      },
      "source": [
        "# Plots"
      ]
    },
    {
      "cell_type": "code",
      "metadata": {
        "id": "4I5cnjJsvjzC"
      },
      "source": [
        "def plot_predictions(y, yhat, r2, country, max_y=None):\n",
        "    if max_y is not None:\n",
        "        yhat = yhat[y < max_y]\n",
        "        y = y[y < max_y]\n",
        "    fig = plt.figure(figsize=(8,5))\n",
        "    plt.scatter(y, yhat, alpha=0.6)\n",
        "    plt.plot(np.unique(y), np.poly1d(np.polyfit(y, yhat, 1))(np.unique(y)), color='g')\n",
        "    plt.text(15.5, 7, f'r^2={round(r2, 2)}', size=12)\n",
        "    plt.xlabel('Actual Consumption($/day)')\n",
        "    plt.ylabel('Predicted Consumption($/day)')\n",
        "    plt.title(f'{country} Results')\n",
        "    return fig"
      ],
      "execution_count": null,
      "outputs": []
    },
    {
      "cell_type": "code",
      "metadata": {
        "id": "fWjTgjOmvjzD"
      },
      "source": [
        "r2, yhat_mw = run_randomized_cv(x_mw, y_mw, random_seed=RANDOM_SEED, to_print=False)"
      ],
      "execution_count": null,
      "outputs": []
    },
    {
      "cell_type": "code",
      "metadata": {
        "id": "V6_5AbifvjzD",
        "outputId": "4b54908f-8824-440b-868b-4587f4a6b0eb"
      },
      "source": [
        "fig = plot_predictions(y_mw, yhat_mw, r2, 'Malawi', max_y=20)"
      ],
      "execution_count": null,
      "outputs": [
        {
          "output_type": "display_data",
          "data": {
            "image/png": "[encoded data removed]",
            "text/plain": [
              "<Figure size 576x360 with 1 Axes>"
            ]
          },
          "metadata": {
            "tags": [],
            "needs_background": "light"
          }
        }
      ]
    },
    {
      "cell_type": "code",
      "metadata": {
        "id": "L6fqhPVgvjzE"
      },
      "source": [
        "fig.savefig(os.path.join(FIGURES_DIR, 'malawi_results.png'))"
      ],
      "execution_count": null,
      "outputs": []
    },
    {
      "cell_type": "code",
      "metadata": {
        "id": "LHC_kzMYvjzE",
        "outputId": "4afd3145-0bb6-43f3-db01-80ce29bdc197"
      },
      "source": [
        "plt.savefig('malawi_results.png')"
      ],
      "execution_count": null,
      "outputs": [
        {
          "output_type": "display_data",
          "data": {
            "text/plain": [
              "<Figure size 432x288 with 0 Axes>"
            ]
          },
          "metadata": {
            "tags": []
          }
        }
      ]
    },
    {
      "cell_type": "code",
      "metadata": {
        "id": "tpIShsbbvjzE"
      },
      "source": [
        "r2, yhat_eth = run_randomized_cv(x_eth, y_eth, random_seed=RANDOM_SEED, to_print=False)"
      ],
      "execution_count": null,
      "outputs": []
    },
    {
      "cell_type": "code",
      "metadata": {
        "id": "QZ8nVT7HvjzG",
        "outputId": "d03ddd0d-8f43-4dc1-ed1b-dac1db156829"
      },
      "source": [
        "fig = plot_predictions(y_eth, yhat_eth, r2, 'Ethiopia', max_y=30)"
      ],
      "execution_count": null,
      "outputs": [
        {
          "output_type": "display_data",
          "data": {
            "image/png": "[encoded data removed]",
            "text/plain": [
              "<Figure size 576x360 with 1 Axes>"
            ]
          },
          "metadata": {
            "tags": [],
            "needs_background": "light"
          }
        }
      ]
    },
    {
      "cell_type": "code",
      "metadata": {
        "id": "6b0AtM22vjzH",
        "colab": {
          "base_uri": "https://localhost:8080/",
          "height": 174
        },
        "outputId": "8a707cc6-16ed-4500-f6ff-e98734cf9f8e"
      },
      "source": [
        "fig.savefig(os.path.join(FIGURES_DIR, 'ethiopia_results.png'))"
      ],
      "execution_count": null,
      "outputs": [
        {
          "output_type": "error",
          "ename": "NameError",
          "evalue": "ignored",
          "traceback": [
            "\u001b[0;31m---------------------------------------------------------------------------\u001b[0m",
            "\u001b[0;31mNameError\u001b[0m                                 Traceback (most recent call last)",
            "\u001b[0;32m<ipython-input-36-81d9743fedde>\u001b[0m in \u001b[0;36m<module>\u001b[0;34m()\u001b[0m\n\u001b[0;32m----> 1\u001b[0;31m \u001b[0mfig\u001b[0m\u001b[0;34m.\u001b[0m\u001b[0msavefig\u001b[0m\u001b[0;34m(\u001b[0m\u001b[0mos\u001b[0m\u001b[0;34m.\u001b[0m\u001b[0mpath\u001b[0m\u001b[0;34m.\u001b[0m\u001b[0mjoin\u001b[0m\u001b[0;34m(\u001b[0m\u001b[0mFIGURES_DIR\u001b[0m\u001b[0;34m,\u001b[0m \u001b[0;34m'ethiopia_results.png'\u001b[0m\u001b[0;34m)\u001b[0m\u001b[0;34m)\u001b[0m\u001b[0;34m\u001b[0m\u001b[0;34m\u001b[0m\u001b[0m\n\u001b[0m",
            "\u001b[0;31mNameError\u001b[0m: name 'fig' is not defined"
          ]
        }
      ]
    },
    {
      "cell_type": "code",
      "metadata": {
        "id": "b4mMsfIzvjzH"
      },
      "source": [
        "r2, yhat_ng = run_randomized_cv(x_ng, y_ng, random_seed=RANDOM_SEED, to_print=False)"
      ],
      "execution_count": null,
      "outputs": []
    },
    {
      "cell_type": "code",
      "metadata": {
        "id": "geqG7BWfvjzH",
        "colab": {
          "base_uri": "https://localhost:8080/",
          "height": 695
        },
        "outputId": "2852d94a-88a8-423a-ac26-0e280c8906f4"
      },
      "source": [
        "fig = plot_predictions(y_ng, yhat_ng, r2, 'Nigeria', max_y=20)"
      ],
      "execution_count": null,
      "outputs": [
        {
          "output_type": "display_data",
          "data": {
            "image/png": "[encoded data removed]",
            "text/plain": [
              "<Figure size 576x360 with 1 Axes>"
            ]
          },
          "metadata": {
            "tags": [],
            "needs_background": "light"
          }
        }
      ]
    },
    {
      "cell_type": "code",
      "metadata": {
        "id": "E4OP4FJbvjzI"
      },
      "source": [
        "fig.savefig(os.path.join(FIGURES_DIR, 'nigeria_results.png'))"
      ],
      "execution_count": null,
      "outputs": []
    },
    {
      "cell_type": "code",
      "metadata": {
        "id": "2kMXmI52vjzJ"
      },
      "source": [
        ""
      ],
      "execution_count": null,
      "outputs": []
    }
  ]
}