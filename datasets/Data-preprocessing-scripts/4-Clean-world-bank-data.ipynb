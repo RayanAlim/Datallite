{
 "metadata": {
  "language_info": {
   "codemirror_mode": {
    "name": "ipython",
    "version": 3
   },
   "file_extension": ".py",
   "mimetype": "text/x-python",
   "name": "python",
   "nbconvert_exporter": "python",
   "pygments_lexer": "ipython3",
   "version": "3.9.1"
  },
  "orig_nbformat": 2,
  "kernelspec": {
   "name": "python391jvsc74a57bd0aee8b7b246df8f9039afb4144a1f6fd8d2ca17a180786b69acc140d282b71a49",
   "display_name": "Python 3.9.1 64-bit"
  },
  "metadata": {
   "interpreter": {
    "hash": "aee8b7b246df8f9039afb4144a1f6fd8d2ca17a180786b69acc140d282b71a49"
   }
  }
 },
 "nbformat": 4,
 "nbformat_minor": 2,
 "cells": [
  {
   "cell_type": "code",
   "execution_count": 1,
   "metadata": {},
   "outputs": [
    {
     "output_type": "execute_result",
     "data": {
      "text/plain": [
       "  country  wave  visit       surveyt  surveyprd  zone  state  lga   ea  \\\n",
       "0     NGA     3      2  LSMS-ISA2016       2016     4      1  115  670   \n",
       "1     NGA     3      2  LSMS-ISA2016       2016     4      1  115  670   \n",
       "2     NGA     3      2  LSMS-ISA2016       2016     4      1  115  670   \n",
       "3     NGA     3      2  LSMS-ISA2016       2016     4      1  115  670   \n",
       "4     NGA     3      2  LSMS-ISA2016       2016     4      1  115  670   \n",
       "\n",
       "   rururb  ...  fdvegpr  fdbeanpr  fdswtpr  fdbevpr  fdalcpr  fdothpr  \\\n",
       "0       1  ...      0.0       0.0      0.0      0.0      0.0      0.0   \n",
       "1       1  ...      0.0       0.0      0.0      0.0      0.0      0.0   \n",
       "2       1  ...      0.0       0.0      0.0      0.0      0.0      0.0   \n",
       "3       1  ...      0.0       0.0      0.0      0.0      0.0      0.0   \n",
       "4       1  ...      0.0       0.0      0.0      0.0      0.0      0.0   \n",
       "\n",
       "         edtexp       nfdfoth        totcons      hhweight  \n",
       "0   9083.333008   9284.722656  189285.296875  11898.657227  \n",
       "1  13300.000000  30333.332031  479621.875000  11898.657227  \n",
       "2  30333.333984  11805.556641  243662.796875  11898.657227  \n",
       "3   1000.000000   9604.166992  209184.062500  11898.657227  \n",
       "4  82857.140625   4619.047852  239829.750000  11898.657227  \n",
       "\n",
       "[5 rows x 80 columns]"
      ],
      "text/html": "<div>\n<style scoped>\n    .dataframe tbody tr th:only-of-type {\n        vertical-align: middle;\n    }\n\n    .dataframe tbody tr th {\n        vertical-align: top;\n    }\n\n    .dataframe thead th {\n        text-align: right;\n    }\n</style>\n<table border=\"1\" class=\"dataframe\">\n  <thead>\n    <tr style=\"text-align: right;\">\n      <th></th>\n      <th>country</th>\n      <th>wave</th>\n      <th>visit</th>\n      <th>surveyt</th>\n      <th>surveyprd</th>\n      <th>zone</th>\n      <th>state</th>\n      <th>lga</th>\n      <th>ea</th>\n      <th>rururb</th>\n      <th>...</th>\n      <th>fdvegpr</th>\n      <th>fdbeanpr</th>\n      <th>fdswtpr</th>\n      <th>fdbevpr</th>\n      <th>fdalcpr</th>\n      <th>fdothpr</th>\n      <th>edtexp</th>\n      <th>nfdfoth</th>\n      <th>totcons</th>\n      <th>hhweight</th>\n    </tr>\n  </thead>\n  <tbody>\n    <tr>\n      <th>0</th>\n      <td>NGA</td>\n      <td>3</td>\n      <td>2</td>\n      <td>LSMS-ISA2016</td>\n      <td>2016</td>\n      <td>4</td>\n      <td>1</td>\n      <td>115</td>\n      <td>670</td>\n      <td>1</td>\n      <td>...</td>\n      <td>0.0</td>\n      <td>0.0</td>\n      <td>0.0</td>\n      <td>0.0</td>\n      <td>0.0</td>\n      <td>0.0</td>\n      <td>9083.333008</td>\n      <td>9284.722656</td>\n      <td>189285.296875</td>\n      <td>11898.657227</td>\n    </tr>\n    <tr>\n      <th>1</th>\n      <td>NGA</td>\n      <td>3</td>\n      <td>2</td>\n      <td>LSMS-ISA2016</td>\n      <td>2016</td>\n      <td>4</td>\n      <td>1</td>\n      <td>115</td>\n      <td>670</td>\n      <td>1</td>\n      <td>...</td>\n      <td>0.0</td>\n      <td>0.0</td>\n      <td>0.0</td>\n      <td>0.0</td>\n      <td>0.0</td>\n      <td>0.0</td>\n      <td>13300.000000</td>\n      <td>30333.332031</td>\n      <td>479621.875000</td>\n      <td>11898.657227</td>\n    </tr>\n    <tr>\n      <th>2</th>\n      <td>NGA</td>\n      <td>3</td>\n      <td>2</td>\n      <td>LSMS-ISA2016</td>\n      <td>2016</td>\n      <td>4</td>\n      <td>1</td>\n      <td>115</td>\n      <td>670</td>\n      <td>1</td>\n      <td>...</td>\n      <td>0.0</td>\n      <td>0.0</td>\n      <td>0.0</td>\n      <td>0.0</td>\n      <td>0.0</td>\n      <td>0.0</td>\n      <td>30333.333984</td>\n      <td>11805.556641</td>\n      <td>243662.796875</td>\n      <td>11898.657227</td>\n    </tr>\n    <tr>\n      <th>3</th>\n      <td>NGA</td>\n      <td>3</td>\n      <td>2</td>\n      <td>LSMS-ISA2016</td>\n      <td>2016</td>\n      <td>4</td>\n      <td>1</td>\n      <td>115</td>\n      <td>670</td>\n      <td>1</td>\n      <td>...</td>\n      <td>0.0</td>\n      <td>0.0</td>\n      <td>0.0</td>\n      <td>0.0</td>\n      <td>0.0</td>\n      <td>0.0</td>\n      <td>1000.000000</td>\n      <td>9604.166992</td>\n      <td>209184.062500</td>\n      <td>11898.657227</td>\n    </tr>\n    <tr>\n      <th>4</th>\n      <td>NGA</td>\n      <td>3</td>\n      <td>2</td>\n      <td>LSMS-ISA2016</td>\n      <td>2016</td>\n      <td>4</td>\n      <td>1</td>\n      <td>115</td>\n      <td>670</td>\n      <td>1</td>\n      <td>...</td>\n      <td>0.0</td>\n      <td>0.0</td>\n      <td>0.0</td>\n      <td>0.0</td>\n      <td>0.0</td>\n      <td>0.0</td>\n      <td>82857.140625</td>\n      <td>4619.047852</td>\n      <td>239829.750000</td>\n      <td>11898.657227</td>\n    </tr>\n  </tbody>\n</table>\n<p>5 rows × 80 columns</p>\n</div>"
     },
     "metadata": {},
     "execution_count": 1
    }
   ],
   "source": [
    "import pandas as pd\n",
    "import geopandas as gdp\n",
    "import numpy as np\n",
    "import json\n",
    "import csv\n",
    "import argparse\n",
    "import sys\n",
    "import os \n",
    "import glob\n",
    "\n",
    "os.chdir(\"/Users/alim/Documents/GitHub/Team-4-AI-4-Good-lab/datasets/world-bank-data\")\n",
    "\n",
    "df = pd.read_csv(\"cons_agg_wave3_visit2.csv\")\n",
    "df.head(5)\n"
   ]
  },
  {
   "cell_type": "code",
   "execution_count": 3,
   "metadata": {},
   "outputs": [
    {
     "output_type": "execute_result",
     "data": {
      "text/plain": [
       "  country  wave  visit       surveyt  surveyprd  zone  state  lga   ea  \\\n",
       "0     NGA     3      2  LSMS-ISA2016       2016     4      1  115  670   \n",
       "1     NGA     3      2  LSMS-ISA2016       2016     4      1  115  670   \n",
       "2     NGA     3      2  LSMS-ISA2016       2016     4      1  115  670   \n",
       "\n",
       "   rururb  ...  fdvegpr  fdbeanpr  fdswtpr  fdbevpr  fdalcpr  fdothpr  \\\n",
       "0       1  ...      0.0       0.0      0.0      0.0      0.0      0.0   \n",
       "1       1  ...      0.0       0.0      0.0      0.0      0.0      0.0   \n",
       "2       1  ...      0.0       0.0      0.0      0.0      0.0      0.0   \n",
       "\n",
       "         edtexp       nfdfoth        totcons      hhweight  \n",
       "0   9083.333008   9284.722656  189285.296875  11898.657227  \n",
       "1  13300.000000  30333.332031  479621.875000  11898.657227  \n",
       "2  30333.333984  11805.556641  243662.796875  11898.657227  \n",
       "\n",
       "[3 rows x 80 columns]"
      ],
      "text/html": "<div>\n<style scoped>\n    .dataframe tbody tr th:only-of-type {\n        vertical-align: middle;\n    }\n\n    .dataframe tbody tr th {\n        vertical-align: top;\n    }\n\n    .dataframe thead th {\n        text-align: right;\n    }\n</style>\n<table border=\"1\" class=\"dataframe\">\n  <thead>\n    <tr style=\"text-align: right;\">\n      <th></th>\n      <th>country</th>\n      <th>wave</th>\n      <th>visit</th>\n      <th>surveyt</th>\n      <th>surveyprd</th>\n      <th>zone</th>\n      <th>state</th>\n      <th>lga</th>\n      <th>ea</th>\n      <th>rururb</th>\n      <th>...</th>\n      <th>fdvegpr</th>\n      <th>fdbeanpr</th>\n      <th>fdswtpr</th>\n      <th>fdbevpr</th>\n      <th>fdalcpr</th>\n      <th>fdothpr</th>\n      <th>edtexp</th>\n      <th>nfdfoth</th>\n      <th>totcons</th>\n      <th>hhweight</th>\n    </tr>\n  </thead>\n  <tbody>\n    <tr>\n      <th>0</th>\n      <td>NGA</td>\n      <td>3</td>\n      <td>2</td>\n      <td>LSMS-ISA2016</td>\n      <td>2016</td>\n      <td>4</td>\n      <td>1</td>\n      <td>115</td>\n      <td>670</td>\n      <td>1</td>\n      <td>...</td>\n      <td>0.0</td>\n      <td>0.0</td>\n      <td>0.0</td>\n      <td>0.0</td>\n      <td>0.0</td>\n      <td>0.0</td>\n      <td>9083.333008</td>\n      <td>9284.722656</td>\n      <td>189285.296875</td>\n      <td>11898.657227</td>\n    </tr>\n    <tr>\n      <th>1</th>\n      <td>NGA</td>\n      <td>3</td>\n      <td>2</td>\n      <td>LSMS-ISA2016</td>\n      <td>2016</td>\n      <td>4</td>\n      <td>1</td>\n      <td>115</td>\n      <td>670</td>\n      <td>1</td>\n      <td>...</td>\n      <td>0.0</td>\n      <td>0.0</td>\n      <td>0.0</td>\n      <td>0.0</td>\n      <td>0.0</td>\n      <td>0.0</td>\n      <td>13300.000000</td>\n      <td>30333.332031</td>\n      <td>479621.875000</td>\n      <td>11898.657227</td>\n    </tr>\n    <tr>\n      <th>2</th>\n      <td>NGA</td>\n      <td>3</td>\n      <td>2</td>\n      <td>LSMS-ISA2016</td>\n      <td>2016</td>\n      <td>4</td>\n      <td>1</td>\n      <td>115</td>\n      <td>670</td>\n      <td>1</td>\n      <td>...</td>\n      <td>0.0</td>\n      <td>0.0</td>\n      <td>0.0</td>\n      <td>0.0</td>\n      <td>0.0</td>\n      <td>0.0</td>\n      <td>30333.333984</td>\n      <td>11805.556641</td>\n      <td>243662.796875</td>\n      <td>11898.657227</td>\n    </tr>\n  </tbody>\n</table>\n<p>3 rows × 80 columns</p>\n</div>"
     },
     "metadata": {},
     "execution_count": 3
    }
   ],
   "source": [
    "df['state'] = df['state'].replace(\"1\", \"Abia\")\n",
    "df.head(3)"
   ]
  },
  {
   "cell_type": "code",
   "execution_count": null,
   "metadata": {},
   "outputs": [],
   "source": [
    "or i in df['state']:\n",
    "    if i == \"1\":\n",
    "        i.replace(\"1\", \"ABIA\")\n",
    "    elif i == 2:\n",
    "        i = \"ADAMAWA\"\n",
    "    elif i ==3:\n",
    "        i = \"AKWA IBOM\"\n",
    "    elif i == 4:\n",
    "        i = \"ANAMBRA\"\n",
    "    elif i == 5:\n",
    "        i = \"BAUCHI\"\n",
    "    elif i == 6:\n",
    "         i = \"BAYELSA\"\n",
    "    elif i == 7:\n",
    "        i = \"BENUE\"\n",
    "    elif i == 8:\n",
    "        i = \"BORNO\"\n",
    "    elif i == 9:\n",
    "        i = \"CROSS RIVER\"\n",
    "    elif i == 10:\n",
    "        i = \"DELTA\"\n",
    "    elif i == 11:\n",
    "        i = \"EBONYI\"\n",
    "    elif i == 12:\n",
    "        i = \"EDO\"\n",
    "    elif i == 13:\n",
    "        i = \"EKITI\"\n",
    "    elif i == 14:\n",
    "        i = \"ENUGU\"\n",
    "    elif i == 15:\n",
    "        i = \"GOMBE\"\n",
    "    elif i == 16:\n",
    "        i = \"IMO\"\n",
    "    elif i == 17:\n",
    "        i = \"JIGAWA\"\n",
    "    elif i == 18:\n",
    "        i = \"KADUNA\"\n",
    "    elif i == 19:\n",
    "        i = \"KANO\"\n",
    "    elif i == 20:\n",
    "        i = \"KATSINA\"\n",
    "    elif i == 21:\n",
    "        i = \"KEBBI\"\n",
    "    elif i == 22:\n",
    "        i = \"KOGI\"\n",
    "    elif i == 23:\n",
    "        i = \"KWARA\"\n",
    "    elif i == 24:\n",
    "        i = \"LAGOS\"\n",
    "    elif i == 25:\n",
    "        i = \"NASARAWA\"\n",
    "    elif i == 26:\n",
    "        i = \"NIGER\"\n",
    "    elif i == 27:\n",
    "        i = \"OGUN\"\n",
    "    elif i == 28:\n",
    "        i = \"ONDO\"\n",
    "    elif i == 29:\n",
    "        i = \"OSUN\"\n",
    "    elif i == 30:\n",
    "        i = \"OYO\"\n",
    "    elif i == 31:\n",
    "        i = \"PLATEAU\"\n",
    "    elif i == 32:\n",
    "        i = \"RIVERS\"\n",
    "    elif i == 33:\n",
    "        i = \"SOKOTO\"\n",
    "    elif i == 34:\n",
    "        i = \"TARABA\"\n",
    "    elif i == 35:\n",
    "        i = \"YOBE\"\n",
    "    elif i == 36:\n",
    "        i = \"ZAMFARA\"\n",
    "    elif i == 37:\n",
    "        i = \"FCT ABUJA\""
   ]
  }
 ]
}