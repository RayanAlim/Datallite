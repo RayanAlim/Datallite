{
 "cells": [
  {
   "cell_type": "code",
   "execution_count": 32,
   "metadata": {},
   "outputs": [
    {
     "output_type": "execute_result",
     "data": {
      "text/plain": [
       "   Unnamed: 0                 id state_code source  \\\n",
       "0           0  u_fc_poi_school.2         FC   NMIS   \n",
       "1           1  u_fc_poi_school.4         OG   NMIS   \n",
       "2           2  u_fc_poi_school.7         LA   GRID   \n",
       "3           3  u_fc_poi_school.8         PL   NMIS   \n",
       "4           4  u_fc_poi_school.9         LA   GRID   \n",
       "\n",
       "                                      name ward_code category   subtype  \\\n",
       "0                  LEA Primary School Kudu  FCTABC01  Primary   Primary   \n",
       "1  Superstar Nursery Primary School Igbesa  OGSADO08  Primary  Standard   \n",
       "2                       Prime Focus School  LASAMO26  Primary  Standard   \n",
       "3                     Excel Private School  PLSBLD15  Primary  Standard   \n",
       "4                           Royal Heritage  LASAMO27  Primary  Standard   \n",
       "\n",
       "  management education poi_type  no_of_teachers  no_of_students  \\\n",
       "0    Private    Formal   School             NaN             NaN   \n",
       "1    Private    Formal   School             NaN             NaN   \n",
       "2    Private    Formal   School             NaN             NaN   \n",
       "3    Private    Formal   School             NaN             NaN   \n",
       "4    Private    Formal   School             NaN             NaN   \n",
       "\n",
       "                              global_id  \\\n",
       "0  0001fbc2-8d66-44a2-a64e-3b704c85b032   \n",
       "1  00034738-e55f-4ec5-add0-bc83ce7fc919   \n",
       "2  0005aad7-5275-4ba9-8384-c135c3055275   \n",
       "3  0006993c-7c2d-4501-98d9-69b1c3ed8a67   \n",
       "4  0006ac19-4a0c-4746-8fb1-e074eaef5d03   \n",
       "\n",
       "                                      geometry  \n",
       "0                    POINT (7.582548 9.073826)  \n",
       "1                  POINT (3.1325644 6.5360232)  \n",
       "2                       POINT (3.26119 6.6102)  \n",
       "3  POINT (8.897875000000001 9.546936000000001)  \n",
       "4                      POINT (3.26229 6.50702)  "
      ],
      "text/html": "<div>\n<style scoped>\n    .dataframe tbody tr th:only-of-type {\n        vertical-align: middle;\n    }\n\n    .dataframe tbody tr th {\n        vertical-align: top;\n    }\n\n    .dataframe thead th {\n        text-align: right;\n    }\n</style>\n<table border=\"1\" class=\"dataframe\">\n  <thead>\n    <tr style=\"text-align: right;\">\n      <th></th>\n      <th>Unnamed: 0</th>\n      <th>id</th>\n      <th>state_code</th>\n      <th>source</th>\n      <th>name</th>\n      <th>ward_code</th>\n      <th>category</th>\n      <th>subtype</th>\n      <th>management</th>\n      <th>education</th>\n      <th>poi_type</th>\n      <th>no_of_teachers</th>\n      <th>no_of_students</th>\n      <th>global_id</th>\n      <th>geometry</th>\n    </tr>\n  </thead>\n  <tbody>\n    <tr>\n      <th>0</th>\n      <td>0</td>\n      <td>u_fc_poi_school.2</td>\n      <td>FC</td>\n      <td>NMIS</td>\n      <td>LEA Primary School Kudu</td>\n      <td>FCTABC01</td>\n      <td>Primary</td>\n      <td>Primary</td>\n      <td>Private</td>\n      <td>Formal</td>\n      <td>School</td>\n      <td>NaN</td>\n      <td>NaN</td>\n      <td>0001fbc2-8d66-44a2-a64e-3b704c85b032</td>\n      <td>POINT (7.582548 9.073826)</td>\n    </tr>\n    <tr>\n      <th>1</th>\n      <td>1</td>\n      <td>u_fc_poi_school.4</td>\n      <td>OG</td>\n      <td>NMIS</td>\n      <td>Superstar Nursery Primary School Igbesa</td>\n      <td>OGSADO08</td>\n      <td>Primary</td>\n      <td>Standard</td>\n      <td>Private</td>\n      <td>Formal</td>\n      <td>School</td>\n      <td>NaN</td>\n      <td>NaN</td>\n      <td>00034738-e55f-4ec5-add0-bc83ce7fc919</td>\n      <td>POINT (3.1325644 6.5360232)</td>\n    </tr>\n    <tr>\n      <th>2</th>\n      <td>2</td>\n      <td>u_fc_poi_school.7</td>\n      <td>LA</td>\n      <td>GRID</td>\n      <td>Prime Focus School</td>\n      <td>LASAMO26</td>\n      <td>Primary</td>\n      <td>Standard</td>\n      <td>Private</td>\n      <td>Formal</td>\n      <td>School</td>\n      <td>NaN</td>\n      <td>NaN</td>\n      <td>0005aad7-5275-4ba9-8384-c135c3055275</td>\n      <td>POINT (3.26119 6.6102)</td>\n    </tr>\n    <tr>\n      <th>3</th>\n      <td>3</td>\n      <td>u_fc_poi_school.8</td>\n      <td>PL</td>\n      <td>NMIS</td>\n      <td>Excel Private School</td>\n      <td>PLSBLD15</td>\n      <td>Primary</td>\n      <td>Standard</td>\n      <td>Private</td>\n      <td>Formal</td>\n      <td>School</td>\n      <td>NaN</td>\n      <td>NaN</td>\n      <td>0006993c-7c2d-4501-98d9-69b1c3ed8a67</td>\n      <td>POINT (8.897875000000001 9.546936000000001)</td>\n    </tr>\n    <tr>\n      <th>4</th>\n      <td>4</td>\n      <td>u_fc_poi_school.9</td>\n      <td>LA</td>\n      <td>GRID</td>\n      <td>Royal Heritage</td>\n      <td>LASAMO27</td>\n      <td>Primary</td>\n      <td>Standard</td>\n      <td>Private</td>\n      <td>Formal</td>\n      <td>School</td>\n      <td>NaN</td>\n      <td>NaN</td>\n      <td>0006ac19-4a0c-4746-8fb1-e074eaef5d03</td>\n      <td>POINT (3.26229 6.50702)</td>\n    </tr>\n  </tbody>\n</table>\n</div>"
     },
     "metadata": {},
     "execution_count": 32
    }
   ],
   "source": [
    "import pandas as pd\n",
    "import geopandas as gdp\n",
    "import numpy as np\n",
    "import json\n",
    "import csv\n",
    "import argparse\n",
    "import sys\n",
    "import os \n",
    "import glob\n",
    "\n",
    "os.chdir(\"/Users/alim/Documents/GitHub/Team-4-AI-4-Good-lab/datasets/schools-in-nigeria/raw-files/raw-csv-files\")\n",
    "\n",
    "df = pd.read_csv(\"combined-schools.csv\")\n",
    "df.head(5)\n"
   ]
  },
  {
   "cell_type": "code",
   "execution_count": 33,
   "metadata": {},
   "outputs": [
    {
     "output_type": "execute_result",
     "data": {
      "text/plain": [
       "   Unnamed: 0                 id state_code source  \\\n",
       "0           0  u_fc_poi_school.2         FC   NMIS   \n",
       "1           1  u_fc_poi_school.4         OG   NMIS   \n",
       "\n",
       "                                      name ward_code category   subtype  \\\n",
       "0                  LEA Primary School Kudu  FCTABC01  Primary   Primary   \n",
       "1  Superstar Nursery Primary School Igbesa  OGSADO08  Primary  Standard   \n",
       "\n",
       "  management education poi_type  no_of_teachers  no_of_students  \\\n",
       "0    Private    Formal   School             NaN             NaN   \n",
       "1    Private    Formal   School             NaN             NaN   \n",
       "\n",
       "                              global_id                     geometry  \\\n",
       "0  0001fbc2-8d66-44a2-a64e-3b704c85b032    POINT (7.582548 9.073826)   \n",
       "1  00034738-e55f-4ec5-add0-bc83ce7fc919  POINT (3.1325644 6.5360232)   \n",
       "\n",
       "    Latitude  Longitude  \n",
       "0   7.582548   9.073826  \n",
       "1  3.1325644  6.5360232  "
      ],
      "text/html": "<div>\n<style scoped>\n    .dataframe tbody tr th:only-of-type {\n        vertical-align: middle;\n    }\n\n    .dataframe tbody tr th {\n        vertical-align: top;\n    }\n\n    .dataframe thead th {\n        text-align: right;\n    }\n</style>\n<table border=\"1\" class=\"dataframe\">\n  <thead>\n    <tr style=\"text-align: right;\">\n      <th></th>\n      <th>Unnamed: 0</th>\n      <th>id</th>\n      <th>state_code</th>\n      <th>source</th>\n      <th>name</th>\n      <th>ward_code</th>\n      <th>category</th>\n      <th>subtype</th>\n      <th>management</th>\n      <th>education</th>\n      <th>poi_type</th>\n      <th>no_of_teachers</th>\n      <th>no_of_students</th>\n      <th>global_id</th>\n      <th>geometry</th>\n      <th>Latitude</th>\n      <th>Longitude</th>\n    </tr>\n  </thead>\n  <tbody>\n    <tr>\n      <th>0</th>\n      <td>0</td>\n      <td>u_fc_poi_school.2</td>\n      <td>FC</td>\n      <td>NMIS</td>\n      <td>LEA Primary School Kudu</td>\n      <td>FCTABC01</td>\n      <td>Primary</td>\n      <td>Primary</td>\n      <td>Private</td>\n      <td>Formal</td>\n      <td>School</td>\n      <td>NaN</td>\n      <td>NaN</td>\n      <td>0001fbc2-8d66-44a2-a64e-3b704c85b032</td>\n      <td>POINT (7.582548 9.073826)</td>\n      <td>7.582548</td>\n      <td>9.073826</td>\n    </tr>\n    <tr>\n      <th>1</th>\n      <td>1</td>\n      <td>u_fc_poi_school.4</td>\n      <td>OG</td>\n      <td>NMIS</td>\n      <td>Superstar Nursery Primary School Igbesa</td>\n      <td>OGSADO08</td>\n      <td>Primary</td>\n      <td>Standard</td>\n      <td>Private</td>\n      <td>Formal</td>\n      <td>School</td>\n      <td>NaN</td>\n      <td>NaN</td>\n      <td>00034738-e55f-4ec5-add0-bc83ce7fc919</td>\n      <td>POINT (3.1325644 6.5360232)</td>\n      <td>3.1325644</td>\n      <td>6.5360232</td>\n    </tr>\n  </tbody>\n</table>\n</div>"
     },
     "metadata": {},
     "execution_count": 33
    }
   ],
   "source": [
    "\n",
    "split_geo = df.geometry.str.strip('POINT (').str.strip(')').str.split(' ')\n",
    "df['Latitude'] = split_geo.apply(lambda x: x[0])\n",
    "df['Longitude'] = split_geo.apply(lambda x: x[1])\n",
    "df.head(2)"
   ]
  },
  {
   "cell_type": "code",
   "execution_count": 34,
   "metadata": {},
   "outputs": [],
   "source": [
    "df.to_csv('Schools-with-lat-long.csv', index=False)"
   ]
  },
  {
   "cell_type": "code",
   "execution_count": null,
   "metadata": {},
   "outputs": [],
   "source": []
  }
 ],
 "metadata": {
  "kernelspec": {
   "name": "python391jvsc74a57bd0aee8b7b246df8f9039afb4144a1f6fd8d2ca17a180786b69acc140d282b71a49",
   "display_name": "Python 3.9.1 64-bit"
  },
  "metadata": {
   "interpreter": {
    "hash": "aee8b7b246df8f9039afb4144a1f6fd8d2ca17a180786b69acc140d282b71a49"
   }
  }
 },
 "nbformat": 4,
 "nbformat_minor": 4
}