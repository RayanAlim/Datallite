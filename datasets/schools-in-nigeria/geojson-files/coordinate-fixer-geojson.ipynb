{
 "cells": [
  {
   "cell_type": "code",
   "execution_count": 80,
   "metadata": {},
   "outputs": [
    {
     "output_type": "error",
     "ename": "DriverError",
     "evalue": "private-schools.geojson: No such file or directory",
     "traceback": [
      "\u001b[0;31m---------------------------------------------------------------------------\u001b[0m",
      "\u001b[0;31mCPLE_OpenFailedError\u001b[0m                      Traceback (most recent call last)",
      "\u001b[0;32mfiona/_shim.pyx\u001b[0m in \u001b[0;36mfiona._shim.gdal_open_vector\u001b[0;34m()\u001b[0m\n",
      "\u001b[0;32mfiona/_err.pyx\u001b[0m in \u001b[0;36mfiona._err.exc_wrap_pointer\u001b[0;34m()\u001b[0m\n",
      "\u001b[0;31mCPLE_OpenFailedError\u001b[0m: private-schools.geojson: No such file or directory",
      "\nDuring handling of the above exception, another exception occurred:\n",
      "\u001b[0;31mDriverError\u001b[0m                               Traceback (most recent call last)",
      "\u001b[0;32m<ipython-input-80-ff0aea5ffc13>\u001b[0m in \u001b[0;36m<module>\u001b[0;34m\u001b[0m\n\u001b[1;32m      6\u001b[0m \u001b[0;32mimport\u001b[0m \u001b[0msys\u001b[0m\u001b[0;34m\u001b[0m\u001b[0;34m\u001b[0m\u001b[0m\n\u001b[1;32m      7\u001b[0m \u001b[0;32mimport\u001b[0m \u001b[0mos\u001b[0m\u001b[0;34m\u001b[0m\u001b[0;34m\u001b[0m\u001b[0m\n\u001b[0;32m----> 8\u001b[0;31m \u001b[0mdf\u001b[0m \u001b[0;34m=\u001b[0m \u001b[0mgdp\u001b[0m\u001b[0;34m.\u001b[0m\u001b[0mread_file\u001b[0m\u001b[0;34m(\u001b[0m\u001b[0;34m\"private-schools.geojson\"\u001b[0m\u001b[0;34m)\u001b[0m\u001b[0;34m\u001b[0m\u001b[0;34m\u001b[0m\u001b[0m\n\u001b[0m\u001b[1;32m      9\u001b[0m \u001b[0msplit_geo\u001b[0m \u001b[0;34m=\u001b[0m \u001b[0mdf\u001b[0m\u001b[0;34m.\u001b[0m\u001b[0mGeometry\u001b[0m\u001b[0;34m.\u001b[0m\u001b[0mstr\u001b[0m\u001b[0;34m.\u001b[0m\u001b[0mstrip\u001b[0m\u001b[0;34m(\u001b[0m\u001b[0;34m'POINT ('\u001b[0m\u001b[0;34m)\u001b[0m\u001b[0;34m.\u001b[0m\u001b[0mstr\u001b[0m\u001b[0;34m.\u001b[0m\u001b[0mstrip\u001b[0m\u001b[0;34m(\u001b[0m\u001b[0;34m')'\u001b[0m\u001b[0;34m)\u001b[0m\u001b[0;34m.\u001b[0m\u001b[0mstr\u001b[0m\u001b[0;34m.\u001b[0m\u001b[0msplit\u001b[0m\u001b[0;34m(\u001b[0m\u001b[0;34m' '\u001b[0m\u001b[0;34m)\u001b[0m\u001b[0;34m\u001b[0m\u001b[0;34m\u001b[0m\u001b[0m\n\u001b[1;32m     10\u001b[0m \u001b[0mdf\u001b[0m\u001b[0;34m[\u001b[0m\u001b[0;34m'Latitude'\u001b[0m\u001b[0;34m]\u001b[0m \u001b[0;34m=\u001b[0m \u001b[0msplit_geo\u001b[0m\u001b[0;34m.\u001b[0m\u001b[0mapply\u001b[0m\u001b[0;34m(\u001b[0m\u001b[0;32mlambda\u001b[0m \u001b[0mx\u001b[0m\u001b[0;34m:\u001b[0m \u001b[0mx\u001b[0m\u001b[0;34m[\u001b[0m\u001b[0;36m0\u001b[0m\u001b[0;34m]\u001b[0m\u001b[0;34m)\u001b[0m\u001b[0;34m\u001b[0m\u001b[0;34m\u001b[0m\u001b[0m\n",
      "\u001b[0;32m/Library/Frameworks/Python.framework/Versions/3.9/lib/python3.9/site-packages/geopandas/io/file.py\u001b[0m in \u001b[0;36m_read_file\u001b[0;34m(filename, bbox, mask, rows, **kwargs)\u001b[0m\n\u001b[1;32m    158\u001b[0m \u001b[0;34m\u001b[0m\u001b[0m\n\u001b[1;32m    159\u001b[0m     \u001b[0;32mwith\u001b[0m \u001b[0mfiona_env\u001b[0m\u001b[0;34m(\u001b[0m\u001b[0;34m)\u001b[0m\u001b[0;34m:\u001b[0m\u001b[0;34m\u001b[0m\u001b[0;34m\u001b[0m\u001b[0m\n\u001b[0;32m--> 160\u001b[0;31m         \u001b[0;32mwith\u001b[0m \u001b[0mreader\u001b[0m\u001b[0;34m(\u001b[0m\u001b[0mpath_or_bytes\u001b[0m\u001b[0;34m,\u001b[0m \u001b[0;34m**\u001b[0m\u001b[0mkwargs\u001b[0m\u001b[0;34m)\u001b[0m \u001b[0;32mas\u001b[0m \u001b[0mfeatures\u001b[0m\u001b[0;34m:\u001b[0m\u001b[0;34m\u001b[0m\u001b[0;34m\u001b[0m\u001b[0m\n\u001b[0m\u001b[1;32m    161\u001b[0m \u001b[0;34m\u001b[0m\u001b[0m\n\u001b[1;32m    162\u001b[0m             \u001b[0;31m# In a future Fiona release the crs attribute of features will\u001b[0m\u001b[0;34m\u001b[0m\u001b[0;34m\u001b[0m\u001b[0;34m\u001b[0m\u001b[0m\n",
      "\u001b[0;32m/Library/Frameworks/Python.framework/Versions/3.9/lib/python3.9/site-packages/fiona/env.py\u001b[0m in \u001b[0;36mwrapper\u001b[0;34m(*args, **kwargs)\u001b[0m\n\u001b[1;32m    406\u001b[0m     \u001b[0;32mdef\u001b[0m \u001b[0mwrapper\u001b[0m\u001b[0;34m(\u001b[0m\u001b[0;34m*\u001b[0m\u001b[0margs\u001b[0m\u001b[0;34m,\u001b[0m \u001b[0;34m**\u001b[0m\u001b[0mkwargs\u001b[0m\u001b[0;34m)\u001b[0m\u001b[0;34m:\u001b[0m\u001b[0;34m\u001b[0m\u001b[0;34m\u001b[0m\u001b[0m\n\u001b[1;32m    407\u001b[0m         \u001b[0;32mif\u001b[0m \u001b[0mlocal\u001b[0m\u001b[0;34m.\u001b[0m\u001b[0m_env\u001b[0m\u001b[0;34m:\u001b[0m\u001b[0;34m\u001b[0m\u001b[0;34m\u001b[0m\u001b[0m\n\u001b[0;32m--> 408\u001b[0;31m             \u001b[0;32mreturn\u001b[0m \u001b[0mf\u001b[0m\u001b[0;34m(\u001b[0m\u001b[0;34m*\u001b[0m\u001b[0margs\u001b[0m\u001b[0;34m,\u001b[0m \u001b[0;34m**\u001b[0m\u001b[0mkwargs\u001b[0m\u001b[0;34m)\u001b[0m\u001b[0;34m\u001b[0m\u001b[0;34m\u001b[0m\u001b[0m\n\u001b[0m\u001b[1;32m    409\u001b[0m         \u001b[0;32melse\u001b[0m\u001b[0;34m:\u001b[0m\u001b[0;34m\u001b[0m\u001b[0;34m\u001b[0m\u001b[0m\n\u001b[1;32m    410\u001b[0m             \u001b[0;32mif\u001b[0m \u001b[0misinstance\u001b[0m\u001b[0;34m(\u001b[0m\u001b[0margs\u001b[0m\u001b[0;34m[\u001b[0m\u001b[0;36m0\u001b[0m\u001b[0;34m]\u001b[0m\u001b[0;34m,\u001b[0m \u001b[0mstr\u001b[0m\u001b[0;34m)\u001b[0m\u001b[0;34m:\u001b[0m\u001b[0;34m\u001b[0m\u001b[0;34m\u001b[0m\u001b[0m\n",
      "\u001b[0;32m/Library/Frameworks/Python.framework/Versions/3.9/lib/python3.9/site-packages/fiona/__init__.py\u001b[0m in \u001b[0;36mopen\u001b[0;34m(fp, mode, driver, schema, crs, encoding, layer, vfs, enabled_drivers, crs_wkt, **kwargs)\u001b[0m\n\u001b[1;32m    254\u001b[0m \u001b[0;34m\u001b[0m\u001b[0m\n\u001b[1;32m    255\u001b[0m         \u001b[0;32mif\u001b[0m \u001b[0mmode\u001b[0m \u001b[0;32min\u001b[0m \u001b[0;34m(\u001b[0m\u001b[0;34m'a'\u001b[0m\u001b[0;34m,\u001b[0m \u001b[0;34m'r'\u001b[0m\u001b[0;34m)\u001b[0m\u001b[0;34m:\u001b[0m\u001b[0;34m\u001b[0m\u001b[0;34m\u001b[0m\u001b[0m\n\u001b[0;32m--> 256\u001b[0;31m             c = Collection(path, mode, driver=driver, encoding=encoding,\n\u001b[0m\u001b[1;32m    257\u001b[0m                            layer=layer, enabled_drivers=enabled_drivers, **kwargs)\n\u001b[1;32m    258\u001b[0m         \u001b[0;32melif\u001b[0m \u001b[0mmode\u001b[0m \u001b[0;34m==\u001b[0m \u001b[0;34m'w'\u001b[0m\u001b[0;34m:\u001b[0m\u001b[0;34m\u001b[0m\u001b[0;34m\u001b[0m\u001b[0m\n",
      "\u001b[0;32m/Library/Frameworks/Python.framework/Versions/3.9/lib/python3.9/site-packages/fiona/collection.py\u001b[0m in \u001b[0;36m__init__\u001b[0;34m(self, path, mode, driver, schema, crs, encoding, layer, vsi, archive, enabled_drivers, crs_wkt, ignore_fields, ignore_geometry, **kwargs)\u001b[0m\n\u001b[1;32m    160\u001b[0m             \u001b[0;32mif\u001b[0m \u001b[0mself\u001b[0m\u001b[0;34m.\u001b[0m\u001b[0mmode\u001b[0m \u001b[0;34m==\u001b[0m \u001b[0;34m'r'\u001b[0m\u001b[0;34m:\u001b[0m\u001b[0;34m\u001b[0m\u001b[0;34m\u001b[0m\u001b[0m\n\u001b[1;32m    161\u001b[0m                 \u001b[0mself\u001b[0m\u001b[0;34m.\u001b[0m\u001b[0msession\u001b[0m \u001b[0;34m=\u001b[0m \u001b[0mSession\u001b[0m\u001b[0;34m(\u001b[0m\u001b[0;34m)\u001b[0m\u001b[0;34m\u001b[0m\u001b[0;34m\u001b[0m\u001b[0m\n\u001b[0;32m--> 162\u001b[0;31m                 \u001b[0mself\u001b[0m\u001b[0;34m.\u001b[0m\u001b[0msession\u001b[0m\u001b[0;34m.\u001b[0m\u001b[0mstart\u001b[0m\u001b[0;34m(\u001b[0m\u001b[0mself\u001b[0m\u001b[0;34m,\u001b[0m \u001b[0;34m**\u001b[0m\u001b[0mkwargs\u001b[0m\u001b[0;34m)\u001b[0m\u001b[0;34m\u001b[0m\u001b[0;34m\u001b[0m\u001b[0m\n\u001b[0m\u001b[1;32m    163\u001b[0m             \u001b[0;32melif\u001b[0m \u001b[0mself\u001b[0m\u001b[0;34m.\u001b[0m\u001b[0mmode\u001b[0m \u001b[0;32min\u001b[0m \u001b[0;34m(\u001b[0m\u001b[0;34m'a'\u001b[0m\u001b[0;34m,\u001b[0m \u001b[0;34m'w'\u001b[0m\u001b[0;34m)\u001b[0m\u001b[0;34m:\u001b[0m\u001b[0;34m\u001b[0m\u001b[0;34m\u001b[0m\u001b[0m\n\u001b[1;32m    164\u001b[0m                 \u001b[0mself\u001b[0m\u001b[0;34m.\u001b[0m\u001b[0msession\u001b[0m \u001b[0;34m=\u001b[0m \u001b[0mWritingSession\u001b[0m\u001b[0;34m(\u001b[0m\u001b[0;34m)\u001b[0m\u001b[0;34m\u001b[0m\u001b[0;34m\u001b[0m\u001b[0m\n",
      "\u001b[0;32mfiona/ogrext.pyx\u001b[0m in \u001b[0;36mfiona.ogrext.Session.start\u001b[0;34m()\u001b[0m\n",
      "\u001b[0;32mfiona/_shim.pyx\u001b[0m in \u001b[0;36mfiona._shim.gdal_open_vector\u001b[0;34m()\u001b[0m\n",
      "\u001b[0;31mDriverError\u001b[0m: private-schools.geojson: No such file or directory"
     ]
    }
   ],
   "source": [
    "import pandas as pd\n",
    "import geopandas as gdp\n",
    "import json\n",
    "import csv\n",
    "import argparse\n",
    "import sys\n",
    "import os\n",
    "df = gdp.read_file(\"private-schools.geojson\")\n",
    "split_geo = df.Geometry.str.strip('POINT (').str.strip(')').str.split(' ')\n",
    "df['Latitude'] = split_geo.apply(lambda x: x[0])\n",
    "df['Longitude'] = split_geo.apply(lambda x: x[1])\n",
    "df.head(2)"
   ]
  },
  {
   "cell_type": "code",
   "execution_count": 76,
   "metadata": {},
   "outputs": [],
   "source": []
  },
  {
   "cell_type": "code",
   "execution_count": 77,
   "metadata": {},
   "outputs": [
    {
     "output_type": "execute_result",
     "data": {
      "text/plain": [
       "      state_code source                                     name ward_code  \\\n",
       "0             FC   NMIS                  LEA Primary School Kudu  FCTABC01   \n",
       "1             OG   NMIS  Superstar Nursery Primary School Igbesa  OGSADO08   \n",
       "2             LA   GRID                       Prime Focus School  LASAMO26   \n",
       "3             PL   NMIS                     Excel Private School  PLSBLD15   \n",
       "4             LA   GRID                           Royal Heritage  LASAMO27   \n",
       "...          ...    ...                                      ...       ...   \n",
       "28415         LA   GRID                 Tinachris Private School  LASOIO03   \n",
       "28416         DE   NMIS        Santa Maria International College  DTSGWK02   \n",
       "28417         RI   NMIS            Hephziba International School  RVSRUM05   \n",
       "28418         AB   GRID          Unique Christian Academy Umuebi  ABSNGK10   \n",
       "28419         LA   GRID               Kel Chelsea High Schoolool  LASAON01   \n",
       "\n",
       "        category   subtype management education poi_type  \\\n",
       "0        Primary   Primary    Private    Formal   School   \n",
       "1        Primary  Standard    Private    Formal   School   \n",
       "2        Primary  Standard    Private    Formal   School   \n",
       "3        Primary  Standard    Private    Formal   School   \n",
       "4        Primary  Standard    Private    Formal   School   \n",
       "...          ...       ...        ...       ...      ...   \n",
       "28415    Primary  Standard    Private    Formal   School   \n",
       "28416  Secondary  Standard    Private    Formal   School   \n",
       "28417    Primary  Standard    Private    Formal   School   \n",
       "28418  Secondary  Standard    Private    Formal   School   \n",
       "28419  Secondary  Standard    Private    Formal   School   \n",
       "\n",
       "                                  global_id                      id  \\\n",
       "0      0001fbc2-8d66-44a2-a64e-3b704c85b032       u_fc_poi_school.2   \n",
       "1      00034738-e55f-4ec5-add0-bc83ce7fc919       u_fc_poi_school.4   \n",
       "2      0005aad7-5275-4ba9-8384-c135c3055275       u_fc_poi_school.7   \n",
       "3      0006993c-7c2d-4501-98d9-69b1c3ed8a67       u_fc_poi_school.8   \n",
       "4      0006ac19-4a0c-4746-8fb1-e074eaef5d03       u_fc_poi_school.9   \n",
       "...                                     ...                     ...   \n",
       "28415  fff7240e-cf21-4c63-a6fb-c67f62b85513  u_fc_poi_school.107656   \n",
       "28416  fff9c883-2da9-4fdb-ae49-7df9fba7a761  u_fc_poi_school.107659   \n",
       "28417  fffede7a-66b8-4423-b4c1-8cb4966f8ff8  u_fc_poi_school.107667   \n",
       "28418  ffff7301-2b8c-49b6-8c42-fe5ce5a646e9  u_fc_poi_school.107669   \n",
       "28419  fffff578-22d0-4f65-8f13-0034608ef6ef  u_fc_poi_school.107670   \n",
       "\n",
       "       no_of_teachers  no_of_students                     Geometry   Latitude  \\\n",
       "0                 NaN             NaN    POINT (7.582548 9.073826)   7.582548   \n",
       "1                 NaN             NaN  POINT (3.1325644 6.5360232)  3.1325644   \n",
       "2                 NaN             NaN       POINT (3.26119 6.6102)    3.26119   \n",
       "3                 NaN             NaN    POINT (8.897875 9.546936)   8.897875   \n",
       "4                 NaN             NaN      POINT (3.26229 6.50702)    3.26229   \n",
       "...               ...             ...                          ...        ...   \n",
       "28415             NaN             NaN      POINT (3.30165 6.53873)    3.30165   \n",
       "28416             NaN             NaN    POINT (6.540124 6.186497)   6.540124   \n",
       "28417             NaN             NaN    POINT (6.974689 4.813321)   6.974689   \n",
       "28418             NaN             NaN  POINT (7.5038877 5.2244178)  7.5038877   \n",
       "28419            17.0             NaN      POINT (3.25431 6.45012)    3.25431   \n",
       "\n",
       "       Longitude  \n",
       "0       9.073826  \n",
       "1      6.5360232  \n",
       "2         6.6102  \n",
       "3       9.546936  \n",
       "4        6.50702  \n",
       "...          ...  \n",
       "28415    6.53873  \n",
       "28416   6.186497  \n",
       "28417   4.813321  \n",
       "28418  5.2244178  \n",
       "28419    6.45012  \n",
       "\n",
       "[28420 rows x 16 columns]"
      ],
      "text/html": "<div>\n<style scoped>\n    .dataframe tbody tr th:only-of-type {\n        vertical-align: middle;\n    }\n\n    .dataframe tbody tr th {\n        vertical-align: top;\n    }\n\n    .dataframe thead th {\n        text-align: right;\n    }\n</style>\n<table border=\"1\" class=\"dataframe\">\n  <thead>\n    <tr style=\"text-align: right;\">\n      <th></th>\n      <th>state_code</th>\n      <th>source</th>\n      <th>name</th>\n      <th>ward_code</th>\n      <th>category</th>\n      <th>subtype</th>\n      <th>management</th>\n      <th>education</th>\n      <th>poi_type</th>\n      <th>global_id</th>\n      <th>id</th>\n      <th>no_of_teachers</th>\n      <th>no_of_students</th>\n      <th>Geometry</th>\n      <th>Latitude</th>\n      <th>Longitude</th>\n    </tr>\n  </thead>\n  <tbody>\n    <tr>\n      <th>0</th>\n      <td>FC</td>\n      <td>NMIS</td>\n      <td>LEA Primary School Kudu</td>\n      <td>FCTABC01</td>\n      <td>Primary</td>\n      <td>Primary</td>\n      <td>Private</td>\n      <td>Formal</td>\n      <td>School</td>\n      <td>0001fbc2-8d66-44a2-a64e-3b704c85b032</td>\n      <td>u_fc_poi_school.2</td>\n      <td>NaN</td>\n      <td>NaN</td>\n      <td>POINT (7.582548 9.073826)</td>\n      <td>7.582548</td>\n      <td>9.073826</td>\n    </tr>\n    <tr>\n      <th>1</th>\n      <td>OG</td>\n      <td>NMIS</td>\n      <td>Superstar Nursery Primary School Igbesa</td>\n      <td>OGSADO08</td>\n      <td>Primary</td>\n      <td>Standard</td>\n      <td>Private</td>\n      <td>Formal</td>\n      <td>School</td>\n      <td>00034738-e55f-4ec5-add0-bc83ce7fc919</td>\n      <td>u_fc_poi_school.4</td>\n      <td>NaN</td>\n      <td>NaN</td>\n      <td>POINT (3.1325644 6.5360232)</td>\n      <td>3.1325644</td>\n      <td>6.5360232</td>\n    </tr>\n    <tr>\n      <th>2</th>\n      <td>LA</td>\n      <td>GRID</td>\n      <td>Prime Focus School</td>\n      <td>LASAMO26</td>\n      <td>Primary</td>\n      <td>Standard</td>\n      <td>Private</td>\n      <td>Formal</td>\n      <td>School</td>\n      <td>0005aad7-5275-4ba9-8384-c135c3055275</td>\n      <td>u_fc_poi_school.7</td>\n      <td>NaN</td>\n      <td>NaN</td>\n      <td>POINT (3.26119 6.6102)</td>\n      <td>3.26119</td>\n      <td>6.6102</td>\n    </tr>\n    <tr>\n      <th>3</th>\n      <td>PL</td>\n      <td>NMIS</td>\n      <td>Excel Private School</td>\n      <td>PLSBLD15</td>\n      <td>Primary</td>\n      <td>Standard</td>\n      <td>Private</td>\n      <td>Formal</td>\n      <td>School</td>\n      <td>0006993c-7c2d-4501-98d9-69b1c3ed8a67</td>\n      <td>u_fc_poi_school.8</td>\n      <td>NaN</td>\n      <td>NaN</td>\n      <td>POINT (8.897875 9.546936)</td>\n      <td>8.897875</td>\n      <td>9.546936</td>\n    </tr>\n    <tr>\n      <th>4</th>\n      <td>LA</td>\n      <td>GRID</td>\n      <td>Royal Heritage</td>\n      <td>LASAMO27</td>\n      <td>Primary</td>\n      <td>Standard</td>\n      <td>Private</td>\n      <td>Formal</td>\n      <td>School</td>\n      <td>0006ac19-4a0c-4746-8fb1-e074eaef5d03</td>\n      <td>u_fc_poi_school.9</td>\n      <td>NaN</td>\n      <td>NaN</td>\n      <td>POINT (3.26229 6.50702)</td>\n      <td>3.26229</td>\n      <td>6.50702</td>\n    </tr>\n    <tr>\n      <th>...</th>\n      <td>...</td>\n      <td>...</td>\n      <td>...</td>\n      <td>...</td>\n      <td>...</td>\n      <td>...</td>\n      <td>...</td>\n      <td>...</td>\n      <td>...</td>\n      <td>...</td>\n      <td>...</td>\n      <td>...</td>\n      <td>...</td>\n      <td>...</td>\n      <td>...</td>\n      <td>...</td>\n    </tr>\n    <tr>\n      <th>28415</th>\n      <td>LA</td>\n      <td>GRID</td>\n      <td>Tinachris Private School</td>\n      <td>LASOIO03</td>\n      <td>Primary</td>\n      <td>Standard</td>\n      <td>Private</td>\n      <td>Formal</td>\n      <td>School</td>\n      <td>fff7240e-cf21-4c63-a6fb-c67f62b85513</td>\n      <td>u_fc_poi_school.107656</td>\n      <td>NaN</td>\n      <td>NaN</td>\n      <td>POINT (3.30165 6.53873)</td>\n      <td>3.30165</td>\n      <td>6.53873</td>\n    </tr>\n    <tr>\n      <th>28416</th>\n      <td>DE</td>\n      <td>NMIS</td>\n      <td>Santa Maria International College</td>\n      <td>DTSGWK02</td>\n      <td>Secondary</td>\n      <td>Standard</td>\n      <td>Private</td>\n      <td>Formal</td>\n      <td>School</td>\n      <td>fff9c883-2da9-4fdb-ae49-7df9fba7a761</td>\n      <td>u_fc_poi_school.107659</td>\n      <td>NaN</td>\n      <td>NaN</td>\n      <td>POINT (6.540124 6.186497)</td>\n      <td>6.540124</td>\n      <td>6.186497</td>\n    </tr>\n    <tr>\n      <th>28417</th>\n      <td>RI</td>\n      <td>NMIS</td>\n      <td>Hephziba International School</td>\n      <td>RVSRUM05</td>\n      <td>Primary</td>\n      <td>Standard</td>\n      <td>Private</td>\n      <td>Formal</td>\n      <td>School</td>\n      <td>fffede7a-66b8-4423-b4c1-8cb4966f8ff8</td>\n      <td>u_fc_poi_school.107667</td>\n      <td>NaN</td>\n      <td>NaN</td>\n      <td>POINT (6.974689 4.813321)</td>\n      <td>6.974689</td>\n      <td>4.813321</td>\n    </tr>\n    <tr>\n      <th>28418</th>\n      <td>AB</td>\n      <td>GRID</td>\n      <td>Unique Christian Academy Umuebi</td>\n      <td>ABSNGK10</td>\n      <td>Secondary</td>\n      <td>Standard</td>\n      <td>Private</td>\n      <td>Formal</td>\n      <td>School</td>\n      <td>ffff7301-2b8c-49b6-8c42-fe5ce5a646e9</td>\n      <td>u_fc_poi_school.107669</td>\n      <td>NaN</td>\n      <td>NaN</td>\n      <td>POINT (7.5038877 5.2244178)</td>\n      <td>7.5038877</td>\n      <td>5.2244178</td>\n    </tr>\n    <tr>\n      <th>28419</th>\n      <td>LA</td>\n      <td>GRID</td>\n      <td>Kel Chelsea High Schoolool</td>\n      <td>LASAON01</td>\n      <td>Secondary</td>\n      <td>Standard</td>\n      <td>Private</td>\n      <td>Formal</td>\n      <td>School</td>\n      <td>fffff578-22d0-4f65-8f13-0034608ef6ef</td>\n      <td>u_fc_poi_school.107670</td>\n      <td>17.0</td>\n      <td>NaN</td>\n      <td>POINT (3.25431 6.45012)</td>\n      <td>3.25431</td>\n      <td>6.45012</td>\n    </tr>\n  </tbody>\n</table>\n<p>28420 rows × 16 columns</p>\n</div>"
     },
     "metadata": {},
     "execution_count": 77
    }
   ],
   "source": [
    "df"
   ]
  },
  {
   "cell_type": "code",
   "execution_count": 22,
   "metadata": {},
   "outputs": [
    {
     "output_type": "error",
     "ename": "KeyError",
     "evalue": "'Geometry'",
     "traceback": [
      "\u001b[0;31m---------------------------------------------------------------------------\u001b[0m",
      "\u001b[0;31mKeyError\u001b[0m                                  Traceback (most recent call last)",
      "\u001b[0;32m<ipython-input-22-12b715273d7d>\u001b[0m in \u001b[0;36m<module>\u001b[0;34m\u001b[0m\n\u001b[0;32m----> 1\u001b[0;31m \u001b[0mdf\u001b[0m \u001b[0;34m=\u001b[0m \u001b[0mdf\u001b[0m\u001b[0;34m[\u001b[0m\u001b[0;34m'Geometry'\u001b[0m\u001b[0;34m]\u001b[0m\u001b[0;34m.\u001b[0m\u001b[0mstr\u001b[0m\u001b[0;34m.\u001b[0m\u001b[0mstrip\u001b[0m\u001b[0;34m(\u001b[0m\u001b[0;34m')'\u001b[0m\u001b[0;34m)\u001b[0m\u001b[0;34m\u001b[0m\u001b[0;34m\u001b[0m\u001b[0m\n\u001b[0m",
      "\u001b[0;32m/Library/Frameworks/Python.framework/Versions/3.9/lib/python3.9/site-packages/pandas/core/series.py\u001b[0m in \u001b[0;36m__getitem__\u001b[0;34m(self, key)\u001b[0m\n\u001b[1;32m    851\u001b[0m \u001b[0;34m\u001b[0m\u001b[0m\n\u001b[1;32m    852\u001b[0m         \u001b[0;32melif\u001b[0m \u001b[0mkey_is_scalar\u001b[0m\u001b[0;34m:\u001b[0m\u001b[0;34m\u001b[0m\u001b[0;34m\u001b[0m\u001b[0m\n\u001b[0;32m--> 853\u001b[0;31m             \u001b[0;32mreturn\u001b[0m \u001b[0mself\u001b[0m\u001b[0;34m.\u001b[0m\u001b[0m_get_value\u001b[0m\u001b[0;34m(\u001b[0m\u001b[0mkey\u001b[0m\u001b[0;34m)\u001b[0m\u001b[0;34m\u001b[0m\u001b[0;34m\u001b[0m\u001b[0m\n\u001b[0m\u001b[1;32m    854\u001b[0m \u001b[0;34m\u001b[0m\u001b[0m\n\u001b[1;32m    855\u001b[0m         \u001b[0;32mif\u001b[0m \u001b[0mis_hashable\u001b[0m\u001b[0;34m(\u001b[0m\u001b[0mkey\u001b[0m\u001b[0;34m)\u001b[0m\u001b[0;34m:\u001b[0m\u001b[0;34m\u001b[0m\u001b[0;34m\u001b[0m\u001b[0m\n",
      "\u001b[0;32m/Library/Frameworks/Python.framework/Versions/3.9/lib/python3.9/site-packages/pandas/core/series.py\u001b[0m in \u001b[0;36m_get_value\u001b[0;34m(self, label, takeable)\u001b[0m\n\u001b[1;32m    959\u001b[0m \u001b[0;34m\u001b[0m\u001b[0m\n\u001b[1;32m    960\u001b[0m         \u001b[0;31m# Similar to Index.get_value, but we do not fall back to positional\u001b[0m\u001b[0;34m\u001b[0m\u001b[0;34m\u001b[0m\u001b[0;34m\u001b[0m\u001b[0m\n\u001b[0;32m--> 961\u001b[0;31m         \u001b[0mloc\u001b[0m \u001b[0;34m=\u001b[0m \u001b[0mself\u001b[0m\u001b[0;34m.\u001b[0m\u001b[0mindex\u001b[0m\u001b[0;34m.\u001b[0m\u001b[0mget_loc\u001b[0m\u001b[0;34m(\u001b[0m\u001b[0mlabel\u001b[0m\u001b[0;34m)\u001b[0m\u001b[0;34m\u001b[0m\u001b[0;34m\u001b[0m\u001b[0m\n\u001b[0m\u001b[1;32m    962\u001b[0m         \u001b[0;32mreturn\u001b[0m \u001b[0mself\u001b[0m\u001b[0;34m.\u001b[0m\u001b[0mindex\u001b[0m\u001b[0;34m.\u001b[0m\u001b[0m_get_values_for_loc\u001b[0m\u001b[0;34m(\u001b[0m\u001b[0mself\u001b[0m\u001b[0;34m,\u001b[0m \u001b[0mloc\u001b[0m\u001b[0;34m,\u001b[0m \u001b[0mlabel\u001b[0m\u001b[0;34m)\u001b[0m\u001b[0;34m\u001b[0m\u001b[0;34m\u001b[0m\u001b[0m\n\u001b[1;32m    963\u001b[0m \u001b[0;34m\u001b[0m\u001b[0m\n",
      "\u001b[0;32m/Library/Frameworks/Python.framework/Versions/3.9/lib/python3.9/site-packages/pandas/core/indexes/range.py\u001b[0m in \u001b[0;36mget_loc\u001b[0;34m(self, key, method, tolerance)\u001b[0m\n\u001b[1;32m    352\u001b[0m                 \u001b[0;32mexcept\u001b[0m \u001b[0mValueError\u001b[0m \u001b[0;32mas\u001b[0m \u001b[0merr\u001b[0m\u001b[0;34m:\u001b[0m\u001b[0;34m\u001b[0m\u001b[0;34m\u001b[0m\u001b[0m\n\u001b[1;32m    353\u001b[0m                     \u001b[0;32mraise\u001b[0m \u001b[0mKeyError\u001b[0m\u001b[0;34m(\u001b[0m\u001b[0mkey\u001b[0m\u001b[0;34m)\u001b[0m \u001b[0;32mfrom\u001b[0m \u001b[0merr\u001b[0m\u001b[0;34m\u001b[0m\u001b[0;34m\u001b[0m\u001b[0m\n\u001b[0;32m--> 354\u001b[0;31m             \u001b[0;32mraise\u001b[0m \u001b[0mKeyError\u001b[0m\u001b[0;34m(\u001b[0m\u001b[0mkey\u001b[0m\u001b[0;34m)\u001b[0m\u001b[0;34m\u001b[0m\u001b[0;34m\u001b[0m\u001b[0m\n\u001b[0m\u001b[1;32m    355\u001b[0m         \u001b[0;32mreturn\u001b[0m \u001b[0msuper\u001b[0m\u001b[0;34m(\u001b[0m\u001b[0;34m)\u001b[0m\u001b[0;34m.\u001b[0m\u001b[0mget_loc\u001b[0m\u001b[0;34m(\u001b[0m\u001b[0mkey\u001b[0m\u001b[0;34m,\u001b[0m \u001b[0mmethod\u001b[0m\u001b[0;34m=\u001b[0m\u001b[0mmethod\u001b[0m\u001b[0;34m,\u001b[0m \u001b[0mtolerance\u001b[0m\u001b[0;34m=\u001b[0m\u001b[0mtolerance\u001b[0m\u001b[0;34m)\u001b[0m\u001b[0;34m\u001b[0m\u001b[0;34m\u001b[0m\u001b[0m\n\u001b[1;32m    356\u001b[0m \u001b[0;34m\u001b[0m\u001b[0m\n",
      "\u001b[0;31mKeyError\u001b[0m: 'Geometry'"
     ]
    }
   ],
   "source": [
    "df = df['Geometry'].str.strip(')')"
   ]
  },
  {
   "cell_type": "code",
   "execution_count": null,
   "metadata": {},
   "outputs": [],
   "source": []
  }
 ],
 "metadata": {
  "kernelspec": {
   "name": "python391jvsc74a57bd0aee8b7b246df8f9039afb4144a1f6fd8d2ca17a180786b69acc140d282b71a49",
   "display_name": "Python 3.9.1 64-bit"
  },
  "language_info": {
   "codemirror_mode": {
    "name": "ipython",
    "version": 3
   },
   "file_extension": ".py",
   "mimetype": "text/x-python",
   "name": "python",
   "nbconvert_exporter": "python",
   "pygments_lexer": "ipython3",
   "version": "3.9.1"
  },
  "metadata": {
   "interpreter": {
    "hash": "aee8b7b246df8f9039afb4144a1f6fd8d2ca17a180786b69acc140d282b71a49"
   }
  }
 },
 "nbformat": 4,
 "nbformat_minor": 4
}